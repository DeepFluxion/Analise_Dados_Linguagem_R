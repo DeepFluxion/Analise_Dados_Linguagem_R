{
 "cells": [
  {
   "cell_type": "markdown",
   "metadata": {
    "slideshow": {
     "slide_type": "slide"
    }
   },
   "source": [
    "## Revisão\n",
    "\n",
    "O Material desta revisão foi extraído do Livro :\n",
    "\n",
    "Introdução à mineração de dados: com aplicações em R / Leandro Augusto da Silva, Sarajane Marques Peres, Clodis Boscarioli. – 1. ed. – Rio de Janeiro: Elsevier, 2016.\n",
    "![Figura](https://images-na.ssl-images-amazon.com/images/I/51LYU-VR-CL._AC_UL115_.jpg)"
   ]
  },
  {
   "cell_type": "markdown",
   "metadata": {
    "slideshow": {
     "slide_type": "subslide"
    }
   },
   "source": [
    "# Variáveis   \n",
    "\n",
    "Em $R$, uma variável é definida com o uso do operador <-, o qual significa “gets” e, em português, poderia ser traduzido como “atribuição”. Por exemplo, a atribuição do valor 1 à variável x, em R, é realizada da seguinte forma:"
   ]
  },
  {
   "cell_type": "code",
   "execution_count": 130,
   "metadata": {
    "slideshow": {
     "slide_type": "fragment"
    }
   },
   "outputs": [],
   "source": [
    "x<-1"
   ]
  },
  {
   "cell_type": "markdown",
   "metadata": {
    "slideshow": {
     "slide_type": "subslide"
    }
   },
   "source": [
    "Para verificar o valor atribuído à variável, proceda da seguinte forma:\n",
    "`> x`. \n",
    "\n",
    "E, após o acionamento da tecla ENTER, o valor da variável será mostrado\n",
    "na tela:"
   ]
  },
  {
   "cell_type": "code",
   "execution_count": 131,
   "metadata": {
    "slideshow": {
     "slide_type": "fragment"
    }
   },
   "outputs": [
    {
     "data": {
      "text/html": [
       "1"
      ],
      "text/latex": [
       "1"
      ],
      "text/markdown": [
       "1"
      ],
      "text/plain": [
       "[1] 1"
      ]
     },
     "metadata": {},
     "output_type": "display_data"
    }
   ],
   "source": [
    "x"
   ]
  },
  {
   "cell_type": "markdown",
   "metadata": {
    "slideshow": {
     "slide_type": "subslide"
    }
   },
   "source": [
    "Essa notação para atribuição de variável e comumente usada em pseudocódigos e é bastante comum em livros que apresentam discussões sobre algoritmos. \n",
    "\n",
    "Perceba também que não é necessário definir o tipo da variável, a própria linguagem fará essa definição no momento de execução da atribuição. \n",
    "\n",
    "Veja outros exemplos de atribuições, considerando diferentes tipos de dados:\n"
   ]
  },
  {
   "cell_type": "code",
   "execution_count": 3,
   "metadata": {
    "slideshow": {
     "slide_type": "fragment"
    }
   },
   "outputs": [
    {
     "data": {
      "text/html": [
       "'Olá mundo!'"
      ],
      "text/latex": [
       "'Olá mundo!'"
      ],
      "text/markdown": [
       "'Olá mundo!'"
      ],
      "text/plain": [
       "[1] \"Olá mundo!\""
      ]
     },
     "metadata": {},
     "output_type": "display_data"
    }
   ],
   "source": [
    "# Atribuindo um conjunto de caracteres (string) à variável x\n",
    "x <- \"Olá mundo!\"\n",
    "x"
   ]
  },
  {
   "cell_type": "markdown",
   "metadata": {
    "slideshow": {
     "slide_type": "slide"
    }
   },
   "source": [
    "# Tipos de dado\n",
    "Embora não seja necessário definir o tipo de variável antes de lhe atribuir um valor, existem situações em que se faz necessário saber o tipo de variável.\n",
    "\n",
    "Em $R$ , essa consulta pode ser feita com o uso da função `class( )`. \n",
    "\n",
    "Os tipos de dado retornados pela função class são numérico (`numeric`) e caractere (`character`). \n",
    "\n",
    "Um tipo numérico pode ser tanto um valor real (`float` ou `double`) quanto um valor inteiro (`integer`), ou seja, não se faz a distinção entre esses dois tipos de valor. \n",
    "\n",
    "A linguagem faz a conversão de valor real para valor inteiro de forma transparente ao usuário. Veja como conhecer o tipo de uma variável por meio das seguintes instruções:"
   ]
  },
  {
   "cell_type": "code",
   "execution_count": 132,
   "metadata": {
    "slideshow": {
     "slide_type": "subslide"
    }
   },
   "outputs": [
    {
     "data": {
      "text/html": [
       "'numeric'"
      ],
      "text/latex": [
       "'numeric'"
      ],
      "text/markdown": [
       "'numeric'"
      ],
      "text/plain": [
       "[1] \"numeric\""
      ]
     },
     "metadata": {},
     "output_type": "display_data"
    }
   ],
   "source": [
    "x <- 3.46\n",
    "class(x)"
   ]
  },
  {
   "cell_type": "code",
   "execution_count": 133,
   "metadata": {
    "slideshow": {
     "slide_type": "subslide"
    }
   },
   "outputs": [
    {
     "data": {
      "text/html": [
       "'numeric'"
      ],
      "text/latex": [
       "'numeric'"
      ],
      "text/markdown": [
       "'numeric'"
      ],
      "text/plain": [
       "[1] \"numeric\""
      ]
     },
     "metadata": {},
     "output_type": "display_data"
    }
   ],
   "source": [
    "x <- 10\n",
    "class(x)"
   ]
  },
  {
   "cell_type": "markdown",
   "metadata": {
    "slideshow": {
     "slide_type": "subslide"
    }
   },
   "source": [
    "Em situações em que se faz necessário definir uma variável como um valor do tipo inteiro, é preciso realizar a atribuição do valor à variável acompanhado de $L$, ou seja:"
   ]
  },
  {
   "cell_type": "code",
   "execution_count": 134,
   "metadata": {
    "slideshow": {
     "slide_type": "fragment"
    }
   },
   "outputs": [
    {
     "data": {
      "text/html": [
       "'integer'"
      ],
      "text/latex": [
       "'integer'"
      ],
      "text/markdown": [
       "'integer'"
      ],
      "text/plain": [
       "[1] \"integer\""
      ]
     },
     "metadata": {},
     "output_type": "display_data"
    }
   ],
   "source": [
    "x <- 10L\n",
    "class(x)"
   ]
  },
  {
   "cell_type": "markdown",
   "metadata": {
    "slideshow": {
     "slide_type": "subslide"
    }
   },
   "source": [
    "Note que, independentemente da natureza numérica atribuída, a linguagem entende a variável como sendo do mesmo tipo, numeric.\n",
    "Entretanto, caso seja necessário verificar o tipo exato da variável, as funções `is.numeric( )` ou `is.integer( )` devem ser executadas.\n",
    "Essas funções retornam como resultado os valores lógicos `TRUE` ou `FALSE` para verdadeiro ou falso, respectivamente. Veja o seguinte exemplo:"
   ]
  },
  {
   "cell_type": "code",
   "execution_count": 135,
   "metadata": {
    "slideshow": {
     "slide_type": "fragment"
    }
   },
   "outputs": [
    {
     "data": {
      "text/html": [
       "TRUE"
      ],
      "text/latex": [
       "TRUE"
      ],
      "text/markdown": [
       "TRUE"
      ],
      "text/plain": [
       "[1] TRUE"
      ]
     },
     "metadata": {},
     "output_type": "display_data"
    }
   ],
   "source": [
    "x <- 3.46\n",
    "is.numeric(x)"
   ]
  },
  {
   "cell_type": "code",
   "execution_count": 136,
   "metadata": {
    "slideshow": {
     "slide_type": "fragment"
    }
   },
   "outputs": [
    {
     "data": {
      "text/html": [
       "FALSE"
      ],
      "text/latex": [
       "FALSE"
      ],
      "text/markdown": [
       "FALSE"
      ],
      "text/plain": [
       "[1] FALSE"
      ]
     },
     "metadata": {},
     "output_type": "display_data"
    }
   ],
   "source": [
    "is.integer(x)"
   ]
  },
  {
   "cell_type": "markdown",
   "metadata": {
    "slideshow": {
     "slide_type": "subslide"
    }
   },
   "source": [
    "Para variáveis às quais foi atribuído um conjunto de caracteres, a consulta sobre seu tipo terá como resposta o valor `char` como resposta o valor char. Para descobrir a quantidade\n",
    "de caracteres na variável, a função `nchar( )` pode ser usada. \n",
    "Veja o exemplo a seguir:"
   ]
  },
  {
   "cell_type": "code",
   "execution_count": 137,
   "metadata": {
    "slideshow": {
     "slide_type": "fragment"
    }
   },
   "outputs": [
    {
     "data": {
      "text/html": [
       "'character'"
      ],
      "text/latex": [
       "'character'"
      ],
      "text/markdown": [
       "'character'"
      ],
      "text/plain": [
       "[1] \"character\""
      ]
     },
     "metadata": {},
     "output_type": "display_data"
    }
   ],
   "source": [
    "x <- \"Olá mundo!\"\n",
    "class(x)"
   ]
  },
  {
   "cell_type": "code",
   "execution_count": 10,
   "metadata": {
    "slideshow": {
     "slide_type": "fragment"
    }
   },
   "outputs": [
    {
     "data": {
      "text/html": [
       "10"
      ],
      "text/latex": [
       "10"
      ],
      "text/markdown": [
       "10"
      ],
      "text/plain": [
       "[1] 10"
      ]
     },
     "metadata": {},
     "output_type": "display_data"
    }
   ],
   "source": [
    "nchar(x)"
   ]
  },
  {
   "cell_type": "markdown",
   "metadata": {
    "slideshow": {
     "slide_type": "slide"
    }
   },
   "source": [
    "# Vetores\n",
    "Vetores são variáveis com um ou mais valores do mesmo tipo: inteiro, real, lógico, caractere (ou string) etc. Em $R$, mesmo uma variável com um único valor (um escalar) é considerada um vetor, nesse caso, um vetor de comprimento 1."
   ]
  },
  {
   "cell_type": "markdown",
   "metadata": {
    "slideshow": {
     "slide_type": "subslide"
    }
   },
   "source": [
    "A criação de um vetor em $R$ pode ser feita de diferentes maneiras, dependendo do uso que se pretende para a variável. \n",
    "\n",
    "Se o propósito de criação do vetor é a representação de uma sequência numérica, então é esperada a definição do valor inicial e do valor final do vetor, separados pelo caractere `:` (dois-pontos). \n",
    "\n",
    "Por exemplo:"
   ]
  },
  {
   "cell_type": "code",
   "execution_count": 138,
   "metadata": {
    "slideshow": {
     "slide_type": "fragment"
    }
   },
   "outputs": [
    {
     "data": {
      "text/html": [
       "<style>\n",
       ".list-inline {list-style: none; margin:0; padding: 0}\n",
       ".list-inline>li {display: inline-block}\n",
       ".list-inline>li:not(:last-child)::after {content: \"\\00b7\"; padding: 0 .5ex}\n",
       "</style>\n",
       "<ol class=list-inline><li>1</li><li>2</li><li>3</li><li>4</li><li>5</li><li>6</li><li>7</li><li>8</li><li>9</li><li>10</li></ol>\n"
      ],
      "text/latex": [
       "\\begin{enumerate*}\n",
       "\\item 1\n",
       "\\item 2\n",
       "\\item 3\n",
       "\\item 4\n",
       "\\item 5\n",
       "\\item 6\n",
       "\\item 7\n",
       "\\item 8\n",
       "\\item 9\n",
       "\\item 10\n",
       "\\end{enumerate*}\n"
      ],
      "text/markdown": [
       "1. 1\n",
       "2. 2\n",
       "3. 3\n",
       "4. 4\n",
       "5. 5\n",
       "6. 6\n",
       "7. 7\n",
       "8. 8\n",
       "9. 9\n",
       "10. 10\n",
       "\n",
       "\n"
      ],
      "text/plain": [
       " [1]  1  2  3  4  5  6  7  8  9 10"
      ]
     },
     "metadata": {},
     "output_type": "display_data"
    }
   ],
   "source": [
    "x <- 1:10\n",
    "x"
   ]
  },
  {
   "cell_type": "markdown",
   "metadata": {
    "slideshow": {
     "slide_type": "subslide"
    }
   },
   "source": [
    "Também é possível criar uma sequência na qual o intervalo entre os valores não seja unitário. \n",
    "A função `seq( )` deve ser usada para esse propósito.  \n",
    "Ela recebe três parâmetros: o _valor inicial da sequência_, _o valor final da sequência_ e o _intervalo desejado_ entre os valores dessa sequência.   \n",
    "Caso o terceiro parâmetro não seja definido, a função assume o intervalo unitário. \n",
    "O exemplo a seguir gera uma sequência de 1 até 10 com intervalo de 2.\n"
   ]
  },
  {
   "cell_type": "code",
   "execution_count": 139,
   "metadata": {
    "slideshow": {
     "slide_type": "fragment"
    }
   },
   "outputs": [
    {
     "data": {
      "text/html": [
       "<style>\n",
       ".list-inline {list-style: none; margin:0; padding: 0}\n",
       ".list-inline>li {display: inline-block}\n",
       ".list-inline>li:not(:last-child)::after {content: \"\\00b7\"; padding: 0 .5ex}\n",
       "</style>\n",
       "<ol class=list-inline><li>1</li><li>3</li><li>5</li><li>7</li><li>9</li></ol>\n"
      ],
      "text/latex": [
       "\\begin{enumerate*}\n",
       "\\item 1\n",
       "\\item 3\n",
       "\\item 5\n",
       "\\item 7\n",
       "\\item 9\n",
       "\\end{enumerate*}\n"
      ],
      "text/markdown": [
       "1. 1\n",
       "2. 3\n",
       "3. 5\n",
       "4. 7\n",
       "5. 9\n",
       "\n",
       "\n"
      ],
      "text/plain": [
       "[1] 1 3 5 7 9"
      ]
     },
     "metadata": {},
     "output_type": "display_data"
    }
   ],
   "source": [
    "seq(1,10,2)"
   ]
  },
  {
   "cell_type": "markdown",
   "metadata": {
    "slideshow": {
     "slide_type": "subslide"
    }
   },
   "source": [
    "Caso seja necessário criar uma sequência com valores repetidos, a função `rep( )` deve ser usada.   \n",
    "Ela permite repetir um valor ou uma sequência de valores. Veja exemplos da aplicação dessa função a seguir:"
   ]
  },
  {
   "cell_type": "code",
   "execution_count": 140,
   "metadata": {
    "slideshow": {
     "slide_type": "fragment"
    }
   },
   "outputs": [
    {
     "data": {
      "text/html": [
       "<style>\n",
       ".list-inline {list-style: none; margin:0; padding: 0}\n",
       ".list-inline>li {display: inline-block}\n",
       ".list-inline>li:not(:last-child)::after {content: \"\\00b7\"; padding: 0 .5ex}\n",
       "</style>\n",
       "<ol class=list-inline><li>1</li><li>1</li><li>1</li><li>1</li><li>1</li></ol>\n"
      ],
      "text/latex": [
       "\\begin{enumerate*}\n",
       "\\item 1\n",
       "\\item 1\n",
       "\\item 1\n",
       "\\item 1\n",
       "\\item 1\n",
       "\\end{enumerate*}\n"
      ],
      "text/markdown": [
       "1. 1\n",
       "2. 1\n",
       "3. 1\n",
       "4. 1\n",
       "5. 1\n",
       "\n",
       "\n"
      ],
      "text/plain": [
       "[1] 1 1 1 1 1"
      ]
     },
     "metadata": {},
     "output_type": "display_data"
    }
   ],
   "source": [
    "rep(1,5)"
   ]
  },
  {
   "cell_type": "code",
   "execution_count": 14,
   "metadata": {
    "slideshow": {
     "slide_type": "fragment"
    }
   },
   "outputs": [
    {
     "data": {
      "text/html": [
       "<style>\n",
       ".list-inline {list-style: none; margin:0; padding: 0}\n",
       ".list-inline>li {display: inline-block}\n",
       ".list-inline>li:not(:last-child)::after {content: \"\\00b7\"; padding: 0 .5ex}\n",
       "</style>\n",
       "<ol class=list-inline><li>1</li><li>2</li><li>3</li><li>1</li><li>2</li><li>3</li></ol>\n"
      ],
      "text/latex": [
       "\\begin{enumerate*}\n",
       "\\item 1\n",
       "\\item 2\n",
       "\\item 3\n",
       "\\item 1\n",
       "\\item 2\n",
       "\\item 3\n",
       "\\end{enumerate*}\n"
      ],
      "text/markdown": [
       "1. 1\n",
       "2. 2\n",
       "3. 3\n",
       "4. 1\n",
       "5. 2\n",
       "6. 3\n",
       "\n",
       "\n"
      ],
      "text/plain": [
       "[1] 1 2 3 1 2 3"
      ]
     },
     "metadata": {},
     "output_type": "display_data"
    }
   ],
   "source": [
    "rep(1:3,2)"
   ]
  },
  {
   "cell_type": "markdown",
   "metadata": {
    "slideshow": {
     "slide_type": "subslide"
    }
   },
   "source": [
    "Se a necessidade for gerar uma sequência aleatória, o $R$ disponibiliza duas possibilidades, sendo uma delas a criação da sequência a partir de uma distribuição uniforme, e a segunda, a partir de uma distribuição normal. \n",
    "A função `runif( )` cria a sequência a partir da distribuição uniforme e necessita de três parâmetros: \n",
    "- o número de elementos na sequência,\n",
    "- o valor mínimo da sequência e o \n",
    "- valor máximo da sequência. \n",
    "\n",
    "A sintaxe e o resultado do uso dessa função são ilustrados a seguir."
   ]
  },
  {
   "cell_type": "code",
   "execution_count": 141,
   "metadata": {
    "slideshow": {
     "slide_type": "fragment"
    }
   },
   "outputs": [
    {
     "data": {
      "text/html": [
       "<style>\n",
       ".list-inline {list-style: none; margin:0; padding: 0}\n",
       ".list-inline>li {display: inline-block}\n",
       ".list-inline>li:not(:last-child)::after {content: \"\\00b7\"; padding: 0 .5ex}\n",
       "</style>\n",
       "<ol class=list-inline><li>7.08831313857809</li><li>1.30808151350357</li><li>7.94902605284005</li><li>7.79995937412605</li><li>1.01541816093959</li></ol>\n"
      ],
      "text/latex": [
       "\\begin{enumerate*}\n",
       "\\item 7.08831313857809\n",
       "\\item 1.30808151350357\n",
       "\\item 7.94902605284005\n",
       "\\item 7.79995937412605\n",
       "\\item 1.01541816093959\n",
       "\\end{enumerate*}\n"
      ],
      "text/markdown": [
       "1. 7.08831313857809\n",
       "2. 1.30808151350357\n",
       "3. 7.94902605284005\n",
       "4. 7.79995937412605\n",
       "5. 1.01541816093959\n",
       "\n",
       "\n"
      ],
      "text/plain": [
       "[1] 7.088313 1.308082 7.949026 7.799959 1.015418"
      ]
     },
     "metadata": {},
     "output_type": "display_data"
    }
   ],
   "source": [
    "x <- runif(5,1,10)\n",
    "x"
   ]
  },
  {
   "cell_type": "markdown",
   "metadata": {
    "slideshow": {
     "slide_type": "subslide"
    }
   },
   "source": [
    "Para o caso da geração da sequência aleatória a partir de uma distribuição normal, a função `rnorm( )` se aplica.   \n",
    "Ela recebe como parâmetros o _número de elementos desejado na sequência_, o _valor médio_ e o _desvio da distribuição normal_.    \n",
    "Veja o exemplo:"
   ]
  },
  {
   "cell_type": "code",
   "execution_count": 142,
   "metadata": {
    "slideshow": {
     "slide_type": "fragment"
    }
   },
   "outputs": [
    {
     "data": {
      "text/html": [
       "<style>\n",
       ".list-inline {list-style: none; margin:0; padding: 0}\n",
       ".list-inline>li {display: inline-block}\n",
       ".list-inline>li:not(:last-child)::after {content: \"\\00b7\"; padding: 0 .5ex}\n",
       "</style>\n",
       "<ol class=list-inline><li>4.08065197850378</li><li>4.64182251965523</li><li>3.83496684557783</li><li>4.48128569135208</li><li>2.39432131701429</li></ol>\n"
      ],
      "text/latex": [
       "\\begin{enumerate*}\n",
       "\\item 4.08065197850378\n",
       "\\item 4.64182251965523\n",
       "\\item 3.83496684557783\n",
       "\\item 4.48128569135208\n",
       "\\item 2.39432131701429\n",
       "\\end{enumerate*}\n"
      ],
      "text/markdown": [
       "1. 4.08065197850378\n",
       "2. 4.64182251965523\n",
       "3. 3.83496684557783\n",
       "4. 4.48128569135208\n",
       "5. 2.39432131701429\n",
       "\n",
       "\n"
      ],
      "text/plain": [
       "[1] 4.080652 4.641823 3.834967 4.481286 2.394321"
      ]
     },
     "metadata": {},
     "output_type": "display_data"
    }
   ],
   "source": [
    "x <- rnorm(5,4,1)\n",
    "x"
   ]
  },
  {
   "cell_type": "markdown",
   "metadata": {
    "slideshow": {
     "slide_type": "subslide"
    }
   },
   "source": [
    "Alternativamente, caso seja necessário definir um vetor com uma sequência numérica específica, há a possibilidade do uso da função concatenação `c( )`, como descrito a seguir:\n"
   ]
  },
  {
   "cell_type": "code",
   "execution_count": 143,
   "metadata": {
    "slideshow": {
     "slide_type": "fragment"
    }
   },
   "outputs": [
    {
     "data": {
      "text/html": [
       "<style>\n",
       ".list-inline {list-style: none; margin:0; padding: 0}\n",
       ".list-inline>li {display: inline-block}\n",
       ".list-inline>li:not(:last-child)::after {content: \"\\00b7\"; padding: 0 .5ex}\n",
       "</style>\n",
       "<ol class=list-inline><li>30</li><li>10</li><li>40</li><li>20</li><li>80</li><li>50</li><li>70</li><li>100</li><li>90</li></ol>\n"
      ],
      "text/latex": [
       "\\begin{enumerate*}\n",
       "\\item 30\n",
       "\\item 10\n",
       "\\item 40\n",
       "\\item 20\n",
       "\\item 80\n",
       "\\item 50\n",
       "\\item 70\n",
       "\\item 100\n",
       "\\item 90\n",
       "\\end{enumerate*}\n"
      ],
      "text/markdown": [
       "1. 30\n",
       "2. 10\n",
       "3. 40\n",
       "4. 20\n",
       "5. 80\n",
       "6. 50\n",
       "7. 70\n",
       "8. 100\n",
       "9. 90\n",
       "\n",
       "\n"
      ],
      "text/plain": [
       "[1]  30  10  40  20  80  50  70 100  90"
      ]
     },
     "metadata": {},
     "output_type": "display_data"
    }
   ],
   "source": [
    "x <- c(30,10,40,20,80,50,70,100,90)\n",
    "x"
   ]
  },
  {
   "cell_type": "markdown",
   "metadata": {
    "slideshow": {
     "slide_type": "subslide"
    }
   },
   "source": [
    "A quantidade de operações possíveis em um vetor é bastante extensa. Para apresentar as principais, num contexto de utilidade para este curso, um resumo com os nomes, descrições breves e resultados de aplicação (em x, considerando o último exemplo) de algumas funções é apresentado na Tabela a seguir. \n",
    "É importante saber também que, em $R$, o primeiro elemento do vetor é o elemento de índice 1 e, portanto:\n"
   ]
  },
  {
   "cell_type": "code",
   "execution_count": 144,
   "metadata": {
    "slideshow": {
     "slide_type": "fragment"
    }
   },
   "outputs": [
    {
     "data": {
      "text/html": [
       "30"
      ],
      "text/latex": [
       "30"
      ],
      "text/markdown": [
       "30"
      ],
      "text/plain": [
       "[1] 30"
      ]
     },
     "metadata": {},
     "output_type": "display_data"
    }
   ],
   "source": [
    "x[1]"
   ]
  },
  {
   "cell_type": "markdown",
   "metadata": {
    "slideshow": {
     "slide_type": "subslide"
    }
   },
   "source": [
    "`min(x)`\t Encontra o valor mínimo em x."
   ]
  },
  {
   "cell_type": "code",
   "execution_count": 145,
   "metadata": {
    "slideshow": {
     "slide_type": "fragment"
    }
   },
   "outputs": [
    {
     "data": {
      "text/html": [
       "10"
      ],
      "text/latex": [
       "10"
      ],
      "text/markdown": [
       "10"
      ],
      "text/plain": [
       "[1] 10"
      ]
     },
     "metadata": {},
     "output_type": "display_data"
    }
   ],
   "source": [
    "min(x)"
   ]
  },
  {
   "cell_type": "markdown",
   "metadata": {
    "slideshow": {
     "slide_type": "subslide"
    }
   },
   "source": [
    "`max(x)`\t Encontra o valor máximo em x."
   ]
  },
  {
   "cell_type": "code",
   "execution_count": 20,
   "metadata": {
    "slideshow": {
     "slide_type": "fragment"
    }
   },
   "outputs": [
    {
     "data": {
      "text/html": [
       "100"
      ],
      "text/latex": [
       "100"
      ],
      "text/markdown": [
       "100"
      ],
      "text/plain": [
       "[1] 100"
      ]
     },
     "metadata": {},
     "output_type": "display_data"
    }
   ],
   "source": [
    "max(x)"
   ]
  },
  {
   "cell_type": "markdown",
   "metadata": {
    "slideshow": {
     "slide_type": "subslide"
    }
   },
   "source": [
    "`range(x)`\t  Gera um vetor com os valores de min(x)e max(x)."
   ]
  },
  {
   "cell_type": "code",
   "execution_count": 21,
   "metadata": {
    "slideshow": {
     "slide_type": "fragment"
    }
   },
   "outputs": [
    {
     "data": {
      "text/html": [
       "<style>\n",
       ".list-inline {list-style: none; margin:0; padding: 0}\n",
       ".list-inline>li {display: inline-block}\n",
       ".list-inline>li:not(:last-child)::after {content: \"\\00b7\"; padding: 0 .5ex}\n",
       "</style>\n",
       "<ol class=list-inline><li>10</li><li>100</li></ol>\n"
      ],
      "text/latex": [
       "\\begin{enumerate*}\n",
       "\\item 10\n",
       "\\item 100\n",
       "\\end{enumerate*}\n"
      ],
      "text/markdown": [
       "1. 10\n",
       "2. 100\n",
       "\n",
       "\n"
      ],
      "text/plain": [
       "[1]  10 100"
      ]
     },
     "metadata": {},
     "output_type": "display_data"
    }
   ],
   "source": [
    "range(x)"
   ]
  },
  {
   "cell_type": "markdown",
   "metadata": {
    "slideshow": {
     "slide_type": "subslide"
    }
   },
   "source": [
    "`sort(x)`\t Gera uma versão ordenada de x."
   ]
  },
  {
   "cell_type": "code",
   "execution_count": 22,
   "metadata": {
    "slideshow": {
     "slide_type": "fragment"
    }
   },
   "outputs": [
    {
     "data": {
      "text/html": [
       "<style>\n",
       ".list-inline {list-style: none; margin:0; padding: 0}\n",
       ".list-inline>li {display: inline-block}\n",
       ".list-inline>li:not(:last-child)::after {content: \"\\00b7\"; padding: 0 .5ex}\n",
       "</style>\n",
       "<ol class=list-inline><li>10</li><li>20</li><li>30</li><li>40</li><li>50</li><li>70</li><li>80</li><li>90</li><li>100</li></ol>\n"
      ],
      "text/latex": [
       "\\begin{enumerate*}\n",
       "\\item 10\n",
       "\\item 20\n",
       "\\item 30\n",
       "\\item 40\n",
       "\\item 50\n",
       "\\item 70\n",
       "\\item 80\n",
       "\\item 90\n",
       "\\item 100\n",
       "\\end{enumerate*}\n"
      ],
      "text/markdown": [
       "1. 10\n",
       "2. 20\n",
       "3. 30\n",
       "4. 40\n",
       "5. 50\n",
       "6. 70\n",
       "7. 80\n",
       "8. 90\n",
       "9. 100\n",
       "\n",
       "\n"
      ],
      "text/plain": [
       "[1]  10  20  30  40  50  70  80  90 100"
      ]
     },
     "metadata": {},
     "output_type": "display_data"
    }
   ],
   "source": [
    "sort(x)"
   ]
  },
  {
   "cell_type": "markdown",
   "metadata": {
    "slideshow": {
     "slide_type": "subslide"
    }
   },
   "source": [
    "`min(x)`\t Gera um vetor de inteiros contendo os índices dos elementos de x, de acordo com a posição que o elemento assume em uma sequência ordenada.   \n",
    "Veja que 100 é o maior valor e assume a última posição em uma sequência ordenada e, por isso, ele recebe o maior índice, 9.\n"
   ]
  },
  {
   "cell_type": "code",
   "execution_count": 23,
   "metadata": {
    "slideshow": {
     "slide_type": "fragment"
    }
   },
   "outputs": [
    {
     "data": {
      "text/html": [
       "<style>\n",
       ".list-inline {list-style: none; margin:0; padding: 0}\n",
       ".list-inline>li {display: inline-block}\n",
       ".list-inline>li:not(:last-child)::after {content: \"\\00b7\"; padding: 0 .5ex}\n",
       "</style>\n",
       "<ol class=list-inline><li>3</li><li>1</li><li>4</li><li>2</li><li>7</li><li>5</li><li>6</li><li>9</li><li>8</li></ol>\n"
      ],
      "text/latex": [
       "\\begin{enumerate*}\n",
       "\\item 3\n",
       "\\item 1\n",
       "\\item 4\n",
       "\\item 2\n",
       "\\item 7\n",
       "\\item 5\n",
       "\\item 6\n",
       "\\item 9\n",
       "\\item 8\n",
       "\\end{enumerate*}\n"
      ],
      "text/markdown": [
       "1. 3\n",
       "2. 1\n",
       "3. 4\n",
       "4. 2\n",
       "5. 7\n",
       "6. 5\n",
       "7. 6\n",
       "8. 9\n",
       "9. 8\n",
       "\n",
       "\n"
      ],
      "text/plain": [
       "[1] 3 1 4 2 7 5 6 9 8"
      ]
     },
     "metadata": {},
     "output_type": "display_data"
    }
   ],
   "source": [
    "rank(x)"
   ]
  },
  {
   "cell_type": "code",
   "execution_count": 24,
   "metadata": {
    "slideshow": {
     "slide_type": "fragment"
    }
   },
   "outputs": [
    {
     "data": {
      "text/html": [
       "<style>\n",
       ".list-inline {list-style: none; margin:0; padding: 0}\n",
       ".list-inline>li {display: inline-block}\n",
       ".list-inline>li:not(:last-child)::after {content: \"\\00b7\"; padding: 0 .5ex}\n",
       "</style>\n",
       "<ol class=list-inline><li>30</li><li>10</li><li>40</li><li>20</li><li>80</li><li>50</li><li>70</li><li>100</li><li>90</li></ol>\n"
      ],
      "text/latex": [
       "\\begin{enumerate*}\n",
       "\\item 30\n",
       "\\item 10\n",
       "\\item 40\n",
       "\\item 20\n",
       "\\item 80\n",
       "\\item 50\n",
       "\\item 70\n",
       "\\item 100\n",
       "\\item 90\n",
       "\\end{enumerate*}\n"
      ],
      "text/markdown": [
       "1. 30\n",
       "2. 10\n",
       "3. 40\n",
       "4. 20\n",
       "5. 80\n",
       "6. 50\n",
       "7. 70\n",
       "8. 100\n",
       "9. 90\n",
       "\n",
       "\n"
      ],
      "text/plain": [
       "[1]  30  10  40  20  80  50  70 100  90"
      ]
     },
     "metadata": {},
     "output_type": "display_data"
    }
   ],
   "source": [
    "x"
   ]
  },
  {
   "cell_type": "markdown",
   "metadata": {
    "slideshow": {
     "slide_type": "subslide"
    }
   },
   "source": [
    "`order(x)`\t Um vetor de inteiros contendo os índices dos elementos de x, considerando a ordem crescente dos valores desses elementos. O primeiro inteiro no vetor resultante é 2, pois o menor elemento no vetor x (o número 10) está na segunda posição.\n",
    "Para usar a ordem decrescente, faça: `order(x, decreasing=TRUE)`."
   ]
  },
  {
   "cell_type": "code",
   "execution_count": 25,
   "metadata": {
    "slideshow": {
     "slide_type": "fragment"
    }
   },
   "outputs": [
    {
     "data": {
      "text/html": [
       "<style>\n",
       ".list-inline {list-style: none; margin:0; padding: 0}\n",
       ".list-inline>li {display: inline-block}\n",
       ".list-inline>li:not(:last-child)::after {content: \"\\00b7\"; padding: 0 .5ex}\n",
       "</style>\n",
       "<ol class=list-inline><li>2</li><li>4</li><li>1</li><li>3</li><li>6</li><li>7</li><li>5</li><li>9</li><li>8</li></ol>\n"
      ],
      "text/latex": [
       "\\begin{enumerate*}\n",
       "\\item 2\n",
       "\\item 4\n",
       "\\item 1\n",
       "\\item 3\n",
       "\\item 6\n",
       "\\item 7\n",
       "\\item 5\n",
       "\\item 9\n",
       "\\item 8\n",
       "\\end{enumerate*}\n"
      ],
      "text/markdown": [
       "1. 2\n",
       "2. 4\n",
       "3. 1\n",
       "4. 3\n",
       "5. 6\n",
       "6. 7\n",
       "7. 5\n",
       "8. 9\n",
       "9. 8\n",
       "\n",
       "\n"
      ],
      "text/plain": [
       "[1] 2 4 1 3 6 7 5 9 8"
      ]
     },
     "metadata": {},
     "output_type": "display_data"
    }
   ],
   "source": [
    "order(x)"
   ]
  },
  {
   "cell_type": "code",
   "execution_count": 26,
   "metadata": {
    "slideshow": {
     "slide_type": "fragment"
    }
   },
   "outputs": [
    {
     "data": {
      "text/html": [
       "<style>\n",
       ".list-inline {list-style: none; margin:0; padding: 0}\n",
       ".list-inline>li {display: inline-block}\n",
       ".list-inline>li:not(:last-child)::after {content: \"\\00b7\"; padding: 0 .5ex}\n",
       "</style>\n",
       "<ol class=list-inline><li>8</li><li>9</li><li>5</li><li>7</li><li>6</li><li>3</li><li>1</li><li>4</li><li>2</li></ol>\n"
      ],
      "text/latex": [
       "\\begin{enumerate*}\n",
       "\\item 8\n",
       "\\item 9\n",
       "\\item 5\n",
       "\\item 7\n",
       "\\item 6\n",
       "\\item 3\n",
       "\\item 1\n",
       "\\item 4\n",
       "\\item 2\n",
       "\\end{enumerate*}\n"
      ],
      "text/markdown": [
       "1. 8\n",
       "2. 9\n",
       "3. 5\n",
       "4. 7\n",
       "5. 6\n",
       "6. 3\n",
       "7. 1\n",
       "8. 4\n",
       "9. 2\n",
       "\n",
       "\n"
      ],
      "text/plain": [
       "[1] 8 9 5 7 6 3 1 4 2"
      ]
     },
     "metadata": {},
     "output_type": "display_data"
    }
   ],
   "source": [
    "order(x, decreasing=TRUE)"
   ]
  },
  {
   "cell_type": "markdown",
   "metadata": {
    "slideshow": {
     "slide_type": "subslide"
    }
   },
   "source": [
    "`length(x)`\t Fornece o total de elementos do vetor x"
   ]
  },
  {
   "cell_type": "code",
   "execution_count": 27,
   "metadata": {
    "slideshow": {
     "slide_type": "fragment"
    }
   },
   "outputs": [
    {
     "data": {
      "text/html": [
       "9"
      ],
      "text/latex": [
       "9"
      ],
      "text/markdown": [
       "9"
      ],
      "text/plain": [
       "[1] 9"
      ]
     },
     "metadata": {},
     "output_type": "display_data"
    }
   ],
   "source": [
    "length(x)"
   ]
  },
  {
   "cell_type": "markdown",
   "metadata": {
    "slideshow": {
     "slide_type": "subslide"
    }
   },
   "source": [
    "`sum(x)`\t Calcula a soma de todos os elementos de x. "
   ]
  },
  {
   "cell_type": "code",
   "execution_count": 28,
   "metadata": {
    "slideshow": {
     "slide_type": "fragment"
    }
   },
   "outputs": [
    {
     "data": {
      "text/html": [
       "490"
      ],
      "text/latex": [
       "490"
      ],
      "text/markdown": [
       "490"
      ],
      "text/plain": [
       "[1] 490"
      ]
     },
     "metadata": {},
     "output_type": "display_data"
    }
   ],
   "source": [
    "sum(x)"
   ]
  },
  {
   "cell_type": "markdown",
   "metadata": {
    "slideshow": {
     "slide_type": "subslide"
    }
   },
   "source": [
    "`mean(x)`\t Calcula a média aritmética dos elementos de x."
   ]
  },
  {
   "cell_type": "code",
   "execution_count": 29,
   "metadata": {
    "slideshow": {
     "slide_type": "fragment"
    }
   },
   "outputs": [
    {
     "data": {
      "text/html": [
       "54.4444444444444"
      ],
      "text/latex": [
       "54.4444444444444"
      ],
      "text/markdown": [
       "54.4444444444444"
      ],
      "text/plain": [
       "[1] 54.44444"
      ]
     },
     "metadata": {},
     "output_type": "display_data"
    }
   ],
   "source": [
    "mean(x)"
   ]
  },
  {
   "cell_type": "markdown",
   "metadata": {
    "slideshow": {
     "slide_type": "subslide"
    }
   },
   "source": [
    "`median(x)`\t Calcula a mediana de x."
   ]
  },
  {
   "cell_type": "code",
   "execution_count": 30,
   "metadata": {
    "slideshow": {
     "slide_type": "fragment"
    }
   },
   "outputs": [
    {
     "data": {
      "text/html": [
       "50"
      ],
      "text/latex": [
       "50"
      ],
      "text/markdown": [
       "50"
      ],
      "text/plain": [
       "[1] 50"
      ]
     },
     "metadata": {},
     "output_type": "display_data"
    }
   ],
   "source": [
    "median(x)"
   ]
  },
  {
   "cell_type": "markdown",
   "metadata": {
    "slideshow": {
     "slide_type": "subslide"
    }
   },
   "source": [
    "`var(x)`\t Calcula a variância de x."
   ]
  },
  {
   "cell_type": "code",
   "execution_count": 31,
   "metadata": {
    "slideshow": {
     "slide_type": "fragment"
    }
   },
   "outputs": [
    {
     "data": {
      "text/html": [
       "1027.77777777778"
      ],
      "text/latex": [
       "1027.77777777778"
      ],
      "text/markdown": [
       "1027.77777777778"
      ],
      "text/plain": [
       "[1] 1027.778"
      ]
     },
     "metadata": {},
     "output_type": "display_data"
    }
   ],
   "source": [
    "var(x)"
   ]
  },
  {
   "cell_type": "markdown",
   "metadata": {
    "slideshow": {
     "slide_type": "subslide"
    }
   },
   "source": [
    "`quantile(x)`\t Gera um vetor contendo o valor mínimo, quartil inferior, mediana, quartil superior e valor máximo de x."
   ]
  },
  {
   "cell_type": "code",
   "execution_count": 32,
   "metadata": {
    "slideshow": {
     "slide_type": "fragment"
    }
   },
   "outputs": [
    {
     "data": {
      "text/html": [
       "<style>\n",
       ".dl-inline {width: auto; margin:0; padding: 0}\n",
       ".dl-inline>dt, .dl-inline>dd {float: none; width: auto; display: inline-block}\n",
       ".dl-inline>dt::after {content: \":\\0020\"; padding-right: .5ex}\n",
       ".dl-inline>dt:not(:first-of-type) {padding-left: .5ex}\n",
       "</style><dl class=dl-inline><dt>0%</dt><dd>10</dd><dt>25%</dt><dd>30</dd><dt>50%</dt><dd>50</dd><dt>75%</dt><dd>80</dd><dt>100%</dt><dd>100</dd></dl>\n"
      ],
      "text/latex": [
       "\\begin{description*}\n",
       "\\item[0\\textbackslash{}\\%] 10\n",
       "\\item[25\\textbackslash{}\\%] 30\n",
       "\\item[50\\textbackslash{}\\%] 50\n",
       "\\item[75\\textbackslash{}\\%] 80\n",
       "\\item[100\\textbackslash{}\\%] 100\n",
       "\\end{description*}\n"
      ],
      "text/markdown": [
       "0%\n",
       ":   1025%\n",
       ":   3050%\n",
       ":   5075%\n",
       ":   80100%\n",
       ":   100\n",
       "\n"
      ],
      "text/plain": [
       "  0%  25%  50%  75% 100% \n",
       "  10   30   50   80  100 "
      ]
     },
     "metadata": {},
     "output_type": "display_data"
    }
   ],
   "source": [
    "quantile(x)"
   ]
  },
  {
   "cell_type": "markdown",
   "metadata": {
    "slideshow": {
     "slide_type": "subslide"
    }
   },
   "source": [
    "Ainda é possível criar vetores com conjuntos de caracteres. Nesse caso, cada elemento deve estar entre aspas “ ” e separados por vírgula. Por exemplo:"
   ]
  },
  {
   "cell_type": "code",
   "execution_count": 33,
   "metadata": {
    "slideshow": {
     "slide_type": "fragment"
    }
   },
   "outputs": [],
   "source": [
    "cardapio <- c(\"Filé à parmegiana\",\"Feijoada\", \"Batatas Fritas\", \"Lasanha à Bolonhesa\", \n",
    "              \"Salada Caprese\")"
   ]
  },
  {
   "cell_type": "code",
   "execution_count": 34,
   "metadata": {
    "slideshow": {
     "slide_type": "fragment"
    }
   },
   "outputs": [
    {
     "data": {
      "text/html": [
       "<style>\n",
       ".list-inline {list-style: none; margin:0; padding: 0}\n",
       ".list-inline>li {display: inline-block}\n",
       ".list-inline>li:not(:last-child)::after {content: \"\\00b7\"; padding: 0 .5ex}\n",
       "</style>\n",
       "<ol class=list-inline><li>'Filé à parmegiana'</li><li>'Feijoada'</li><li>'Batatas Fritas'</li><li>'Lasanha à Bolonhesa'</li><li>'Salada Caprese'</li></ol>\n"
      ],
      "text/latex": [
       "\\begin{enumerate*}\n",
       "\\item 'Filé à parmegiana'\n",
       "\\item 'Feijoada'\n",
       "\\item 'Batatas Fritas'\n",
       "\\item 'Lasanha à Bolonhesa'\n",
       "\\item 'Salada Caprese'\n",
       "\\end{enumerate*}\n"
      ],
      "text/markdown": [
       "1. 'Filé à parmegiana'\n",
       "2. 'Feijoada'\n",
       "3. 'Batatas Fritas'\n",
       "4. 'Lasanha à Bolonhesa'\n",
       "5. 'Salada Caprese'\n",
       "\n",
       "\n"
      ],
      "text/plain": [
       "[1] \"Filé à parmegiana\"   \"Feijoada\"            \"Batatas Fritas\"     \n",
       "[4] \"Lasanha à Bolonhesa\" \"Salada Caprese\"     "
      ]
     },
     "metadata": {},
     "output_type": "display_data"
    }
   ],
   "source": [
    "cardapio"
   ]
  },
  {
   "cell_type": "markdown",
   "metadata": {
    "slideshow": {
     "slide_type": "subslide"
    }
   },
   "source": [
    "O acesso a cada elemento de um vetor com conjuntos de caracteres pode ser feito de maneira semelhante ao de vetores numéricos. Ou seja, para acessar o elemento de número 5, tem-se:"
   ]
  },
  {
   "cell_type": "code",
   "execution_count": 35,
   "metadata": {
    "slideshow": {
     "slide_type": "fragment"
    }
   },
   "outputs": [
    {
     "data": {
      "text/html": [
       "'Salada Caprese'"
      ],
      "text/latex": [
       "'Salada Caprese'"
      ],
      "text/markdown": [
       "'Salada Caprese'"
      ],
      "text/plain": [
       "[1] \"Salada Caprese\""
      ]
     },
     "metadata": {},
     "output_type": "display_data"
    }
   ],
   "source": [
    "cardapio[5]"
   ]
  },
  {
   "cell_type": "markdown",
   "metadata": {
    "slideshow": {
     "slide_type": "subslide"
    }
   },
   "source": [
    "É possível fazer algumas manipulações em um vetor de conjuntos de caracteres. \n",
    "Por exemplo, para descobrir o número de caracteres em cada elemento do vetor, faça:\n"
   ]
  },
  {
   "cell_type": "code",
   "execution_count": 36,
   "metadata": {
    "slideshow": {
     "slide_type": "fragment"
    }
   },
   "outputs": [
    {
     "data": {
      "text/html": [
       "<style>\n",
       ".list-inline {list-style: none; margin:0; padding: 0}\n",
       ".list-inline>li {display: inline-block}\n",
       ".list-inline>li:not(:last-child)::after {content: \"\\00b7\"; padding: 0 .5ex}\n",
       "</style>\n",
       "<ol class=list-inline><li>17</li><li>8</li><li>14</li><li>19</li><li>14</li></ol>\n"
      ],
      "text/latex": [
       "\\begin{enumerate*}\n",
       "\\item 17\n",
       "\\item 8\n",
       "\\item 14\n",
       "\\item 19\n",
       "\\item 14\n",
       "\\end{enumerate*}\n"
      ],
      "text/markdown": [
       "1. 17\n",
       "2. 8\n",
       "3. 14\n",
       "4. 19\n",
       "5. 14\n",
       "\n",
       "\n"
      ],
      "text/plain": [
       "[1] 17  8 14 19 14"
      ]
     },
     "metadata": {},
     "output_type": "display_data"
    }
   ],
   "source": [
    "nchar(cardapio)"
   ]
  },
  {
   "cell_type": "markdown",
   "metadata": {
    "slideshow": {
     "slide_type": "subslide"
    }
   },
   "source": [
    "Algumas das funções apresentadas na podem ser aplicadas a vetores de conjuntos de caracteres, como é o caso da função `length( )`, para descobrir o tamanho do vetor, a função `sort( )`, para obter uma ordenação em ordem alfabética, ou mesmo a função `order( )`, para ter a posição dos elementos em ordem alfabética. Veja a execução desses três exemplos a seguir:\n"
   ]
  },
  {
   "cell_type": "code",
   "execution_count": 37,
   "metadata": {
    "slideshow": {
     "slide_type": "fragment"
    }
   },
   "outputs": [
    {
     "data": {
      "text/html": [
       "5"
      ],
      "text/latex": [
       "5"
      ],
      "text/markdown": [
       "5"
      ],
      "text/plain": [
       "[1] 5"
      ]
     },
     "metadata": {},
     "output_type": "display_data"
    }
   ],
   "source": [
    "length(cardapio)"
   ]
  },
  {
   "cell_type": "code",
   "execution_count": 38,
   "metadata": {
    "slideshow": {
     "slide_type": "fragment"
    }
   },
   "outputs": [
    {
     "data": {
      "text/html": [
       "<style>\n",
       ".list-inline {list-style: none; margin:0; padding: 0}\n",
       ".list-inline>li {display: inline-block}\n",
       ".list-inline>li:not(:last-child)::after {content: \"\\00b7\"; padding: 0 .5ex}\n",
       "</style>\n",
       "<ol class=list-inline><li>'Batatas Fritas'</li><li>'Feijoada'</li><li>'Filé à parmegiana'</li><li>'Lasanha à Bolonhesa'</li><li>'Salada Caprese'</li></ol>\n"
      ],
      "text/latex": [
       "\\begin{enumerate*}\n",
       "\\item 'Batatas Fritas'\n",
       "\\item 'Feijoada'\n",
       "\\item 'Filé à parmegiana'\n",
       "\\item 'Lasanha à Bolonhesa'\n",
       "\\item 'Salada Caprese'\n",
       "\\end{enumerate*}\n"
      ],
      "text/markdown": [
       "1. 'Batatas Fritas'\n",
       "2. 'Feijoada'\n",
       "3. 'Filé à parmegiana'\n",
       "4. 'Lasanha à Bolonhesa'\n",
       "5. 'Salada Caprese'\n",
       "\n",
       "\n"
      ],
      "text/plain": [
       "[1] \"Batatas Fritas\"      \"Feijoada\"            \"Filé à parmegiana\"  \n",
       "[4] \"Lasanha à Bolonhesa\" \"Salada Caprese\"     "
      ]
     },
     "metadata": {},
     "output_type": "display_data"
    }
   ],
   "source": [
    "sort(cardapio)"
   ]
  },
  {
   "cell_type": "code",
   "execution_count": 39,
   "metadata": {
    "slideshow": {
     "slide_type": "fragment"
    }
   },
   "outputs": [
    {
     "data": {
      "text/html": [
       "<style>\n",
       ".list-inline {list-style: none; margin:0; padding: 0}\n",
       ".list-inline>li {display: inline-block}\n",
       ".list-inline>li:not(:last-child)::after {content: \"\\00b7\"; padding: 0 .5ex}\n",
       "</style>\n",
       "<ol class=list-inline><li>'Filé à parmegiana'</li><li>'Feijoada'</li><li>'Batatas Fritas'</li><li>'Lasanha à Bolonhesa'</li><li>'Salada Caprese'</li></ol>\n"
      ],
      "text/latex": [
       "\\begin{enumerate*}\n",
       "\\item 'Filé à parmegiana'\n",
       "\\item 'Feijoada'\n",
       "\\item 'Batatas Fritas'\n",
       "\\item 'Lasanha à Bolonhesa'\n",
       "\\item 'Salada Caprese'\n",
       "\\end{enumerate*}\n"
      ],
      "text/markdown": [
       "1. 'Filé à parmegiana'\n",
       "2. 'Feijoada'\n",
       "3. 'Batatas Fritas'\n",
       "4. 'Lasanha à Bolonhesa'\n",
       "5. 'Salada Caprese'\n",
       "\n",
       "\n"
      ],
      "text/plain": [
       "[1] \"Filé à parmegiana\"   \"Feijoada\"            \"Batatas Fritas\"     \n",
       "[4] \"Lasanha à Bolonhesa\" \"Salada Caprese\"     "
      ]
     },
     "metadata": {},
     "output_type": "display_data"
    }
   ],
   "source": [
    "cardapio"
   ]
  },
  {
   "cell_type": "code",
   "execution_count": 40,
   "metadata": {
    "slideshow": {
     "slide_type": "fragment"
    }
   },
   "outputs": [
    {
     "data": {
      "text/html": [
       "<style>\n",
       ".list-inline {list-style: none; margin:0; padding: 0}\n",
       ".list-inline>li {display: inline-block}\n",
       ".list-inline>li:not(:last-child)::after {content: \"\\00b7\"; padding: 0 .5ex}\n",
       "</style>\n",
       "<ol class=list-inline><li>3</li><li>2</li><li>1</li><li>4</li><li>5</li></ol>\n"
      ],
      "text/latex": [
       "\\begin{enumerate*}\n",
       "\\item 3\n",
       "\\item 2\n",
       "\\item 1\n",
       "\\item 4\n",
       "\\item 5\n",
       "\\end{enumerate*}\n"
      ],
      "text/markdown": [
       "1. 3\n",
       "2. 2\n",
       "3. 1\n",
       "4. 4\n",
       "5. 5\n",
       "\n",
       "\n"
      ],
      "text/plain": [
       "[1] 3 2 1 4 5"
      ]
     },
     "metadata": {},
     "output_type": "display_data"
    }
   ],
   "source": [
    "order(cardapio)"
   ]
  },
  {
   "cell_type": "markdown",
   "metadata": {
    "slideshow": {
     "slide_type": "slide"
    }
   },
   "source": [
    "# Data frames\n",
    "A função `data.frame( )`,que resulta em um tipo de dado especial chamado `data.frame`, permite estruturar dados em um formato semelhante ao que se encontra em planilhas eletrônicas. \n",
    "\n",
    "Esse recurso permite que vetores de diferentes tipos sejam arranjados em uma estrutura de linhas e colunas, na qual cada coluna pode ser nomeada. \n",
    "\n",
    "Por exemplo, considere que, para o exemplo anterior (o cardápio), se deseja acrescentar os preços de cada um dos pratos. \n",
    "\n",
    "Um vetor de preços é criado como especificado a seguir:"
   ]
  },
  {
   "cell_type": "code",
   "execution_count": 146,
   "metadata": {
    "slideshow": {
     "slide_type": "fragment"
    }
   },
   "outputs": [],
   "source": [
    "precos <- c(32.50, 44.00, 12.00, 35.50, 27.00)"
   ]
  },
  {
   "cell_type": "markdown",
   "metadata": {
    "slideshow": {
     "slide_type": "subslide"
    }
   },
   "source": [
    "A função `data.frame( )`permite relacionar o vetor cardapio com o vetor precos em uma estrutura como uma tabela.   \n",
    "Assim, é possível ter dois vetores de tipos diferentes em uma mesma estrutura de dados, mas que, sobretudo, referem-se à mesma unidade observacional, o cardápio do restaurante.  \n",
    "Em um `data.frame`, ainda é possível especificar um nome para cada coluna da tabela, passando parâmetros para a função formados por pares nome = vetor, como mostrado a seguir."
   ]
  },
  {
   "cell_type": "code",
   "execution_count": 147,
   "metadata": {
    "slideshow": {
     "slide_type": "subslide"
    }
   },
   "outputs": [
    {
     "data": {
      "text/html": [
       "<table>\n",
       "<caption>A data.frame: 5 × 2</caption>\n",
       "<thead>\n",
       "\t<tr><th scope=col>Cardápio</th><th scope=col>Preços</th></tr>\n",
       "\t<tr><th scope=col>&lt;chr&gt;</th><th scope=col>&lt;dbl&gt;</th></tr>\n",
       "</thead>\n",
       "<tbody>\n",
       "\t<tr><td>Filé à parmegiana  </td><td>32.5</td></tr>\n",
       "\t<tr><td>Feijoada           </td><td>44.0</td></tr>\n",
       "\t<tr><td>Batatas Fritas     </td><td>12.0</td></tr>\n",
       "\t<tr><td>Lasanha à Bolonhesa</td><td>35.5</td></tr>\n",
       "\t<tr><td>Salada Caprese     </td><td>27.0</td></tr>\n",
       "</tbody>\n",
       "</table>\n"
      ],
      "text/latex": [
       "A data.frame: 5 × 2\n",
       "\\begin{tabular}{ll}\n",
       " Cardápio & Preços\\\\\n",
       " <chr> & <dbl>\\\\\n",
       "\\hline\n",
       "\t Filé à parmegiana   & 32.5\\\\\n",
       "\t Feijoada            & 44.0\\\\\n",
       "\t Batatas Fritas      & 12.0\\\\\n",
       "\t Lasanha à Bolonhesa & 35.5\\\\\n",
       "\t Salada Caprese      & 27.0\\\\\n",
       "\\end{tabular}\n"
      ],
      "text/markdown": [
       "\n",
       "A data.frame: 5 × 2\n",
       "\n",
       "| Cardápio &lt;chr&gt; | Preços &lt;dbl&gt; |\n",
       "|---|---|\n",
       "| Filé à parmegiana   | 32.5 |\n",
       "| Feijoada            | 44.0 |\n",
       "| Batatas Fritas      | 12.0 |\n",
       "| Lasanha à Bolonhesa | 35.5 |\n",
       "| Salada Caprese      | 27.0 |\n",
       "\n"
      ],
      "text/plain": [
       "  Cardápio            Preços\n",
       "1 Filé à parmegiana   32.5  \n",
       "2 Feijoada            44.0  \n",
       "3 Batatas Fritas      12.0  \n",
       "4 Lasanha à Bolonhesa 35.5  \n",
       "5 Salada Caprese      27.0  "
      ]
     },
     "metadata": {},
     "output_type": "display_data"
    }
   ],
   "source": [
    "data.frame(Cardápio = cardapio, Preços = precos)"
   ]
  },
  {
   "cell_type": "markdown",
   "metadata": {
    "slideshow": {
     "slide_type": "subslide"
    }
   },
   "source": [
    "# Importando dados de arquivos\n",
    "Até este ponto, todos os exemplos discutidos fizeram uso de dados gerados na própria linha de comando. \n",
    "\n",
    "Entretanto, na prática, é comum a necessidade de usar dados armazenados em planilhas, arquivos textos ou em bases de dados. \n",
    "\n",
    "A importação de arquivos em R pode ser feita basicamente de duas maneiras: a partir da leitura de arquivo ou a partir da leitura de bases de dados. \n",
    "\n",
    "A linguagem $R$ permite, inclusive, a chamada de consultas expressas em **SQL**(_Structured Query Language_). "
   ]
  },
  {
   "cell_type": "code",
   "execution_count": 148,
   "metadata": {
    "slideshow": {
     "slide_type": "fragment"
    }
   },
   "outputs": [],
   "source": [
    "iris <- read.table(\"https://gist.githubusercontent.com/netj/8836201/raw/6f9306ad21398ea43cba4f7d537619d0e07d5ae3/iris.csv\",\n",
    "header=TRUE,sep=',')"
   ]
  },
  {
   "cell_type": "code",
   "execution_count": 149,
   "metadata": {
    "slideshow": {
     "slide_type": "subslide"
    }
   },
   "outputs": [
    {
     "data": {
      "text/html": [
       "<table>\n",
       "<caption>A data.frame: 150 × 5</caption>\n",
       "<thead>\n",
       "\t<tr><th scope=col>sepal.length</th><th scope=col>sepal.width</th><th scope=col>petal.length</th><th scope=col>petal.width</th><th scope=col>variety</th></tr>\n",
       "\t<tr><th scope=col>&lt;dbl&gt;</th><th scope=col>&lt;dbl&gt;</th><th scope=col>&lt;dbl&gt;</th><th scope=col>&lt;dbl&gt;</th><th scope=col>&lt;chr&gt;</th></tr>\n",
       "</thead>\n",
       "<tbody>\n",
       "\t<tr><td>5.1</td><td>3.5</td><td>1.4</td><td>0.2</td><td>Setosa</td></tr>\n",
       "\t<tr><td>4.9</td><td>3.0</td><td>1.4</td><td>0.2</td><td>Setosa</td></tr>\n",
       "\t<tr><td>4.7</td><td>3.2</td><td>1.3</td><td>0.2</td><td>Setosa</td></tr>\n",
       "\t<tr><td>4.6</td><td>3.1</td><td>1.5</td><td>0.2</td><td>Setosa</td></tr>\n",
       "\t<tr><td>5.0</td><td>3.6</td><td>1.4</td><td>0.2</td><td>Setosa</td></tr>\n",
       "\t<tr><td>5.4</td><td>3.9</td><td>1.7</td><td>0.4</td><td>Setosa</td></tr>\n",
       "\t<tr><td>4.6</td><td>3.4</td><td>1.4</td><td>0.3</td><td>Setosa</td></tr>\n",
       "\t<tr><td>5.0</td><td>3.4</td><td>1.5</td><td>0.2</td><td>Setosa</td></tr>\n",
       "\t<tr><td>4.4</td><td>2.9</td><td>1.4</td><td>0.2</td><td>Setosa</td></tr>\n",
       "\t<tr><td>4.9</td><td>3.1</td><td>1.5</td><td>0.1</td><td>Setosa</td></tr>\n",
       "\t<tr><td>5.4</td><td>3.7</td><td>1.5</td><td>0.2</td><td>Setosa</td></tr>\n",
       "\t<tr><td>4.8</td><td>3.4</td><td>1.6</td><td>0.2</td><td>Setosa</td></tr>\n",
       "\t<tr><td>4.8</td><td>3.0</td><td>1.4</td><td>0.1</td><td>Setosa</td></tr>\n",
       "\t<tr><td>4.3</td><td>3.0</td><td>1.1</td><td>0.1</td><td>Setosa</td></tr>\n",
       "\t<tr><td>5.8</td><td>4.0</td><td>1.2</td><td>0.2</td><td>Setosa</td></tr>\n",
       "\t<tr><td>5.7</td><td>4.4</td><td>1.5</td><td>0.4</td><td>Setosa</td></tr>\n",
       "\t<tr><td>5.4</td><td>3.9</td><td>1.3</td><td>0.4</td><td>Setosa</td></tr>\n",
       "\t<tr><td>5.1</td><td>3.5</td><td>1.4</td><td>0.3</td><td>Setosa</td></tr>\n",
       "\t<tr><td>5.7</td><td>3.8</td><td>1.7</td><td>0.3</td><td>Setosa</td></tr>\n",
       "\t<tr><td>5.1</td><td>3.8</td><td>1.5</td><td>0.3</td><td>Setosa</td></tr>\n",
       "\t<tr><td>5.4</td><td>3.4</td><td>1.7</td><td>0.2</td><td>Setosa</td></tr>\n",
       "\t<tr><td>5.1</td><td>3.7</td><td>1.5</td><td>0.4</td><td>Setosa</td></tr>\n",
       "\t<tr><td>4.6</td><td>3.6</td><td>1.0</td><td>0.2</td><td>Setosa</td></tr>\n",
       "\t<tr><td>5.1</td><td>3.3</td><td>1.7</td><td>0.5</td><td>Setosa</td></tr>\n",
       "\t<tr><td>4.8</td><td>3.4</td><td>1.9</td><td>0.2</td><td>Setosa</td></tr>\n",
       "\t<tr><td>5.0</td><td>3.0</td><td>1.6</td><td>0.2</td><td>Setosa</td></tr>\n",
       "\t<tr><td>5.0</td><td>3.4</td><td>1.6</td><td>0.4</td><td>Setosa</td></tr>\n",
       "\t<tr><td>5.2</td><td>3.5</td><td>1.5</td><td>0.2</td><td>Setosa</td></tr>\n",
       "\t<tr><td>5.2</td><td>3.4</td><td>1.4</td><td>0.2</td><td>Setosa</td></tr>\n",
       "\t<tr><td>4.7</td><td>3.2</td><td>1.6</td><td>0.2</td><td>Setosa</td></tr>\n",
       "\t<tr><td>...</td><td>...</td><td>...</td><td>...</td><td>...</td></tr>\n",
       "\t<tr><td>6.9</td><td>3.2</td><td>5.7</td><td>2.3</td><td>Virginica</td></tr>\n",
       "\t<tr><td>5.6</td><td>2.8</td><td>4.9</td><td>2.0</td><td>Virginica</td></tr>\n",
       "\t<tr><td>7.7</td><td>2.8</td><td>6.7</td><td>2.0</td><td>Virginica</td></tr>\n",
       "\t<tr><td>6.3</td><td>2.7</td><td>4.9</td><td>1.8</td><td>Virginica</td></tr>\n",
       "\t<tr><td>6.7</td><td>3.3</td><td>5.7</td><td>2.1</td><td>Virginica</td></tr>\n",
       "\t<tr><td>7.2</td><td>3.2</td><td>6.0</td><td>1.8</td><td>Virginica</td></tr>\n",
       "\t<tr><td>6.2</td><td>2.8</td><td>4.8</td><td>1.8</td><td>Virginica</td></tr>\n",
       "\t<tr><td>6.1</td><td>3.0</td><td>4.9</td><td>1.8</td><td>Virginica</td></tr>\n",
       "\t<tr><td>6.4</td><td>2.8</td><td>5.6</td><td>2.1</td><td>Virginica</td></tr>\n",
       "\t<tr><td>7.2</td><td>3.0</td><td>5.8</td><td>1.6</td><td>Virginica</td></tr>\n",
       "\t<tr><td>7.4</td><td>2.8</td><td>6.1</td><td>1.9</td><td>Virginica</td></tr>\n",
       "\t<tr><td>7.9</td><td>3.8</td><td>6.4</td><td>2.0</td><td>Virginica</td></tr>\n",
       "\t<tr><td>6.4</td><td>2.8</td><td>5.6</td><td>2.2</td><td>Virginica</td></tr>\n",
       "\t<tr><td>6.3</td><td>2.8</td><td>5.1</td><td>1.5</td><td>Virginica</td></tr>\n",
       "\t<tr><td>6.1</td><td>2.6</td><td>5.6</td><td>1.4</td><td>Virginica</td></tr>\n",
       "\t<tr><td>7.7</td><td>3.0</td><td>6.1</td><td>2.3</td><td>Virginica</td></tr>\n",
       "\t<tr><td>6.3</td><td>3.4</td><td>5.6</td><td>2.4</td><td>Virginica</td></tr>\n",
       "\t<tr><td>6.4</td><td>3.1</td><td>5.5</td><td>1.8</td><td>Virginica</td></tr>\n",
       "\t<tr><td>6.0</td><td>3.0</td><td>4.8</td><td>1.8</td><td>Virginica</td></tr>\n",
       "\t<tr><td>6.9</td><td>3.1</td><td>5.4</td><td>2.1</td><td>Virginica</td></tr>\n",
       "\t<tr><td>6.7</td><td>3.1</td><td>5.6</td><td>2.4</td><td>Virginica</td></tr>\n",
       "\t<tr><td>6.9</td><td>3.1</td><td>5.1</td><td>2.3</td><td>Virginica</td></tr>\n",
       "\t<tr><td>5.8</td><td>2.7</td><td>5.1</td><td>1.9</td><td>Virginica</td></tr>\n",
       "\t<tr><td>6.8</td><td>3.2</td><td>5.9</td><td>2.3</td><td>Virginica</td></tr>\n",
       "\t<tr><td>6.7</td><td>3.3</td><td>5.7</td><td>2.5</td><td>Virginica</td></tr>\n",
       "\t<tr><td>6.7</td><td>3.0</td><td>5.2</td><td>2.3</td><td>Virginica</td></tr>\n",
       "\t<tr><td>6.3</td><td>2.5</td><td>5.0</td><td>1.9</td><td>Virginica</td></tr>\n",
       "\t<tr><td>6.5</td><td>3.0</td><td>5.2</td><td>2.0</td><td>Virginica</td></tr>\n",
       "\t<tr><td>6.2</td><td>3.4</td><td>5.4</td><td>2.3</td><td>Virginica</td></tr>\n",
       "\t<tr><td>5.9</td><td>3.0</td><td>5.1</td><td>1.8</td><td>Virginica</td></tr>\n",
       "</tbody>\n",
       "</table>\n"
      ],
      "text/latex": [
       "A data.frame: 150 × 5\n",
       "\\begin{tabular}{lllll}\n",
       " sepal.length & sepal.width & petal.length & petal.width & variety\\\\\n",
       " <dbl> & <dbl> & <dbl> & <dbl> & <chr>\\\\\n",
       "\\hline\n",
       "\t 5.1 & 3.5 & 1.4 & 0.2 & Setosa\\\\\n",
       "\t 4.9 & 3.0 & 1.4 & 0.2 & Setosa\\\\\n",
       "\t 4.7 & 3.2 & 1.3 & 0.2 & Setosa\\\\\n",
       "\t 4.6 & 3.1 & 1.5 & 0.2 & Setosa\\\\\n",
       "\t 5.0 & 3.6 & 1.4 & 0.2 & Setosa\\\\\n",
       "\t 5.4 & 3.9 & 1.7 & 0.4 & Setosa\\\\\n",
       "\t 4.6 & 3.4 & 1.4 & 0.3 & Setosa\\\\\n",
       "\t 5.0 & 3.4 & 1.5 & 0.2 & Setosa\\\\\n",
       "\t 4.4 & 2.9 & 1.4 & 0.2 & Setosa\\\\\n",
       "\t 4.9 & 3.1 & 1.5 & 0.1 & Setosa\\\\\n",
       "\t 5.4 & 3.7 & 1.5 & 0.2 & Setosa\\\\\n",
       "\t 4.8 & 3.4 & 1.6 & 0.2 & Setosa\\\\\n",
       "\t 4.8 & 3.0 & 1.4 & 0.1 & Setosa\\\\\n",
       "\t 4.3 & 3.0 & 1.1 & 0.1 & Setosa\\\\\n",
       "\t 5.8 & 4.0 & 1.2 & 0.2 & Setosa\\\\\n",
       "\t 5.7 & 4.4 & 1.5 & 0.4 & Setosa\\\\\n",
       "\t 5.4 & 3.9 & 1.3 & 0.4 & Setosa\\\\\n",
       "\t 5.1 & 3.5 & 1.4 & 0.3 & Setosa\\\\\n",
       "\t 5.7 & 3.8 & 1.7 & 0.3 & Setosa\\\\\n",
       "\t 5.1 & 3.8 & 1.5 & 0.3 & Setosa\\\\\n",
       "\t 5.4 & 3.4 & 1.7 & 0.2 & Setosa\\\\\n",
       "\t 5.1 & 3.7 & 1.5 & 0.4 & Setosa\\\\\n",
       "\t 4.6 & 3.6 & 1.0 & 0.2 & Setosa\\\\\n",
       "\t 5.1 & 3.3 & 1.7 & 0.5 & Setosa\\\\\n",
       "\t 4.8 & 3.4 & 1.9 & 0.2 & Setosa\\\\\n",
       "\t 5.0 & 3.0 & 1.6 & 0.2 & Setosa\\\\\n",
       "\t 5.0 & 3.4 & 1.6 & 0.4 & Setosa\\\\\n",
       "\t 5.2 & 3.5 & 1.5 & 0.2 & Setosa\\\\\n",
       "\t 5.2 & 3.4 & 1.4 & 0.2 & Setosa\\\\\n",
       "\t 4.7 & 3.2 & 1.6 & 0.2 & Setosa\\\\\n",
       "\t ... & ... & ... & ... & ...\\\\\n",
       "\t 6.9 & 3.2 & 5.7 & 2.3 & Virginica\\\\\n",
       "\t 5.6 & 2.8 & 4.9 & 2.0 & Virginica\\\\\n",
       "\t 7.7 & 2.8 & 6.7 & 2.0 & Virginica\\\\\n",
       "\t 6.3 & 2.7 & 4.9 & 1.8 & Virginica\\\\\n",
       "\t 6.7 & 3.3 & 5.7 & 2.1 & Virginica\\\\\n",
       "\t 7.2 & 3.2 & 6.0 & 1.8 & Virginica\\\\\n",
       "\t 6.2 & 2.8 & 4.8 & 1.8 & Virginica\\\\\n",
       "\t 6.1 & 3.0 & 4.9 & 1.8 & Virginica\\\\\n",
       "\t 6.4 & 2.8 & 5.6 & 2.1 & Virginica\\\\\n",
       "\t 7.2 & 3.0 & 5.8 & 1.6 & Virginica\\\\\n",
       "\t 7.4 & 2.8 & 6.1 & 1.9 & Virginica\\\\\n",
       "\t 7.9 & 3.8 & 6.4 & 2.0 & Virginica\\\\\n",
       "\t 6.4 & 2.8 & 5.6 & 2.2 & Virginica\\\\\n",
       "\t 6.3 & 2.8 & 5.1 & 1.5 & Virginica\\\\\n",
       "\t 6.1 & 2.6 & 5.6 & 1.4 & Virginica\\\\\n",
       "\t 7.7 & 3.0 & 6.1 & 2.3 & Virginica\\\\\n",
       "\t 6.3 & 3.4 & 5.6 & 2.4 & Virginica\\\\\n",
       "\t 6.4 & 3.1 & 5.5 & 1.8 & Virginica\\\\\n",
       "\t 6.0 & 3.0 & 4.8 & 1.8 & Virginica\\\\\n",
       "\t 6.9 & 3.1 & 5.4 & 2.1 & Virginica\\\\\n",
       "\t 6.7 & 3.1 & 5.6 & 2.4 & Virginica\\\\\n",
       "\t 6.9 & 3.1 & 5.1 & 2.3 & Virginica\\\\\n",
       "\t 5.8 & 2.7 & 5.1 & 1.9 & Virginica\\\\\n",
       "\t 6.8 & 3.2 & 5.9 & 2.3 & Virginica\\\\\n",
       "\t 6.7 & 3.3 & 5.7 & 2.5 & Virginica\\\\\n",
       "\t 6.7 & 3.0 & 5.2 & 2.3 & Virginica\\\\\n",
       "\t 6.3 & 2.5 & 5.0 & 1.9 & Virginica\\\\\n",
       "\t 6.5 & 3.0 & 5.2 & 2.0 & Virginica\\\\\n",
       "\t 6.2 & 3.4 & 5.4 & 2.3 & Virginica\\\\\n",
       "\t 5.9 & 3.0 & 5.1 & 1.8 & Virginica\\\\\n",
       "\\end{tabular}\n"
      ],
      "text/markdown": [
       "\n",
       "A data.frame: 150 × 5\n",
       "\n",
       "| sepal.length &lt;dbl&gt; | sepal.width &lt;dbl&gt; | petal.length &lt;dbl&gt; | petal.width &lt;dbl&gt; | variety &lt;chr&gt; |\n",
       "|---|---|---|---|---|\n",
       "| 5.1 | 3.5 | 1.4 | 0.2 | Setosa |\n",
       "| 4.9 | 3.0 | 1.4 | 0.2 | Setosa |\n",
       "| 4.7 | 3.2 | 1.3 | 0.2 | Setosa |\n",
       "| 4.6 | 3.1 | 1.5 | 0.2 | Setosa |\n",
       "| 5.0 | 3.6 | 1.4 | 0.2 | Setosa |\n",
       "| 5.4 | 3.9 | 1.7 | 0.4 | Setosa |\n",
       "| 4.6 | 3.4 | 1.4 | 0.3 | Setosa |\n",
       "| 5.0 | 3.4 | 1.5 | 0.2 | Setosa |\n",
       "| 4.4 | 2.9 | 1.4 | 0.2 | Setosa |\n",
       "| 4.9 | 3.1 | 1.5 | 0.1 | Setosa |\n",
       "| 5.4 | 3.7 | 1.5 | 0.2 | Setosa |\n",
       "| 4.8 | 3.4 | 1.6 | 0.2 | Setosa |\n",
       "| 4.8 | 3.0 | 1.4 | 0.1 | Setosa |\n",
       "| 4.3 | 3.0 | 1.1 | 0.1 | Setosa |\n",
       "| 5.8 | 4.0 | 1.2 | 0.2 | Setosa |\n",
       "| 5.7 | 4.4 | 1.5 | 0.4 | Setosa |\n",
       "| 5.4 | 3.9 | 1.3 | 0.4 | Setosa |\n",
       "| 5.1 | 3.5 | 1.4 | 0.3 | Setosa |\n",
       "| 5.7 | 3.8 | 1.7 | 0.3 | Setosa |\n",
       "| 5.1 | 3.8 | 1.5 | 0.3 | Setosa |\n",
       "| 5.4 | 3.4 | 1.7 | 0.2 | Setosa |\n",
       "| 5.1 | 3.7 | 1.5 | 0.4 | Setosa |\n",
       "| 4.6 | 3.6 | 1.0 | 0.2 | Setosa |\n",
       "| 5.1 | 3.3 | 1.7 | 0.5 | Setosa |\n",
       "| 4.8 | 3.4 | 1.9 | 0.2 | Setosa |\n",
       "| 5.0 | 3.0 | 1.6 | 0.2 | Setosa |\n",
       "| 5.0 | 3.4 | 1.6 | 0.4 | Setosa |\n",
       "| 5.2 | 3.5 | 1.5 | 0.2 | Setosa |\n",
       "| 5.2 | 3.4 | 1.4 | 0.2 | Setosa |\n",
       "| 4.7 | 3.2 | 1.6 | 0.2 | Setosa |\n",
       "| ... | ... | ... | ... | ... |\n",
       "| 6.9 | 3.2 | 5.7 | 2.3 | Virginica |\n",
       "| 5.6 | 2.8 | 4.9 | 2.0 | Virginica |\n",
       "| 7.7 | 2.8 | 6.7 | 2.0 | Virginica |\n",
       "| 6.3 | 2.7 | 4.9 | 1.8 | Virginica |\n",
       "| 6.7 | 3.3 | 5.7 | 2.1 | Virginica |\n",
       "| 7.2 | 3.2 | 6.0 | 1.8 | Virginica |\n",
       "| 6.2 | 2.8 | 4.8 | 1.8 | Virginica |\n",
       "| 6.1 | 3.0 | 4.9 | 1.8 | Virginica |\n",
       "| 6.4 | 2.8 | 5.6 | 2.1 | Virginica |\n",
       "| 7.2 | 3.0 | 5.8 | 1.6 | Virginica |\n",
       "| 7.4 | 2.8 | 6.1 | 1.9 | Virginica |\n",
       "| 7.9 | 3.8 | 6.4 | 2.0 | Virginica |\n",
       "| 6.4 | 2.8 | 5.6 | 2.2 | Virginica |\n",
       "| 6.3 | 2.8 | 5.1 | 1.5 | Virginica |\n",
       "| 6.1 | 2.6 | 5.6 | 1.4 | Virginica |\n",
       "| 7.7 | 3.0 | 6.1 | 2.3 | Virginica |\n",
       "| 6.3 | 3.4 | 5.6 | 2.4 | Virginica |\n",
       "| 6.4 | 3.1 | 5.5 | 1.8 | Virginica |\n",
       "| 6.0 | 3.0 | 4.8 | 1.8 | Virginica |\n",
       "| 6.9 | 3.1 | 5.4 | 2.1 | Virginica |\n",
       "| 6.7 | 3.1 | 5.6 | 2.4 | Virginica |\n",
       "| 6.9 | 3.1 | 5.1 | 2.3 | Virginica |\n",
       "| 5.8 | 2.7 | 5.1 | 1.9 | Virginica |\n",
       "| 6.8 | 3.2 | 5.9 | 2.3 | Virginica |\n",
       "| 6.7 | 3.3 | 5.7 | 2.5 | Virginica |\n",
       "| 6.7 | 3.0 | 5.2 | 2.3 | Virginica |\n",
       "| 6.3 | 2.5 | 5.0 | 1.9 | Virginica |\n",
       "| 6.5 | 3.0 | 5.2 | 2.0 | Virginica |\n",
       "| 6.2 | 3.4 | 5.4 | 2.3 | Virginica |\n",
       "| 5.9 | 3.0 | 5.1 | 1.8 | Virginica |\n",
       "\n"
      ],
      "text/plain": [
       "    sepal.length sepal.width petal.length petal.width variety  \n",
       "1   5.1          3.5         1.4          0.2         Setosa   \n",
       "2   4.9          3.0         1.4          0.2         Setosa   \n",
       "3   4.7          3.2         1.3          0.2         Setosa   \n",
       "4   4.6          3.1         1.5          0.2         Setosa   \n",
       "5   5.0          3.6         1.4          0.2         Setosa   \n",
       "6   5.4          3.9         1.7          0.4         Setosa   \n",
       "7   4.6          3.4         1.4          0.3         Setosa   \n",
       "8   5.0          3.4         1.5          0.2         Setosa   \n",
       "9   4.4          2.9         1.4          0.2         Setosa   \n",
       "10  4.9          3.1         1.5          0.1         Setosa   \n",
       "11  5.4          3.7         1.5          0.2         Setosa   \n",
       "12  4.8          3.4         1.6          0.2         Setosa   \n",
       "13  4.8          3.0         1.4          0.1         Setosa   \n",
       "14  4.3          3.0         1.1          0.1         Setosa   \n",
       "15  5.8          4.0         1.2          0.2         Setosa   \n",
       "16  5.7          4.4         1.5          0.4         Setosa   \n",
       "17  5.4          3.9         1.3          0.4         Setosa   \n",
       "18  5.1          3.5         1.4          0.3         Setosa   \n",
       "19  5.7          3.8         1.7          0.3         Setosa   \n",
       "20  5.1          3.8         1.5          0.3         Setosa   \n",
       "21  5.4          3.4         1.7          0.2         Setosa   \n",
       "22  5.1          3.7         1.5          0.4         Setosa   \n",
       "23  4.6          3.6         1.0          0.2         Setosa   \n",
       "24  5.1          3.3         1.7          0.5         Setosa   \n",
       "25  4.8          3.4         1.9          0.2         Setosa   \n",
       "26  5.0          3.0         1.6          0.2         Setosa   \n",
       "27  5.0          3.4         1.6          0.4         Setosa   \n",
       "28  5.2          3.5         1.5          0.2         Setosa   \n",
       "29  5.2          3.4         1.4          0.2         Setosa   \n",
       "30  4.7          3.2         1.6          0.2         Setosa   \n",
       "... ...          ...         ...          ...         ...      \n",
       "121 6.9          3.2         5.7          2.3         Virginica\n",
       "122 5.6          2.8         4.9          2.0         Virginica\n",
       "123 7.7          2.8         6.7          2.0         Virginica\n",
       "124 6.3          2.7         4.9          1.8         Virginica\n",
       "125 6.7          3.3         5.7          2.1         Virginica\n",
       "126 7.2          3.2         6.0          1.8         Virginica\n",
       "127 6.2          2.8         4.8          1.8         Virginica\n",
       "128 6.1          3.0         4.9          1.8         Virginica\n",
       "129 6.4          2.8         5.6          2.1         Virginica\n",
       "130 7.2          3.0         5.8          1.6         Virginica\n",
       "131 7.4          2.8         6.1          1.9         Virginica\n",
       "132 7.9          3.8         6.4          2.0         Virginica\n",
       "133 6.4          2.8         5.6          2.2         Virginica\n",
       "134 6.3          2.8         5.1          1.5         Virginica\n",
       "135 6.1          2.6         5.6          1.4         Virginica\n",
       "136 7.7          3.0         6.1          2.3         Virginica\n",
       "137 6.3          3.4         5.6          2.4         Virginica\n",
       "138 6.4          3.1         5.5          1.8         Virginica\n",
       "139 6.0          3.0         4.8          1.8         Virginica\n",
       "140 6.9          3.1         5.4          2.1         Virginica\n",
       "141 6.7          3.1         5.6          2.4         Virginica\n",
       "142 6.9          3.1         5.1          2.3         Virginica\n",
       "143 5.8          2.7         5.1          1.9         Virginica\n",
       "144 6.8          3.2         5.9          2.3         Virginica\n",
       "145 6.7          3.3         5.7          2.5         Virginica\n",
       "146 6.7          3.0         5.2          2.3         Virginica\n",
       "147 6.3          2.5         5.0          1.9         Virginica\n",
       "148 6.5          3.0         5.2          2.0         Virginica\n",
       "149 6.2          3.4         5.4          2.3         Virginica\n",
       "150 5.9          3.0         5.1          1.8         Virginica"
      ]
     },
     "metadata": {},
     "output_type": "display_data"
    }
   ],
   "source": [
    "iris"
   ]
  },
  {
   "cell_type": "markdown",
   "metadata": {
    "slideshow": {
     "slide_type": "subslide"
    }
   },
   "source": [
    "O conjunto de dados flor Iris ou conjunto de dados Iris de Fisher é um conjunto de dados multivariados introduzido pelo estatístico e biólogo britânico Ronald Fisher em seu artigo de 1936, O uso de múltiplas medições em problemas taxonômicos,como um exemplo de análise discriminante linear . \n",
    "\n",
    "Às vezes, é chamado de conjunto de dados da íris de Anderson porque Edgar Anderson coletou os dados para quantificar a variação morfológica das flores da íris de três espécies relacionadas. Duas das três espécies foram coletadas na Península de Gaspé, \"todas do mesmo campo, colhidas no mesmo dia e medidas ao mesmo tempo pela mesma pessoa com a mesma aparelho\".\n",
    "\n",
    "O conjunto de dados consiste em 50 amostras de cada uma das três espécies de Iris ( **Iris setosa, Iris virginica e Iris versicolor** ).   \n",
    "\n",
    "Quatro variáveis foram medidas em cada amostra: o **comprimento (length)** e a **largura (width)** das **sépalas** e **pétalas**, em centímetros. \n",
    "\n",
    "Com base na combinação dessas quatro características, Fisher desenvolveu um modelo discriminante linear para distinguir as espécies umas das outras. "
   ]
  },
  {
   "cell_type": "markdown",
   "metadata": {
    "slideshow": {
     "slide_type": "subslide"
    }
   },
   "source": [
    "# Iris Setosa\n",
    "![Imagem](https://upload.wikimedia.org/wikipedia/commons/thumb/5/56/Kosaciec_szczecinkowaty_Iris_setosa.jpg/330px-Kosaciec_szczecinkowaty_Iris_setosa.jpg)"
   ]
  },
  {
   "cell_type": "markdown",
   "metadata": {
    "slideshow": {
     "slide_type": "subslide"
    }
   },
   "source": [
    "# Iris Versicolor\n",
    "![Imagem](https://upload.wikimedia.org/wikipedia/commons/thumb/4/41/Iris_versicolor_3.jpg/330px-Iris_versicolor_3.jpg)"
   ]
  },
  {
   "cell_type": "markdown",
   "metadata": {
    "slideshow": {
     "slide_type": "subslide"
    }
   },
   "source": [
    "# Iris Vergínica\n",
    "![Imagem](https://upload.wikimedia.org/wikipedia/commons/thumb/9/9f/Iris_virginica.jpg/330px-Iris_virginica.jpg)"
   ]
  },
  {
   "cell_type": "markdown",
   "metadata": {
    "slideshow": {
     "slide_type": "subslide"
    }
   },
   "source": [
    "# Sépulas (_Sepal_) e Pétulas (_Petal_)\n",
    "![Imagem](https://miro.medium.com/max/1000/1*Hh53mOF4Xy4eORjLilKOwA.png)"
   ]
  },
  {
   "cell_type": "markdown",
   "metadata": {
    "slideshow": {
     "slide_type": "subslide"
    }
   },
   "source": [
    "# Sépulas (_Sepal_) e Pétulas (_Petal_) e _Length_ e _Width_\n",
    "![Imagem](https://encrypted-tbn0.gstatic.com/images?q=tbn%3AANd9GcS8124hTmuItiIg8XgSsEV5X1Ticz890niyZA&usqp=CAU)"
   ]
  },
  {
   "cell_type": "code",
   "execution_count": 45,
   "metadata": {
    "slideshow": {
     "slide_type": "skip"
    }
   },
   "outputs": [
    {
     "data": {
      "text/html": [
       "<table>\n",
       "<caption>A data.frame: 150 × 5</caption>\n",
       "<thead>\n",
       "\t<tr><th scope=col>sepal.length</th><th scope=col>sepal.width</th><th scope=col>petal.length</th><th scope=col>petal.width</th><th scope=col>variety</th></tr>\n",
       "\t<tr><th scope=col>&lt;dbl&gt;</th><th scope=col>&lt;dbl&gt;</th><th scope=col>&lt;dbl&gt;</th><th scope=col>&lt;dbl&gt;</th><th scope=col>&lt;chr&gt;</th></tr>\n",
       "</thead>\n",
       "<tbody>\n",
       "\t<tr><td>5.1</td><td>3.5</td><td>1.4</td><td>0.2</td><td>Setosa</td></tr>\n",
       "\t<tr><td>4.9</td><td>3.0</td><td>1.4</td><td>0.2</td><td>Setosa</td></tr>\n",
       "\t<tr><td>4.7</td><td>3.2</td><td>1.3</td><td>0.2</td><td>Setosa</td></tr>\n",
       "\t<tr><td>4.6</td><td>3.1</td><td>1.5</td><td>0.2</td><td>Setosa</td></tr>\n",
       "\t<tr><td>5.0</td><td>3.6</td><td>1.4</td><td>0.2</td><td>Setosa</td></tr>\n",
       "\t<tr><td>5.4</td><td>3.9</td><td>1.7</td><td>0.4</td><td>Setosa</td></tr>\n",
       "\t<tr><td>4.6</td><td>3.4</td><td>1.4</td><td>0.3</td><td>Setosa</td></tr>\n",
       "\t<tr><td>5.0</td><td>3.4</td><td>1.5</td><td>0.2</td><td>Setosa</td></tr>\n",
       "\t<tr><td>4.4</td><td>2.9</td><td>1.4</td><td>0.2</td><td>Setosa</td></tr>\n",
       "\t<tr><td>4.9</td><td>3.1</td><td>1.5</td><td>0.1</td><td>Setosa</td></tr>\n",
       "\t<tr><td>5.4</td><td>3.7</td><td>1.5</td><td>0.2</td><td>Setosa</td></tr>\n",
       "\t<tr><td>4.8</td><td>3.4</td><td>1.6</td><td>0.2</td><td>Setosa</td></tr>\n",
       "\t<tr><td>4.8</td><td>3.0</td><td>1.4</td><td>0.1</td><td>Setosa</td></tr>\n",
       "\t<tr><td>4.3</td><td>3.0</td><td>1.1</td><td>0.1</td><td>Setosa</td></tr>\n",
       "\t<tr><td>5.8</td><td>4.0</td><td>1.2</td><td>0.2</td><td>Setosa</td></tr>\n",
       "\t<tr><td>5.7</td><td>4.4</td><td>1.5</td><td>0.4</td><td>Setosa</td></tr>\n",
       "\t<tr><td>5.4</td><td>3.9</td><td>1.3</td><td>0.4</td><td>Setosa</td></tr>\n",
       "\t<tr><td>5.1</td><td>3.5</td><td>1.4</td><td>0.3</td><td>Setosa</td></tr>\n",
       "\t<tr><td>5.7</td><td>3.8</td><td>1.7</td><td>0.3</td><td>Setosa</td></tr>\n",
       "\t<tr><td>5.1</td><td>3.8</td><td>1.5</td><td>0.3</td><td>Setosa</td></tr>\n",
       "\t<tr><td>5.4</td><td>3.4</td><td>1.7</td><td>0.2</td><td>Setosa</td></tr>\n",
       "\t<tr><td>5.1</td><td>3.7</td><td>1.5</td><td>0.4</td><td>Setosa</td></tr>\n",
       "\t<tr><td>4.6</td><td>3.6</td><td>1.0</td><td>0.2</td><td>Setosa</td></tr>\n",
       "\t<tr><td>5.1</td><td>3.3</td><td>1.7</td><td>0.5</td><td>Setosa</td></tr>\n",
       "\t<tr><td>4.8</td><td>3.4</td><td>1.9</td><td>0.2</td><td>Setosa</td></tr>\n",
       "\t<tr><td>5.0</td><td>3.0</td><td>1.6</td><td>0.2</td><td>Setosa</td></tr>\n",
       "\t<tr><td>5.0</td><td>3.4</td><td>1.6</td><td>0.4</td><td>Setosa</td></tr>\n",
       "\t<tr><td>5.2</td><td>3.5</td><td>1.5</td><td>0.2</td><td>Setosa</td></tr>\n",
       "\t<tr><td>5.2</td><td>3.4</td><td>1.4</td><td>0.2</td><td>Setosa</td></tr>\n",
       "\t<tr><td>4.7</td><td>3.2</td><td>1.6</td><td>0.2</td><td>Setosa</td></tr>\n",
       "\t<tr><td>...</td><td>...</td><td>...</td><td>...</td><td>...</td></tr>\n",
       "\t<tr><td>6.9</td><td>3.2</td><td>5.7</td><td>2.3</td><td>Virginica</td></tr>\n",
       "\t<tr><td>5.6</td><td>2.8</td><td>4.9</td><td>2.0</td><td>Virginica</td></tr>\n",
       "\t<tr><td>7.7</td><td>2.8</td><td>6.7</td><td>2.0</td><td>Virginica</td></tr>\n",
       "\t<tr><td>6.3</td><td>2.7</td><td>4.9</td><td>1.8</td><td>Virginica</td></tr>\n",
       "\t<tr><td>6.7</td><td>3.3</td><td>5.7</td><td>2.1</td><td>Virginica</td></tr>\n",
       "\t<tr><td>7.2</td><td>3.2</td><td>6.0</td><td>1.8</td><td>Virginica</td></tr>\n",
       "\t<tr><td>6.2</td><td>2.8</td><td>4.8</td><td>1.8</td><td>Virginica</td></tr>\n",
       "\t<tr><td>6.1</td><td>3.0</td><td>4.9</td><td>1.8</td><td>Virginica</td></tr>\n",
       "\t<tr><td>6.4</td><td>2.8</td><td>5.6</td><td>2.1</td><td>Virginica</td></tr>\n",
       "\t<tr><td>7.2</td><td>3.0</td><td>5.8</td><td>1.6</td><td>Virginica</td></tr>\n",
       "\t<tr><td>7.4</td><td>2.8</td><td>6.1</td><td>1.9</td><td>Virginica</td></tr>\n",
       "\t<tr><td>7.9</td><td>3.8</td><td>6.4</td><td>2.0</td><td>Virginica</td></tr>\n",
       "\t<tr><td>6.4</td><td>2.8</td><td>5.6</td><td>2.2</td><td>Virginica</td></tr>\n",
       "\t<tr><td>6.3</td><td>2.8</td><td>5.1</td><td>1.5</td><td>Virginica</td></tr>\n",
       "\t<tr><td>6.1</td><td>2.6</td><td>5.6</td><td>1.4</td><td>Virginica</td></tr>\n",
       "\t<tr><td>7.7</td><td>3.0</td><td>6.1</td><td>2.3</td><td>Virginica</td></tr>\n",
       "\t<tr><td>6.3</td><td>3.4</td><td>5.6</td><td>2.4</td><td>Virginica</td></tr>\n",
       "\t<tr><td>6.4</td><td>3.1</td><td>5.5</td><td>1.8</td><td>Virginica</td></tr>\n",
       "\t<tr><td>6.0</td><td>3.0</td><td>4.8</td><td>1.8</td><td>Virginica</td></tr>\n",
       "\t<tr><td>6.9</td><td>3.1</td><td>5.4</td><td>2.1</td><td>Virginica</td></tr>\n",
       "\t<tr><td>6.7</td><td>3.1</td><td>5.6</td><td>2.4</td><td>Virginica</td></tr>\n",
       "\t<tr><td>6.9</td><td>3.1</td><td>5.1</td><td>2.3</td><td>Virginica</td></tr>\n",
       "\t<tr><td>5.8</td><td>2.7</td><td>5.1</td><td>1.9</td><td>Virginica</td></tr>\n",
       "\t<tr><td>6.8</td><td>3.2</td><td>5.9</td><td>2.3</td><td>Virginica</td></tr>\n",
       "\t<tr><td>6.7</td><td>3.3</td><td>5.7</td><td>2.5</td><td>Virginica</td></tr>\n",
       "\t<tr><td>6.7</td><td>3.0</td><td>5.2</td><td>2.3</td><td>Virginica</td></tr>\n",
       "\t<tr><td>6.3</td><td>2.5</td><td>5.0</td><td>1.9</td><td>Virginica</td></tr>\n",
       "\t<tr><td>6.5</td><td>3.0</td><td>5.2</td><td>2.0</td><td>Virginica</td></tr>\n",
       "\t<tr><td>6.2</td><td>3.4</td><td>5.4</td><td>2.3</td><td>Virginica</td></tr>\n",
       "\t<tr><td>5.9</td><td>3.0</td><td>5.1</td><td>1.8</td><td>Virginica</td></tr>\n",
       "</tbody>\n",
       "</table>\n"
      ],
      "text/latex": [
       "A data.frame: 150 × 5\n",
       "\\begin{tabular}{lllll}\n",
       " sepal.length & sepal.width & petal.length & petal.width & variety\\\\\n",
       " <dbl> & <dbl> & <dbl> & <dbl> & <chr>\\\\\n",
       "\\hline\n",
       "\t 5.1 & 3.5 & 1.4 & 0.2 & Setosa\\\\\n",
       "\t 4.9 & 3.0 & 1.4 & 0.2 & Setosa\\\\\n",
       "\t 4.7 & 3.2 & 1.3 & 0.2 & Setosa\\\\\n",
       "\t 4.6 & 3.1 & 1.5 & 0.2 & Setosa\\\\\n",
       "\t 5.0 & 3.6 & 1.4 & 0.2 & Setosa\\\\\n",
       "\t 5.4 & 3.9 & 1.7 & 0.4 & Setosa\\\\\n",
       "\t 4.6 & 3.4 & 1.4 & 0.3 & Setosa\\\\\n",
       "\t 5.0 & 3.4 & 1.5 & 0.2 & Setosa\\\\\n",
       "\t 4.4 & 2.9 & 1.4 & 0.2 & Setosa\\\\\n",
       "\t 4.9 & 3.1 & 1.5 & 0.1 & Setosa\\\\\n",
       "\t 5.4 & 3.7 & 1.5 & 0.2 & Setosa\\\\\n",
       "\t 4.8 & 3.4 & 1.6 & 0.2 & Setosa\\\\\n",
       "\t 4.8 & 3.0 & 1.4 & 0.1 & Setosa\\\\\n",
       "\t 4.3 & 3.0 & 1.1 & 0.1 & Setosa\\\\\n",
       "\t 5.8 & 4.0 & 1.2 & 0.2 & Setosa\\\\\n",
       "\t 5.7 & 4.4 & 1.5 & 0.4 & Setosa\\\\\n",
       "\t 5.4 & 3.9 & 1.3 & 0.4 & Setosa\\\\\n",
       "\t 5.1 & 3.5 & 1.4 & 0.3 & Setosa\\\\\n",
       "\t 5.7 & 3.8 & 1.7 & 0.3 & Setosa\\\\\n",
       "\t 5.1 & 3.8 & 1.5 & 0.3 & Setosa\\\\\n",
       "\t 5.4 & 3.4 & 1.7 & 0.2 & Setosa\\\\\n",
       "\t 5.1 & 3.7 & 1.5 & 0.4 & Setosa\\\\\n",
       "\t 4.6 & 3.6 & 1.0 & 0.2 & Setosa\\\\\n",
       "\t 5.1 & 3.3 & 1.7 & 0.5 & Setosa\\\\\n",
       "\t 4.8 & 3.4 & 1.9 & 0.2 & Setosa\\\\\n",
       "\t 5.0 & 3.0 & 1.6 & 0.2 & Setosa\\\\\n",
       "\t 5.0 & 3.4 & 1.6 & 0.4 & Setosa\\\\\n",
       "\t 5.2 & 3.5 & 1.5 & 0.2 & Setosa\\\\\n",
       "\t 5.2 & 3.4 & 1.4 & 0.2 & Setosa\\\\\n",
       "\t 4.7 & 3.2 & 1.6 & 0.2 & Setosa\\\\\n",
       "\t ... & ... & ... & ... & ...\\\\\n",
       "\t 6.9 & 3.2 & 5.7 & 2.3 & Virginica\\\\\n",
       "\t 5.6 & 2.8 & 4.9 & 2.0 & Virginica\\\\\n",
       "\t 7.7 & 2.8 & 6.7 & 2.0 & Virginica\\\\\n",
       "\t 6.3 & 2.7 & 4.9 & 1.8 & Virginica\\\\\n",
       "\t 6.7 & 3.3 & 5.7 & 2.1 & Virginica\\\\\n",
       "\t 7.2 & 3.2 & 6.0 & 1.8 & Virginica\\\\\n",
       "\t 6.2 & 2.8 & 4.8 & 1.8 & Virginica\\\\\n",
       "\t 6.1 & 3.0 & 4.9 & 1.8 & Virginica\\\\\n",
       "\t 6.4 & 2.8 & 5.6 & 2.1 & Virginica\\\\\n",
       "\t 7.2 & 3.0 & 5.8 & 1.6 & Virginica\\\\\n",
       "\t 7.4 & 2.8 & 6.1 & 1.9 & Virginica\\\\\n",
       "\t 7.9 & 3.8 & 6.4 & 2.0 & Virginica\\\\\n",
       "\t 6.4 & 2.8 & 5.6 & 2.2 & Virginica\\\\\n",
       "\t 6.3 & 2.8 & 5.1 & 1.5 & Virginica\\\\\n",
       "\t 6.1 & 2.6 & 5.6 & 1.4 & Virginica\\\\\n",
       "\t 7.7 & 3.0 & 6.1 & 2.3 & Virginica\\\\\n",
       "\t 6.3 & 3.4 & 5.6 & 2.4 & Virginica\\\\\n",
       "\t 6.4 & 3.1 & 5.5 & 1.8 & Virginica\\\\\n",
       "\t 6.0 & 3.0 & 4.8 & 1.8 & Virginica\\\\\n",
       "\t 6.9 & 3.1 & 5.4 & 2.1 & Virginica\\\\\n",
       "\t 6.7 & 3.1 & 5.6 & 2.4 & Virginica\\\\\n",
       "\t 6.9 & 3.1 & 5.1 & 2.3 & Virginica\\\\\n",
       "\t 5.8 & 2.7 & 5.1 & 1.9 & Virginica\\\\\n",
       "\t 6.8 & 3.2 & 5.9 & 2.3 & Virginica\\\\\n",
       "\t 6.7 & 3.3 & 5.7 & 2.5 & Virginica\\\\\n",
       "\t 6.7 & 3.0 & 5.2 & 2.3 & Virginica\\\\\n",
       "\t 6.3 & 2.5 & 5.0 & 1.9 & Virginica\\\\\n",
       "\t 6.5 & 3.0 & 5.2 & 2.0 & Virginica\\\\\n",
       "\t 6.2 & 3.4 & 5.4 & 2.3 & Virginica\\\\\n",
       "\t 5.9 & 3.0 & 5.1 & 1.8 & Virginica\\\\\n",
       "\\end{tabular}\n"
      ],
      "text/markdown": [
       "\n",
       "A data.frame: 150 × 5\n",
       "\n",
       "| sepal.length &lt;dbl&gt; | sepal.width &lt;dbl&gt; | petal.length &lt;dbl&gt; | petal.width &lt;dbl&gt; | variety &lt;chr&gt; |\n",
       "|---|---|---|---|---|\n",
       "| 5.1 | 3.5 | 1.4 | 0.2 | Setosa |\n",
       "| 4.9 | 3.0 | 1.4 | 0.2 | Setosa |\n",
       "| 4.7 | 3.2 | 1.3 | 0.2 | Setosa |\n",
       "| 4.6 | 3.1 | 1.5 | 0.2 | Setosa |\n",
       "| 5.0 | 3.6 | 1.4 | 0.2 | Setosa |\n",
       "| 5.4 | 3.9 | 1.7 | 0.4 | Setosa |\n",
       "| 4.6 | 3.4 | 1.4 | 0.3 | Setosa |\n",
       "| 5.0 | 3.4 | 1.5 | 0.2 | Setosa |\n",
       "| 4.4 | 2.9 | 1.4 | 0.2 | Setosa |\n",
       "| 4.9 | 3.1 | 1.5 | 0.1 | Setosa |\n",
       "| 5.4 | 3.7 | 1.5 | 0.2 | Setosa |\n",
       "| 4.8 | 3.4 | 1.6 | 0.2 | Setosa |\n",
       "| 4.8 | 3.0 | 1.4 | 0.1 | Setosa |\n",
       "| 4.3 | 3.0 | 1.1 | 0.1 | Setosa |\n",
       "| 5.8 | 4.0 | 1.2 | 0.2 | Setosa |\n",
       "| 5.7 | 4.4 | 1.5 | 0.4 | Setosa |\n",
       "| 5.4 | 3.9 | 1.3 | 0.4 | Setosa |\n",
       "| 5.1 | 3.5 | 1.4 | 0.3 | Setosa |\n",
       "| 5.7 | 3.8 | 1.7 | 0.3 | Setosa |\n",
       "| 5.1 | 3.8 | 1.5 | 0.3 | Setosa |\n",
       "| 5.4 | 3.4 | 1.7 | 0.2 | Setosa |\n",
       "| 5.1 | 3.7 | 1.5 | 0.4 | Setosa |\n",
       "| 4.6 | 3.6 | 1.0 | 0.2 | Setosa |\n",
       "| 5.1 | 3.3 | 1.7 | 0.5 | Setosa |\n",
       "| 4.8 | 3.4 | 1.9 | 0.2 | Setosa |\n",
       "| 5.0 | 3.0 | 1.6 | 0.2 | Setosa |\n",
       "| 5.0 | 3.4 | 1.6 | 0.4 | Setosa |\n",
       "| 5.2 | 3.5 | 1.5 | 0.2 | Setosa |\n",
       "| 5.2 | 3.4 | 1.4 | 0.2 | Setosa |\n",
       "| 4.7 | 3.2 | 1.6 | 0.2 | Setosa |\n",
       "| ... | ... | ... | ... | ... |\n",
       "| 6.9 | 3.2 | 5.7 | 2.3 | Virginica |\n",
       "| 5.6 | 2.8 | 4.9 | 2.0 | Virginica |\n",
       "| 7.7 | 2.8 | 6.7 | 2.0 | Virginica |\n",
       "| 6.3 | 2.7 | 4.9 | 1.8 | Virginica |\n",
       "| 6.7 | 3.3 | 5.7 | 2.1 | Virginica |\n",
       "| 7.2 | 3.2 | 6.0 | 1.8 | Virginica |\n",
       "| 6.2 | 2.8 | 4.8 | 1.8 | Virginica |\n",
       "| 6.1 | 3.0 | 4.9 | 1.8 | Virginica |\n",
       "| 6.4 | 2.8 | 5.6 | 2.1 | Virginica |\n",
       "| 7.2 | 3.0 | 5.8 | 1.6 | Virginica |\n",
       "| 7.4 | 2.8 | 6.1 | 1.9 | Virginica |\n",
       "| 7.9 | 3.8 | 6.4 | 2.0 | Virginica |\n",
       "| 6.4 | 2.8 | 5.6 | 2.2 | Virginica |\n",
       "| 6.3 | 2.8 | 5.1 | 1.5 | Virginica |\n",
       "| 6.1 | 2.6 | 5.6 | 1.4 | Virginica |\n",
       "| 7.7 | 3.0 | 6.1 | 2.3 | Virginica |\n",
       "| 6.3 | 3.4 | 5.6 | 2.4 | Virginica |\n",
       "| 6.4 | 3.1 | 5.5 | 1.8 | Virginica |\n",
       "| 6.0 | 3.0 | 4.8 | 1.8 | Virginica |\n",
       "| 6.9 | 3.1 | 5.4 | 2.1 | Virginica |\n",
       "| 6.7 | 3.1 | 5.6 | 2.4 | Virginica |\n",
       "| 6.9 | 3.1 | 5.1 | 2.3 | Virginica |\n",
       "| 5.8 | 2.7 | 5.1 | 1.9 | Virginica |\n",
       "| 6.8 | 3.2 | 5.9 | 2.3 | Virginica |\n",
       "| 6.7 | 3.3 | 5.7 | 2.5 | Virginica |\n",
       "| 6.7 | 3.0 | 5.2 | 2.3 | Virginica |\n",
       "| 6.3 | 2.5 | 5.0 | 1.9 | Virginica |\n",
       "| 6.5 | 3.0 | 5.2 | 2.0 | Virginica |\n",
       "| 6.2 | 3.4 | 5.4 | 2.3 | Virginica |\n",
       "| 5.9 | 3.0 | 5.1 | 1.8 | Virginica |\n",
       "\n"
      ],
      "text/plain": [
       "    sepal.length sepal.width petal.length petal.width variety  \n",
       "1   5.1          3.5         1.4          0.2         Setosa   \n",
       "2   4.9          3.0         1.4          0.2         Setosa   \n",
       "3   4.7          3.2         1.3          0.2         Setosa   \n",
       "4   4.6          3.1         1.5          0.2         Setosa   \n",
       "5   5.0          3.6         1.4          0.2         Setosa   \n",
       "6   5.4          3.9         1.7          0.4         Setosa   \n",
       "7   4.6          3.4         1.4          0.3         Setosa   \n",
       "8   5.0          3.4         1.5          0.2         Setosa   \n",
       "9   4.4          2.9         1.4          0.2         Setosa   \n",
       "10  4.9          3.1         1.5          0.1         Setosa   \n",
       "11  5.4          3.7         1.5          0.2         Setosa   \n",
       "12  4.8          3.4         1.6          0.2         Setosa   \n",
       "13  4.8          3.0         1.4          0.1         Setosa   \n",
       "14  4.3          3.0         1.1          0.1         Setosa   \n",
       "15  5.8          4.0         1.2          0.2         Setosa   \n",
       "16  5.7          4.4         1.5          0.4         Setosa   \n",
       "17  5.4          3.9         1.3          0.4         Setosa   \n",
       "18  5.1          3.5         1.4          0.3         Setosa   \n",
       "19  5.7          3.8         1.7          0.3         Setosa   \n",
       "20  5.1          3.8         1.5          0.3         Setosa   \n",
       "21  5.4          3.4         1.7          0.2         Setosa   \n",
       "22  5.1          3.7         1.5          0.4         Setosa   \n",
       "23  4.6          3.6         1.0          0.2         Setosa   \n",
       "24  5.1          3.3         1.7          0.5         Setosa   \n",
       "25  4.8          3.4         1.9          0.2         Setosa   \n",
       "26  5.0          3.0         1.6          0.2         Setosa   \n",
       "27  5.0          3.4         1.6          0.4         Setosa   \n",
       "28  5.2          3.5         1.5          0.2         Setosa   \n",
       "29  5.2          3.4         1.4          0.2         Setosa   \n",
       "30  4.7          3.2         1.6          0.2         Setosa   \n",
       "... ...          ...         ...          ...         ...      \n",
       "121 6.9          3.2         5.7          2.3         Virginica\n",
       "122 5.6          2.8         4.9          2.0         Virginica\n",
       "123 7.7          2.8         6.7          2.0         Virginica\n",
       "124 6.3          2.7         4.9          1.8         Virginica\n",
       "125 6.7          3.3         5.7          2.1         Virginica\n",
       "126 7.2          3.2         6.0          1.8         Virginica\n",
       "127 6.2          2.8         4.8          1.8         Virginica\n",
       "128 6.1          3.0         4.9          1.8         Virginica\n",
       "129 6.4          2.8         5.6          2.1         Virginica\n",
       "130 7.2          3.0         5.8          1.6         Virginica\n",
       "131 7.4          2.8         6.1          1.9         Virginica\n",
       "132 7.9          3.8         6.4          2.0         Virginica\n",
       "133 6.4          2.8         5.6          2.2         Virginica\n",
       "134 6.3          2.8         5.1          1.5         Virginica\n",
       "135 6.1          2.6         5.6          1.4         Virginica\n",
       "136 7.7          3.0         6.1          2.3         Virginica\n",
       "137 6.3          3.4         5.6          2.4         Virginica\n",
       "138 6.4          3.1         5.5          1.8         Virginica\n",
       "139 6.0          3.0         4.8          1.8         Virginica\n",
       "140 6.9          3.1         5.4          2.1         Virginica\n",
       "141 6.7          3.1         5.6          2.4         Virginica\n",
       "142 6.9          3.1         5.1          2.3         Virginica\n",
       "143 5.8          2.7         5.1          1.9         Virginica\n",
       "144 6.8          3.2         5.9          2.3         Virginica\n",
       "145 6.7          3.3         5.7          2.5         Virginica\n",
       "146 6.7          3.0         5.2          2.3         Virginica\n",
       "147 6.3          2.5         5.0          1.9         Virginica\n",
       "148 6.5          3.0         5.2          2.0         Virginica\n",
       "149 6.2          3.4         5.4          2.3         Virginica\n",
       "150 5.9          3.0         5.1          1.8         Virginica"
      ]
     },
     "metadata": {},
     "output_type": "display_data"
    }
   ],
   "source": [
    "iris"
   ]
  },
  {
   "cell_type": "code",
   "execution_count": 150,
   "metadata": {
    "slideshow": {
     "slide_type": "subslide"
    }
   },
   "outputs": [
    {
     "data": {
      "text/html": [
       "<table>\n",
       "<caption>A data.frame: 6 × 5</caption>\n",
       "<thead>\n",
       "\t<tr><th></th><th scope=col>sepal.length</th><th scope=col>sepal.width</th><th scope=col>petal.length</th><th scope=col>petal.width</th><th scope=col>variety</th></tr>\n",
       "\t<tr><th></th><th scope=col>&lt;dbl&gt;</th><th scope=col>&lt;dbl&gt;</th><th scope=col>&lt;dbl&gt;</th><th scope=col>&lt;dbl&gt;</th><th scope=col>&lt;chr&gt;</th></tr>\n",
       "</thead>\n",
       "<tbody>\n",
       "\t<tr><th scope=row>1</th><td>5.1</td><td>3.5</td><td>1.4</td><td>0.2</td><td>Setosa</td></tr>\n",
       "\t<tr><th scope=row>2</th><td>4.9</td><td>3.0</td><td>1.4</td><td>0.2</td><td>Setosa</td></tr>\n",
       "\t<tr><th scope=row>3</th><td>4.7</td><td>3.2</td><td>1.3</td><td>0.2</td><td>Setosa</td></tr>\n",
       "\t<tr><th scope=row>4</th><td>4.6</td><td>3.1</td><td>1.5</td><td>0.2</td><td>Setosa</td></tr>\n",
       "\t<tr><th scope=row>5</th><td>5.0</td><td>3.6</td><td>1.4</td><td>0.2</td><td>Setosa</td></tr>\n",
       "\t<tr><th scope=row>6</th><td>5.4</td><td>3.9</td><td>1.7</td><td>0.4</td><td>Setosa</td></tr>\n",
       "</tbody>\n",
       "</table>\n"
      ],
      "text/latex": [
       "A data.frame: 6 × 5\n",
       "\\begin{tabular}{r|lllll}\n",
       "  & sepal.length & sepal.width & petal.length & petal.width & variety\\\\\n",
       "  & <dbl> & <dbl> & <dbl> & <dbl> & <chr>\\\\\n",
       "\\hline\n",
       "\t1 & 5.1 & 3.5 & 1.4 & 0.2 & Setosa\\\\\n",
       "\t2 & 4.9 & 3.0 & 1.4 & 0.2 & Setosa\\\\\n",
       "\t3 & 4.7 & 3.2 & 1.3 & 0.2 & Setosa\\\\\n",
       "\t4 & 4.6 & 3.1 & 1.5 & 0.2 & Setosa\\\\\n",
       "\t5 & 5.0 & 3.6 & 1.4 & 0.2 & Setosa\\\\\n",
       "\t6 & 5.4 & 3.9 & 1.7 & 0.4 & Setosa\\\\\n",
       "\\end{tabular}\n"
      ],
      "text/markdown": [
       "\n",
       "A data.frame: 6 × 5\n",
       "\n",
       "| <!--/--> | sepal.length &lt;dbl&gt; | sepal.width &lt;dbl&gt; | petal.length &lt;dbl&gt; | petal.width &lt;dbl&gt; | variety &lt;chr&gt; |\n",
       "|---|---|---|---|---|---|\n",
       "| 1 | 5.1 | 3.5 | 1.4 | 0.2 | Setosa |\n",
       "| 2 | 4.9 | 3.0 | 1.4 | 0.2 | Setosa |\n",
       "| 3 | 4.7 | 3.2 | 1.3 | 0.2 | Setosa |\n",
       "| 4 | 4.6 | 3.1 | 1.5 | 0.2 | Setosa |\n",
       "| 5 | 5.0 | 3.6 | 1.4 | 0.2 | Setosa |\n",
       "| 6 | 5.4 | 3.9 | 1.7 | 0.4 | Setosa |\n",
       "\n"
      ],
      "text/plain": [
       "  sepal.length sepal.width petal.length petal.width variety\n",
       "1 5.1          3.5         1.4          0.2         Setosa \n",
       "2 4.9          3.0         1.4          0.2         Setosa \n",
       "3 4.7          3.2         1.3          0.2         Setosa \n",
       "4 4.6          3.1         1.5          0.2         Setosa \n",
       "5 5.0          3.6         1.4          0.2         Setosa \n",
       "6 5.4          3.9         1.7          0.4         Setosa "
      ]
     },
     "metadata": {},
     "output_type": "display_data"
    }
   ],
   "source": [
    "head(iris)"
   ]
  },
  {
   "cell_type": "code",
   "execution_count": 47,
   "metadata": {
    "slideshow": {
     "slide_type": "subslide"
    }
   },
   "outputs": [
    {
     "data": {
      "text/html": [
       "<table>\n",
       "<caption>A data.frame: 6 × 5</caption>\n",
       "<thead>\n",
       "\t<tr><th></th><th scope=col>sepal.length</th><th scope=col>sepal.width</th><th scope=col>petal.length</th><th scope=col>petal.width</th><th scope=col>variety</th></tr>\n",
       "\t<tr><th></th><th scope=col>&lt;dbl&gt;</th><th scope=col>&lt;dbl&gt;</th><th scope=col>&lt;dbl&gt;</th><th scope=col>&lt;dbl&gt;</th><th scope=col>&lt;chr&gt;</th></tr>\n",
       "</thead>\n",
       "<tbody>\n",
       "\t<tr><th scope=row>145</th><td>6.7</td><td>3.3</td><td>5.7</td><td>2.5</td><td>Virginica</td></tr>\n",
       "\t<tr><th scope=row>146</th><td>6.7</td><td>3.0</td><td>5.2</td><td>2.3</td><td>Virginica</td></tr>\n",
       "\t<tr><th scope=row>147</th><td>6.3</td><td>2.5</td><td>5.0</td><td>1.9</td><td>Virginica</td></tr>\n",
       "\t<tr><th scope=row>148</th><td>6.5</td><td>3.0</td><td>5.2</td><td>2.0</td><td>Virginica</td></tr>\n",
       "\t<tr><th scope=row>149</th><td>6.2</td><td>3.4</td><td>5.4</td><td>2.3</td><td>Virginica</td></tr>\n",
       "\t<tr><th scope=row>150</th><td>5.9</td><td>3.0</td><td>5.1</td><td>1.8</td><td>Virginica</td></tr>\n",
       "</tbody>\n",
       "</table>\n"
      ],
      "text/latex": [
       "A data.frame: 6 × 5\n",
       "\\begin{tabular}{r|lllll}\n",
       "  & sepal.length & sepal.width & petal.length & petal.width & variety\\\\\n",
       "  & <dbl> & <dbl> & <dbl> & <dbl> & <chr>\\\\\n",
       "\\hline\n",
       "\t145 & 6.7 & 3.3 & 5.7 & 2.5 & Virginica\\\\\n",
       "\t146 & 6.7 & 3.0 & 5.2 & 2.3 & Virginica\\\\\n",
       "\t147 & 6.3 & 2.5 & 5.0 & 1.9 & Virginica\\\\\n",
       "\t148 & 6.5 & 3.0 & 5.2 & 2.0 & Virginica\\\\\n",
       "\t149 & 6.2 & 3.4 & 5.4 & 2.3 & Virginica\\\\\n",
       "\t150 & 5.9 & 3.0 & 5.1 & 1.8 & Virginica\\\\\n",
       "\\end{tabular}\n"
      ],
      "text/markdown": [
       "\n",
       "A data.frame: 6 × 5\n",
       "\n",
       "| <!--/--> | sepal.length &lt;dbl&gt; | sepal.width &lt;dbl&gt; | petal.length &lt;dbl&gt; | petal.width &lt;dbl&gt; | variety &lt;chr&gt; |\n",
       "|---|---|---|---|---|---|\n",
       "| 145 | 6.7 | 3.3 | 5.7 | 2.5 | Virginica |\n",
       "| 146 | 6.7 | 3.0 | 5.2 | 2.3 | Virginica |\n",
       "| 147 | 6.3 | 2.5 | 5.0 | 1.9 | Virginica |\n",
       "| 148 | 6.5 | 3.0 | 5.2 | 2.0 | Virginica |\n",
       "| 149 | 6.2 | 3.4 | 5.4 | 2.3 | Virginica |\n",
       "| 150 | 5.9 | 3.0 | 5.1 | 1.8 | Virginica |\n",
       "\n"
      ],
      "text/plain": [
       "    sepal.length sepal.width petal.length petal.width variety  \n",
       "145 6.7          3.3         5.7          2.5         Virginica\n",
       "146 6.7          3.0         5.2          2.3         Virginica\n",
       "147 6.3          2.5         5.0          1.9         Virginica\n",
       "148 6.5          3.0         5.2          2.0         Virginica\n",
       "149 6.2          3.4         5.4          2.3         Virginica\n",
       "150 5.9          3.0         5.1          1.8         Virginica"
      ]
     },
     "metadata": {},
     "output_type": "display_data"
    }
   ],
   "source": [
    "tail(iris)"
   ]
  },
  {
   "cell_type": "markdown",
   "metadata": {
    "slideshow": {
     "slide_type": "slide"
    }
   },
   "source": [
    "# Noções Básicas de Gráficos\n",
    "$R$ inclui funções para a criação de vários de tipos de gráficos, como gráfico de barras, de setores, de linhas, de dispersão etc. \n",
    "Essas funções estão disponíveis no pacote graphics, nativo da linguagem. \n",
    "\n",
    "Há ainda outros tipos de gráficos possíveis, mais sofisticados, cujas funções para criação estão disponíveis no pacote lattice, por exemplo. \n",
    "\n",
    "Nesta seção, são apresentados os principais gráficos úteis no entendimento dos conceitos apresentados neste curso. A seguir apresenta um resumo das funções para criação dos gráficos apresentadas nesta aula.\n"
   ]
  },
  {
   "cell_type": "markdown",
   "metadata": {
    "slideshow": {
     "slide_type": "subslide"
    }
   },
   "source": [
    "`plot( )` Cria um gráfico de dispersão ou um gráfico de linhas\n",
    "\n",
    "`barplot( )` Cria um gráfico de colunas ou de barras\n",
    "\n",
    "`pie( )` Cria um gráfico de setores ou do tipo pizza\n",
    "\n",
    "`boxplot( )` Cria um gráfico de caixas"
   ]
  },
  {
   "cell_type": "markdown",
   "metadata": {
    "slideshow": {
     "slide_type": "slide"
    }
   },
   "source": [
    "## Gráfico de dispersão\n",
    "Um gráfico de dispersão (scatter plot), ou espalhamento, permite a visualização da distribuição dos exemplares de um conjunto de dados. \n",
    "\n",
    "A função `plot( )` constrói esse gráfico a partir dos valores atribuídos a uma série de parâmetros (os principais estão listados na sequência). \n",
    "\n",
    "De maneira genérica, considerando que dois vetores serão usados na plotagem dos gráficos, a função é definida como:"
   ]
  },
  {
   "cell_type": "markdown",
   "metadata": {
    "slideshow": {
     "slide_type": "fragment"
    }
   },
   "source": [
    "`plot(x, y = NULL, type = “p”, xlim = NULL, ylim = NULL, log = “”, main = NULL, sub = NULL, xlab = NULL, ylab = NULL, col=”blue”)`"
   ]
  },
  {
   "cell_type": "markdown",
   "metadata": {
    "slideshow": {
     "slide_type": "subslide"
    }
   },
   "source": [
    "`x,y` Os dados a serem plotados, que devem estar separados em dois vetores.     \n",
    "`type` Tipo de marcador do gráfico: `p`, para pontos, `l`, para linhas, `o`, para pontos e linhas.  \n",
    "`xlim` Um vetor com os limites inferior e superior do eixo x.   \n",
    "`ylim` Um vetor com os limites inferior e superior do eixo y.  \n",
    "`log` Uma sequência de caracteres deve conter:  \n",
    "- `x` caso se queira que o eixo x esteja em escala logarítmica,   \n",
    "- `y` para o eixo y se quiser que ele esteja em escala logarítmica ou,    \n",
    "- no caso em que ambos os eixos devam estar nessa escala, usar a sequência `xy` ou `yx`.  \n",
    "\n",
    "`main` O título principal do gráfico.  \n",
    "`sub` O subtítulo do gráfico.  \n",
    "`xlab` O rótulo do eixo x.  \n",
    "`ylab` O rótulo para o eixo y.  \n",
    "`col` Cor dos marcadores: red, blue ou purple.  "
   ]
  },
  {
   "cell_type": "markdown",
   "metadata": {
    "slideshow": {
     "slide_type": "subslide"
    }
   },
   "source": [
    "Para exemplificar o uso da função plot( ) na construção de um gráfico de dispersão, considere dois atributos descritivos do conjunto de dados Iris:\n",
    "\n",
    "- Sepal.Width e \n",
    "- Petal.Width. \n",
    "\n",
    "Inicialmente, esses atributos devem ser colocados em duas variáveis do tipo vetor (x e y), e, em seguida, a função pode ser executada.\n"
   ]
  },
  {
   "cell_type": "code",
   "execution_count": 90,
   "metadata": {
    "slideshow": {
     "slide_type": "skip"
    }
   },
   "outputs": [
    {
     "data": {
      "text/html": [
       "<table>\n",
       "<caption>A data.frame: 1 × 5</caption>\n",
       "<thead>\n",
       "\t<tr><th></th><th scope=col>sepal.length</th><th scope=col>sepal.width</th><th scope=col>petal.length</th><th scope=col>petal.width</th><th scope=col>variety</th></tr>\n",
       "\t<tr><th></th><th scope=col>&lt;dbl&gt;</th><th scope=col>&lt;dbl&gt;</th><th scope=col>&lt;dbl&gt;</th><th scope=col>&lt;dbl&gt;</th><th scope=col>&lt;chr&gt;</th></tr>\n",
       "</thead>\n",
       "<tbody>\n",
       "\t<tr><th scope=row>1</th><td>5.1</td><td>3.5</td><td>1.4</td><td>0.2</td><td>Setosa</td></tr>\n",
       "</tbody>\n",
       "</table>\n"
      ],
      "text/latex": [
       "A data.frame: 1 × 5\n",
       "\\begin{tabular}{r|lllll}\n",
       "  & sepal.length & sepal.width & petal.length & petal.width & variety\\\\\n",
       "  & <dbl> & <dbl> & <dbl> & <dbl> & <chr>\\\\\n",
       "\\hline\n",
       "\t1 & 5.1 & 3.5 & 1.4 & 0.2 & Setosa\\\\\n",
       "\\end{tabular}\n"
      ],
      "text/markdown": [
       "\n",
       "A data.frame: 1 × 5\n",
       "\n",
       "| <!--/--> | sepal.length &lt;dbl&gt; | sepal.width &lt;dbl&gt; | petal.length &lt;dbl&gt; | petal.width &lt;dbl&gt; | variety &lt;chr&gt; |\n",
       "|---|---|---|---|---|---|\n",
       "| 1 | 5.1 | 3.5 | 1.4 | 0.2 | Setosa |\n",
       "\n"
      ],
      "text/plain": [
       "  sepal.length sepal.width petal.length petal.width variety\n",
       "1 5.1          3.5         1.4          0.2         Setosa "
      ]
     },
     "metadata": {},
     "output_type": "display_data"
    }
   ],
   "source": [
    "head(iris,1)"
   ]
  },
  {
   "cell_type": "code",
   "execution_count": 151,
   "metadata": {
    "slideshow": {
     "slide_type": "subslide"
    }
   },
   "outputs": [
    {
     "data": {
      "image/png": "[encoded data removed]",
      "text/plain": [
       "Plot with title \"PLANTA IRIS\""
      ]
     },
     "metadata": {
      "image/png": {
       "height": 600,
       "width": 600
      }
     },
     "output_type": "display_data"
    }
   ],
   "source": [
    "x <- iris$sepal.width\n",
    "y <- iris$petal.width\n",
    "plot(x,y,type='p',main = \"PLANTA IRIS\",xlab = \"Sepal Width\",ylab= \"Petal Width\")\n"
   ]
  },
  {
   "cell_type": "markdown",
   "metadata": {
    "slideshow": {
     "slide_type": "subslide"
    }
   },
   "source": [
    "No caso do conjunto de dados Iris, a informação referente ao rótulo de cada exemplar está disponível, e pode ser interessante usar essa informação na criação dos gráficos. \n",
    "\n",
    "Duas estratégias para uso dessa informação são apresentadas aqui.  \n",
    "A primeira delas é com o uso da função text( ), que permite atribuir a informação de rótulo a cada ponto no gráfico (cada ponto\n",
    "no gráfico corresponde a um exemplar do conjunto de dados). \n",
    "\n",
    "Os principais parâmetros dessa função estão detalhados na sequencia"
   ]
  },
  {
   "cell_type": "markdown",
   "metadata": {
    "slideshow": {
     "slide_type": "subslide"
    }
   },
   "source": [
    "`x,y` Os dados a serem plotados, que devem estar separados em dois vetores.   \n",
    "`labels` Uma variável com as informações de rótulo de cada exemplar do conjunto de dados.   \n",
    "`cex` Tamanho do texto que será plotado.  \n",
    "`adj` Posicionamento do texto (para que fique posicionado de forma adjacente ao marcador).  \n"
   ]
  },
  {
   "cell_type": "code",
   "execution_count": 152,
   "metadata": {
    "slideshow": {
     "slide_type": "subslide"
    }
   },
   "outputs": [],
   "source": [
    "x <- iris[,'sepal.width']\n",
    "y <- iris[,'petal.width']\n",
    "especie <- iris[,'variety']"
   ]
  },
  {
   "cell_type": "code",
   "execution_count": 103,
   "metadata": {
    "slideshow": {
     "slide_type": "subslide"
    }
   },
   "outputs": [
    {
     "data": {
      "image/png": "[encoded data removed]",
      "text/plain": [
       "Plot with title \"PLANTA IRIS\""
      ]
     },
     "metadata": {
      "image/png": {
       "height": 600,
       "width": 600
      }
     },
     "output_type": "display_data"
    }
   ],
   "source": [
    "library(repr) # A Biblioteca repr serve para ajusta o tamanho dos gráficos em R\n",
    "options(repr.plot.width=10,repr.plot.height=10) # Ajuste de um gráfco para 10 de largura e 10 de altura\n",
    "plot(x,y,type='p',main = 'PLANTA IRIS',xlab = 'Sepal Width',ylab= 'Petal Width')\n",
    "text(x,y,labels=especie,cex=0.8,adj=c(0,-1))"
   ]
  },
  {
   "cell_type": "markdown",
   "metadata": {
    "slideshow": {
     "slide_type": "slide"
    }
   },
   "source": [
    "# Uso da Função Points\n",
    "\n",
    "A segunda estratégia para explorar a informação sobre rótulos é por meio do uso da função points( ). Com essa função, é possível explorar recursos referentes a cores e marcadores. A tabela a seguir mostra os valores d eparâmetros da função `points`"
   ]
  },
  {
   "cell_type": "markdown",
   "metadata": {
    "slideshow": {
     "slide_type": "subslide"
    }
   },
   "source": [
    "## Valores para os parâmetros que usam cores, neste caso, exemplificando o `col` da função\n",
    "\n",
    "| Cor      | Nome  | Inteiro | Hexadecimal |\n",
    "|----------|-------|---------|-------------|\n",
    "| Preta    | black | 1       | 00000       |\n",
    "| Vermelha | red   | 2       | FF0000      |\n",
    "| Verde    | green | 3       | 00FF00      |\n",
    "| Azul     | blue  | 4       | 0000FF      |\n"
   ]
  },
  {
   "cell_type": "code",
   "execution_count": 104,
   "metadata": {
    "slideshow": {
     "slide_type": "subslide"
    }
   },
   "outputs": [
    {
     "data": {
      "image/png": "[encoded data removed]",
      "text/plain": [
       "Plot with title \"PLANTA IRIS\""
      ]
     },
     "metadata": {
      "image/png": {
       "height": 600,
       "width": 600
      }
     },
     "output_type": "display_data"
    }
   ],
   "source": [
    "plot(x,y, type='n', main = 'PLANTA IRIS',xlab = 'Sepal Width',ylab= 'Petal Width')\n",
    "points(x[1:50],y[1:50],col='2',cex=2,pch=19)\n",
    "points(x[51:100],y[51:100],col='3',cex=2,pch=19)\n",
    "points(x[101:150],y[101:150],col='4',cex=2,pch=19)\n",
    "legend(\"topleft\", \n",
    "  legend = c('setosa','versicolor','virginica'), \n",
    "  pch=c(19,19,19),\n",
    "  cex = 1.2, \n",
    "  text.col = \"black\",\n",
    "  col=c('2','3','4'))"
   ]
  },
  {
   "cell_type": "markdown",
   "metadata": {
    "slideshow": {
     "slide_type": "subslide"
    }
   },
   "source": [
    "Para explorar o uso da função `plot( )`, algumas informações adicionais sobre o conjunto de dados Iris precisam ser consideradas. \n",
    "Esse conjunto de dados contém 150 exemplares, distribuídos uniformemente em três classes:\n",
    "- 50 exemplares da classe setosa\n",
    "- 50 exemplares da classe versicolor e\n",
    "- 50 exemplares da classe virgínica     \n",
    "Além disso, será necessário fazer uma plotagem inicial, sem exibição dos marcadores dos exemplares (type = n) e,\n",
    "em seguida, a plotagem será preenchida adequadamente com a adição opcional de uma legenda (função legend( )– veja um resumo dos parâmetros dessa função são apresnetados abaixo e opções de marcadores).   \n",
    "|     Parâmetros        |     Descrição                                                                                                                                                           |\n",
    "|-----------------------|-------------------------------------------------------------------------------------------------------------------------------------------------------------------------|\n",
    "|     pos ou locator    |      A posição pode ser um vetor de   coordenadas (x,y) ou então pode ser definida pelo usuário (locator(1)) com um   clique de mouse no local desejado da legenda.     |\n",
    "|     names             |     Os nomes que aparecerão na legenda. Podem ser definidos dentro de um   vetor.                                                                                       |\n",
    "|     pch               |     Parâmetro que indica os tipos de marcador em uso. Uma indicação por   rótulo utilizado.                                                                             |\n",
    "|     Col               |      Parâmetro que indica a cor   escolhida para cada marcador. Uma indicação por rótulo utilizado. |                                                                     |\n",
    "\n",
    "\n",
    "As três sequências de comandos a seguir se referem a esse procedimento, e os gráficos resultantes de cada uma são ilustrados a seguir"
   ]
  },
  {
   "cell_type": "markdown",
   "metadata": {
    "slideshow": {
     "slide_type": "subslide"
    }
   },
   "source": [
    "## Sequencia 1 `plot()` de base"
   ]
  },
  {
   "cell_type": "code",
   "execution_count": 105,
   "metadata": {
    "slideshow": {
     "slide_type": "fragment"
    }
   },
   "outputs": [
    {
     "data": {
      "image/png": "[encoded data removed]",
      "text/plain": [
       "Plot with title \"PLANTA IRIS\""
      ]
     },
     "metadata": {
      "image/png": {
       "height": 600,
       "width": 600
      }
     },
     "output_type": "display_data"
    }
   ],
   "source": [
    "plot(x,y, type='n', main = 'PLANTA IRIS',xlab = 'Sepal Width',ylab= 'Petal Width')"
   ]
  },
  {
   "cell_type": "markdown",
   "metadata": {
    "slideshow": {
     "slide_type": "subslide"
    }
   },
   "source": [
    "## Sequencia 2 `plot() + points()` de base"
   ]
  },
  {
   "cell_type": "code",
   "execution_count": 106,
   "metadata": {
    "slideshow": {
     "slide_type": "fragment"
    }
   },
   "outputs": [
    {
     "data": {
      "image/png": "[encoded data removed]",
      "text/plain": [
       "Plot with title \"PLANTA IRIS\""
      ]
     },
     "metadata": {
      "image/png": {
       "height": 600,
       "width": 600
      }
     },
     "output_type": "display_data"
    }
   ],
   "source": [
    "plot(x,y, type='n', main = 'PLANTA IRIS',xlab = 'Sepal Width',ylab= 'Petal Width')\n",
    "points(x[1:50],y[1:50],col='2',cex=2,pch=19)\n",
    "points(x[51:100],y[51:100],col='3',cex=2,pch=19)\n",
    "points(x[101:150],y[101:150],col='4',cex=2,pch=19)"
   ]
  },
  {
   "cell_type": "markdown",
   "metadata": {
    "slideshow": {
     "slide_type": "subslide"
    }
   },
   "source": [
    "## Sequencia 3 `plot()`+ `points()`+ `legend()` de base"
   ]
  },
  {
   "cell_type": "code",
   "execution_count": 107,
   "metadata": {
    "slideshow": {
     "slide_type": "fragment"
    }
   },
   "outputs": [
    {
     "data": {
      "image/png": "[encoded data removed]",
      "text/plain": [
       "Plot with title \"PLANTA IRIS\""
      ]
     },
     "metadata": {
      "image/png": {
       "height": 600,
       "width": 600
      }
     },
     "output_type": "display_data"
    }
   ],
   "source": [
    "plot(x,y, type='n', main = 'PLANTA IRIS',xlab = 'Sepal Width',ylab= 'Petal Width')\n",
    "points(x[1:50],y[1:50],col='2',cex=2,pch=19)\n",
    "points(x[51:100],y[51:100],col='3',cex=2,pch=19)\n",
    "points(x[101:150],y[101:150],col='4',cex=2,pch=19)\n",
    "legend(\"topleft\", \n",
    "  legend = c('setosa','versicolor','virginica'), \n",
    "  pch=c(19,19,19),\n",
    "  cex = 1.2, \n",
    "  text.col = \"black\",\n",
    "  col=c('2','3','4'))"
   ]
  },
  {
   "cell_type": "markdown",
   "metadata": {
    "slideshow": {
     "slide_type": "subslide"
    }
   },
   "source": [
    "## Mudando o formato dos Points"
   ]
  },
  {
   "cell_type": "code",
   "execution_count": 108,
   "metadata": {
    "slideshow": {
     "slide_type": "fragment"
    }
   },
   "outputs": [
    {
     "data": {
      "image/png": "[encoded data removed]",
      "text/plain": [
       "Plot with title \"PLANTA IRIS\""
      ]
     },
     "metadata": {
      "image/png": {
       "height": 600,
       "width": 600
      }
     },
     "output_type": "display_data"
    }
   ],
   "source": [
    "plot(x,y, type='n', main = 'PLANTA IRIS',xlab = 'Sepal Width',ylab= 'Petal Width')\n",
    "points(x[1:50],y[1:50],col='2',cex=2,pch=1)\n",
    "points(x[51:100],y[51:100],col='3',cex=2,pch=2)\n",
    "points(x[101:150],y[101:150],col='4',cex=2,pch=3)\n",
    "legend(\"topleft\", \n",
    "  legend = c('setosa','versicolor','virginica'), \n",
    "  pch=c(19,19,19),\n",
    "  cex = 1.2, \n",
    "  text.col = \"black\",\n",
    "  col=c('2','3','4'))"
   ]
  },
  {
   "cell_type": "markdown",
   "metadata": {
    "slideshow": {
     "slide_type": "subslide"
    }
   },
   "source": [
    "## Gráfico genérico com diversos tipo de points"
   ]
  },
  {
   "cell_type": "code",
   "execution_count": 109,
   "metadata": {
    "slideshow": {
     "slide_type": "fragment"
    }
   },
   "outputs": [
    {
     "data": {
      "image/png": "[encoded data removed]",
      "text/plain": [
       "plot without title"
      ]
     },
     "metadata": {
      "image/png": {
       "height": 600,
       "width": 600
      }
     },
     "output_type": "display_data"
    }
   ],
   "source": [
    "x1 <- 1:10\n",
    "y1 <- 1:10\n",
    "plot(x1, y1, type = \"n\")\n",
    "points(1:10, rep(8, 10), pch = 0:9, col = 1:10, cex = 1.5)\n",
    "points(1:10, rep(6, 10), pch = 10:19, col = 1:10, cex = 1.5)\n",
    "points(1:10, rep(4, 10), pch = c(\".\", \"a\", \"o\", \"v\", \"s\",\"c\", \"&\", \"$\", \"@\", \"%\"), col = 1:10, cex = 1.5)"
   ]
  },
  {
   "cell_type": "markdown",
   "metadata": {
    "slideshow": {
     "slide_type": "subslide"
    }
   },
   "source": [
    "## Gráfico genérico com diversos tipo de points - aumentando o tamanho"
   ]
  },
  {
   "cell_type": "code",
   "execution_count": 110,
   "metadata": {
    "slideshow": {
     "slide_type": "fragment"
    }
   },
   "outputs": [
    {
     "data": {
      "image/png": "[encoded data removed]",
      "text/plain": [
       "plot without title"
      ]
     },
     "metadata": {
      "image/png": {
       "height": 600,
       "width": 600
      }
     },
     "output_type": "display_data"
    }
   ],
   "source": [
    "x1 <- 1:10\n",
    "y1 <- 1:10\n",
    "plot(x1, y1, type = \"n\")\n",
    "points(1:10, rep(8, 10), pch = 0:9, col = 1:10, cex = 3.5)\n",
    "points(1:10, rep(6, 10), pch = 10:19, col = 1:10, cex = 3.5)\n",
    "points(1:10, rep(4, 10), pch = c(\".\", \"a\", \"o\", \"v\", \"s\",\"c\", \"&\", \"$\", \"@\", \"%\"), col = 1:10, cex = 3.5)"
   ]
  },
  {
   "cell_type": "markdown",
   "metadata": {
    "slideshow": {
     "slide_type": "subslide"
    }
   },
   "source": [
    "# Gráfico de linhas\n",
    "Com a função `plot( )`, também é possível imprimir gráficos de linhas .  \n",
    "Um gráfico de linhas pode ser usado para suportar a análise de atributos individualmente.   \n",
    "\n",
    "Em geral, no eixo x de um gráfico de linhas, estão os índices dos exemplares do conjunto de dados ou os tempos em que foram coletados, caso o conjunto de dados venha de uma série temporal de valores.\n",
    "\n",
    "Para exemplificar um gráfico de linhas, o atributo **Sepal Width** será utilizado.\n",
    "\n",
    "Assim como no gráfico de dispersão, inicialmente, é necessário executar a função `plot( )` com `type = n`, e, então, imprimir com a função `lines( )` a série de valores que darão origem à linha no gráfico. \n",
    "\n",
    "Veja a sequência de comandos necessários a seguir, e o gráfico gerado."
   ]
  },
  {
   "cell_type": "code",
   "execution_count": 111,
   "metadata": {
    "slideshow": {
     "slide_type": "skip"
    }
   },
   "outputs": [
    {
     "data": {
      "text/html": [
       "<table>\n",
       "<caption>A data.frame: 6 × 5</caption>\n",
       "<thead>\n",
       "\t<tr><th></th><th scope=col>sepal.length</th><th scope=col>sepal.width</th><th scope=col>petal.length</th><th scope=col>petal.width</th><th scope=col>variety</th></tr>\n",
       "\t<tr><th></th><th scope=col>&lt;dbl&gt;</th><th scope=col>&lt;dbl&gt;</th><th scope=col>&lt;dbl&gt;</th><th scope=col>&lt;dbl&gt;</th><th scope=col>&lt;chr&gt;</th></tr>\n",
       "</thead>\n",
       "<tbody>\n",
       "\t<tr><th scope=row>1</th><td>5.1</td><td>3.5</td><td>1.4</td><td>0.2</td><td>Setosa</td></tr>\n",
       "\t<tr><th scope=row>2</th><td>4.9</td><td>3.0</td><td>1.4</td><td>0.2</td><td>Setosa</td></tr>\n",
       "\t<tr><th scope=row>3</th><td>4.7</td><td>3.2</td><td>1.3</td><td>0.2</td><td>Setosa</td></tr>\n",
       "\t<tr><th scope=row>4</th><td>4.6</td><td>3.1</td><td>1.5</td><td>0.2</td><td>Setosa</td></tr>\n",
       "\t<tr><th scope=row>5</th><td>5.0</td><td>3.6</td><td>1.4</td><td>0.2</td><td>Setosa</td></tr>\n",
       "\t<tr><th scope=row>6</th><td>5.4</td><td>3.9</td><td>1.7</td><td>0.4</td><td>Setosa</td></tr>\n",
       "</tbody>\n",
       "</table>\n"
      ],
      "text/latex": [
       "A data.frame: 6 × 5\n",
       "\\begin{tabular}{r|lllll}\n",
       "  & sepal.length & sepal.width & petal.length & petal.width & variety\\\\\n",
       "  & <dbl> & <dbl> & <dbl> & <dbl> & <chr>\\\\\n",
       "\\hline\n",
       "\t1 & 5.1 & 3.5 & 1.4 & 0.2 & Setosa\\\\\n",
       "\t2 & 4.9 & 3.0 & 1.4 & 0.2 & Setosa\\\\\n",
       "\t3 & 4.7 & 3.2 & 1.3 & 0.2 & Setosa\\\\\n",
       "\t4 & 4.6 & 3.1 & 1.5 & 0.2 & Setosa\\\\\n",
       "\t5 & 5.0 & 3.6 & 1.4 & 0.2 & Setosa\\\\\n",
       "\t6 & 5.4 & 3.9 & 1.7 & 0.4 & Setosa\\\\\n",
       "\\end{tabular}\n"
      ],
      "text/markdown": [
       "\n",
       "A data.frame: 6 × 5\n",
       "\n",
       "| <!--/--> | sepal.length &lt;dbl&gt; | sepal.width &lt;dbl&gt; | petal.length &lt;dbl&gt; | petal.width &lt;dbl&gt; | variety &lt;chr&gt; |\n",
       "|---|---|---|---|---|---|\n",
       "| 1 | 5.1 | 3.5 | 1.4 | 0.2 | Setosa |\n",
       "| 2 | 4.9 | 3.0 | 1.4 | 0.2 | Setosa |\n",
       "| 3 | 4.7 | 3.2 | 1.3 | 0.2 | Setosa |\n",
       "| 4 | 4.6 | 3.1 | 1.5 | 0.2 | Setosa |\n",
       "| 5 | 5.0 | 3.6 | 1.4 | 0.2 | Setosa |\n",
       "| 6 | 5.4 | 3.9 | 1.7 | 0.4 | Setosa |\n",
       "\n"
      ],
      "text/plain": [
       "  sepal.length sepal.width petal.length petal.width variety\n",
       "1 5.1          3.5         1.4          0.2         Setosa \n",
       "2 4.9          3.0         1.4          0.2         Setosa \n",
       "3 4.7          3.2         1.3          0.2         Setosa \n",
       "4 4.6          3.1         1.5          0.2         Setosa \n",
       "5 5.0          3.6         1.4          0.2         Setosa \n",
       "6 5.4          3.9         1.7          0.4         Setosa "
      ]
     },
     "metadata": {},
     "output_type": "display_data"
    }
   ],
   "source": [
    "head(iris)"
   ]
  },
  {
   "cell_type": "code",
   "execution_count": 112,
   "metadata": {
    "slideshow": {
     "slide_type": "subslide"
    }
   },
   "outputs": [
    {
     "data": {
      "image/png": "[encoded data removed]",
      "text/plain": [
       "plot without title"
      ]
     },
     "metadata": {
      "image/png": {
       "height": 600,
       "width": 600
      }
     },
     "output_type": "display_data"
    }
   ],
   "source": [
    "plot(x,type='n',xlab='indice',ylab='sepal.width')\n",
    "lines(iris['sepal.width'])"
   ]
  },
  {
   "cell_type": "markdown",
   "metadata": {
    "slideshow": {
     "slide_type": "subslide"
    }
   },
   "source": [
    "A plotagem do comportamento assumido por valores de atributos categóricos também é possível. \n",
    "\n",
    "O gráfico apresentado na Figura abaixo ilustra a impressão do atributo de rótulo (**variety**) do conjunto de dados Iris. No\n",
    "gráfico, os nomes das espécies foram transformados em números apenas para fins de diferenciação (não há, porém, nenhuma relação de ordem entre as espécies).   \n",
    "\n",
    "Com essa visualização, é possível perceber a distribuição uniforme das classes, como discutido anteriormente neste texto. Os comandos necessários para obter esse gráfico são apresnetadas a seguir:"
   ]
  },
  {
   "cell_type": "code",
   "execution_count": 117,
   "metadata": {
    "slideshow": {
     "slide_type": "subslide"
    }
   },
   "outputs": [
    {
     "data": {
      "image/png": "[encoded data removed]",
      "text/plain": [
       "plot without title"
      ]
     },
     "metadata": {
      "image/png": {
       "height": 600,
       "width": 600
      }
     },
     "output_type": "display_data"
    }
   ],
   "source": [
    "plot(x,type='n',xlab='indice',ylab='Variedades',ylim=c(0,4))\n",
    "lines(iris['variety'])"
   ]
  },
  {
   "cell_type": "markdown",
   "metadata": {
    "slideshow": {
     "slide_type": "subslide"
    }
   },
   "source": [
    "Na chamada da função` plot( `) desse exemplo, foi utilizado um novo parâmetro, o `ylim`.    \n",
    "Esse parâmetro permite definir os valores mínimos e máximos do eixo y.   \n",
    "Para a mesma parametrização do eixo x, o parâmetro xlim deve ser usado.   \n",
    "Ainda há outros tipos de linhas que podem ser usados nesses gráficos.   \n",
    "A configuração do tipo da linha deve ser realizada por meio do parâmetro `lty` (**line type**); veja alguns dos tipos disponíveis na Figura abaixo.  \n",
    "Adicionalmente ao tipo de linha, é possível parametrizar sua espessura por meio do parâmetro `lwd` (**line weight***).\n"
   ]
  },
  {
   "cell_type": "markdown",
   "metadata": {
    "slideshow": {
     "slide_type": "subslide"
    }
   },
   "source": [
    "# Grafico Genérico com diversos tipos de linhas"
   ]
  },
  {
   "cell_type": "code",
   "execution_count": 118,
   "metadata": {
    "slideshow": {
     "slide_type": "subslide"
    }
   },
   "outputs": [
    {
     "data": {
      "image/png": "[encoded data removed]",
      "text/plain": [
       "plot without title"
      ]
     },
     "metadata": {
      "image/png": {
       "height": 600,
       "width": 600
      }
     },
     "output_type": "display_data"
    }
   ],
   "source": [
    "x2 <- 1:9\n",
    "y2 <- 1:9\n",
    "plot(x2, y2, type = \"n\")\n",
    "lines(c(2, 8), c(8, 8), lwd = 6)\n",
    "lines(c(2, 8), c(7, 7), lty = 2, lwd = 6)\n",
    "lines(c(2, 8), c(6, 6), lty = 3, lwd = 6)\n",
    "lines(c(2, 8), c(5, 5), lty = 4, lwd = 6)\n",
    "lines(c(2, 8), c(4, 4), lty = 5, lwd = 6)\n",
    "lines(c(2, 8), c(3, 3), lty = 6, lwd = 6)"
   ]
  },
  {
   "cell_type": "markdown",
   "metadata": {
    "slideshow": {
     "slide_type": "subslide"
    }
   },
   "source": [
    "## Gráfico de barras \n",
    "Alternativamente ao uso do gráfico de linhas, a observação da quantidade de exemplares que possuem determinado valor para um atributo descritivo categórico pode ser feita usando um gráfico de barras .\n",
    "\n",
    "A utilidade de ambos, gráfico de linhas e gráfico de barras, é similar, mas, no caso do gráfico de barras, as quantidades são agregadas em uma contagem. \n",
    "\n",
    "Para criação desse gráfico em $R$, é preciso que os valores estejam organizados em uma matriz, sendo que, em uma das colunas, estão os índices, e, em outra, estão as quantidades agregadas. \n",
    "\n",
    "Em geral, os valores a serem observados por meio de um gráfico de barras devem passar por algum tipo de transformação, como uma agregação. \n",
    "\n",
    "Agregações podem ser feitas com uso de funções de soma, média, mediana, contagem etc. Por exemplo, considere a contagem de exemplares pertencentes a cada categoria do atributo de rótulo **variety**. \n"
   ]
  },
  {
   "cell_type": "markdown",
   "metadata": {
    "slideshow": {
     "slide_type": "subslide"
    }
   },
   "source": [
    "A etapa de transformação dos valores pode ser realizada com a aplicação da função` tapply( )`. \n",
    "\n",
    "Os principais parâmetros dessa função estão definidos na Tabela a seguir : Parâmetros da função TAPPLY\n",
    "\n",
    "\n",
    "|     Parâmetros     |     Descrição                                                                             |\n",
    "|--------------------|-------------------------------------------------------------------------------------------|\n",
    "|     `index`        |     Índices da série de valores.                                                          |\n",
    "|     `x`            |     Vetor com os valores.                                                                 |\n",
    "|     `function`     |     Agregação a ser aplicada nos valores do vetor, como `sum`, `mean`, `max` e   `min`    |\n",
    "\n",
    "\n"
   ]
  },
  {
   "cell_type": "markdown",
   "metadata": {
    "slideshow": {
     "slide_type": "subslide"
    }
   },
   "source": [
    "Para criar o gráfico, a seguinte sequência de comandos deve ser executada. \n",
    "O gráfico resultante está ilustrado na Figura a seguir"
   ]
  },
  {
   "cell_type": "code",
   "execution_count": 121,
   "metadata": {
    "slideshow": {
     "slide_type": "subslide"
    }
   },
   "outputs": [
    {
     "data": {
      "image/png": "[encoded data removed]",
      "text/plain": [
       "plot without title"
      ]
     },
     "metadata": {
      "image/png": {
       "height": 600,
       "width": 600
      }
     },
     "output_type": "display_data"
    }
   ],
   "source": [
    "quantidade <- tapply(rep(1,150),iris['variety'],sum)\n",
    "barplot(quantidade,xlab='Espécies',ylab='Frequência')\n"
   ]
  },
  {
   "cell_type": "markdown",
   "metadata": {
    "slideshow": {
     "slide_type": "subslide"
    }
   },
   "source": [
    "## Gráfico de setores \n",
    "O gráfico de setores , ou gráfico de pizza, como é popularmente chamado, tem o mesmo princípio do gráfico de barras, porém, a apresentação gráfica é diferente.   \n",
    "O gráfico de setores para a variável quantidade, criada para o exemplo anterior, pode ser impresso com o uso da função pie( ), por meio da execução do comando:\n"
   ]
  },
  {
   "cell_type": "code",
   "execution_count": 122,
   "metadata": {
    "slideshow": {
     "slide_type": "subslide"
    }
   },
   "outputs": [
    {
     "data": {
      "image/png": "[encoded data removed]",
      "text/plain": [
       "plot without title"
      ]
     },
     "metadata": {
      "image/png": {
       "height": 600,
       "width": 600
      }
     },
     "output_type": "display_data"
    }
   ],
   "source": [
    "pie(quantidade)"
   ]
  },
  {
   "cell_type": "markdown",
   "metadata": {
    "slideshow": {
     "slide_type": "subslide"
    }
   },
   "source": [
    "Note que ambos os tipos de gráfico, gráfico de barras e gráfico de setores, permitem que sejam adicionadas informações como nomes, cores, legenda etc., usando as mesmas opções já discutidas anteriormente para a função `plot( )`."
   ]
  },
  {
   "cell_type": "markdown",
   "metadata": {
    "slideshow": {
     "slide_type": "subslide"
    }
   },
   "source": [
    "## Gráfico de caixas\n",
    "\n",
    "O gráfico de caixas, ou **boxplot**, é um instrumento que permite identificar a variação dos valores de uma variável, apresentando como resultados a localização dos 50% valores centrais, mediana e valores extremos (mínimo e máximo). \n",
    "\n",
    "Esses resultados podem ser vistos em R pelo uso da função` summary( )` e por meio da plotagem de um gráfico via função `boxplot( )`. \n",
    "\n",
    "Veja, a seguir, um exemplo da execução da função `summary( )` sobre o conjunto de dados Iris.\n"
   ]
  },
  {
   "cell_type": "code",
   "execution_count": 123,
   "metadata": {
    "slideshow": {
     "slide_type": "subslide"
    }
   },
   "outputs": [
    {
     "data": {
      "text/plain": [
       "  sepal.length    sepal.width     petal.length    petal.width   \n",
       " Min.   :4.300   Min.   :2.000   Min.   :1.000   Min.   :0.100  \n",
       " 1st Qu.:5.100   1st Qu.:2.800   1st Qu.:1.600   1st Qu.:0.300  \n",
       " Median :5.800   Median :3.000   Median :4.350   Median :1.300  \n",
       " Mean   :5.843   Mean   :3.057   Mean   :3.758   Mean   :1.199  \n",
       " 3rd Qu.:6.400   3rd Qu.:3.300   3rd Qu.:5.100   3rd Qu.:1.800  \n",
       " Max.   :7.900   Max.   :4.400   Max.   :6.900   Max.   :2.500  \n",
       "   variety         \n",
       " Length:150        \n",
       " Class :character  \n",
       " Mode  :character  \n",
       "                   \n",
       "                   \n",
       "                   "
      ]
     },
     "metadata": {},
     "output_type": "display_data"
    }
   ],
   "source": [
    "summary(iris)"
   ]
  },
  {
   "cell_type": "markdown",
   "metadata": {
    "slideshow": {
     "slide_type": "subslide"
    }
   },
   "source": [
    "A plotagem desses dados via um gráfico de caixas gera, para cada variável (ou atributo do conjunto de dados), uma representação dividida em quatro partes:\n",
    "- a primeira parte (inferior), representada por uma linha pontilhada, diz respeito aos **primeiros 25% dos valores assumidos pela variávell e é limitada pelo valor mínimo e pelo valor do 1 o Quartil ou quartil inferior (Q1)**; \n",
    "- a quarta parte (superior), também representada por uma linha pontilhada, diz respeito aos **últimos 25% dos valores assumidos pela variável e é limitada pelo valor do 3 o Quartil ou quartil superior (Q3) e pelo valor máximo; no centro, representando os 50% valores centrais assumidos pela variável**, \n",
    "- há uma caixa, dividida por uma linha contínua que representa a mediana dos valores assumidos pela variável, também chamada de 2 o quartil (Q2). \n",
    "\n",
    "A caixa, portanto, representa 50% de todos os valores observados, concentrados na tendência central dos valores, eliminando os 25% menores valores e 25% maiores valores (75% – 25% = 50%). \n",
    "Valores muito díspares que podem aparecer em alguma variável são considerados **outliers** e representados no gráfico por círculos\n"
   ]
  },
  {
   "cell_type": "code",
   "execution_count": 124,
   "metadata": {
    "slideshow": {
     "slide_type": "subslide"
    }
   },
   "outputs": [
    {
     "data": {
      "image/png": "[encoded data removed]",
      "text/plain": [
       "plot without title"
      ]
     },
     "metadata": {
      "image/png": {
       "height": 600,
       "width": 600
      }
     },
     "output_type": "display_data"
    }
   ],
   "source": [
    " boxplot(iris[1:4])"
   ]
  },
  {
   "cell_type": "markdown",
   "metadata": {
    "slideshow": {
     "slide_type": "subslide"
    }
   },
   "source": [
    "## Histogramas \n",
    "Um histograma , também conhecido como distribuição de frequências, pode ser apresentado em uma forma gráfica composta por colunas (ou barras), na qual as colunas dizem respeito à divisão em faixas (geralmente uniforme) dos valores de uma variável de um conjunto de dados. \n",
    "A função em $R$ que gera um histograma é a `hist( )`, cujos principais parâmetros estão definidos na Tabela  abaixo.\n",
    "\n",
    "|     Parâmetros     |     Descrição                                                                          |\n",
    "|--------------------|----------------------------------------------------------------------------------------|\n",
    "|     X              |      Conjunto de valores a serem   organizados no histograma, geralmente um vetor.     |\n",
    "|     bin            |     Quantidade de faixas nas quais se deseja dividir os valores de x.                  |\n"
   ]
  },
  {
   "cell_type": "code",
   "execution_count": 129,
   "metadata": {
    "slideshow": {
     "slide_type": "subslide"
    }
   },
   "outputs": [
    {
     "data": {
      "image/png": "[encoded data removed]",
      "text/plain": [
       "Plot with title \"Histograma de Petal.Width separado em faixas\""
      ]
     },
     "metadata": {
      "image/png": {
       "height": 600,
       "width": 600
      }
     },
     "output_type": "display_data"
    }
   ],
   "source": [
    "hist(t(iris['petal.width']),main='Histograma de Petal.Width separado em faixas',xlab='petal.width',\n",
    "     5,ylab='Frequência')"
   ]
  },
  {
   "cell_type": "code",
   "execution_count": 127,
   "metadata": {
    "slideshow": {
     "slide_type": "subslide"
    }
   },
   "outputs": [
    {
     "data": {
      "image/png": "[encoded data removed]",
      "text/plain": [
       "Plot with title \"Histograma de Petal.Width separado em faixas\""
      ]
     },
     "metadata": {
      "image/png": {
       "height": 600,
       "width": 600
      }
     },
     "output_type": "display_data"
    }
   ],
   "source": [
    "hist(t(iris['petal.width']),main='Histograma de Petal.Width separado em 3 faixas',xlab='petal.Width',\n",
    "     3,ylab='Frequência')"
   ]
  },
  {
   "cell_type": "markdown",
   "metadata": {
    "slideshow": {
     "slide_type": "slide"
    }
   },
   "source": [
    "Referencia para consulta sobre ANÁLISE GRÁFICA COM USO DO R do Prof Adilson dos Anjos\n",
    "Departamento de Estatística - UFPR - 2006\n",
    "[link](https://docs.ufpr.br/~aanjos/CE231/web/apostila.html#x1-120001.2.1)"
   ]
  },
  {
   "cell_type": "code",
   "execution_count": null,
   "metadata": {},
   "outputs": [],
   "source": []
  }
 ],
 "metadata": {
  "celltoolbar": "Slideshow",
  "kernelspec": {
   "display_name": "R",
   "language": "R",
   "name": "ir"
  },
  "language_info": {
   "codemirror_mode": "r",
   "file_extension": ".r",
   "mimetype": "text/x-r-source",
   "name": "R",
   "pygments_lexer": "r",
   "version": "4.0.2"
  }
 },
 "nbformat": 4,
 "nbformat_minor": 4
}
