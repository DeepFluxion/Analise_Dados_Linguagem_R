{
 "cells": [
  {
   "cell_type": "markdown",
   "metadata": {
    "slideshow": {
     "slide_type": "slide"
    }
   },
   "source": [
    "# O OPERADOR PIPE\n",
    "\n",
    "O operador `%>%` (pipe) foi uma das grandes revoluções recentes do R, tornando a leitura de códigos mais lógica, fácil e compreensível. Ele foi introduzido por Stefan Milton Bache no pacote magrittr e já existem diversos pacotes construidos para facilitar a sua utilizaçăo.\n",
    "\n",
    "Para começar a utilizar o pipe, instale e carregue o pacote `magrittr`."
   ]
  },
  {
   "cell_type": "code",
   "execution_count": 69,
   "metadata": {
    "slideshow": {
     "slide_type": "slide"
    }
   },
   "outputs": [
    {
     "name": "stderr",
     "output_type": "stream",
     "text": [
      "Warning message:\n",
      "\"package 'magrittr' is in use and will not be installed\"\n"
     ]
    }
   ],
   "source": [
    "install.packages(\"magrittr\")\n",
    "library(magrittr)"
   ]
  },
  {
   "cell_type": "markdown",
   "metadata": {
    "slideshow": {
     "slide_type": "slide"
    }
   },
   "source": [
    "A ideia do operador `%>%` (pipe) é bem simples: usar o valor resultante da expressão do lado esquerdo como primeiro argumento da função do lado direito.\n",
    "\n",
    "Nos casos mais simples, o pipe parece não trazer grandes vantagens. Agora, veja como fica um caso mais etapas."
   ]
  },
  {
   "cell_type": "markdown",
   "metadata": {
    "slideshow": {
     "slide_type": "subslide"
    }
   },
   "source": [
    "#### Vamos calcular a raiz quadrada da soma dos valores de 1 a 4. Primeiro, sem o pipe.\n"
   ]
  },
  {
   "cell_type": "code",
   "execution_count": 70,
   "metadata": {
    "slideshow": {
     "slide_type": "fragment"
    }
   },
   "outputs": [
    {
     "data": {
      "text/html": [
       "3.16227766016838"
      ],
      "text/latex": [
       "3.16227766016838"
      ],
      "text/markdown": [
       "3.16227766016838"
      ],
      "text/plain": [
       "[1] 3.162278"
      ]
     },
     "metadata": {},
     "output_type": "display_data"
    }
   ],
   "source": [
    "x <- c(1, 2, 3, 4)\n",
    "sqrt(sum(x))"
   ]
  },
  {
   "cell_type": "markdown",
   "metadata": {
    "slideshow": {
     "slide_type": "fragment"
    }
   },
   "source": [
    "#### Agora com o pipe."
   ]
  },
  {
   "cell_type": "code",
   "execution_count": 71,
   "metadata": {
    "slideshow": {
     "slide_type": "fragment"
    }
   },
   "outputs": [
    {
     "data": {
      "text/html": [
       "3.16227766016838"
      ],
      "text/latex": [
       "3.16227766016838"
      ],
      "text/markdown": [
       "3.16227766016838"
      ],
      "text/plain": [
       "[1] 3.162278"
      ]
     },
     "metadata": {},
     "output_type": "display_data"
    }
   ],
   "source": [
    "x %>% sum() %>% sqrt()"
   ]
  },
  {
   "cell_type": "markdown",
   "metadata": {
    "slideshow": {
     "slide_type": "subslide"
    }
   },
   "source": [
    "O caminho que o código `x %>% sum %>% sqrt` seguiu foi \n",
    "- enviar o objeto x como argumento da função sum() e \n",
    "- em seguida, enviar a saida da expressão sum(x) como argumento da função sqrt(). \n",
    "\n",
    "Observe que escrevemos o código na mesma ordem das operações. \n",
    "A utilização de parênteses após o nome das funções não é necessário, mas recomendável."
   ]
  },
  {
   "cell_type": "markdown",
   "metadata": {
    "slideshow": {
     "slide_type": "slide"
    }
   },
   "source": [
    "## Exemplo com o dataset airquality\n",
    "\n",
    "Vamos fazer mais um exemplo do pipe, mas antes vamos ocnhcer o datset airquality"
   ]
  },
  {
   "cell_type": "code",
   "execution_count": 72,
   "metadata": {
    "slideshow": {
     "slide_type": "subslide"
    }
   },
   "outputs": [
    {
     "data": {
      "text/html": [
       "<table>\n",
       "<caption>A data.frame: 6 × 6</caption>\n",
       "<thead>\n",
       "\t<tr><th></th><th scope=col>Ozone</th><th scope=col>Solar.R</th><th scope=col>Wind</th><th scope=col>Temp</th><th scope=col>Month</th><th scope=col>Day</th></tr>\n",
       "\t<tr><th></th><th scope=col>&lt;int&gt;</th><th scope=col>&lt;int&gt;</th><th scope=col>&lt;dbl&gt;</th><th scope=col>&lt;int&gt;</th><th scope=col>&lt;int&gt;</th><th scope=col>&lt;int&gt;</th></tr>\n",
       "</thead>\n",
       "<tbody>\n",
       "\t<tr><th scope=row>1</th><td>41</td><td>190</td><td> 7.4</td><td>67</td><td>5</td><td>1</td></tr>\n",
       "\t<tr><th scope=row>2</th><td>36</td><td>118</td><td> 8.0</td><td>72</td><td>5</td><td>2</td></tr>\n",
       "\t<tr><th scope=row>3</th><td>12</td><td>149</td><td>12.6</td><td>74</td><td>5</td><td>3</td></tr>\n",
       "\t<tr><th scope=row>4</th><td>18</td><td>313</td><td>11.5</td><td>62</td><td>5</td><td>4</td></tr>\n",
       "\t<tr><th scope=row>5</th><td>NA</td><td> NA</td><td>14.3</td><td>56</td><td>5</td><td>5</td></tr>\n",
       "\t<tr><th scope=row>6</th><td>28</td><td> NA</td><td>14.9</td><td>66</td><td>5</td><td>6</td></tr>\n",
       "</tbody>\n",
       "</table>\n"
      ],
      "text/latex": [
       "A data.frame: 6 × 6\n",
       "\\begin{tabular}{r|llllll}\n",
       "  & Ozone & Solar.R & Wind & Temp & Month & Day\\\\\n",
       "  & <int> & <int> & <dbl> & <int> & <int> & <int>\\\\\n",
       "\\hline\n",
       "\t1 & 41 & 190 &  7.4 & 67 & 5 & 1\\\\\n",
       "\t2 & 36 & 118 &  8.0 & 72 & 5 & 2\\\\\n",
       "\t3 & 12 & 149 & 12.6 & 74 & 5 & 3\\\\\n",
       "\t4 & 18 & 313 & 11.5 & 62 & 5 & 4\\\\\n",
       "\t5 & NA &  NA & 14.3 & 56 & 5 & 5\\\\\n",
       "\t6 & 28 &  NA & 14.9 & 66 & 5 & 6\\\\\n",
       "\\end{tabular}\n"
      ],
      "text/markdown": [
       "\n",
       "A data.frame: 6 × 6\n",
       "\n",
       "| <!--/--> | Ozone &lt;int&gt; | Solar.R &lt;int&gt; | Wind &lt;dbl&gt; | Temp &lt;int&gt; | Month &lt;int&gt; | Day &lt;int&gt; |\n",
       "|---|---|---|---|---|---|---|\n",
       "| 1 | 41 | 190 |  7.4 | 67 | 5 | 1 |\n",
       "| 2 | 36 | 118 |  8.0 | 72 | 5 | 2 |\n",
       "| 3 | 12 | 149 | 12.6 | 74 | 5 | 3 |\n",
       "| 4 | 18 | 313 | 11.5 | 62 | 5 | 4 |\n",
       "| 5 | NA |  NA | 14.3 | 56 | 5 | 5 |\n",
       "| 6 | 28 |  NA | 14.9 | 66 | 5 | 6 |\n",
       "\n"
      ],
      "text/plain": [
       "  Ozone Solar.R Wind Temp Month Day\n",
       "1 41    190      7.4 67   5     1  \n",
       "2 36    118      8.0 72   5     2  \n",
       "3 12    149     12.6 74   5     3  \n",
       "4 18    313     11.5 62   5     4  \n",
       "5 NA     NA     14.3 56   5     5  \n",
       "6 28     NA     14.9 66   5     6  "
      ]
     },
     "metadata": {},
     "output_type": "display_data"
    }
   ],
   "source": [
    "head(airquality)"
   ]
  },
  {
   "cell_type": "markdown",
   "metadata": {
    "slideshow": {
     "slide_type": "subslide"
    }
   },
   "source": [
    "Às vezes, queremos que o resultado do lado esquerdo vá para outro argumento do lado direito que não o primeiro. Para isso, utilizamos um . como marcador.\n",
    "\n",
    "#### Queremos que o dataset seja recebido pelo segundo argumento (data=) da função \"lm\"."
   ]
  },
  {
   "cell_type": "code",
   "execution_count": 73,
   "metadata": {
    "slideshow": {
     "slide_type": "fragment"
    }
   },
   "outputs": [
    {
     "data": {
      "text/plain": [
       "\n",
       "Call:\n",
       "lm(formula = Ozone ~ Wind + Temp + Solar.R, data = .)\n",
       "\n",
       "Residuals:\n",
       "    Min      1Q  Median      3Q     Max \n",
       "-40.485 -14.219  -3.551  10.097  95.619 \n",
       "\n",
       "Coefficients:\n",
       "             Estimate Std. Error t value Pr(>|t|)    \n",
       "(Intercept) -64.34208   23.05472  -2.791  0.00623 ** \n",
       "Wind         -3.33359    0.65441  -5.094 1.52e-06 ***\n",
       "Temp          1.65209    0.25353   6.516 2.42e-09 ***\n",
       "Solar.R       0.05982    0.02319   2.580  0.01124 *  \n",
       "---\n",
       "Signif. codes:  0 '***' 0.001 '**' 0.01 '*' 0.05 '.' 0.1 ' ' 1\n",
       "\n",
       "Residual standard error: 21.18 on 107 degrees of freedom\n",
       "Multiple R-squared:  0.6059,\tAdjusted R-squared:  0.5948 \n",
       "F-statistic: 54.83 on 3 and 107 DF,  p-value: < 2.2e-16\n"
      ]
     },
     "metadata": {},
     "output_type": "display_data"
    }
   ],
   "source": [
    "airquality %>%\n",
    "  na.omit %>% \n",
    "  lm(Ozone ~ Wind + Temp + Solar.R, data = .) %>% \n",
    "  summary"
   ]
  },
  {
   "cell_type": "markdown",
   "metadata": {
    "slideshow": {
     "slide_type": "slide"
    }
   },
   "source": [
    "# MANIPULAÇÃO  DE DADOS"
   ]
  },
  {
   "cell_type": "markdown",
   "metadata": {
    "slideshow": {
     "slide_type": "slide"
    }
   },
   "source": [
    "## INTRODUÇÃO\n",
    "\n",
    "Esta AULA trataremos do tema manipulação de dados. \n",
    "\n",
    "Trata-se de uma tarefa dolorosa e demorada, tomando muitas vezes a maior parte do tempo de uma análise estatística. \n",
    "\n",
    "Essa etapa é essencial em qualquer análise de dados e, apesar de negligenciada pela academia, é decisiva para o sucesso de estudos aplicados."
   ]
  },
  {
   "cell_type": "markdown",
   "metadata": {
    "slideshow": {
     "slide_type": "slide"
    }
   },
   "source": [
    "Usualmente, o cientista de dados parte de uma base “crua” e a transforma até obter uma base de dados analítica, que, a menos de transformações simples, está preparada para passar por análises estatísticas."
   ]
  },
  {
   "cell_type": "markdown",
   "metadata": {
    "slideshow": {
     "slide_type": "slide"
    }
   },
   "source": [
    "A figura abaixo mostra a fase de “disputa” com os dados (data wrangling) para deixá-los no formato analítico.\n",
    "\n",
    "<img src=https://www.curso-r.com/material/manipulacao/figures/ciclo-ciencia-de-dados.png alt=\"Drawing\" style=\"width: 600px;\"/>"
   ]
  },
  {
   "cell_type": "markdown",
   "metadata": {
    "slideshow": {
     "slide_type": "slide"
    }
   },
   "source": [
    "Um conceito importante para obtenção de uma base analítica é o data tidying, ou arrumação de dados. Uma base é considerada tidy se\n",
    "\n",
    " 1. Cada linha da base representa uma observação.\n",
    " 2. Cada coluna da base representa uma variável.\n",
    "\n",
    "A base de dados analítica é estruturada de tal forma que pode ser colocada diretamente em ambientes de modelagem estatística ou de visualização. Nem sempre uma base de dados analítica está no formato tidy, mas usualmente são necessários poucos passos para migrar de uma para outra. A filosofia tidy é a base do tidyverse."
   ]
  },
  {
   "cell_type": "markdown",
   "metadata": {
    "slideshow": {
     "slide_type": "slide"
    }
   },
   "source": [
    "Os principais pacotes encarregados da tarefa de estruturar os dados são o dplyr e o tidyr. Eles serão o tema desse tópico. Instale e carregue os pacotes utilizando:"
   ]
  },
  {
   "cell_type": "code",
   "execution_count": 1,
   "metadata": {
    "slideshow": {
     "slide_type": "slide"
    }
   },
   "outputs": [
    {
     "name": "stderr",
     "output_type": "stream",
     "text": [
      "Installing package into 'C:/Users/domin/OneDrive/Documentos/R/win-library/4.0'\n",
      "(as 'lib' is unspecified)\n",
      "\n"
     ]
    },
    {
     "name": "stdout",
     "output_type": "stream",
     "text": [
      "package 'dplyr' successfully unpacked and MD5 sums checked\n",
      "\n",
      "The downloaded binary packages are in\n",
      "\tC:\\Users\\domin\\AppData\\Local\\Temp\\RtmpYpNT33\\downloaded_packages\n"
     ]
    },
    {
     "name": "stderr",
     "output_type": "stream",
     "text": [
      "Installing package into 'C:/Users/domin/OneDrive/Documentos/R/win-library/4.0'\n",
      "(as 'lib' is unspecified)\n",
      "\n"
     ]
    },
    {
     "name": "stdout",
     "output_type": "stream",
     "text": [
      "package 'tidyr' successfully unpacked and MD5 sums checked\n",
      "\n",
      "The downloaded binary packages are in\n",
      "\tC:\\Users\\domin\\AppData\\Local\\Temp\\RtmpYpNT33\\downloaded_packages\n"
     ]
    }
   ],
   "source": [
    "install.packages(\"dplyr\")\n",
    "install.packages(\"tidyr\")"
   ]
  },
  {
   "cell_type": "code",
   "execution_count": 2,
   "metadata": {
    "slideshow": {
     "slide_type": "slide"
    }
   },
   "outputs": [
    {
     "name": "stderr",
     "output_type": "stream",
     "text": [
      "Warning message:\n",
      "\"package 'dplyr' was built under R version 4.0.3\"\n",
      "\n",
      "Attaching package: 'dplyr'\n",
      "\n",
      "\n",
      "The following objects are masked from 'package:stats':\n",
      "\n",
      "    filter, lag\n",
      "\n",
      "\n",
      "The following objects are masked from 'package:base':\n",
      "\n",
      "    intersect, setdiff, setequal, union\n",
      "\n",
      "\n",
      "Warning message:\n",
      "\"package 'tidyr' was built under R version 4.0.3\"\n"
     ]
    }
   ],
   "source": [
    "library(dplyr)\n",
    "library(tidyr)"
   ]
  },
  {
   "cell_type": "markdown",
   "metadata": {
    "slideshow": {
     "slide_type": "slide"
    }
   },
   "source": [
    "## TRABALHANDO COM TIBBLES\n",
    "\n",
    "Uma tibble nada mais é do que um data.frame, mas com um método de impressão mais adequado.\n",
    "\n",
    "As tibbles são parte do pacote tibble. Assim, para começar a usá-las, instale e carregue o pacote."
   ]
  },
  {
   "cell_type": "code",
   "execution_count": 78,
   "metadata": {
    "slideshow": {
     "slide_type": "slide"
    }
   },
   "outputs": [
    {
     "name": "stderr",
     "output_type": "stream",
     "text": [
      "Warning message:\n",
      "\"package 'tibble' is in use and will not be installed\"\n"
     ]
    }
   ],
   "source": [
    "install.packages(\"tibble\")\n",
    "library(tibble)"
   ]
  },
  {
   "cell_type": "markdown",
   "metadata": {
    "slideshow": {
     "slide_type": "slide"
    }
   },
   "source": [
    "vamos trabalhar com uma base de filmes do IMDB. Essa base pode ser baixada [clicando aqui](https://github.com/curso-r/site-v2/raw/master/content/material/importacao/data/imdb.rds)."
   ]
  },
  {
   "cell_type": "code",
   "execution_count": 79,
   "metadata": {
    "slideshow": {
     "slide_type": "slide"
    }
   },
   "outputs": [
    {
     "name": "stderr",
     "output_type": "stream",
     "text": [
      "Warning message:\n",
      "\"package 'readr' is in use and will not be installed\"\n"
     ]
    }
   ],
   "source": [
    "install.packages(\"readr\")"
   ]
  },
  {
   "cell_type": "code",
   "execution_count": 80,
   "metadata": {
    "slideshow": {
     "slide_type": "slide"
    }
   },
   "outputs": [],
   "source": [
    "library(readr)"
   ]
  },
  {
   "cell_type": "code",
   "execution_count": 3,
   "metadata": {
    "slideshow": {
     "slide_type": "slide"
    }
   },
   "outputs": [],
   "source": [
    "imdb <- readr::read_rds(\"imdb.rds\")"
   ]
  },
  {
   "cell_type": "markdown",
   "metadata": {
    "slideshow": {
     "slide_type": "slide"
    }
   },
   "source": [
    "Assim, utilizaremos o objeto imdb para acessar os dados."
   ]
  },
  {
   "cell_type": "code",
   "execution_count": 4,
   "metadata": {
    "scrolled": false,
    "slideshow": {
     "slide_type": "slide"
    }
   },
   "outputs": [
    {
     "data": {
      "text/html": [
       "<table>\n",
       "<caption>A tibble: 6 × 15</caption>\n",
       "<thead>\n",
       "\t<tr><th scope=col>titulo</th><th scope=col>ano</th><th scope=col>diretor</th><th scope=col>duracao</th><th scope=col>cor</th><th scope=col>generos</th><th scope=col>pais</th><th scope=col>classificacao</th><th scope=col>orcamento</th><th scope=col>receita</th><th scope=col>nota_imdb</th><th scope=col>likes_facebook</th><th scope=col>ator_1</th><th scope=col>ator_2</th><th scope=col>ator_3</th></tr>\n",
       "\t<tr><th scope=col>&lt;chr&gt;</th><th scope=col>&lt;int&gt;</th><th scope=col>&lt;chr&gt;</th><th scope=col>&lt;int&gt;</th><th scope=col>&lt;chr&gt;</th><th scope=col>&lt;chr&gt;</th><th scope=col>&lt;chr&gt;</th><th scope=col>&lt;chr&gt;</th><th scope=col>&lt;int&gt;</th><th scope=col>&lt;int&gt;</th><th scope=col>&lt;dbl&gt;</th><th scope=col>&lt;int&gt;</th><th scope=col>&lt;chr&gt;</th><th scope=col>&lt;chr&gt;</th><th scope=col>&lt;chr&gt;</th></tr>\n",
       "</thead>\n",
       "<tbody>\n",
       "\t<tr><td>Avatar                                   </td><td>2009</td><td>James Cameron    </td><td>178</td><td>Color</td><td>Action|Adventure|Fantasy|Sci-Fi                          </td><td>USA</td><td>A partir de 13 anos</td><td>237000000</td><td>760505847</td><td>7.9</td><td> 33000</td><td>CCH Pounder </td><td>Joel David Moore</td><td>Wes Studi           </td></tr>\n",
       "\t<tr><td>Pirates of the Caribbean: At World's End </td><td>2007</td><td>Gore Verbinski   </td><td>169</td><td>Color</td><td>Action|Adventure|Fantasy                                 </td><td>USA</td><td>A partir de 13 anos</td><td>300000000</td><td>309404152</td><td>7.1</td><td>     0</td><td>Johnny Depp </td><td>Orlando Bloom   </td><td>Jack Davenport      </td></tr>\n",
       "\t<tr><td>The Dark Knight Rises                    </td><td>2012</td><td>Christopher Nolan</td><td>164</td><td>Color</td><td>Action|Thriller                                          </td><td>USA</td><td>A partir de 13 anos</td><td>250000000</td><td>448130642</td><td>8.5</td><td>164000</td><td>Tom Hardy   </td><td>Christian Bale  </td><td>Joseph Gordon-Levitt</td></tr>\n",
       "\t<tr><td>John Carter                              </td><td>2012</td><td>Andrew Stanton   </td><td>132</td><td>Color</td><td>Action|Adventure|Sci-Fi                                  </td><td>USA</td><td>A partir de 13 anos</td><td>263700000</td><td> 73058679</td><td>6.6</td><td> 24000</td><td>Daryl Sabara</td><td>Samantha Morton </td><td>Polly Walker        </td></tr>\n",
       "\t<tr><td>Spider-Man 3                             </td><td>2007</td><td>Sam Raimi        </td><td>156</td><td>Color</td><td>Action|Adventure|Romance                                 </td><td>USA</td><td>A partir de 13 anos</td><td>258000000</td><td>336530303</td><td>6.2</td><td>     0</td><td>J.K. Simmons</td><td>James Franco    </td><td>Kirsten Dunst       </td></tr>\n",
       "\t<tr><td>Tangled                                  </td><td>2010</td><td>Nathan Greno     </td><td>100</td><td>Color</td><td>Adventure|Animation|Comedy|Family|Fantasy|Musical|Romance</td><td>USA</td><td>Livre              </td><td>260000000</td><td>200807262</td><td>7.8</td><td> 29000</td><td>Brad Garrett</td><td>Donna Murphy    </td><td>M.C. Gainey         </td></tr>\n",
       "</tbody>\n",
       "</table>\n"
      ],
      "text/latex": [
       "A tibble: 6 × 15\n",
       "\\begin{tabular}{lllllllllllllll}\n",
       " titulo & ano & diretor & duracao & cor & generos & pais & classificacao & orcamento & receita & nota\\_imdb & likes\\_facebook & ator\\_1 & ator\\_2 & ator\\_3\\\\\n",
       " <chr> & <int> & <chr> & <int> & <chr> & <chr> & <chr> & <chr> & <int> & <int> & <dbl> & <int> & <chr> & <chr> & <chr>\\\\\n",
       "\\hline\n",
       "\t Avatar                                    & 2009 & James Cameron     & 178 & Color & Action\\textbar{}Adventure\\textbar{}Fantasy\\textbar{}Sci-Fi                           & USA & A partir de 13 anos & 237000000 & 760505847 & 7.9 &  33000 & CCH Pounder  & Joel David Moore & Wes Studi           \\\\\n",
       "\t Pirates of the Caribbean: At World's End  & 2007 & Gore Verbinski    & 169 & Color & Action\\textbar{}Adventure\\textbar{}Fantasy                                  & USA & A partir de 13 anos & 300000000 & 309404152 & 7.1 &      0 & Johnny Depp  & Orlando Bloom    & Jack Davenport      \\\\\n",
       "\t The Dark Knight Rises                     & 2012 & Christopher Nolan & 164 & Color & Action\\textbar{}Thriller                                           & USA & A partir de 13 anos & 250000000 & 448130642 & 8.5 & 164000 & Tom Hardy    & Christian Bale   & Joseph Gordon-Levitt\\\\\n",
       "\t John Carter                               & 2012 & Andrew Stanton    & 132 & Color & Action\\textbar{}Adventure\\textbar{}Sci-Fi                                   & USA & A partir de 13 anos & 263700000 &  73058679 & 6.6 &  24000 & Daryl Sabara & Samantha Morton  & Polly Walker        \\\\\n",
       "\t Spider-Man 3                              & 2007 & Sam Raimi         & 156 & Color & Action\\textbar{}Adventure\\textbar{}Romance                                  & USA & A partir de 13 anos & 258000000 & 336530303 & 6.2 &      0 & J.K. Simmons & James Franco     & Kirsten Dunst       \\\\\n",
       "\t Tangled                                   & 2010 & Nathan Greno      & 100 & Color & Adventure\\textbar{}Animation\\textbar{}Comedy\\textbar{}Family\\textbar{}Fantasy\\textbar{}Musical\\textbar{}Romance & USA & Livre               & 260000000 & 200807262 & 7.8 &  29000 & Brad Garrett & Donna Murphy     & M.C. Gainey         \\\\\n",
       "\\end{tabular}\n"
      ],
      "text/markdown": [
       "\n",
       "A tibble: 6 × 15\n",
       "\n",
       "| titulo &lt;chr&gt; | ano &lt;int&gt; | diretor &lt;chr&gt; | duracao &lt;int&gt; | cor &lt;chr&gt; | generos &lt;chr&gt; | pais &lt;chr&gt; | classificacao &lt;chr&gt; | orcamento &lt;int&gt; | receita &lt;int&gt; | nota_imdb &lt;dbl&gt; | likes_facebook &lt;int&gt; | ator_1 &lt;chr&gt; | ator_2 &lt;chr&gt; | ator_3 &lt;chr&gt; |\n",
       "|---|---|---|---|---|---|---|---|---|---|---|---|---|---|---|\n",
       "| Avatar                                    | 2009 | James Cameron     | 178 | Color | Action|Adventure|Fantasy|Sci-Fi                           | USA | A partir de 13 anos | 237000000 | 760505847 | 7.9 |  33000 | CCH Pounder  | Joel David Moore | Wes Studi            |\n",
       "| Pirates of the Caribbean: At World's End  | 2007 | Gore Verbinski    | 169 | Color | Action|Adventure|Fantasy                                  | USA | A partir de 13 anos | 300000000 | 309404152 | 7.1 |      0 | Johnny Depp  | Orlando Bloom    | Jack Davenport       |\n",
       "| The Dark Knight Rises                     | 2012 | Christopher Nolan | 164 | Color | Action|Thriller                                           | USA | A partir de 13 anos | 250000000 | 448130642 | 8.5 | 164000 | Tom Hardy    | Christian Bale   | Joseph Gordon-Levitt |\n",
       "| John Carter                               | 2012 | Andrew Stanton    | 132 | Color | Action|Adventure|Sci-Fi                                   | USA | A partir de 13 anos | 263700000 |  73058679 | 6.6 |  24000 | Daryl Sabara | Samantha Morton  | Polly Walker         |\n",
       "| Spider-Man 3                              | 2007 | Sam Raimi         | 156 | Color | Action|Adventure|Romance                                  | USA | A partir de 13 anos | 258000000 | 336530303 | 6.2 |      0 | J.K. Simmons | James Franco     | Kirsten Dunst        |\n",
       "| Tangled                                   | 2010 | Nathan Greno      | 100 | Color | Adventure|Animation|Comedy|Family|Fantasy|Musical|Romance | USA | Livre               | 260000000 | 200807262 | 7.8 |  29000 | Brad Garrett | Donna Murphy     | M.C. Gainey          |\n",
       "\n"
      ],
      "text/plain": [
       "  titulo                                    ano  diretor           duracao\n",
       "1 Avatar                                    2009 James Cameron     178    \n",
       "2 Pirates of the Caribbean: At World's End  2007 Gore Verbinski    169    \n",
       "3 The Dark Knight Rises                     2012 Christopher Nolan 164    \n",
       "4 John Carter                               2012 Andrew Stanton    132    \n",
       "5 Spider-Man 3                              2007 Sam Raimi         156    \n",
       "6 Tangled                                   2010 Nathan Greno      100    \n",
       "  cor   generos                                                   pais\n",
       "1 Color Action|Adventure|Fantasy|Sci-Fi                           USA \n",
       "2 Color Action|Adventure|Fantasy                                  USA \n",
       "3 Color Action|Thriller                                           USA \n",
       "4 Color Action|Adventure|Sci-Fi                                   USA \n",
       "5 Color Action|Adventure|Romance                                  USA \n",
       "6 Color Adventure|Animation|Comedy|Family|Fantasy|Musical|Romance USA \n",
       "  classificacao       orcamento receita   nota_imdb likes_facebook ator_1      \n",
       "1 A partir de 13 anos 237000000 760505847 7.9        33000         CCH Pounder \n",
       "2 A partir de 13 anos 300000000 309404152 7.1            0         Johnny Depp \n",
       "3 A partir de 13 anos 250000000 448130642 8.5       164000         Tom Hardy   \n",
       "4 A partir de 13 anos 263700000  73058679 6.6        24000         Daryl Sabara\n",
       "5 A partir de 13 anos 258000000 336530303 6.2            0         J.K. Simmons\n",
       "6 Livre               260000000 200807262 7.8        29000         Brad Garrett\n",
       "  ator_2           ator_3              \n",
       "1 Joel David Moore Wes Studi           \n",
       "2 Orlando Bloom    Jack Davenport      \n",
       "3 Christian Bale   Joseph Gordon-Levitt\n",
       "4 Samantha Morton  Polly Walker        \n",
       "5 James Franco     Kirsten Dunst       \n",
       "6 Donna Murphy     M.C. Gainey         "
      ]
     },
     "metadata": {},
     "output_type": "display_data"
    }
   ],
   "source": [
    "head(imdb)"
   ]
  },
  {
   "cell_type": "markdown",
   "metadata": {
    "slideshow": {
     "slide_type": "slide"
    }
   },
   "source": [
    "Veja que, no RStudio, apenas as dez primeiras linhas da tibble são impressas na tela. Além disso, as colunas que não couberem na largura do console serão omitidas. Também são apresentadas a dimensão da tabela e as classes de cada coluna.\n",
    "\n",
    "Como estou usando o Jpyter Notebook a formatação pode ser um pouco diferente"
   ]
  },
  {
   "cell_type": "code",
   "execution_count": 5,
   "metadata": {
    "slideshow": {
     "slide_type": "slide"
    }
   },
   "outputs": [
    {
     "data": {
      "text/html": [
       "<table>\n",
       "<caption>A tibble: 6 × 15</caption>\n",
       "<thead>\n",
       "\t<tr><th scope=col>titulo</th><th scope=col>ano</th><th scope=col>diretor</th><th scope=col>duracao</th><th scope=col>cor</th><th scope=col>generos</th><th scope=col>pais</th><th scope=col>classificacao</th><th scope=col>orcamento</th><th scope=col>receita</th><th scope=col>nota_imdb</th><th scope=col>likes_facebook</th><th scope=col>ator_1</th><th scope=col>ator_2</th><th scope=col>ator_3</th></tr>\n",
       "\t<tr><th scope=col>&lt;chr&gt;</th><th scope=col>&lt;int&gt;</th><th scope=col>&lt;chr&gt;</th><th scope=col>&lt;int&gt;</th><th scope=col>&lt;chr&gt;</th><th scope=col>&lt;chr&gt;</th><th scope=col>&lt;chr&gt;</th><th scope=col>&lt;chr&gt;</th><th scope=col>&lt;int&gt;</th><th scope=col>&lt;int&gt;</th><th scope=col>&lt;dbl&gt;</th><th scope=col>&lt;int&gt;</th><th scope=col>&lt;chr&gt;</th><th scope=col>&lt;chr&gt;</th><th scope=col>&lt;chr&gt;</th></tr>\n",
       "</thead>\n",
       "<tbody>\n",
       "\t<tr><td>Avatar                                   </td><td>2009</td><td>James Cameron    </td><td>178</td><td>Color</td><td>Action|Adventure|Fantasy|Sci-Fi                          </td><td>USA</td><td>A partir de 13 anos</td><td>237000000</td><td>760505847</td><td>7.9</td><td> 33000</td><td>CCH Pounder </td><td>Joel David Moore</td><td>Wes Studi           </td></tr>\n",
       "\t<tr><td>Pirates of the Caribbean: At World's End </td><td>2007</td><td>Gore Verbinski   </td><td>169</td><td>Color</td><td>Action|Adventure|Fantasy                                 </td><td>USA</td><td>A partir de 13 anos</td><td>300000000</td><td>309404152</td><td>7.1</td><td>     0</td><td>Johnny Depp </td><td>Orlando Bloom   </td><td>Jack Davenport      </td></tr>\n",
       "\t<tr><td>The Dark Knight Rises                    </td><td>2012</td><td>Christopher Nolan</td><td>164</td><td>Color</td><td>Action|Thriller                                          </td><td>USA</td><td>A partir de 13 anos</td><td>250000000</td><td>448130642</td><td>8.5</td><td>164000</td><td>Tom Hardy   </td><td>Christian Bale  </td><td>Joseph Gordon-Levitt</td></tr>\n",
       "\t<tr><td>John Carter                              </td><td>2012</td><td>Andrew Stanton   </td><td>132</td><td>Color</td><td>Action|Adventure|Sci-Fi                                  </td><td>USA</td><td>A partir de 13 anos</td><td>263700000</td><td> 73058679</td><td>6.6</td><td> 24000</td><td>Daryl Sabara</td><td>Samantha Morton </td><td>Polly Walker        </td></tr>\n",
       "\t<tr><td>Spider-Man 3                             </td><td>2007</td><td>Sam Raimi        </td><td>156</td><td>Color</td><td>Action|Adventure|Romance                                 </td><td>USA</td><td>A partir de 13 anos</td><td>258000000</td><td>336530303</td><td>6.2</td><td>     0</td><td>J.K. Simmons</td><td>James Franco    </td><td>Kirsten Dunst       </td></tr>\n",
       "\t<tr><td>Tangled                                  </td><td>2010</td><td>Nathan Greno     </td><td>100</td><td>Color</td><td>Adventure|Animation|Comedy|Family|Fantasy|Musical|Romance</td><td>USA</td><td>Livre              </td><td>260000000</td><td>200807262</td><td>7.8</td><td> 29000</td><td>Brad Garrett</td><td>Donna Murphy    </td><td>M.C. Gainey         </td></tr>\n",
       "</tbody>\n",
       "</table>\n"
      ],
      "text/latex": [
       "A tibble: 6 × 15\n",
       "\\begin{tabular}{lllllllllllllll}\n",
       " titulo & ano & diretor & duracao & cor & generos & pais & classificacao & orcamento & receita & nota\\_imdb & likes\\_facebook & ator\\_1 & ator\\_2 & ator\\_3\\\\\n",
       " <chr> & <int> & <chr> & <int> & <chr> & <chr> & <chr> & <chr> & <int> & <int> & <dbl> & <int> & <chr> & <chr> & <chr>\\\\\n",
       "\\hline\n",
       "\t Avatar                                    & 2009 & James Cameron     & 178 & Color & Action\\textbar{}Adventure\\textbar{}Fantasy\\textbar{}Sci-Fi                           & USA & A partir de 13 anos & 237000000 & 760505847 & 7.9 &  33000 & CCH Pounder  & Joel David Moore & Wes Studi           \\\\\n",
       "\t Pirates of the Caribbean: At World's End  & 2007 & Gore Verbinski    & 169 & Color & Action\\textbar{}Adventure\\textbar{}Fantasy                                  & USA & A partir de 13 anos & 300000000 & 309404152 & 7.1 &      0 & Johnny Depp  & Orlando Bloom    & Jack Davenport      \\\\\n",
       "\t The Dark Knight Rises                     & 2012 & Christopher Nolan & 164 & Color & Action\\textbar{}Thriller                                           & USA & A partir de 13 anos & 250000000 & 448130642 & 8.5 & 164000 & Tom Hardy    & Christian Bale   & Joseph Gordon-Levitt\\\\\n",
       "\t John Carter                               & 2012 & Andrew Stanton    & 132 & Color & Action\\textbar{}Adventure\\textbar{}Sci-Fi                                   & USA & A partir de 13 anos & 263700000 &  73058679 & 6.6 &  24000 & Daryl Sabara & Samantha Morton  & Polly Walker        \\\\\n",
       "\t Spider-Man 3                              & 2007 & Sam Raimi         & 156 & Color & Action\\textbar{}Adventure\\textbar{}Romance                                  & USA & A partir de 13 anos & 258000000 & 336530303 & 6.2 &      0 & J.K. Simmons & James Franco     & Kirsten Dunst       \\\\\n",
       "\t Tangled                                   & 2010 & Nathan Greno      & 100 & Color & Adventure\\textbar{}Animation\\textbar{}Comedy\\textbar{}Family\\textbar{}Fantasy\\textbar{}Musical\\textbar{}Romance & USA & Livre               & 260000000 & 200807262 & 7.8 &  29000 & Brad Garrett & Donna Murphy     & M.C. Gainey         \\\\\n",
       "\\end{tabular}\n"
      ],
      "text/markdown": [
       "\n",
       "A tibble: 6 × 15\n",
       "\n",
       "| titulo &lt;chr&gt; | ano &lt;int&gt; | diretor &lt;chr&gt; | duracao &lt;int&gt; | cor &lt;chr&gt; | generos &lt;chr&gt; | pais &lt;chr&gt; | classificacao &lt;chr&gt; | orcamento &lt;int&gt; | receita &lt;int&gt; | nota_imdb &lt;dbl&gt; | likes_facebook &lt;int&gt; | ator_1 &lt;chr&gt; | ator_2 &lt;chr&gt; | ator_3 &lt;chr&gt; |\n",
       "|---|---|---|---|---|---|---|---|---|---|---|---|---|---|---|\n",
       "| Avatar                                    | 2009 | James Cameron     | 178 | Color | Action|Adventure|Fantasy|Sci-Fi                           | USA | A partir de 13 anos | 237000000 | 760505847 | 7.9 |  33000 | CCH Pounder  | Joel David Moore | Wes Studi            |\n",
       "| Pirates of the Caribbean: At World's End  | 2007 | Gore Verbinski    | 169 | Color | Action|Adventure|Fantasy                                  | USA | A partir de 13 anos | 300000000 | 309404152 | 7.1 |      0 | Johnny Depp  | Orlando Bloom    | Jack Davenport       |\n",
       "| The Dark Knight Rises                     | 2012 | Christopher Nolan | 164 | Color | Action|Thriller                                           | USA | A partir de 13 anos | 250000000 | 448130642 | 8.5 | 164000 | Tom Hardy    | Christian Bale   | Joseph Gordon-Levitt |\n",
       "| John Carter                               | 2012 | Andrew Stanton    | 132 | Color | Action|Adventure|Sci-Fi                                   | USA | A partir de 13 anos | 263700000 |  73058679 | 6.6 |  24000 | Daryl Sabara | Samantha Morton  | Polly Walker         |\n",
       "| Spider-Man 3                              | 2007 | Sam Raimi         | 156 | Color | Action|Adventure|Romance                                  | USA | A partir de 13 anos | 258000000 | 336530303 | 6.2 |      0 | J.K. Simmons | James Franco     | Kirsten Dunst        |\n",
       "| Tangled                                   | 2010 | Nathan Greno      | 100 | Color | Adventure|Animation|Comedy|Family|Fantasy|Musical|Romance | USA | Livre               | 260000000 | 200807262 | 7.8 |  29000 | Brad Garrett | Donna Murphy     | M.C. Gainey          |\n",
       "\n"
      ],
      "text/plain": [
       "  titulo                                    ano  diretor           duracao\n",
       "1 Avatar                                    2009 James Cameron     178    \n",
       "2 Pirates of the Caribbean: At World's End  2007 Gore Verbinski    169    \n",
       "3 The Dark Knight Rises                     2012 Christopher Nolan 164    \n",
       "4 John Carter                               2012 Andrew Stanton    132    \n",
       "5 Spider-Man 3                              2007 Sam Raimi         156    \n",
       "6 Tangled                                   2010 Nathan Greno      100    \n",
       "  cor   generos                                                   pais\n",
       "1 Color Action|Adventure|Fantasy|Sci-Fi                           USA \n",
       "2 Color Action|Adventure|Fantasy                                  USA \n",
       "3 Color Action|Thriller                                           USA \n",
       "4 Color Action|Adventure|Sci-Fi                                   USA \n",
       "5 Color Action|Adventure|Romance                                  USA \n",
       "6 Color Adventure|Animation|Comedy|Family|Fantasy|Musical|Romance USA \n",
       "  classificacao       orcamento receita   nota_imdb likes_facebook ator_1      \n",
       "1 A partir de 13 anos 237000000 760505847 7.9        33000         CCH Pounder \n",
       "2 A partir de 13 anos 300000000 309404152 7.1            0         Johnny Depp \n",
       "3 A partir de 13 anos 250000000 448130642 8.5       164000         Tom Hardy   \n",
       "4 A partir de 13 anos 263700000  73058679 6.6        24000         Daryl Sabara\n",
       "5 A partir de 13 anos 258000000 336530303 6.2            0         J.K. Simmons\n",
       "6 Livre               260000000 200807262 7.8        29000         Brad Garrett\n",
       "  ator_2           ator_3              \n",
       "1 Joel David Moore Wes Studi           \n",
       "2 Orlando Bloom    Jack Davenport      \n",
       "3 Christian Bale   Joseph Gordon-Levitt\n",
       "4 Samantha Morton  Polly Walker        \n",
       "5 James Franco     Kirsten Dunst       \n",
       "6 Donna Murphy     M.C. Gainey         "
      ]
     },
     "metadata": {},
     "output_type": "display_data"
    }
   ],
   "source": [
    "head(imdb)"
   ]
  },
  {
   "cell_type": "markdown",
   "metadata": {
    "slideshow": {
     "slide_type": "slide"
    }
   },
   "source": [
    "### O PACOTE DPLYR\n",
    "\n",
    "O dplyr é o pacote mais útil para realizar transformação de dados, aliando simplicidade e eficiência de uma forma elegante. \n",
    "\n",
    "Os scripts em R que fazem uso inteligente dos verbos dplyr e as facilidades do operador pipe tendem a ficar mais legíveis e organizados sem perder velocidade de execução."
   ]
  },
  {
   "cell_type": "markdown",
   "metadata": {
    "slideshow": {
     "slide_type": "slide"
    }
   },
   "source": [
    "As principais funções do dplyr são:\n",
    "\n",
    "- filter() - filtra linhas\n",
    "- select() - seleciona colunas\n",
    "- arrange() - ordena a base\n",
    "- mutate() - cria/modifica colunas\n",
    "- group_by() - agrupa a base\n",
    "- summarise() - sumariza a base"
   ]
  },
  {
   "cell_type": "markdown",
   "metadata": {
    "slideshow": {
     "slide_type": "slide"
    }
   },
   "source": [
    "Todas essas funções seguem as mesmas características:\n",
    "\n",
    "- O input é sempre uma tibble e o output é sempre um tibble.\n",
    "- Colocamos o tibble no primeiro argumento e o que queremos fazer nos outros argumentos.\n",
    "- A utilização é facilitada com o emprego do operador %>%.\n",
    "- O pacote faz uso extensivo de NSE (non standard evaluation)."
   ]
  },
  {
   "cell_type": "markdown",
   "metadata": {
    "slideshow": {
     "slide_type": "-"
    }
   },
   "source": [
    "As principais vantagens de se usar o dplyr em detrimento das funções do R base são:\n",
    "\n",
    "- Manipular dados se torna uma tarefa muito mais simples.\n",
    "- O código fica mais intuitivo de ser escrito e mais simples de ser lido.\n",
    "- O pacote dplyr utiliza C e C++ por trás da maioria das funções, o que geralmente torna o código mais eficiente.\n",
    "- É possível trabalhar com diferentes fontes de dados, como bases relacionais (SQL) e data.table.\n",
    "Agora, vamos avaliar com mais detalhes as principais funções do pacote dplyr."
   ]
  },
  {
   "cell_type": "markdown",
   "metadata": {
    "slideshow": {
     "slide_type": "slide"
    }
   },
   "source": [
    "### FILTRANDO LINHAS\n",
    "\n",
    "A função filter() filtra linhas. Ela é semelhante à função subset(), do R base. \n",
    "O código abaixo retorna apenas filmes com nota maior que nove."
   ]
  },
  {
   "cell_type": "code",
   "execution_count": 6,
   "metadata": {
    "slideshow": {
     "slide_type": "slide"
    }
   },
   "outputs": [
    {
     "data": {
      "text/html": [
       "<table>\n",
       "<caption>A tibble: 3 × 15</caption>\n",
       "<thead>\n",
       "\t<tr><th scope=col>titulo</th><th scope=col>ano</th><th scope=col>diretor</th><th scope=col>duracao</th><th scope=col>cor</th><th scope=col>generos</th><th scope=col>pais</th><th scope=col>classificacao</th><th scope=col>orcamento</th><th scope=col>receita</th><th scope=col>nota_imdb</th><th scope=col>likes_facebook</th><th scope=col>ator_1</th><th scope=col>ator_2</th><th scope=col>ator_3</th></tr>\n",
       "\t<tr><th scope=col>&lt;chr&gt;</th><th scope=col>&lt;int&gt;</th><th scope=col>&lt;chr&gt;</th><th scope=col>&lt;int&gt;</th><th scope=col>&lt;chr&gt;</th><th scope=col>&lt;chr&gt;</th><th scope=col>&lt;chr&gt;</th><th scope=col>&lt;chr&gt;</th><th scope=col>&lt;int&gt;</th><th scope=col>&lt;int&gt;</th><th scope=col>&lt;dbl&gt;</th><th scope=col>&lt;int&gt;</th><th scope=col>&lt;chr&gt;</th><th scope=col>&lt;chr&gt;</th><th scope=col>&lt;chr&gt;</th></tr>\n",
       "</thead>\n",
       "<tbody>\n",
       "\t<tr><td>The Shawshank Redemption </td><td>1994</td><td>Frank Darabont      </td><td>142</td><td>Color</td><td>Crime|Drama</td><td>USA</td><td>A partir de 18 anos</td><td>25000000</td><td> 28341469</td><td>9.3</td><td>108000</td><td>Morgan Freeman</td><td>Jeffrey DeMunn</td><td>Bob Gunton   </td></tr>\n",
       "\t<tr><td>The Godfather            </td><td>1972</td><td>Francis Ford Coppola</td><td>175</td><td>Color</td><td>Crime|Drama</td><td>USA</td><td>A partir de 18 anos</td><td> 6000000</td><td>134821952</td><td>9.2</td><td> 43000</td><td>Al Pacino     </td><td>Marlon Brando </td><td>Robert Duvall</td></tr>\n",
       "\t<tr><td>Kickboxer: Vengeance     </td><td>2016</td><td>John Stockwell      </td><td> 90</td><td>NA   </td><td>Action     </td><td>USA</td><td>Outros             </td><td>17000000</td><td>       NA</td><td>9.1</td><td>     0</td><td>Matthew Ziff  </td><td>T.J. Storm    </td><td>Sam Medina   </td></tr>\n",
       "</tbody>\n",
       "</table>\n"
      ],
      "text/latex": [
       "A tibble: 3 × 15\n",
       "\\begin{tabular}{lllllllllllllll}\n",
       " titulo & ano & diretor & duracao & cor & generos & pais & classificacao & orcamento & receita & nota\\_imdb & likes\\_facebook & ator\\_1 & ator\\_2 & ator\\_3\\\\\n",
       " <chr> & <int> & <chr> & <int> & <chr> & <chr> & <chr> & <chr> & <int> & <int> & <dbl> & <int> & <chr> & <chr> & <chr>\\\\\n",
       "\\hline\n",
       "\t The Shawshank Redemption  & 1994 & Frank Darabont       & 142 & Color & Crime\\textbar{}Drama & USA & A partir de 18 anos & 25000000 &  28341469 & 9.3 & 108000 & Morgan Freeman & Jeffrey DeMunn & Bob Gunton   \\\\\n",
       "\t The Godfather             & 1972 & Francis Ford Coppola & 175 & Color & Crime\\textbar{}Drama & USA & A partir de 18 anos &  6000000 & 134821952 & 9.2 &  43000 & Al Pacino      & Marlon Brando  & Robert Duvall\\\\\n",
       "\t Kickboxer: Vengeance      & 2016 & John Stockwell       &  90 & NA    & Action      & USA & Outros              & 17000000 &        NA & 9.1 &      0 & Matthew Ziff   & T.J. Storm     & Sam Medina   \\\\\n",
       "\\end{tabular}\n"
      ],
      "text/markdown": [
       "\n",
       "A tibble: 3 × 15\n",
       "\n",
       "| titulo &lt;chr&gt; | ano &lt;int&gt; | diretor &lt;chr&gt; | duracao &lt;int&gt; | cor &lt;chr&gt; | generos &lt;chr&gt; | pais &lt;chr&gt; | classificacao &lt;chr&gt; | orcamento &lt;int&gt; | receita &lt;int&gt; | nota_imdb &lt;dbl&gt; | likes_facebook &lt;int&gt; | ator_1 &lt;chr&gt; | ator_2 &lt;chr&gt; | ator_3 &lt;chr&gt; |\n",
       "|---|---|---|---|---|---|---|---|---|---|---|---|---|---|---|\n",
       "| The Shawshank Redemption  | 1994 | Frank Darabont       | 142 | Color | Crime|Drama | USA | A partir de 18 anos | 25000000 |  28341469 | 9.3 | 108000 | Morgan Freeman | Jeffrey DeMunn | Bob Gunton    |\n",
       "| The Godfather             | 1972 | Francis Ford Coppola | 175 | Color | Crime|Drama | USA | A partir de 18 anos |  6000000 | 134821952 | 9.2 |  43000 | Al Pacino      | Marlon Brando  | Robert Duvall |\n",
       "| Kickboxer: Vengeance      | 2016 | John Stockwell       |  90 | NA    | Action      | USA | Outros              | 17000000 |        NA | 9.1 |      0 | Matthew Ziff   | T.J. Storm     | Sam Medina    |\n",
       "\n"
      ],
      "text/plain": [
       "  titulo                    ano  diretor              duracao cor   generos    \n",
       "1 The Shawshank Redemption  1994 Frank Darabont       142     Color Crime|Drama\n",
       "2 The Godfather             1972 Francis Ford Coppola 175     Color Crime|Drama\n",
       "3 Kickboxer: Vengeance      2016 John Stockwell        90     NA    Action     \n",
       "  pais classificacao       orcamento receita   nota_imdb likes_facebook\n",
       "1 USA  A partir de 18 anos 25000000   28341469 9.3       108000        \n",
       "2 USA  A partir de 18 anos  6000000  134821952 9.2        43000        \n",
       "3 USA  Outros              17000000         NA 9.1            0        \n",
       "  ator_1         ator_2         ator_3       \n",
       "1 Morgan Freeman Jeffrey DeMunn Bob Gunton   \n",
       "2 Al Pacino      Marlon Brando  Robert Duvall\n",
       "3 Matthew Ziff   T.J. Storm     Sam Medina   "
      ]
     },
     "metadata": {},
     "output_type": "display_data"
    }
   ],
   "source": [
    "imdb %>% \n",
    "  filter(nota_imdb > 9)"
   ]
  },
  {
   "cell_type": "markdown",
   "metadata": {
    "slideshow": {
     "slide_type": "-"
    }
   },
   "source": [
    "Para fazer várias condições, use os operadores lógicos & e | ou separe filtros entre vírgulas. Vamos seleicionar filmes posteriores a 2010 e com nota maior que 8.5"
   ]
  },
  {
   "cell_type": "code",
   "execution_count": 7,
   "metadata": {
    "slideshow": {
     "slide_type": "subslide"
    }
   },
   "outputs": [
    {
     "data": {
      "text/html": [
       "<table>\n",
       "<caption>A tibble: 5 × 15</caption>\n",
       "<thead>\n",
       "\t<tr><th scope=col>titulo</th><th scope=col>ano</th><th scope=col>diretor</th><th scope=col>duracao</th><th scope=col>cor</th><th scope=col>generos</th><th scope=col>pais</th><th scope=col>classificacao</th><th scope=col>orcamento</th><th scope=col>receita</th><th scope=col>nota_imdb</th><th scope=col>likes_facebook</th><th scope=col>ator_1</th><th scope=col>ator_2</th><th scope=col>ator_3</th></tr>\n",
       "\t<tr><th scope=col>&lt;chr&gt;</th><th scope=col>&lt;int&gt;</th><th scope=col>&lt;chr&gt;</th><th scope=col>&lt;int&gt;</th><th scope=col>&lt;chr&gt;</th><th scope=col>&lt;chr&gt;</th><th scope=col>&lt;chr&gt;</th><th scope=col>&lt;chr&gt;</th><th scope=col>&lt;int&gt;</th><th scope=col>&lt;int&gt;</th><th scope=col>&lt;dbl&gt;</th><th scope=col>&lt;int&gt;</th><th scope=col>&lt;chr&gt;</th><th scope=col>&lt;chr&gt;</th><th scope=col>&lt;chr&gt;</th></tr>\n",
       "</thead>\n",
       "<tbody>\n",
       "\t<tr><td>Interstellar                </td><td>2014</td><td>Christopher Nolan</td><td>169</td><td>Color</td><td>Adventure|Drama|Sci-Fi</td><td>USA</td><td>A partir de 13 anos</td><td>165000000</td><td>187991439</td><td>8.6</td><td>349000</td><td>Matthew McConaughey</td><td>Anne Hathaway</td><td>Mackenzie Foy  </td></tr>\n",
       "\t<tr><td>Running Forever             </td><td>2015</td><td>Mike Mayhall     </td><td> 88</td><td>Color</td><td>Family                </td><td>USA</td><td>Outros             </td><td>  5000000</td><td>       NA</td><td>8.6</td><td>    49</td><td>David Raizor       </td><td>Cody Howard  </td><td>Martin Kove    </td></tr>\n",
       "\t<tr><td>A Beginner's Guide to Snuff </td><td>2016</td><td>Mitchell Altieri </td><td> 87</td><td>Color</td><td>Comedy|Horror|Thriller</td><td>USA</td><td>Outros             </td><td>       NA</td><td>       NA</td><td>8.7</td><td>     8</td><td>Kimberley Crossman </td><td>Luke Edwards </td><td>Bree Williamson</td></tr>\n",
       "\t<tr><td>Kickboxer: Vengeance        </td><td>2016</td><td>John Stockwell   </td><td> 90</td><td>NA   </td><td>Action                </td><td>USA</td><td>Outros             </td><td> 17000000</td><td>       NA</td><td>9.1</td><td>     0</td><td>Matthew Ziff       </td><td>T.J. Storm   </td><td>Sam Medina     </td></tr>\n",
       "\t<tr><td>Butterfly Girl              </td><td>2014</td><td>Cary Bell        </td><td> 78</td><td>Color</td><td>Documentary           </td><td>USA</td><td>Outros             </td><td>   180000</td><td>       NA</td><td>8.7</td><td>    88</td><td>Abigail Evans      </td><td>Stacie Evans </td><td>Emily Gorell   </td></tr>\n",
       "</tbody>\n",
       "</table>\n"
      ],
      "text/latex": [
       "A tibble: 5 × 15\n",
       "\\begin{tabular}{lllllllllllllll}\n",
       " titulo & ano & diretor & duracao & cor & generos & pais & classificacao & orcamento & receita & nota\\_imdb & likes\\_facebook & ator\\_1 & ator\\_2 & ator\\_3\\\\\n",
       " <chr> & <int> & <chr> & <int> & <chr> & <chr> & <chr> & <chr> & <int> & <int> & <dbl> & <int> & <chr> & <chr> & <chr>\\\\\n",
       "\\hline\n",
       "\t Interstellar                 & 2014 & Christopher Nolan & 169 & Color & Adventure\\textbar{}Drama\\textbar{}Sci-Fi & USA & A partir de 13 anos & 165000000 & 187991439 & 8.6 & 349000 & Matthew McConaughey & Anne Hathaway & Mackenzie Foy  \\\\\n",
       "\t Running Forever              & 2015 & Mike Mayhall      &  88 & Color & Family                 & USA & Outros              &   5000000 &        NA & 8.6 &     49 & David Raizor        & Cody Howard   & Martin Kove    \\\\\n",
       "\t A Beginner's Guide to Snuff  & 2016 & Mitchell Altieri  &  87 & Color & Comedy\\textbar{}Horror\\textbar{}Thriller & USA & Outros              &        NA &        NA & 8.7 &      8 & Kimberley Crossman  & Luke Edwards  & Bree Williamson\\\\\n",
       "\t Kickboxer: Vengeance         & 2016 & John Stockwell    &  90 & NA    & Action                 & USA & Outros              &  17000000 &        NA & 9.1 &      0 & Matthew Ziff        & T.J. Storm    & Sam Medina     \\\\\n",
       "\t Butterfly Girl               & 2014 & Cary Bell         &  78 & Color & Documentary            & USA & Outros              &    180000 &        NA & 8.7 &     88 & Abigail Evans       & Stacie Evans  & Emily Gorell   \\\\\n",
       "\\end{tabular}\n"
      ],
      "text/markdown": [
       "\n",
       "A tibble: 5 × 15\n",
       "\n",
       "| titulo &lt;chr&gt; | ano &lt;int&gt; | diretor &lt;chr&gt; | duracao &lt;int&gt; | cor &lt;chr&gt; | generos &lt;chr&gt; | pais &lt;chr&gt; | classificacao &lt;chr&gt; | orcamento &lt;int&gt; | receita &lt;int&gt; | nota_imdb &lt;dbl&gt; | likes_facebook &lt;int&gt; | ator_1 &lt;chr&gt; | ator_2 &lt;chr&gt; | ator_3 &lt;chr&gt; |\n",
       "|---|---|---|---|---|---|---|---|---|---|---|---|---|---|---|\n",
       "| Interstellar                 | 2014 | Christopher Nolan | 169 | Color | Adventure|Drama|Sci-Fi | USA | A partir de 13 anos | 165000000 | 187991439 | 8.6 | 349000 | Matthew McConaughey | Anne Hathaway | Mackenzie Foy   |\n",
       "| Running Forever              | 2015 | Mike Mayhall      |  88 | Color | Family                 | USA | Outros              |   5000000 |        NA | 8.6 |     49 | David Raizor        | Cody Howard   | Martin Kove     |\n",
       "| A Beginner's Guide to Snuff  | 2016 | Mitchell Altieri  |  87 | Color | Comedy|Horror|Thriller | USA | Outros              |        NA |        NA | 8.7 |      8 | Kimberley Crossman  | Luke Edwards  | Bree Williamson |\n",
       "| Kickboxer: Vengeance         | 2016 | John Stockwell    |  90 | NA    | Action                 | USA | Outros              |  17000000 |        NA | 9.1 |      0 | Matthew Ziff        | T.J. Storm    | Sam Medina      |\n",
       "| Butterfly Girl               | 2014 | Cary Bell         |  78 | Color | Documentary            | USA | Outros              |    180000 |        NA | 8.7 |     88 | Abigail Evans       | Stacie Evans  | Emily Gorell    |\n",
       "\n"
      ],
      "text/plain": [
       "  titulo                       ano  diretor           duracao cor  \n",
       "1 Interstellar                 2014 Christopher Nolan 169     Color\n",
       "2 Running Forever              2015 Mike Mayhall       88     Color\n",
       "3 A Beginner's Guide to Snuff  2016 Mitchell Altieri   87     Color\n",
       "4 Kickboxer: Vengeance         2016 John Stockwell     90     NA   \n",
       "5 Butterfly Girl               2014 Cary Bell          78     Color\n",
       "  generos                pais classificacao       orcamento receita   nota_imdb\n",
       "1 Adventure|Drama|Sci-Fi USA  A partir de 13 anos 165000000 187991439 8.6      \n",
       "2 Family                 USA  Outros                5000000        NA 8.6      \n",
       "3 Comedy|Horror|Thriller USA  Outros                     NA        NA 8.7      \n",
       "4 Action                 USA  Outros               17000000        NA 9.1      \n",
       "5 Documentary            USA  Outros                 180000        NA 8.7      \n",
       "  likes_facebook ator_1              ator_2        ator_3         \n",
       "1 349000         Matthew McConaughey Anne Hathaway Mackenzie Foy  \n",
       "2     49         David Raizor        Cody Howard   Martin Kove    \n",
       "3      8         Kimberley Crossman  Luke Edwards  Bree Williamson\n",
       "4      0         Matthew Ziff        T.J. Storm    Sam Medina     \n",
       "5     88         Abigail Evans       Stacie Evans  Emily Gorell   "
      ]
     },
     "metadata": {},
     "output_type": "display_data"
    }
   ],
   "source": [
    "imdb %>% \n",
    "  filter(ano > 2010 & nota_imdb > 8.5)"
   ]
  },
  {
   "cell_type": "markdown",
   "metadata": {
    "slideshow": {
     "slide_type": "slide"
    }
   },
   "source": [
    "Agora vamos selecionar filems cuja receita foi maior que o orçamento OU que a nota foi maior que nove"
   ]
  },
  {
   "cell_type": "code",
   "execution_count": 8,
   "metadata": {
    "slideshow": {
     "slide_type": "slide"
    }
   },
   "outputs": [
    {
     "data": {
      "text/html": [
       "<table>\n",
       "<caption>A tibble: 1762 × 15</caption>\n",
       "<thead>\n",
       "\t<tr><th scope=col>titulo</th><th scope=col>ano</th><th scope=col>diretor</th><th scope=col>duracao</th><th scope=col>cor</th><th scope=col>generos</th><th scope=col>pais</th><th scope=col>classificacao</th><th scope=col>orcamento</th><th scope=col>receita</th><th scope=col>nota_imdb</th><th scope=col>likes_facebook</th><th scope=col>ator_1</th><th scope=col>ator_2</th><th scope=col>ator_3</th></tr>\n",
       "\t<tr><th scope=col>&lt;chr&gt;</th><th scope=col>&lt;int&gt;</th><th scope=col>&lt;chr&gt;</th><th scope=col>&lt;int&gt;</th><th scope=col>&lt;chr&gt;</th><th scope=col>&lt;chr&gt;</th><th scope=col>&lt;chr&gt;</th><th scope=col>&lt;chr&gt;</th><th scope=col>&lt;int&gt;</th><th scope=col>&lt;int&gt;</th><th scope=col>&lt;dbl&gt;</th><th scope=col>&lt;int&gt;</th><th scope=col>&lt;chr&gt;</th><th scope=col>&lt;chr&gt;</th><th scope=col>&lt;chr&gt;</th></tr>\n",
       "</thead>\n",
       "<tbody>\n",
       "\t<tr><td>Avatar                                             </td><td>2009</td><td>James Cameron    </td><td>178</td><td>Color</td><td>Action|Adventure|Fantasy|Sci-Fi          </td><td>USA</td><td>A partir de 13 anos</td><td>237000000</td><td>760505847</td><td>7.9</td><td> 33000</td><td>CCH Pounder         </td><td>Joel David Moore  </td><td>Wes Studi           </td></tr>\n",
       "\t<tr><td>Pirates of the Caribbean: At World's End           </td><td>2007</td><td>Gore Verbinski   </td><td>169</td><td>Color</td><td>Action|Adventure|Fantasy                 </td><td>USA</td><td>A partir de 13 anos</td><td>300000000</td><td>309404152</td><td>7.1</td><td>     0</td><td>Johnny Depp         </td><td>Orlando Bloom     </td><td>Jack Davenport      </td></tr>\n",
       "\t<tr><td>The Dark Knight Rises                              </td><td>2012</td><td>Christopher Nolan</td><td>164</td><td>Color</td><td>Action|Thriller                          </td><td>USA</td><td>A partir de 13 anos</td><td>250000000</td><td>448130642</td><td>8.5</td><td>164000</td><td>Tom Hardy           </td><td>Christian Bale    </td><td>Joseph Gordon-Levitt</td></tr>\n",
       "\t<tr><td>Spider-Man 3                                       </td><td>2007</td><td>Sam Raimi        </td><td>156</td><td>Color</td><td>Action|Adventure|Romance                 </td><td>USA</td><td>A partir de 13 anos</td><td>258000000</td><td>336530303</td><td>6.2</td><td>     0</td><td>J.K. Simmons        </td><td>James Franco      </td><td>Kirsten Dunst       </td></tr>\n",
       "\t<tr><td>Avengers: Age of Ultron                            </td><td>2015</td><td>Joss Whedon      </td><td>141</td><td>Color</td><td>Action|Adventure|Sci-Fi                  </td><td>USA</td><td>A partir de 13 anos</td><td>250000000</td><td>458991599</td><td>7.5</td><td>118000</td><td>Chris Hemsworth     </td><td>Robert Downey Jr. </td><td>Scarlett Johansson  </td></tr>\n",
       "\t<tr><td>Batman v Superman: Dawn of Justice                 </td><td>2016</td><td>Zack Snyder      </td><td>183</td><td>Color</td><td>Action|Adventure|Sci-Fi                  </td><td>USA</td><td>A partir de 13 anos</td><td>250000000</td><td>330249062</td><td>6.9</td><td>197000</td><td>Henry Cavill        </td><td>Lauren Cohan      </td><td>Alan D. Purwin      </td></tr>\n",
       "\t<tr><td>Pirates of the Caribbean: Dead Man's Chest         </td><td>2006</td><td>Gore Verbinski   </td><td>151</td><td>Color</td><td>Action|Adventure|Fantasy                 </td><td>USA</td><td>A partir de 13 anos</td><td>225000000</td><td>423032628</td><td>7.3</td><td>  5000</td><td>Johnny Depp         </td><td>Orlando Bloom     </td><td>Jack Davenport      </td></tr>\n",
       "\t<tr><td>Man of Steel                                       </td><td>2013</td><td>Zack Snyder      </td><td>143</td><td>Color</td><td>Action|Adventure|Fantasy|Sci-Fi          </td><td>USA</td><td>A partir de 13 anos</td><td>225000000</td><td>291021565</td><td>7.2</td><td>118000</td><td>Henry Cavill        </td><td>Christopher Meloni</td><td>Harry Lennix        </td></tr>\n",
       "\t<tr><td>The Avengers                                       </td><td>2012</td><td>Joss Whedon      </td><td>173</td><td>Color</td><td>Action|Adventure|Sci-Fi                  </td><td>USA</td><td>A partir de 13 anos</td><td>220000000</td><td>623279547</td><td>8.1</td><td>123000</td><td>Chris Hemsworth     </td><td>Robert Downey Jr. </td><td>Scarlett Johansson  </td></tr>\n",
       "\t<tr><td>The Amazing Spider-Man                             </td><td>2012</td><td>Marc Webb        </td><td>153</td><td>Color</td><td>Action|Adventure|Fantasy                 </td><td>USA</td><td>A partir de 13 anos</td><td>230000000</td><td>262030663</td><td>7.0</td><td> 56000</td><td>Emma Stone          </td><td>Andrew Garfield   </td><td>Chris Zylka         </td></tr>\n",
       "\t<tr><td>The Hobbit: The Desolation of Smaug                </td><td>2013</td><td>Peter Jackson    </td><td>186</td><td>Color</td><td>Adventure|Fantasy                        </td><td>USA</td><td>A partir de 13 anos</td><td>225000000</td><td>258355354</td><td>7.9</td><td> 83000</td><td>Aidan Turner        </td><td>Adam Brown        </td><td>James Nesbitt       </td></tr>\n",
       "\t<tr><td>Titanic                                            </td><td>1997</td><td>James Cameron    </td><td>194</td><td>Color</td><td>Drama|Romance                            </td><td>USA</td><td>A partir de 13 anos</td><td>200000000</td><td>658672302</td><td>7.7</td><td> 26000</td><td>Leonardo DiCaprio   </td><td>Kate Winslet      </td><td>Gloria Stuart       </td></tr>\n",
       "\t<tr><td>Captain America: Civil War                         </td><td>2016</td><td>Anthony Russo    </td><td>147</td><td>Color</td><td>Action|Adventure|Sci-Fi                  </td><td>USA</td><td>A partir de 13 anos</td><td>250000000</td><td>407197282</td><td>8.2</td><td> 72000</td><td>Robert Downey Jr.   </td><td>Scarlett Johansson</td><td>Chris Evans         </td></tr>\n",
       "\t<tr><td>Jurassic World                                     </td><td>2015</td><td>Colin Trevorrow  </td><td>124</td><td>Color</td><td>Action|Adventure|Sci-Fi|Thriller         </td><td>USA</td><td>A partir de 13 anos</td><td>150000000</td><td>652177271</td><td>7.0</td><td>150000</td><td>Bryce Dallas Howard </td><td>Judy Greer        </td><td>Omar Sy             </td></tr>\n",
       "\t<tr><td>Spider-Man 2                                       </td><td>2004</td><td>Sam Raimi        </td><td>135</td><td>Color</td><td>Action|Adventure|Fantasy|Romance         </td><td>USA</td><td>A partir de 13 anos</td><td>200000000</td><td>373377893</td><td>7.3</td><td>     0</td><td>J.K. Simmons        </td><td>James Franco      </td><td>Kirsten Dunst       </td></tr>\n",
       "\t<tr><td>Iron Man 3                                         </td><td>2013</td><td>Shane Black      </td><td>195</td><td>Color</td><td>Action|Adventure|Sci-Fi                  </td><td>USA</td><td>A partir de 13 anos</td><td>200000000</td><td>408992272</td><td>7.2</td><td> 95000</td><td>Robert Downey Jr.   </td><td>Jon Favreau       </td><td>Don Cheadle         </td></tr>\n",
       "\t<tr><td>Alice in Wonderland                                </td><td>2010</td><td>Tim Burton       </td><td>108</td><td>Color</td><td>Adventure|Family|Fantasy                 </td><td>USA</td><td>Livre              </td><td>200000000</td><td>334185206</td><td>6.5</td><td> 24000</td><td>Johnny Depp         </td><td>Alan Rickman      </td><td>Anne Hathaway       </td></tr>\n",
       "\t<tr><td>Monsters University                                </td><td>2013</td><td>Dan Scanlon      </td><td>104</td><td>Color</td><td>Adventure|Animation|Comedy|Family|Fantasy</td><td>USA</td><td>Outros             </td><td>200000000</td><td>268488329</td><td>7.3</td><td> 44000</td><td>Steve Buscemi       </td><td>Tyler Labine      </td><td>Sean Hayes          </td></tr>\n",
       "\t<tr><td>Transformers: Revenge of the Fallen                </td><td>2009</td><td>Michael Bay      </td><td>150</td><td>Color</td><td>Action|Adventure|Sci-Fi                  </td><td>USA</td><td>A partir de 13 anos</td><td>200000000</td><td>402076689</td><td>6.0</td><td>     0</td><td>Glenn Morshower     </td><td>Kevin Dunn        </td><td>Ramon Rodriguez     </td></tr>\n",
       "\t<tr><td>Transformers: Age of Extinction                    </td><td>2014</td><td>Michael Bay      </td><td>165</td><td>Color</td><td>Action|Adventure|Sci-Fi                  </td><td>USA</td><td>A partir de 13 anos</td><td>210000000</td><td>245428137</td><td>5.7</td><td> 56000</td><td>Bingbing Li         </td><td>Sophia Myles      </td><td>Kelsey Grammer      </td></tr>\n",
       "\t<tr><td>Oz the Great and Powerful                          </td><td>2013</td><td>Sam Raimi        </td><td>130</td><td>Color</td><td>Adventure|Family|Fantasy                 </td><td>USA</td><td>Livre              </td><td>215000000</td><td>234903076</td><td>6.4</td><td> 60000</td><td>Tim Holmes          </td><td>Mila Kunis        </td><td>James Franco        </td></tr>\n",
       "\t<tr><td>The Amazing Spider-Man 2                           </td><td>2014</td><td>Marc Webb        </td><td>142</td><td>Color</td><td>Action|Adventure|Fantasy|Sci-Fi          </td><td>USA</td><td>A partir de 13 anos</td><td>200000000</td><td>202853933</td><td>6.7</td><td> 41000</td><td>Emma Stone          </td><td>Andrew Garfield   </td><td>B.J. Novak          </td></tr>\n",
       "\t<tr><td>TRON: Legacy                                       </td><td>2010</td><td>Joseph Kosinski  </td><td>125</td><td>Color</td><td>Action|Adventure|Sci-Fi                  </td><td>USA</td><td>Livre              </td><td>170000000</td><td>172051787</td><td>6.8</td><td> 30000</td><td>Jeff Bridges        </td><td>Olivia Wilde      </td><td>James Frain         </td></tr>\n",
       "\t<tr><td>Toy Story 3                                        </td><td>2010</td><td>Lee Unkrich      </td><td>103</td><td>Color</td><td>Adventure|Animation|Comedy|Family|Fantasy</td><td>USA</td><td>Outros             </td><td>200000000</td><td>414984497</td><td>8.3</td><td> 30000</td><td>Tom Hanks           </td><td>John Ratzenberger </td><td>Don Rickles         </td></tr>\n",
       "\t<tr><td>Furious 7                                          </td><td>2015</td><td>James Wan        </td><td>140</td><td>Color</td><td>Action|Crime|Thriller                    </td><td>USA</td><td>A partir de 13 anos</td><td>190000000</td><td>350034110</td><td>7.2</td><td> 94000</td><td>Jason Statham       </td><td>Paul Walker       </td><td>Vin Diesel          </td></tr>\n",
       "\t<tr><td>World War Z                                        </td><td>2013</td><td>Marc Forster     </td><td>123</td><td>Color</td><td>Action|Adventure|Horror|Sci-Fi|Thriller  </td><td>USA</td><td>A partir de 13 anos</td><td>190000000</td><td>202351611</td><td>7.0</td><td>129000</td><td>Peter Capaldi       </td><td>Brad Pitt         </td><td>Mireille Enos       </td></tr>\n",
       "\t<tr><td>X-Men: Days of Future Past                         </td><td>2014</td><td>Bryan Singer     </td><td>149</td><td>Color</td><td>Action|Adventure|Fantasy|Sci-Fi|Thriller </td><td>USA</td><td>A partir de 13 anos</td><td>200000000</td><td>233914986</td><td>8.0</td><td> 82000</td><td>Jennifer Lawrence   </td><td>Peter Dinklage    </td><td>Hugh Jackman        </td></tr>\n",
       "\t<tr><td>Star Trek Into Darkness                            </td><td>2013</td><td>J.J. Abrams      </td><td>132</td><td>Color</td><td>Action|Adventure|Sci-Fi                  </td><td>USA</td><td>A partir de 13 anos</td><td>190000000</td><td>228756232</td><td>7.8</td><td> 92000</td><td>Benedict Cumberbatch</td><td>Bruce Greenwood   </td><td>Noel Clarke         </td></tr>\n",
       "\t<tr><td>Transformers: Dark of the Moon                     </td><td>2011</td><td>Michael Bay      </td><td>154</td><td>Color</td><td>Action|Adventure|Sci-Fi                  </td><td>USA</td><td>A partir de 13 anos</td><td>195000000</td><td>352358779</td><td>6.3</td><td> 46000</td><td>Glenn Morshower     </td><td>Lester Speight    </td><td>Kevin Dunn          </td></tr>\n",
       "\t<tr><td>Indiana Jones and the Kingdom of the Crystal Skull </td><td>2008</td><td>Steven Spielberg </td><td>122</td><td>Color</td><td>Action|Adventure|Fantasy                 </td><td>USA</td><td>A partir de 13 anos</td><td>185000000</td><td>317011114</td><td>6.2</td><td>  5000</td><td>Harrison Ford       </td><td>Ray Winstone      </td><td>Jim Broadbent       </td></tr>\n",
       "\t<tr><td>...</td><td>...</td><td>...</td><td>...</td><td>...</td><td>...</td><td>...</td><td>...</td><td>...</td><td>...</td><td>...</td><td>...</td><td>...</td><td>...</td><td>...</td></tr>\n",
       "\t<tr><td>Side Effects                      </td><td>2013</td><td>Steven Soderbergh </td><td>106</td><td>Color          </td><td>Crime|Drama|Thriller               </td><td>USA</td><td>A partir de 18 anos</td><td>30000000</td><td>32154410</td><td>7.1</td><td>29000</td><td>Channing Tatum     </td><td>David Costabile    </td><td>Katie Lowes        </td></tr>\n",
       "\t<tr><td>She's Gotta Have It               </td><td>1986</td><td>Spike Lee         </td><td> 88</td><td>Black and White</td><td>Comedy|Romance                     </td><td>USA</td><td>A partir de 18 anos</td><td>  175000</td><td> 7137502</td><td>6.5</td><td>  406</td><td>S. Epatha Merkerson</td><td>Joie Lee           </td><td>Tracy Camilla Johns</td></tr>\n",
       "\t<tr><td>Another Earth                     </td><td>2011</td><td>Mike Cahill       </td><td> 92</td><td>Color          </td><td>Drama|Romance|Sci-Fi               </td><td>USA</td><td>A partir de 13 anos</td><td>  100000</td><td> 1316074</td><td>7.0</td><td>21000</td><td>Robin Lord Taylor  </td><td>William Mapother   </td><td>Flint Beverage     </td></tr>\n",
       "\t<tr><td>Sweet Sweetback's Baadasssss Song </td><td>1971</td><td>Melvin Van Peebles</td><td> 97</td><td>Color          </td><td>Crime|Drama|Thriller               </td><td>USA</td><td>A partir de 18 anos</td><td>  500000</td><td>15180000</td><td>5.5</td><td>  566</td><td>John Amos          </td><td>Mario Van Peebles  </td><td>Melvin Van Peebles </td></tr>\n",
       "\t<tr><td>Tadpole                           </td><td>2000</td><td>Gary Winick       </td><td> 78</td><td>Color          </td><td>Comedy|Drama|Romance               </td><td>USA</td><td>A partir de 13 anos</td><td>  150000</td><td> 2882062</td><td>6.3</td><td>  132</td><td>Bebe Neuwirth      </td><td>Aaron Stanford     </td><td>Ron Rifkin         </td></tr>\n",
       "\t<tr><td>The Texas Chain Saw Massacre      </td><td>1974</td><td>Tobe Hooper       </td><td> 88</td><td>Color          </td><td>Horror|Thriller                    </td><td>USA</td><td>A partir de 18 anos</td><td>   83532</td><td>30859000</td><td>7.5</td><td>    0</td><td>Gunnar Hansen      </td><td>Edwin Neal         </td><td>Marilyn Burns      </td></tr>\n",
       "\t<tr><td><span style=white-space:pre-wrap>Roger &amp; Me                        </span></td><td>1989</td><td><span style=white-space:pre-wrap>Michael Moore     </span></td><td> 91</td><td><span style=white-space:pre-wrap>Color          </span></td><td><span style=white-space:pre-wrap>Documentary                        </span></td><td>USA</td><td>A partir de 18 anos</td><td><span style=white-space:pre-wrap>  160000</span></td><td> 6706368</td><td>7.5</td><td><span style=white-space:pre-wrap>  667</span></td><td><span style=white-space:pre-wrap>Michael Moore      </span></td><td><span style=white-space:pre-wrap>Pat Boone          </span></td><td><span style=white-space:pre-wrap>Bob Eubanks        </span></td></tr>\n",
       "\t<tr><td>Your Sister's Sister              </td><td>2011</td><td>Lynn Shelton      </td><td> 90</td><td>Color          </td><td>Comedy|Drama                       </td><td>USA</td><td>A partir de 18 anos</td><td>  125000</td><td> 1573712</td><td>6.7</td><td> 3000</td><td>Mark Duplass       </td><td>Mike Birbiglia     </td><td>Mel Eslyn          </td></tr>\n",
       "\t<tr><td>Facing the Giants                 </td><td>2006</td><td>Alex Kendrick     </td><td>111</td><td>Color          </td><td>Drama|Sport                        </td><td>USA</td><td>Livre              </td><td>  100000</td><td>10174663</td><td>6.7</td><td>    0</td><td>Alex Kendrick      </td><td>Erin Bethea        </td><td>Shannen Fields     </td></tr>\n",
       "\t<tr><td>The Gallows                       </td><td>2015</td><td>Travis Cluff      </td><td> 81</td><td>Color          </td><td>Horror|Thriller                    </td><td>USA</td><td>A partir de 18 anos</td><td>  100000</td><td>22757819</td><td>4.2</td><td>    0</td><td>Pfeifer Brown      </td><td>Cassidy Gifford    </td><td>Reese Mishler      </td></tr>\n",
       "\t<tr><td>Over the Hill to the Poorhouse    </td><td>1920</td><td>Harry F. Millarde </td><td>110</td><td>Black and White</td><td>Crime|Drama                        </td><td>USA</td><td>Outros             </td><td>  100000</td><td> 3000000</td><td>4.8</td><td>    0</td><td>Stephen Carr       </td><td>Johnnie Walker     </td><td>Mary Carr          </td></tr>\n",
       "\t<tr><td>Hollywood Shuffle                 </td><td>1987</td><td>Robert Townsend   </td><td> 81</td><td>Color          </td><td>Comedy                             </td><td>USA</td><td>A partir de 18 anos</td><td>  100000</td><td> 5228617</td><td>7.0</td><td>  471</td><td>Robert Townsend    </td><td>Keenen Ivory Wayans</td><td>Helen Martin       </td></tr>\n",
       "\t<tr><td>The Lost Skeleton of Cadavra      </td><td>2001</td><td>Larry Blamire     </td><td> 90</td><td>Black and White</td><td>Comedy|Horror|Sci-Fi               </td><td>USA</td><td>Livre              </td><td>   40000</td><td>  110536</td><td>7.0</td><td>    0</td><td>Fay Masterson      </td><td>Brian Howe         </td><td>Larry Blamire      </td></tr>\n",
       "\t<tr><td>The Last House on the Left        </td><td>2009</td><td>Dennis Iliadis    </td><td>114</td><td>Color          </td><td>Crime|Horror|Thriller              </td><td>USA</td><td>A partir de 18 anos</td><td>15000000</td><td>32721635</td><td>6.6</td><td>    0</td><td>Tony Goldwyn       </td><td>Monica Potter      </td><td>Martha MacIsaac    </td></tr>\n",
       "\t<tr><td>Pi                                </td><td>1998</td><td>Darren Aronofsky  </td><td> 84</td><td>Black and White</td><td>Drama|Mystery|Thriller             </td><td>USA</td><td>A partir de 18 anos</td><td>   60000</td><td> 3216970</td><td>7.5</td><td>24000</td><td>Mark Margolis      </td><td>Clint Mansell      </td><td>Stanley B. Herman  </td></tr>\n",
       "\t<tr><td>20 Dates                          </td><td>1998</td><td>Myles Berkowitz   </td><td> 87</td><td>Color          </td><td>Biography|Comedy|Romance           </td><td>USA</td><td>A partir de 18 anos</td><td>   60000</td><td>  536767</td><td>5.3</td><td>   30</td><td>Tia Carrere        </td><td>Tom Ardavany       </td><td>Robert McKee       </td></tr>\n",
       "\t<tr><td>Super Size Me                     </td><td>2004</td><td>Morgan Spurlock   </td><td>100</td><td>Color          </td><td>Comedy|Documentary|Drama           </td><td>USA</td><td>Livre              </td><td>   65000</td><td>11529368</td><td>7.3</td><td>    0</td><td>Chemeeka Walker    </td><td>Amanda Kearsan     </td><td>Amelia Giancarlo   </td></tr>\n",
       "\t<tr><td>The Brothers McMullen             </td><td>1995</td><td>Edward Burns      </td><td> 98</td><td>Color          </td><td>Comedy|Drama|Romance               </td><td>USA</td><td>A partir de 18 anos</td><td>   25000</td><td>10246600</td><td>6.6</td><td>  265</td><td>Shari Albert       </td><td>Michael McGlone    </td><td>Maxine Bahns       </td></tr>\n",
       "\t<tr><td>Tiny Furniture                    </td><td>2010</td><td>Lena Dunham       </td><td> 98</td><td>Color          </td><td>Comedy|Drama|Romance               </td><td>USA</td><td>Outros             </td><td>   65000</td><td>  389804</td><td>6.3</td><td>    0</td><td>Lena Dunham        </td><td>Merritt Wever      </td><td>Jemima Kirke       </td></tr>\n",
       "\t<tr><td>George Washington                 </td><td>2000</td><td>David Gordon Green</td><td> 90</td><td>Color          </td><td>Drama                              </td><td>USA</td><td>Outros             </td><td>   42000</td><td>  241816</td><td>7.5</td><td>  451</td><td>Paul Schneider     </td><td>Eddie Rouse        </td><td>Damian Jewan Lee   </td></tr>\n",
       "\t<tr><td><span style=white-space:pre-wrap>Smiling Fish &amp; Goat on Fire       </span></td><td>1999</td><td><span style=white-space:pre-wrap>Kevin Jordan      </span></td><td> 90</td><td><span style=white-space:pre-wrap>Color          </span></td><td><span style=white-space:pre-wrap>Comedy|Romance                     </span></td><td>USA</td><td>A partir de 18 anos</td><td><span style=white-space:pre-wrap>   40000</span></td><td><span style=white-space:pre-wrap>  277233</span></td><td>7.6</td><td><span style=white-space:pre-wrap>    0</span></td><td><span style=white-space:pre-wrap>Derick Martini     </span></td><td><span style=white-space:pre-wrap>Christa Miller     </span></td><td><span style=white-space:pre-wrap>Ion Overman        </span></td></tr>\n",
       "\t<tr><td>The Legend of God's Gun           </td><td>2007</td><td>Mike Bruce        </td><td> 78</td><td>Color          </td><td>Western                            </td><td>USA</td><td>A partir de 18 anos</td><td>   30000</td><td>  243768</td><td>4.1</td><td>   13</td><td>Joseph Campanella  </td><td>Kirpatrick Thomas  </td><td>Christian Anderson </td></tr>\n",
       "\t<tr><td>Clerks                            </td><td>1994</td><td>Kevin Smith       </td><td>102</td><td>Black and White</td><td>Comedy                             </td><td>USA</td><td>A partir de 18 anos</td><td>  230000</td><td> 3151130</td><td>7.8</td><td>    0</td><td>Jason Mewes        </td><td>Brian O'Halloran   </td><td>Jeff Anderson      </td></tr>\n",
       "\t<tr><td>Slacker                           </td><td>1991</td><td>Richard Linklater </td><td>100</td><td>Black and White</td><td>Comedy|Drama                       </td><td>USA</td><td>A partir de 18 anos</td><td>   23000</td><td> 1227508</td><td>7.1</td><td> 2000</td><td>Tommy Pallotta     </td><td>Richard Linklater  </td><td>Jean Caffeine      </td></tr>\n",
       "\t<tr><td>The Puffy Chair                   </td><td>2005</td><td>Jay Duplass       </td><td> 85</td><td>Color          </td><td>Comedy|Drama|Romance               </td><td>USA</td><td>A partir de 18 anos</td><td>   15000</td><td>  192467</td><td>6.6</td><td>  297</td><td>Mark Duplass       </td><td>Katie Aselton      </td><td>Bari Hyman         </td></tr>\n",
       "\t<tr><td>Breaking Upwards                  </td><td>2009</td><td>Daryl Wein        </td><td> 88</td><td>Color          </td><td>Romance                            </td><td>USA</td><td>Outros             </td><td>   15000</td><td>   76382</td><td>6.2</td><td>  324</td><td>Zoe Lister-Jones   </td><td>Heather Burns      </td><td>Ebon Moss-Bachrach </td></tr>\n",
       "\t<tr><td>Pink Flamingos                    </td><td>1972</td><td>John Waters       </td><td>108</td><td>Color          </td><td>Comedy|Crime|Horror                </td><td>USA</td><td>A partir de 18 anos</td><td>   10000</td><td>  180483</td><td>6.1</td><td>    0</td><td>Divine             </td><td>Mink Stole         </td><td>Edith Massey       </td></tr>\n",
       "\t<tr><td>Primer                            </td><td>2004</td><td>Shane Carruth     </td><td> 77</td><td>Color          </td><td>Drama|Sci-Fi|Thriller              </td><td>USA</td><td>A partir de 13 anos</td><td>    7000</td><td>  424760</td><td>7.0</td><td>19000</td><td>Shane Carruth      </td><td>David Sullivan     </td><td>Casey Gooden       </td></tr>\n",
       "\t<tr><td>El Mariachi                       </td><td>1992</td><td>Robert Rodriguez  </td><td> 81</td><td>Color          </td><td>Action|Crime|Drama|Romance|Thriller</td><td>USA</td><td>A partir de 18 anos</td><td>    7000</td><td> 2040920</td><td>6.9</td><td>    0</td><td>Carlos Gallardo    </td><td>Peter Marquardt    </td><td>Consuelo Gómez     </td></tr>\n",
       "\t<tr><td>My Date with Drew                 </td><td>2004</td><td>Jon Gunn          </td><td> 90</td><td>Color          </td><td>Documentary                        </td><td>USA</td><td>Livre              </td><td>    1100</td><td>   85222</td><td>6.6</td><td>  456</td><td>John August        </td><td>Brian Herzlinger   </td><td>Jon Gunn           </td></tr>\n",
       "</tbody>\n",
       "</table>\n"
      ],
      "text/latex": [
       "A tibble: 1762 × 15\n",
       "\\begin{tabular}{lllllllllllllll}\n",
       " titulo & ano & diretor & duracao & cor & generos & pais & classificacao & orcamento & receita & nota\\_imdb & likes\\_facebook & ator\\_1 & ator\\_2 & ator\\_3\\\\\n",
       " <chr> & <int> & <chr> & <int> & <chr> & <chr> & <chr> & <chr> & <int> & <int> & <dbl> & <int> & <chr> & <chr> & <chr>\\\\\n",
       "\\hline\n",
       "\t Avatar                                              & 2009 & James Cameron     & 178 & Color & Action\\textbar{}Adventure\\textbar{}Fantasy\\textbar{}Sci-Fi           & USA & A partir de 13 anos & 237000000 & 760505847 & 7.9 &  33000 & CCH Pounder          & Joel David Moore   & Wes Studi           \\\\\n",
       "\t Pirates of the Caribbean: At World's End            & 2007 & Gore Verbinski    & 169 & Color & Action\\textbar{}Adventure\\textbar{}Fantasy                  & USA & A partir de 13 anos & 300000000 & 309404152 & 7.1 &      0 & Johnny Depp          & Orlando Bloom      & Jack Davenport      \\\\\n",
       "\t The Dark Knight Rises                               & 2012 & Christopher Nolan & 164 & Color & Action\\textbar{}Thriller                           & USA & A partir de 13 anos & 250000000 & 448130642 & 8.5 & 164000 & Tom Hardy            & Christian Bale     & Joseph Gordon-Levitt\\\\\n",
       "\t Spider-Man 3                                        & 2007 & Sam Raimi         & 156 & Color & Action\\textbar{}Adventure\\textbar{}Romance                  & USA & A partir de 13 anos & 258000000 & 336530303 & 6.2 &      0 & J.K. Simmons         & James Franco       & Kirsten Dunst       \\\\\n",
       "\t Avengers: Age of Ultron                             & 2015 & Joss Whedon       & 141 & Color & Action\\textbar{}Adventure\\textbar{}Sci-Fi                   & USA & A partir de 13 anos & 250000000 & 458991599 & 7.5 & 118000 & Chris Hemsworth      & Robert Downey Jr.  & Scarlett Johansson  \\\\\n",
       "\t Batman v Superman: Dawn of Justice                  & 2016 & Zack Snyder       & 183 & Color & Action\\textbar{}Adventure\\textbar{}Sci-Fi                   & USA & A partir de 13 anos & 250000000 & 330249062 & 6.9 & 197000 & Henry Cavill         & Lauren Cohan       & Alan D. Purwin      \\\\\n",
       "\t Pirates of the Caribbean: Dead Man's Chest          & 2006 & Gore Verbinski    & 151 & Color & Action\\textbar{}Adventure\\textbar{}Fantasy                  & USA & A partir de 13 anos & 225000000 & 423032628 & 7.3 &   5000 & Johnny Depp          & Orlando Bloom      & Jack Davenport      \\\\\n",
       "\t Man of Steel                                        & 2013 & Zack Snyder       & 143 & Color & Action\\textbar{}Adventure\\textbar{}Fantasy\\textbar{}Sci-Fi           & USA & A partir de 13 anos & 225000000 & 291021565 & 7.2 & 118000 & Henry Cavill         & Christopher Meloni & Harry Lennix        \\\\\n",
       "\t The Avengers                                        & 2012 & Joss Whedon       & 173 & Color & Action\\textbar{}Adventure\\textbar{}Sci-Fi                   & USA & A partir de 13 anos & 220000000 & 623279547 & 8.1 & 123000 & Chris Hemsworth      & Robert Downey Jr.  & Scarlett Johansson  \\\\\n",
       "\t The Amazing Spider-Man                              & 2012 & Marc Webb         & 153 & Color & Action\\textbar{}Adventure\\textbar{}Fantasy                  & USA & A partir de 13 anos & 230000000 & 262030663 & 7.0 &  56000 & Emma Stone           & Andrew Garfield    & Chris Zylka         \\\\\n",
       "\t The Hobbit: The Desolation of Smaug                 & 2013 & Peter Jackson     & 186 & Color & Adventure\\textbar{}Fantasy                         & USA & A partir de 13 anos & 225000000 & 258355354 & 7.9 &  83000 & Aidan Turner         & Adam Brown         & James Nesbitt       \\\\\n",
       "\t Titanic                                             & 1997 & James Cameron     & 194 & Color & Drama\\textbar{}Romance                             & USA & A partir de 13 anos & 200000000 & 658672302 & 7.7 &  26000 & Leonardo DiCaprio    & Kate Winslet       & Gloria Stuart       \\\\\n",
       "\t Captain America: Civil War                          & 2016 & Anthony Russo     & 147 & Color & Action\\textbar{}Adventure\\textbar{}Sci-Fi                   & USA & A partir de 13 anos & 250000000 & 407197282 & 8.2 &  72000 & Robert Downey Jr.    & Scarlett Johansson & Chris Evans         \\\\\n",
       "\t Jurassic World                                      & 2015 & Colin Trevorrow   & 124 & Color & Action\\textbar{}Adventure\\textbar{}Sci-Fi\\textbar{}Thriller          & USA & A partir de 13 anos & 150000000 & 652177271 & 7.0 & 150000 & Bryce Dallas Howard  & Judy Greer         & Omar Sy             \\\\\n",
       "\t Spider-Man 2                                        & 2004 & Sam Raimi         & 135 & Color & Action\\textbar{}Adventure\\textbar{}Fantasy\\textbar{}Romance          & USA & A partir de 13 anos & 200000000 & 373377893 & 7.3 &      0 & J.K. Simmons         & James Franco       & Kirsten Dunst       \\\\\n",
       "\t Iron Man 3                                          & 2013 & Shane Black       & 195 & Color & Action\\textbar{}Adventure\\textbar{}Sci-Fi                   & USA & A partir de 13 anos & 200000000 & 408992272 & 7.2 &  95000 & Robert Downey Jr.    & Jon Favreau        & Don Cheadle         \\\\\n",
       "\t Alice in Wonderland                                 & 2010 & Tim Burton        & 108 & Color & Adventure\\textbar{}Family\\textbar{}Fantasy                  & USA & Livre               & 200000000 & 334185206 & 6.5 &  24000 & Johnny Depp          & Alan Rickman       & Anne Hathaway       \\\\\n",
       "\t Monsters University                                 & 2013 & Dan Scanlon       & 104 & Color & Adventure\\textbar{}Animation\\textbar{}Comedy\\textbar{}Family\\textbar{}Fantasy & USA & Outros              & 200000000 & 268488329 & 7.3 &  44000 & Steve Buscemi        & Tyler Labine       & Sean Hayes          \\\\\n",
       "\t Transformers: Revenge of the Fallen                 & 2009 & Michael Bay       & 150 & Color & Action\\textbar{}Adventure\\textbar{}Sci-Fi                   & USA & A partir de 13 anos & 200000000 & 402076689 & 6.0 &      0 & Glenn Morshower      & Kevin Dunn         & Ramon Rodriguez     \\\\\n",
       "\t Transformers: Age of Extinction                     & 2014 & Michael Bay       & 165 & Color & Action\\textbar{}Adventure\\textbar{}Sci-Fi                   & USA & A partir de 13 anos & 210000000 & 245428137 & 5.7 &  56000 & Bingbing Li          & Sophia Myles       & Kelsey Grammer      \\\\\n",
       "\t Oz the Great and Powerful                           & 2013 & Sam Raimi         & 130 & Color & Adventure\\textbar{}Family\\textbar{}Fantasy                  & USA & Livre               & 215000000 & 234903076 & 6.4 &  60000 & Tim Holmes           & Mila Kunis         & James Franco        \\\\\n",
       "\t The Amazing Spider-Man 2                            & 2014 & Marc Webb         & 142 & Color & Action\\textbar{}Adventure\\textbar{}Fantasy\\textbar{}Sci-Fi           & USA & A partir de 13 anos & 200000000 & 202853933 & 6.7 &  41000 & Emma Stone           & Andrew Garfield    & B.J. Novak          \\\\\n",
       "\t TRON: Legacy                                        & 2010 & Joseph Kosinski   & 125 & Color & Action\\textbar{}Adventure\\textbar{}Sci-Fi                   & USA & Livre               & 170000000 & 172051787 & 6.8 &  30000 & Jeff Bridges         & Olivia Wilde       & James Frain         \\\\\n",
       "\t Toy Story 3                                         & 2010 & Lee Unkrich       & 103 & Color & Adventure\\textbar{}Animation\\textbar{}Comedy\\textbar{}Family\\textbar{}Fantasy & USA & Outros              & 200000000 & 414984497 & 8.3 &  30000 & Tom Hanks            & John Ratzenberger  & Don Rickles         \\\\\n",
       "\t Furious 7                                           & 2015 & James Wan         & 140 & Color & Action\\textbar{}Crime\\textbar{}Thriller                     & USA & A partir de 13 anos & 190000000 & 350034110 & 7.2 &  94000 & Jason Statham        & Paul Walker        & Vin Diesel          \\\\\n",
       "\t World War Z                                         & 2013 & Marc Forster      & 123 & Color & Action\\textbar{}Adventure\\textbar{}Horror\\textbar{}Sci-Fi\\textbar{}Thriller   & USA & A partir de 13 anos & 190000000 & 202351611 & 7.0 & 129000 & Peter Capaldi        & Brad Pitt          & Mireille Enos       \\\\\n",
       "\t X-Men: Days of Future Past                          & 2014 & Bryan Singer      & 149 & Color & Action\\textbar{}Adventure\\textbar{}Fantasy\\textbar{}Sci-Fi\\textbar{}Thriller  & USA & A partir de 13 anos & 200000000 & 233914986 & 8.0 &  82000 & Jennifer Lawrence    & Peter Dinklage     & Hugh Jackman        \\\\\n",
       "\t Star Trek Into Darkness                             & 2013 & J.J. Abrams       & 132 & Color & Action\\textbar{}Adventure\\textbar{}Sci-Fi                   & USA & A partir de 13 anos & 190000000 & 228756232 & 7.8 &  92000 & Benedict Cumberbatch & Bruce Greenwood    & Noel Clarke         \\\\\n",
       "\t Transformers: Dark of the Moon                      & 2011 & Michael Bay       & 154 & Color & Action\\textbar{}Adventure\\textbar{}Sci-Fi                   & USA & A partir de 13 anos & 195000000 & 352358779 & 6.3 &  46000 & Glenn Morshower      & Lester Speight     & Kevin Dunn          \\\\\n",
       "\t Indiana Jones and the Kingdom of the Crystal Skull  & 2008 & Steven Spielberg  & 122 & Color & Action\\textbar{}Adventure\\textbar{}Fantasy                  & USA & A partir de 13 anos & 185000000 & 317011114 & 6.2 &   5000 & Harrison Ford        & Ray Winstone       & Jim Broadbent       \\\\\n",
       "\t ... & ... & ... & ... & ... & ... & ... & ... & ... & ... & ... & ... & ... & ... & ...\\\\\n",
       "\t Side Effects                       & 2013 & Steven Soderbergh  & 106 & Color           & Crime\\textbar{}Drama\\textbar{}Thriller                & USA & A partir de 18 anos & 30000000 & 32154410 & 7.1 & 29000 & Channing Tatum      & David Costabile     & Katie Lowes        \\\\\n",
       "\t She's Gotta Have It                & 1986 & Spike Lee          &  88 & Black and White & Comedy\\textbar{}Romance                      & USA & A partir de 18 anos &   175000 &  7137502 & 6.5 &   406 & S. Epatha Merkerson & Joie Lee            & Tracy Camilla Johns\\\\\n",
       "\t Another Earth                      & 2011 & Mike Cahill        &  92 & Color           & Drama\\textbar{}Romance\\textbar{}Sci-Fi                & USA & A partir de 13 anos &   100000 &  1316074 & 7.0 & 21000 & Robin Lord Taylor   & William Mapother    & Flint Beverage     \\\\\n",
       "\t Sweet Sweetback's Baadasssss Song  & 1971 & Melvin Van Peebles &  97 & Color           & Crime\\textbar{}Drama\\textbar{}Thriller                & USA & A partir de 18 anos &   500000 & 15180000 & 5.5 &   566 & John Amos           & Mario Van Peebles   & Melvin Van Peebles \\\\\n",
       "\t Tadpole                            & 2000 & Gary Winick        &  78 & Color           & Comedy\\textbar{}Drama\\textbar{}Romance                & USA & A partir de 13 anos &   150000 &  2882062 & 6.3 &   132 & Bebe Neuwirth       & Aaron Stanford      & Ron Rifkin         \\\\\n",
       "\t The Texas Chain Saw Massacre       & 1974 & Tobe Hooper        &  88 & Color           & Horror\\textbar{}Thriller                     & USA & A partir de 18 anos &    83532 & 30859000 & 7.5 &     0 & Gunnar Hansen       & Edwin Neal          & Marilyn Burns      \\\\\n",
       "\t Roger \\& Me                         & 1989 & Michael Moore      &  91 & Color           & Documentary                         & USA & A partir de 18 anos &   160000 &  6706368 & 7.5 &   667 & Michael Moore       & Pat Boone           & Bob Eubanks        \\\\\n",
       "\t Your Sister's Sister               & 2011 & Lynn Shelton       &  90 & Color           & Comedy\\textbar{}Drama                        & USA & A partir de 18 anos &   125000 &  1573712 & 6.7 &  3000 & Mark Duplass        & Mike Birbiglia      & Mel Eslyn          \\\\\n",
       "\t Facing the Giants                  & 2006 & Alex Kendrick      & 111 & Color           & Drama\\textbar{}Sport                         & USA & Livre               &   100000 & 10174663 & 6.7 &     0 & Alex Kendrick       & Erin Bethea         & Shannen Fields     \\\\\n",
       "\t The Gallows                        & 2015 & Travis Cluff       &  81 & Color           & Horror\\textbar{}Thriller                     & USA & A partir de 18 anos &   100000 & 22757819 & 4.2 &     0 & Pfeifer Brown       & Cassidy Gifford     & Reese Mishler      \\\\\n",
       "\t Over the Hill to the Poorhouse     & 1920 & Harry F. Millarde  & 110 & Black and White & Crime\\textbar{}Drama                         & USA & Outros              &   100000 &  3000000 & 4.8 &     0 & Stephen Carr        & Johnnie Walker      & Mary Carr          \\\\\n",
       "\t Hollywood Shuffle                  & 1987 & Robert Townsend    &  81 & Color           & Comedy                              & USA & A partir de 18 anos &   100000 &  5228617 & 7.0 &   471 & Robert Townsend     & Keenen Ivory Wayans & Helen Martin       \\\\\n",
       "\t The Lost Skeleton of Cadavra       & 2001 & Larry Blamire      &  90 & Black and White & Comedy\\textbar{}Horror\\textbar{}Sci-Fi                & USA & Livre               &    40000 &   110536 & 7.0 &     0 & Fay Masterson       & Brian Howe          & Larry Blamire      \\\\\n",
       "\t The Last House on the Left         & 2009 & Dennis Iliadis     & 114 & Color           & Crime\\textbar{}Horror\\textbar{}Thriller               & USA & A partir de 18 anos & 15000000 & 32721635 & 6.6 &     0 & Tony Goldwyn        & Monica Potter       & Martha MacIsaac    \\\\\n",
       "\t Pi                                 & 1998 & Darren Aronofsky   &  84 & Black and White & Drama\\textbar{}Mystery\\textbar{}Thriller              & USA & A partir de 18 anos &    60000 &  3216970 & 7.5 & 24000 & Mark Margolis       & Clint Mansell       & Stanley B. Herman  \\\\\n",
       "\t 20 Dates                           & 1998 & Myles Berkowitz    &  87 & Color           & Biography\\textbar{}Comedy\\textbar{}Romance            & USA & A partir de 18 anos &    60000 &   536767 & 5.3 &    30 & Tia Carrere         & Tom Ardavany        & Robert McKee       \\\\\n",
       "\t Super Size Me                      & 2004 & Morgan Spurlock    & 100 & Color           & Comedy\\textbar{}Documentary\\textbar{}Drama            & USA & Livre               &    65000 & 11529368 & 7.3 &     0 & Chemeeka Walker     & Amanda Kearsan      & Amelia Giancarlo   \\\\\n",
       "\t The Brothers McMullen              & 1995 & Edward Burns       &  98 & Color           & Comedy\\textbar{}Drama\\textbar{}Romance                & USA & A partir de 18 anos &    25000 & 10246600 & 6.6 &   265 & Shari Albert        & Michael McGlone     & Maxine Bahns       \\\\\n",
       "\t Tiny Furniture                     & 2010 & Lena Dunham        &  98 & Color           & Comedy\\textbar{}Drama\\textbar{}Romance                & USA & Outros              &    65000 &   389804 & 6.3 &     0 & Lena Dunham         & Merritt Wever       & Jemima Kirke       \\\\\n",
       "\t George Washington                  & 2000 & David Gordon Green &  90 & Color           & Drama                               & USA & Outros              &    42000 &   241816 & 7.5 &   451 & Paul Schneider      & Eddie Rouse         & Damian Jewan Lee   \\\\\n",
       "\t Smiling Fish \\& Goat on Fire        & 1999 & Kevin Jordan       &  90 & Color           & Comedy\\textbar{}Romance                      & USA & A partir de 18 anos &    40000 &   277233 & 7.6 &     0 & Derick Martini      & Christa Miller      & Ion Overman        \\\\\n",
       "\t The Legend of God's Gun            & 2007 & Mike Bruce         &  78 & Color           & Western                             & USA & A partir de 18 anos &    30000 &   243768 & 4.1 &    13 & Joseph Campanella   & Kirpatrick Thomas   & Christian Anderson \\\\\n",
       "\t Clerks                             & 1994 & Kevin Smith        & 102 & Black and White & Comedy                              & USA & A partir de 18 anos &   230000 &  3151130 & 7.8 &     0 & Jason Mewes         & Brian O'Halloran    & Jeff Anderson      \\\\\n",
       "\t Slacker                            & 1991 & Richard Linklater  & 100 & Black and White & Comedy\\textbar{}Drama                        & USA & A partir de 18 anos &    23000 &  1227508 & 7.1 &  2000 & Tommy Pallotta      & Richard Linklater   & Jean Caffeine      \\\\\n",
       "\t The Puffy Chair                    & 2005 & Jay Duplass        &  85 & Color           & Comedy\\textbar{}Drama\\textbar{}Romance                & USA & A partir de 18 anos &    15000 &   192467 & 6.6 &   297 & Mark Duplass        & Katie Aselton       & Bari Hyman         \\\\\n",
       "\t Breaking Upwards                   & 2009 & Daryl Wein         &  88 & Color           & Romance                             & USA & Outros              &    15000 &    76382 & 6.2 &   324 & Zoe Lister-Jones    & Heather Burns       & Ebon Moss-Bachrach \\\\\n",
       "\t Pink Flamingos                     & 1972 & John Waters        & 108 & Color           & Comedy\\textbar{}Crime\\textbar{}Horror                 & USA & A partir de 18 anos &    10000 &   180483 & 6.1 &     0 & Divine              & Mink Stole          & Edith Massey       \\\\\n",
       "\t Primer                             & 2004 & Shane Carruth      &  77 & Color           & Drama\\textbar{}Sci-Fi\\textbar{}Thriller               & USA & A partir de 13 anos &     7000 &   424760 & 7.0 & 19000 & Shane Carruth       & David Sullivan      & Casey Gooden       \\\\\n",
       "\t El Mariachi                        & 1992 & Robert Rodriguez   &  81 & Color           & Action\\textbar{}Crime\\textbar{}Drama\\textbar{}Romance\\textbar{}Thriller & USA & A partir de 18 anos &     7000 &  2040920 & 6.9 &     0 & Carlos Gallardo     & Peter Marquardt     & Consuelo Gómez     \\\\\n",
       "\t My Date with Drew                  & 2004 & Jon Gunn           &  90 & Color           & Documentary                         & USA & Livre               &     1100 &    85222 & 6.6 &   456 & John August         & Brian Herzlinger    & Jon Gunn           \\\\\n",
       "\\end{tabular}\n"
      ],
      "text/markdown": [
       "\n",
       "A tibble: 1762 × 15\n",
       "\n",
       "| titulo &lt;chr&gt; | ano &lt;int&gt; | diretor &lt;chr&gt; | duracao &lt;int&gt; | cor &lt;chr&gt; | generos &lt;chr&gt; | pais &lt;chr&gt; | classificacao &lt;chr&gt; | orcamento &lt;int&gt; | receita &lt;int&gt; | nota_imdb &lt;dbl&gt; | likes_facebook &lt;int&gt; | ator_1 &lt;chr&gt; | ator_2 &lt;chr&gt; | ator_3 &lt;chr&gt; |\n",
       "|---|---|---|---|---|---|---|---|---|---|---|---|---|---|---|\n",
       "| Avatar                                              | 2009 | James Cameron     | 178 | Color | Action|Adventure|Fantasy|Sci-Fi           | USA | A partir de 13 anos | 237000000 | 760505847 | 7.9 |  33000 | CCH Pounder          | Joel David Moore   | Wes Studi            |\n",
       "| Pirates of the Caribbean: At World's End            | 2007 | Gore Verbinski    | 169 | Color | Action|Adventure|Fantasy                  | USA | A partir de 13 anos | 300000000 | 309404152 | 7.1 |      0 | Johnny Depp          | Orlando Bloom      | Jack Davenport       |\n",
       "| The Dark Knight Rises                               | 2012 | Christopher Nolan | 164 | Color | Action|Thriller                           | USA | A partir de 13 anos | 250000000 | 448130642 | 8.5 | 164000 | Tom Hardy            | Christian Bale     | Joseph Gordon-Levitt |\n",
       "| Spider-Man 3                                        | 2007 | Sam Raimi         | 156 | Color | Action|Adventure|Romance                  | USA | A partir de 13 anos | 258000000 | 336530303 | 6.2 |      0 | J.K. Simmons         | James Franco       | Kirsten Dunst        |\n",
       "| Avengers: Age of Ultron                             | 2015 | Joss Whedon       | 141 | Color | Action|Adventure|Sci-Fi                   | USA | A partir de 13 anos | 250000000 | 458991599 | 7.5 | 118000 | Chris Hemsworth      | Robert Downey Jr.  | Scarlett Johansson   |\n",
       "| Batman v Superman: Dawn of Justice                  | 2016 | Zack Snyder       | 183 | Color | Action|Adventure|Sci-Fi                   | USA | A partir de 13 anos | 250000000 | 330249062 | 6.9 | 197000 | Henry Cavill         | Lauren Cohan       | Alan D. Purwin       |\n",
       "| Pirates of the Caribbean: Dead Man's Chest          | 2006 | Gore Verbinski    | 151 | Color | Action|Adventure|Fantasy                  | USA | A partir de 13 anos | 225000000 | 423032628 | 7.3 |   5000 | Johnny Depp          | Orlando Bloom      | Jack Davenport       |\n",
       "| Man of Steel                                        | 2013 | Zack Snyder       | 143 | Color | Action|Adventure|Fantasy|Sci-Fi           | USA | A partir de 13 anos | 225000000 | 291021565 | 7.2 | 118000 | Henry Cavill         | Christopher Meloni | Harry Lennix         |\n",
       "| The Avengers                                        | 2012 | Joss Whedon       | 173 | Color | Action|Adventure|Sci-Fi                   | USA | A partir de 13 anos | 220000000 | 623279547 | 8.1 | 123000 | Chris Hemsworth      | Robert Downey Jr.  | Scarlett Johansson   |\n",
       "| The Amazing Spider-Man                              | 2012 | Marc Webb         | 153 | Color | Action|Adventure|Fantasy                  | USA | A partir de 13 anos | 230000000 | 262030663 | 7.0 |  56000 | Emma Stone           | Andrew Garfield    | Chris Zylka          |\n",
       "| The Hobbit: The Desolation of Smaug                 | 2013 | Peter Jackson     | 186 | Color | Adventure|Fantasy                         | USA | A partir de 13 anos | 225000000 | 258355354 | 7.9 |  83000 | Aidan Turner         | Adam Brown         | James Nesbitt        |\n",
       "| Titanic                                             | 1997 | James Cameron     | 194 | Color | Drama|Romance                             | USA | A partir de 13 anos | 200000000 | 658672302 | 7.7 |  26000 | Leonardo DiCaprio    | Kate Winslet       | Gloria Stuart        |\n",
       "| Captain America: Civil War                          | 2016 | Anthony Russo     | 147 | Color | Action|Adventure|Sci-Fi                   | USA | A partir de 13 anos | 250000000 | 407197282 | 8.2 |  72000 | Robert Downey Jr.    | Scarlett Johansson | Chris Evans          |\n",
       "| Jurassic World                                      | 2015 | Colin Trevorrow   | 124 | Color | Action|Adventure|Sci-Fi|Thriller          | USA | A partir de 13 anos | 150000000 | 652177271 | 7.0 | 150000 | Bryce Dallas Howard  | Judy Greer         | Omar Sy              |\n",
       "| Spider-Man 2                                        | 2004 | Sam Raimi         | 135 | Color | Action|Adventure|Fantasy|Romance          | USA | A partir de 13 anos | 200000000 | 373377893 | 7.3 |      0 | J.K. Simmons         | James Franco       | Kirsten Dunst        |\n",
       "| Iron Man 3                                          | 2013 | Shane Black       | 195 | Color | Action|Adventure|Sci-Fi                   | USA | A partir de 13 anos | 200000000 | 408992272 | 7.2 |  95000 | Robert Downey Jr.    | Jon Favreau        | Don Cheadle          |\n",
       "| Alice in Wonderland                                 | 2010 | Tim Burton        | 108 | Color | Adventure|Family|Fantasy                  | USA | Livre               | 200000000 | 334185206 | 6.5 |  24000 | Johnny Depp          | Alan Rickman       | Anne Hathaway        |\n",
       "| Monsters University                                 | 2013 | Dan Scanlon       | 104 | Color | Adventure|Animation|Comedy|Family|Fantasy | USA | Outros              | 200000000 | 268488329 | 7.3 |  44000 | Steve Buscemi        | Tyler Labine       | Sean Hayes           |\n",
       "| Transformers: Revenge of the Fallen                 | 2009 | Michael Bay       | 150 | Color | Action|Adventure|Sci-Fi                   | USA | A partir de 13 anos | 200000000 | 402076689 | 6.0 |      0 | Glenn Morshower      | Kevin Dunn         | Ramon Rodriguez      |\n",
       "| Transformers: Age of Extinction                     | 2014 | Michael Bay       | 165 | Color | Action|Adventure|Sci-Fi                   | USA | A partir de 13 anos | 210000000 | 245428137 | 5.7 |  56000 | Bingbing Li          | Sophia Myles       | Kelsey Grammer       |\n",
       "| Oz the Great and Powerful                           | 2013 | Sam Raimi         | 130 | Color | Adventure|Family|Fantasy                  | USA | Livre               | 215000000 | 234903076 | 6.4 |  60000 | Tim Holmes           | Mila Kunis         | James Franco         |\n",
       "| The Amazing Spider-Man 2                            | 2014 | Marc Webb         | 142 | Color | Action|Adventure|Fantasy|Sci-Fi           | USA | A partir de 13 anos | 200000000 | 202853933 | 6.7 |  41000 | Emma Stone           | Andrew Garfield    | B.J. Novak           |\n",
       "| TRON: Legacy                                        | 2010 | Joseph Kosinski   | 125 | Color | Action|Adventure|Sci-Fi                   | USA | Livre               | 170000000 | 172051787 | 6.8 |  30000 | Jeff Bridges         | Olivia Wilde       | James Frain          |\n",
       "| Toy Story 3                                         | 2010 | Lee Unkrich       | 103 | Color | Adventure|Animation|Comedy|Family|Fantasy | USA | Outros              | 200000000 | 414984497 | 8.3 |  30000 | Tom Hanks            | John Ratzenberger  | Don Rickles          |\n",
       "| Furious 7                                           | 2015 | James Wan         | 140 | Color | Action|Crime|Thriller                     | USA | A partir de 13 anos | 190000000 | 350034110 | 7.2 |  94000 | Jason Statham        | Paul Walker        | Vin Diesel           |\n",
       "| World War Z                                         | 2013 | Marc Forster      | 123 | Color | Action|Adventure|Horror|Sci-Fi|Thriller   | USA | A partir de 13 anos | 190000000 | 202351611 | 7.0 | 129000 | Peter Capaldi        | Brad Pitt          | Mireille Enos        |\n",
       "| X-Men: Days of Future Past                          | 2014 | Bryan Singer      | 149 | Color | Action|Adventure|Fantasy|Sci-Fi|Thriller  | USA | A partir de 13 anos | 200000000 | 233914986 | 8.0 |  82000 | Jennifer Lawrence    | Peter Dinklage     | Hugh Jackman         |\n",
       "| Star Trek Into Darkness                             | 2013 | J.J. Abrams       | 132 | Color | Action|Adventure|Sci-Fi                   | USA | A partir de 13 anos | 190000000 | 228756232 | 7.8 |  92000 | Benedict Cumberbatch | Bruce Greenwood    | Noel Clarke          |\n",
       "| Transformers: Dark of the Moon                      | 2011 | Michael Bay       | 154 | Color | Action|Adventure|Sci-Fi                   | USA | A partir de 13 anos | 195000000 | 352358779 | 6.3 |  46000 | Glenn Morshower      | Lester Speight     | Kevin Dunn           |\n",
       "| Indiana Jones and the Kingdom of the Crystal Skull  | 2008 | Steven Spielberg  | 122 | Color | Action|Adventure|Fantasy                  | USA | A partir de 13 anos | 185000000 | 317011114 | 6.2 |   5000 | Harrison Ford        | Ray Winstone       | Jim Broadbent        |\n",
       "| ... | ... | ... | ... | ... | ... | ... | ... | ... | ... | ... | ... | ... | ... | ... |\n",
       "| Side Effects                       | 2013 | Steven Soderbergh  | 106 | Color           | Crime|Drama|Thriller                | USA | A partir de 18 anos | 30000000 | 32154410 | 7.1 | 29000 | Channing Tatum      | David Costabile     | Katie Lowes         |\n",
       "| She's Gotta Have It                | 1986 | Spike Lee          |  88 | Black and White | Comedy|Romance                      | USA | A partir de 18 anos |   175000 |  7137502 | 6.5 |   406 | S. Epatha Merkerson | Joie Lee            | Tracy Camilla Johns |\n",
       "| Another Earth                      | 2011 | Mike Cahill        |  92 | Color           | Drama|Romance|Sci-Fi                | USA | A partir de 13 anos |   100000 |  1316074 | 7.0 | 21000 | Robin Lord Taylor   | William Mapother    | Flint Beverage      |\n",
       "| Sweet Sweetback's Baadasssss Song  | 1971 | Melvin Van Peebles |  97 | Color           | Crime|Drama|Thriller                | USA | A partir de 18 anos |   500000 | 15180000 | 5.5 |   566 | John Amos           | Mario Van Peebles   | Melvin Van Peebles  |\n",
       "| Tadpole                            | 2000 | Gary Winick        |  78 | Color           | Comedy|Drama|Romance                | USA | A partir de 13 anos |   150000 |  2882062 | 6.3 |   132 | Bebe Neuwirth       | Aaron Stanford      | Ron Rifkin          |\n",
       "| The Texas Chain Saw Massacre       | 1974 | Tobe Hooper        |  88 | Color           | Horror|Thriller                     | USA | A partir de 18 anos |    83532 | 30859000 | 7.5 |     0 | Gunnar Hansen       | Edwin Neal          | Marilyn Burns       |\n",
       "| Roger &amp; Me                         | 1989 | Michael Moore      |  91 | Color           | Documentary                         | USA | A partir de 18 anos |   160000 |  6706368 | 7.5 |   667 | Michael Moore       | Pat Boone           | Bob Eubanks         |\n",
       "| Your Sister's Sister               | 2011 | Lynn Shelton       |  90 | Color           | Comedy|Drama                        | USA | A partir de 18 anos |   125000 |  1573712 | 6.7 |  3000 | Mark Duplass        | Mike Birbiglia      | Mel Eslyn           |\n",
       "| Facing the Giants                  | 2006 | Alex Kendrick      | 111 | Color           | Drama|Sport                         | USA | Livre               |   100000 | 10174663 | 6.7 |     0 | Alex Kendrick       | Erin Bethea         | Shannen Fields      |\n",
       "| The Gallows                        | 2015 | Travis Cluff       |  81 | Color           | Horror|Thriller                     | USA | A partir de 18 anos |   100000 | 22757819 | 4.2 |     0 | Pfeifer Brown       | Cassidy Gifford     | Reese Mishler       |\n",
       "| Over the Hill to the Poorhouse     | 1920 | Harry F. Millarde  | 110 | Black and White | Crime|Drama                         | USA | Outros              |   100000 |  3000000 | 4.8 |     0 | Stephen Carr        | Johnnie Walker      | Mary Carr           |\n",
       "| Hollywood Shuffle                  | 1987 | Robert Townsend    |  81 | Color           | Comedy                              | USA | A partir de 18 anos |   100000 |  5228617 | 7.0 |   471 | Robert Townsend     | Keenen Ivory Wayans | Helen Martin        |\n",
       "| The Lost Skeleton of Cadavra       | 2001 | Larry Blamire      |  90 | Black and White | Comedy|Horror|Sci-Fi                | USA | Livre               |    40000 |   110536 | 7.0 |     0 | Fay Masterson       | Brian Howe          | Larry Blamire       |\n",
       "| The Last House on the Left         | 2009 | Dennis Iliadis     | 114 | Color           | Crime|Horror|Thriller               | USA | A partir de 18 anos | 15000000 | 32721635 | 6.6 |     0 | Tony Goldwyn        | Monica Potter       | Martha MacIsaac     |\n",
       "| Pi                                 | 1998 | Darren Aronofsky   |  84 | Black and White | Drama|Mystery|Thriller              | USA | A partir de 18 anos |    60000 |  3216970 | 7.5 | 24000 | Mark Margolis       | Clint Mansell       | Stanley B. Herman   |\n",
       "| 20 Dates                           | 1998 | Myles Berkowitz    |  87 | Color           | Biography|Comedy|Romance            | USA | A partir de 18 anos |    60000 |   536767 | 5.3 |    30 | Tia Carrere         | Tom Ardavany        | Robert McKee        |\n",
       "| Super Size Me                      | 2004 | Morgan Spurlock    | 100 | Color           | Comedy|Documentary|Drama            | USA | Livre               |    65000 | 11529368 | 7.3 |     0 | Chemeeka Walker     | Amanda Kearsan      | Amelia Giancarlo    |\n",
       "| The Brothers McMullen              | 1995 | Edward Burns       |  98 | Color           | Comedy|Drama|Romance                | USA | A partir de 18 anos |    25000 | 10246600 | 6.6 |   265 | Shari Albert        | Michael McGlone     | Maxine Bahns        |\n",
       "| Tiny Furniture                     | 2010 | Lena Dunham        |  98 | Color           | Comedy|Drama|Romance                | USA | Outros              |    65000 |   389804 | 6.3 |     0 | Lena Dunham         | Merritt Wever       | Jemima Kirke        |\n",
       "| George Washington                  | 2000 | David Gordon Green |  90 | Color           | Drama                               | USA | Outros              |    42000 |   241816 | 7.5 |   451 | Paul Schneider      | Eddie Rouse         | Damian Jewan Lee    |\n",
       "| Smiling Fish &amp; Goat on Fire        | 1999 | Kevin Jordan       |  90 | Color           | Comedy|Romance                      | USA | A partir de 18 anos |    40000 |   277233 | 7.6 |     0 | Derick Martini      | Christa Miller      | Ion Overman         |\n",
       "| The Legend of God's Gun            | 2007 | Mike Bruce         |  78 | Color           | Western                             | USA | A partir de 18 anos |    30000 |   243768 | 4.1 |    13 | Joseph Campanella   | Kirpatrick Thomas   | Christian Anderson  |\n",
       "| Clerks                             | 1994 | Kevin Smith        | 102 | Black and White | Comedy                              | USA | A partir de 18 anos |   230000 |  3151130 | 7.8 |     0 | Jason Mewes         | Brian O'Halloran    | Jeff Anderson       |\n",
       "| Slacker                            | 1991 | Richard Linklater  | 100 | Black and White | Comedy|Drama                        | USA | A partir de 18 anos |    23000 |  1227508 | 7.1 |  2000 | Tommy Pallotta      | Richard Linklater   | Jean Caffeine       |\n",
       "| The Puffy Chair                    | 2005 | Jay Duplass        |  85 | Color           | Comedy|Drama|Romance                | USA | A partir de 18 anos |    15000 |   192467 | 6.6 |   297 | Mark Duplass        | Katie Aselton       | Bari Hyman          |\n",
       "| Breaking Upwards                   | 2009 | Daryl Wein         |  88 | Color           | Romance                             | USA | Outros              |    15000 |    76382 | 6.2 |   324 | Zoe Lister-Jones    | Heather Burns       | Ebon Moss-Bachrach  |\n",
       "| Pink Flamingos                     | 1972 | John Waters        | 108 | Color           | Comedy|Crime|Horror                 | USA | A partir de 18 anos |    10000 |   180483 | 6.1 |     0 | Divine              | Mink Stole          | Edith Massey        |\n",
       "| Primer                             | 2004 | Shane Carruth      |  77 | Color           | Drama|Sci-Fi|Thriller               | USA | A partir de 13 anos |     7000 |   424760 | 7.0 | 19000 | Shane Carruth       | David Sullivan      | Casey Gooden        |\n",
       "| El Mariachi                        | 1992 | Robert Rodriguez   |  81 | Color           | Action|Crime|Drama|Romance|Thriller | USA | A partir de 18 anos |     7000 |  2040920 | 6.9 |     0 | Carlos Gallardo     | Peter Marquardt     | Consuelo Gómez      |\n",
       "| My Date with Drew                  | 2004 | Jon Gunn           |  90 | Color           | Documentary                         | USA | Livre               |     1100 |    85222 | 6.6 |   456 | John August         | Brian Herzlinger    | Jon Gunn            |\n",
       "\n"
      ],
      "text/plain": [
       "     titulo                                              ano \n",
       "1    Avatar                                              2009\n",
       "2    Pirates of the Caribbean: At World's End            2007\n",
       "3    The Dark Knight Rises                               2012\n",
       "4    Spider-Man 3                                        2007\n",
       "5    Avengers: Age of Ultron                             2015\n",
       "6    Batman v Superman: Dawn of Justice                  2016\n",
       "7    Pirates of the Caribbean: Dead Man's Chest          2006\n",
       "8    Man of Steel                                        2013\n",
       "9    The Avengers                                        2012\n",
       "10   The Amazing Spider-Man                              2012\n",
       "11   The Hobbit: The Desolation of Smaug                 2013\n",
       "12   Titanic                                             1997\n",
       "13   Captain America: Civil War                          2016\n",
       "14   Jurassic World                                      2015\n",
       "15   Spider-Man 2                                        2004\n",
       "16   Iron Man 3                                          2013\n",
       "17   Alice in Wonderland                                 2010\n",
       "18   Monsters University                                 2013\n",
       "19   Transformers: Revenge of the Fallen                 2009\n",
       "20   Transformers: Age of Extinction                     2014\n",
       "21   Oz the Great and Powerful                           2013\n",
       "22   The Amazing Spider-Man 2                            2014\n",
       "23   TRON: Legacy                                        2010\n",
       "24   Toy Story 3                                         2010\n",
       "25   Furious 7                                           2015\n",
       "26   World War Z                                         2013\n",
       "27   X-Men: Days of Future Past                          2014\n",
       "28   Star Trek Into Darkness                             2013\n",
       "29   Transformers: Dark of the Moon                      2011\n",
       "30   Indiana Jones and the Kingdom of the Crystal Skull  2008\n",
       "...  ...                                                 ... \n",
       "1733 Side Effects                                        2013\n",
       "1734 She's Gotta Have It                                 1986\n",
       "1735 Another Earth                                       2011\n",
       "1736 Sweet Sweetback's Baadasssss Song                   1971\n",
       "1737 Tadpole                                             2000\n",
       "1738 The Texas Chain Saw Massacre                        1974\n",
       "1739 Roger & Me                                          1989\n",
       "1740 Your Sister's Sister                                2011\n",
       "1741 Facing the Giants                                   2006\n",
       "1742 The Gallows                                         2015\n",
       "1743 Over the Hill to the Poorhouse                      1920\n",
       "1744 Hollywood Shuffle                                   1987\n",
       "1745 The Lost Skeleton of Cadavra                        2001\n",
       "1746 The Last House on the Left                          2009\n",
       "1747 Pi                                                  1998\n",
       "1748 20 Dates                                            1998\n",
       "1749 Super Size Me                                       2004\n",
       "1750 The Brothers McMullen                               1995\n",
       "1751 Tiny Furniture                                      2010\n",
       "1752 George Washington                                   2000\n",
       "1753 Smiling Fish & Goat on Fire                         1999\n",
       "1754 The Legend of God's Gun                             2007\n",
       "1755 Clerks                                              1994\n",
       "1756 Slacker                                             1991\n",
       "1757 The Puffy Chair                                     2005\n",
       "1758 Breaking Upwards                                    2009\n",
       "1759 Pink Flamingos                                      1972\n",
       "1760 Primer                                              2004\n",
       "1761 El Mariachi                                         1992\n",
       "1762 My Date with Drew                                   2004\n",
       "     diretor            duracao cor            \n",
       "1    James Cameron      178     Color          \n",
       "2    Gore Verbinski     169     Color          \n",
       "3    Christopher Nolan  164     Color          \n",
       "4    Sam Raimi          156     Color          \n",
       "5    Joss Whedon        141     Color          \n",
       "6    Zack Snyder        183     Color          \n",
       "7    Gore Verbinski     151     Color          \n",
       "8    Zack Snyder        143     Color          \n",
       "9    Joss Whedon        173     Color          \n",
       "10   Marc Webb          153     Color          \n",
       "11   Peter Jackson      186     Color          \n",
       "12   James Cameron      194     Color          \n",
       "13   Anthony Russo      147     Color          \n",
       "14   Colin Trevorrow    124     Color          \n",
       "15   Sam Raimi          135     Color          \n",
       "16   Shane Black        195     Color          \n",
       "17   Tim Burton         108     Color          \n",
       "18   Dan Scanlon        104     Color          \n",
       "19   Michael Bay        150     Color          \n",
       "20   Michael Bay        165     Color          \n",
       "21   Sam Raimi          130     Color          \n",
       "22   Marc Webb          142     Color          \n",
       "23   Joseph Kosinski    125     Color          \n",
       "24   Lee Unkrich        103     Color          \n",
       "25   James Wan          140     Color          \n",
       "26   Marc Forster       123     Color          \n",
       "27   Bryan Singer       149     Color          \n",
       "28   J.J. Abrams        132     Color          \n",
       "29   Michael Bay        154     Color          \n",
       "30   Steven Spielberg   122     Color          \n",
       "...  ...                ...     ...            \n",
       "1733 Steven Soderbergh  106     Color          \n",
       "1734 Spike Lee           88     Black and White\n",
       "1735 Mike Cahill         92     Color          \n",
       "1736 Melvin Van Peebles  97     Color          \n",
       "1737 Gary Winick         78     Color          \n",
       "1738 Tobe Hooper         88     Color          \n",
       "1739 Michael Moore       91     Color          \n",
       "1740 Lynn Shelton        90     Color          \n",
       "1741 Alex Kendrick      111     Color          \n",
       "1742 Travis Cluff        81     Color          \n",
       "1743 Harry F. Millarde  110     Black and White\n",
       "1744 Robert Townsend     81     Color          \n",
       "1745 Larry Blamire       90     Black and White\n",
       "1746 Dennis Iliadis     114     Color          \n",
       "1747 Darren Aronofsky    84     Black and White\n",
       "1748 Myles Berkowitz     87     Color          \n",
       "1749 Morgan Spurlock    100     Color          \n",
       "1750 Edward Burns        98     Color          \n",
       "1751 Lena Dunham         98     Color          \n",
       "1752 David Gordon Green  90     Color          \n",
       "1753 Kevin Jordan        90     Color          \n",
       "1754 Mike Bruce          78     Color          \n",
       "1755 Kevin Smith        102     Black and White\n",
       "1756 Richard Linklater  100     Black and White\n",
       "1757 Jay Duplass         85     Color          \n",
       "1758 Daryl Wein          88     Color          \n",
       "1759 John Waters        108     Color          \n",
       "1760 Shane Carruth       77     Color          \n",
       "1761 Robert Rodriguez    81     Color          \n",
       "1762 Jon Gunn            90     Color          \n",
       "     generos                                   pais classificacao      \n",
       "1    Action|Adventure|Fantasy|Sci-Fi           USA  A partir de 13 anos\n",
       "2    Action|Adventure|Fantasy                  USA  A partir de 13 anos\n",
       "3    Action|Thriller                           USA  A partir de 13 anos\n",
       "4    Action|Adventure|Romance                  USA  A partir de 13 anos\n",
       "5    Action|Adventure|Sci-Fi                   USA  A partir de 13 anos\n",
       "6    Action|Adventure|Sci-Fi                   USA  A partir de 13 anos\n",
       "7    Action|Adventure|Fantasy                  USA  A partir de 13 anos\n",
       "8    Action|Adventure|Fantasy|Sci-Fi           USA  A partir de 13 anos\n",
       "9    Action|Adventure|Sci-Fi                   USA  A partir de 13 anos\n",
       "10   Action|Adventure|Fantasy                  USA  A partir de 13 anos\n",
       "11   Adventure|Fantasy                         USA  A partir de 13 anos\n",
       "12   Drama|Romance                             USA  A partir de 13 anos\n",
       "13   Action|Adventure|Sci-Fi                   USA  A partir de 13 anos\n",
       "14   Action|Adventure|Sci-Fi|Thriller          USA  A partir de 13 anos\n",
       "15   Action|Adventure|Fantasy|Romance          USA  A partir de 13 anos\n",
       "16   Action|Adventure|Sci-Fi                   USA  A partir de 13 anos\n",
       "17   Adventure|Family|Fantasy                  USA  Livre              \n",
       "18   Adventure|Animation|Comedy|Family|Fantasy USA  Outros             \n",
       "19   Action|Adventure|Sci-Fi                   USA  A partir de 13 anos\n",
       "20   Action|Adventure|Sci-Fi                   USA  A partir de 13 anos\n",
       "21   Adventure|Family|Fantasy                  USA  Livre              \n",
       "22   Action|Adventure|Fantasy|Sci-Fi           USA  A partir de 13 anos\n",
       "23   Action|Adventure|Sci-Fi                   USA  Livre              \n",
       "24   Adventure|Animation|Comedy|Family|Fantasy USA  Outros             \n",
       "25   Action|Crime|Thriller                     USA  A partir de 13 anos\n",
       "26   Action|Adventure|Horror|Sci-Fi|Thriller   USA  A partir de 13 anos\n",
       "27   Action|Adventure|Fantasy|Sci-Fi|Thriller  USA  A partir de 13 anos\n",
       "28   Action|Adventure|Sci-Fi                   USA  A partir de 13 anos\n",
       "29   Action|Adventure|Sci-Fi                   USA  A partir de 13 anos\n",
       "30   Action|Adventure|Fantasy                  USA  A partir de 13 anos\n",
       "...  ...                                       ...  ...                \n",
       "1733 Crime|Drama|Thriller                      USA  A partir de 18 anos\n",
       "1734 Comedy|Romance                            USA  A partir de 18 anos\n",
       "1735 Drama|Romance|Sci-Fi                      USA  A partir de 13 anos\n",
       "1736 Crime|Drama|Thriller                      USA  A partir de 18 anos\n",
       "1737 Comedy|Drama|Romance                      USA  A partir de 13 anos\n",
       "1738 Horror|Thriller                           USA  A partir de 18 anos\n",
       "1739 Documentary                               USA  A partir de 18 anos\n",
       "1740 Comedy|Drama                              USA  A partir de 18 anos\n",
       "1741 Drama|Sport                               USA  Livre              \n",
       "1742 Horror|Thriller                           USA  A partir de 18 anos\n",
       "1743 Crime|Drama                               USA  Outros             \n",
       "1744 Comedy                                    USA  A partir de 18 anos\n",
       "1745 Comedy|Horror|Sci-Fi                      USA  Livre              \n",
       "1746 Crime|Horror|Thriller                     USA  A partir de 18 anos\n",
       "1747 Drama|Mystery|Thriller                    USA  A partir de 18 anos\n",
       "1748 Biography|Comedy|Romance                  USA  A partir de 18 anos\n",
       "1749 Comedy|Documentary|Drama                  USA  Livre              \n",
       "1750 Comedy|Drama|Romance                      USA  A partir de 18 anos\n",
       "1751 Comedy|Drama|Romance                      USA  Outros             \n",
       "1752 Drama                                     USA  Outros             \n",
       "1753 Comedy|Romance                            USA  A partir de 18 anos\n",
       "1754 Western                                   USA  A partir de 18 anos\n",
       "1755 Comedy                                    USA  A partir de 18 anos\n",
       "1756 Comedy|Drama                              USA  A partir de 18 anos\n",
       "1757 Comedy|Drama|Romance                      USA  A partir de 18 anos\n",
       "1758 Romance                                   USA  Outros             \n",
       "1759 Comedy|Crime|Horror                       USA  A partir de 18 anos\n",
       "1760 Drama|Sci-Fi|Thriller                     USA  A partir de 13 anos\n",
       "1761 Action|Crime|Drama|Romance|Thriller       USA  A partir de 18 anos\n",
       "1762 Documentary                               USA  Livre              \n",
       "     orcamento receita   nota_imdb likes_facebook ator_1              \n",
       "1    237000000 760505847 7.9        33000         CCH Pounder         \n",
       "2    300000000 309404152 7.1            0         Johnny Depp         \n",
       "3    250000000 448130642 8.5       164000         Tom Hardy           \n",
       "4    258000000 336530303 6.2            0         J.K. Simmons        \n",
       "5    250000000 458991599 7.5       118000         Chris Hemsworth     \n",
       "6    250000000 330249062 6.9       197000         Henry Cavill        \n",
       "7    225000000 423032628 7.3         5000         Johnny Depp         \n",
       "8    225000000 291021565 7.2       118000         Henry Cavill        \n",
       "9    220000000 623279547 8.1       123000         Chris Hemsworth     \n",
       "10   230000000 262030663 7.0        56000         Emma Stone          \n",
       "11   225000000 258355354 7.9        83000         Aidan Turner        \n",
       "12   200000000 658672302 7.7        26000         Leonardo DiCaprio   \n",
       "13   250000000 407197282 8.2        72000         Robert Downey Jr.   \n",
       "14   150000000 652177271 7.0       150000         Bryce Dallas Howard \n",
       "15   200000000 373377893 7.3            0         J.K. Simmons        \n",
       "16   200000000 408992272 7.2        95000         Robert Downey Jr.   \n",
       "17   200000000 334185206 6.5        24000         Johnny Depp         \n",
       "18   200000000 268488329 7.3        44000         Steve Buscemi       \n",
       "19   200000000 402076689 6.0            0         Glenn Morshower     \n",
       "20   210000000 245428137 5.7        56000         Bingbing Li         \n",
       "21   215000000 234903076 6.4        60000         Tim Holmes          \n",
       "22   200000000 202853933 6.7        41000         Emma Stone          \n",
       "23   170000000 172051787 6.8        30000         Jeff Bridges        \n",
       "24   200000000 414984497 8.3        30000         Tom Hanks           \n",
       "25   190000000 350034110 7.2        94000         Jason Statham       \n",
       "26   190000000 202351611 7.0       129000         Peter Capaldi       \n",
       "27   200000000 233914986 8.0        82000         Jennifer Lawrence   \n",
       "28   190000000 228756232 7.8        92000         Benedict Cumberbatch\n",
       "29   195000000 352358779 6.3        46000         Glenn Morshower     \n",
       "30   185000000 317011114 6.2         5000         Harrison Ford       \n",
       "...  ...       ...       ...       ...            ...                 \n",
       "1733 30000000  32154410  7.1       29000          Channing Tatum      \n",
       "1734   175000   7137502  6.5         406          S. Epatha Merkerson \n",
       "1735   100000   1316074  7.0       21000          Robin Lord Taylor   \n",
       "1736   500000  15180000  5.5         566          John Amos           \n",
       "1737   150000   2882062  6.3         132          Bebe Neuwirth       \n",
       "1738    83532  30859000  7.5           0          Gunnar Hansen       \n",
       "1739   160000   6706368  7.5         667          Michael Moore       \n",
       "1740   125000   1573712  6.7        3000          Mark Duplass        \n",
       "1741   100000  10174663  6.7           0          Alex Kendrick       \n",
       "1742   100000  22757819  4.2           0          Pfeifer Brown       \n",
       "1743   100000   3000000  4.8           0          Stephen Carr        \n",
       "1744   100000   5228617  7.0         471          Robert Townsend     \n",
       "1745    40000    110536  7.0           0          Fay Masterson       \n",
       "1746 15000000  32721635  6.6           0          Tony Goldwyn        \n",
       "1747    60000   3216970  7.5       24000          Mark Margolis       \n",
       "1748    60000    536767  5.3          30          Tia Carrere         \n",
       "1749    65000  11529368  7.3           0          Chemeeka Walker     \n",
       "1750    25000  10246600  6.6         265          Shari Albert        \n",
       "1751    65000    389804  6.3           0          Lena Dunham         \n",
       "1752    42000    241816  7.5         451          Paul Schneider      \n",
       "1753    40000    277233  7.6           0          Derick Martini      \n",
       "1754    30000    243768  4.1          13          Joseph Campanella   \n",
       "1755   230000   3151130  7.8           0          Jason Mewes         \n",
       "1756    23000   1227508  7.1        2000          Tommy Pallotta      \n",
       "1757    15000    192467  6.6         297          Mark Duplass        \n",
       "1758    15000     76382  6.2         324          Zoe Lister-Jones    \n",
       "1759    10000    180483  6.1           0          Divine              \n",
       "1760     7000    424760  7.0       19000          Shane Carruth       \n",
       "1761     7000   2040920  6.9           0          Carlos Gallardo     \n",
       "1762     1100     85222  6.6         456          John August         \n",
       "     ator_2              ator_3              \n",
       "1    Joel David Moore    Wes Studi           \n",
       "2    Orlando Bloom       Jack Davenport      \n",
       "3    Christian Bale      Joseph Gordon-Levitt\n",
       "4    James Franco        Kirsten Dunst       \n",
       "5    Robert Downey Jr.   Scarlett Johansson  \n",
       "6    Lauren Cohan        Alan D. Purwin      \n",
       "7    Orlando Bloom       Jack Davenport      \n",
       "8    Christopher Meloni  Harry Lennix        \n",
       "9    Robert Downey Jr.   Scarlett Johansson  \n",
       "10   Andrew Garfield     Chris Zylka         \n",
       "11   Adam Brown          James Nesbitt       \n",
       "12   Kate Winslet        Gloria Stuart       \n",
       "13   Scarlett Johansson  Chris Evans         \n",
       "14   Judy Greer          Omar Sy             \n",
       "15   James Franco        Kirsten Dunst       \n",
       "16   Jon Favreau         Don Cheadle         \n",
       "17   Alan Rickman        Anne Hathaway       \n",
       "18   Tyler Labine        Sean Hayes          \n",
       "19   Kevin Dunn          Ramon Rodriguez     \n",
       "20   Sophia Myles        Kelsey Grammer      \n",
       "21   Mila Kunis          James Franco        \n",
       "22   Andrew Garfield     B.J. Novak          \n",
       "23   Olivia Wilde        James Frain         \n",
       "24   John Ratzenberger   Don Rickles         \n",
       "25   Paul Walker         Vin Diesel          \n",
       "26   Brad Pitt           Mireille Enos       \n",
       "27   Peter Dinklage      Hugh Jackman        \n",
       "28   Bruce Greenwood     Noel Clarke         \n",
       "29   Lester Speight      Kevin Dunn          \n",
       "30   Ray Winstone        Jim Broadbent       \n",
       "...  ...                 ...                 \n",
       "1733 David Costabile     Katie Lowes         \n",
       "1734 Joie Lee            Tracy Camilla Johns \n",
       "1735 William Mapother    Flint Beverage      \n",
       "1736 Mario Van Peebles   Melvin Van Peebles  \n",
       "1737 Aaron Stanford      Ron Rifkin          \n",
       "1738 Edwin Neal          Marilyn Burns       \n",
       "1739 Pat Boone           Bob Eubanks         \n",
       "1740 Mike Birbiglia      Mel Eslyn           \n",
       "1741 Erin Bethea         Shannen Fields      \n",
       "1742 Cassidy Gifford     Reese Mishler       \n",
       "1743 Johnnie Walker      Mary Carr           \n",
       "1744 Keenen Ivory Wayans Helen Martin        \n",
       "1745 Brian Howe          Larry Blamire       \n",
       "1746 Monica Potter       Martha MacIsaac     \n",
       "1747 Clint Mansell       Stanley B. Herman   \n",
       "1748 Tom Ardavany        Robert McKee        \n",
       "1749 Amanda Kearsan      Amelia Giancarlo    \n",
       "1750 Michael McGlone     Maxine Bahns        \n",
       "1751 Merritt Wever       Jemima Kirke        \n",
       "1752 Eddie Rouse         Damian Jewan Lee    \n",
       "1753 Christa Miller      Ion Overman         \n",
       "1754 Kirpatrick Thomas   Christian Anderson  \n",
       "1755 Brian O'Halloran    Jeff Anderson       \n",
       "1756 Richard Linklater   Jean Caffeine       \n",
       "1757 Katie Aselton       Bari Hyman          \n",
       "1758 Heather Burns       Ebon Moss-Bachrach  \n",
       "1759 Mink Stole          Edith Massey        \n",
       "1760 David Sullivan      Casey Gooden        \n",
       "1761 Peter Marquardt     Consuelo Gómez      \n",
       "1762 Brian Herzlinger    Jon Gunn            "
      ]
     },
     "metadata": {},
     "output_type": "display_data"
    }
   ],
   "source": [
    "imdb %>% \n",
    "  filter(receita > orcamento | nota_imdb > 9)"
   ]
  },
  {
   "cell_type": "markdown",
   "metadata": {
    "slideshow": {
     "slide_type": "slide"
    }
   },
   "source": [
    "O operador %in% é muito útil na hora de criar filtros. O resultado das operações com %in% é um vetor lógico o tamanho do vetor do elemento da esquerda, identificando quais elementos da esquerda batem com algum elemento da direita."
   ]
  },
  {
   "cell_type": "code",
   "execution_count": 86,
   "metadata": {
    "slideshow": {
     "slide_type": "fragment"
    }
   },
   "outputs": [
    {
     "data": {
      "text/html": [
       "<style>\n",
       ".list-inline {list-style: none; margin:0; padding: 0}\n",
       ".list-inline>li {display: inline-block}\n",
       ".list-inline>li:not(:last-child)::after {content: \"\\00b7\"; padding: 0 .5ex}\n",
       "</style>\n",
       "<ol class=list-inline><li>'a'</li><li>'b'</li><li>'c'</li><li>'d'</li><li>'e'</li><li>'f'</li><li>'g'</li><li>'h'</li><li>'i'</li><li>'j'</li><li>'k'</li><li>'l'</li><li>'m'</li><li>'n'</li><li>'o'</li><li>'p'</li><li>'q'</li><li>'r'</li><li>'s'</li><li>'t'</li><li>'u'</li><li>'v'</li><li>'w'</li><li>'x'</li><li>'y'</li><li>'z'</li></ol>\n"
      ],
      "text/latex": [
       "\\begin{enumerate*}\n",
       "\\item 'a'\n",
       "\\item 'b'\n",
       "\\item 'c'\n",
       "\\item 'd'\n",
       "\\item 'e'\n",
       "\\item 'f'\n",
       "\\item 'g'\n",
       "\\item 'h'\n",
       "\\item 'i'\n",
       "\\item 'j'\n",
       "\\item 'k'\n",
       "\\item 'l'\n",
       "\\item 'm'\n",
       "\\item 'n'\n",
       "\\item 'o'\n",
       "\\item 'p'\n",
       "\\item 'q'\n",
       "\\item 'r'\n",
       "\\item 's'\n",
       "\\item 't'\n",
       "\\item 'u'\n",
       "\\item 'v'\n",
       "\\item 'w'\n",
       "\\item 'x'\n",
       "\\item 'y'\n",
       "\\item 'z'\n",
       "\\end{enumerate*}\n"
      ],
      "text/markdown": [
       "1. 'a'\n",
       "2. 'b'\n",
       "3. 'c'\n",
       "4. 'd'\n",
       "5. 'e'\n",
       "6. 'f'\n",
       "7. 'g'\n",
       "8. 'h'\n",
       "9. 'i'\n",
       "10. 'j'\n",
       "11. 'k'\n",
       "12. 'l'\n",
       "13. 'm'\n",
       "14. 'n'\n",
       "15. 'o'\n",
       "16. 'p'\n",
       "17. 'q'\n",
       "18. 'r'\n",
       "19. 's'\n",
       "20. 't'\n",
       "21. 'u'\n",
       "22. 'v'\n",
       "23. 'w'\n",
       "24. 'x'\n",
       "25. 'y'\n",
       "26. 'z'\n",
       "\n",
       "\n"
      ],
      "text/plain": [
       " [1] \"a\" \"b\" \"c\" \"d\" \"e\" \"f\" \"g\" \"h\" \"i\" \"j\" \"k\" \"l\" \"m\" \"n\" \"o\" \"p\" \"q\" \"r\" \"s\"\n",
       "[20] \"t\" \"u\" \"v\" \"w\" \"x\" \"y\" \"z\""
      ]
     },
     "metadata": {},
     "output_type": "display_data"
    }
   ],
   "source": [
    "letters"
   ]
  },
  {
   "cell_type": "code",
   "execution_count": 87,
   "metadata": {
    "slideshow": {
     "slide_type": "fragment"
    }
   },
   "outputs": [
    {
     "data": {
      "text/html": [
       "<style>\n",
       ".list-inline {list-style: none; margin:0; padding: 0}\n",
       ".list-inline>li {display: inline-block}\n",
       ".list-inline>li:not(:last-child)::after {content: \"\\00b7\"; padding: 0 .5ex}\n",
       "</style>\n",
       "<ol class=list-inline><li>TRUE</li><li>FALSE</li><li>FALSE</li><li>FALSE</li><li>TRUE</li><li>FALSE</li><li>FALSE</li><li>FALSE</li><li>FALSE</li><li>FALSE</li><li>FALSE</li><li>FALSE</li><li>FALSE</li><li>FALSE</li><li>FALSE</li><li>FALSE</li><li>FALSE</li><li>FALSE</li><li>FALSE</li><li>FALSE</li><li>FALSE</li><li>FALSE</li><li>FALSE</li><li>FALSE</li><li>FALSE</li><li>TRUE</li></ol>\n"
      ],
      "text/latex": [
       "\\begin{enumerate*}\n",
       "\\item TRUE\n",
       "\\item FALSE\n",
       "\\item FALSE\n",
       "\\item FALSE\n",
       "\\item TRUE\n",
       "\\item FALSE\n",
       "\\item FALSE\n",
       "\\item FALSE\n",
       "\\item FALSE\n",
       "\\item FALSE\n",
       "\\item FALSE\n",
       "\\item FALSE\n",
       "\\item FALSE\n",
       "\\item FALSE\n",
       "\\item FALSE\n",
       "\\item FALSE\n",
       "\\item FALSE\n",
       "\\item FALSE\n",
       "\\item FALSE\n",
       "\\item FALSE\n",
       "\\item FALSE\n",
       "\\item FALSE\n",
       "\\item FALSE\n",
       "\\item FALSE\n",
       "\\item FALSE\n",
       "\\item TRUE\n",
       "\\end{enumerate*}\n"
      ],
      "text/markdown": [
       "1. TRUE\n",
       "2. FALSE\n",
       "3. FALSE\n",
       "4. FALSE\n",
       "5. TRUE\n",
       "6. FALSE\n",
       "7. FALSE\n",
       "8. FALSE\n",
       "9. FALSE\n",
       "10. FALSE\n",
       "11. FALSE\n",
       "12. FALSE\n",
       "13. FALSE\n",
       "14. FALSE\n",
       "15. FALSE\n",
       "16. FALSE\n",
       "17. FALSE\n",
       "18. FALSE\n",
       "19. FALSE\n",
       "20. FALSE\n",
       "21. FALSE\n",
       "22. FALSE\n",
       "23. FALSE\n",
       "24. FALSE\n",
       "25. FALSE\n",
       "26. TRUE\n",
       "\n",
       "\n"
      ],
      "text/plain": [
       " [1]  TRUE FALSE FALSE FALSE  TRUE FALSE FALSE FALSE FALSE FALSE FALSE FALSE\n",
       "[13] FALSE FALSE FALSE FALSE FALSE FALSE FALSE FALSE FALSE FALSE FALSE FALSE\n",
       "[25] FALSE  TRUE"
      ]
     },
     "metadata": {},
     "output_type": "display_data"
    }
   ],
   "source": [
    "letters %in% c(\"a\", \"e\", \"z\")"
   ]
  },
  {
   "cell_type": "markdown",
   "metadata": {
    "slideshow": {
     "slide_type": "slide"
    }
   },
   "source": [
    "Agora vamos criar um filtro para os Filmes dos diretores Stven Spielberg e Quentin Tarantino"
   ]
  },
  {
   "cell_type": "code",
   "execution_count": 88,
   "metadata": {
    "slideshow": {
     "slide_type": "slide"
    }
   },
   "outputs": [
    {
     "data": {
      "text/html": [
       "<table>\n",
       "<caption>A tibble: 6 × 15</caption>\n",
       "<thead>\n",
       "\t<tr><th scope=col>titulo</th><th scope=col>ano</th><th scope=col>diretor</th><th scope=col>duracao</th><th scope=col>cor</th><th scope=col>generos</th><th scope=col>pais</th><th scope=col>classificacao</th><th scope=col>orcamento</th><th scope=col>receita</th><th scope=col>nota_imdb</th><th scope=col>likes_facebook</th><th scope=col>ator_1</th><th scope=col>ator_2</th><th scope=col>ator_3</th></tr>\n",
       "\t<tr><th scope=col>&lt;chr&gt;</th><th scope=col>&lt;int&gt;</th><th scope=col>&lt;chr&gt;</th><th scope=col>&lt;int&gt;</th><th scope=col>&lt;chr&gt;</th><th scope=col>&lt;chr&gt;</th><th scope=col>&lt;chr&gt;</th><th scope=col>&lt;chr&gt;</th><th scope=col>&lt;int&gt;</th><th scope=col>&lt;int&gt;</th><th scope=col>&lt;dbl&gt;</th><th scope=col>&lt;int&gt;</th><th scope=col>&lt;chr&gt;</th><th scope=col>&lt;chr&gt;</th><th scope=col>&lt;chr&gt;</th></tr>\n",
       "</thead>\n",
       "<tbody>\n",
       "\t<tr><td>Indiana Jones and the Kingdom of the Crystal Skull </td><td>2008</td><td>Steven Spielberg </td><td>122</td><td>Color</td><td>Action|Adventure|Fantasy       </td><td>USA</td><td>A partir de 13 anos</td><td>185000000</td><td>317011114</td><td>6.2</td><td>  5000</td><td>Harrison Ford    </td><td>Ray Winstone   </td><td>Jim Broadbent  </td></tr>\n",
       "\t<tr><td>War of the Worlds                                  </td><td>2005</td><td>Steven Spielberg </td><td>116</td><td>Color</td><td>Adventure|Sci-Fi|Thriller      </td><td>USA</td><td>A partir de 13 anos</td><td>132000000</td><td>234277056</td><td>6.5</td><td>     0</td><td>Tom Cruise       </td><td>Lisa Ann Walter</td><td>Rick Gonzalez  </td></tr>\n",
       "\t<tr><td>The Adventures of Tintin                           </td><td>2011</td><td>Steven Spielberg </td><td>107</td><td>Color</td><td>Action|Adventure|Family|Mystery</td><td>USA</td><td>Livre              </td><td>135000000</td><td> 77564037</td><td>7.4</td><td> 44000</td><td>Toby Jones       </td><td>Mackenzie Crook</td><td>Tony Curran    </td></tr>\n",
       "\t<tr><td>Minority Report                                    </td><td>2002</td><td>Steven Spielberg </td><td>145</td><td>Color</td><td>Action|Mystery|Sci-Fi|Thriller </td><td>USA</td><td>A partir de 13 anos</td><td>102000000</td><td>132014112</td><td>7.7</td><td>     0</td><td>Tom Cruise       </td><td>Frank Grillo   </td><td>Jessica Capshaw</td></tr>\n",
       "\t<tr><td>Django Unchained                                   </td><td>2012</td><td>Quentin Tarantino</td><td>165</td><td>Color</td><td>Drama|Western                  </td><td>USA</td><td>A partir de 18 anos</td><td>100000000</td><td>162804648</td><td>8.5</td><td>199000</td><td>Leonardo DiCaprio</td><td>Christoph Waltz</td><td>Ato Essandoh   </td></tr>\n",
       "\t<tr><td>A.I. Artificial Intelligence                       </td><td>2001</td><td>Steven Spielberg </td><td>146</td><td>Color</td><td>Adventure|Drama|Sci-Fi         </td><td>USA</td><td>A partir de 13 anos</td><td>100000000</td><td> 78616689</td><td>7.1</td><td> 11000</td><td>Haley Joel Osment</td><td>William Hurt   </td><td>Kevin Sussman  </td></tr>\n",
       "</tbody>\n",
       "</table>\n"
      ],
      "text/latex": [
       "A tibble: 6 × 15\n",
       "\\begin{tabular}{lllllllllllllll}\n",
       " titulo & ano & diretor & duracao & cor & generos & pais & classificacao & orcamento & receita & nota\\_imdb & likes\\_facebook & ator\\_1 & ator\\_2 & ator\\_3\\\\\n",
       " <chr> & <int> & <chr> & <int> & <chr> & <chr> & <chr> & <chr> & <int> & <int> & <dbl> & <int> & <chr> & <chr> & <chr>\\\\\n",
       "\\hline\n",
       "\t Indiana Jones and the Kingdom of the Crystal Skull  & 2008 & Steven Spielberg  & 122 & Color & Action\\textbar{}Adventure\\textbar{}Fantasy        & USA & A partir de 13 anos & 185000000 & 317011114 & 6.2 &   5000 & Harrison Ford     & Ray Winstone    & Jim Broadbent  \\\\\n",
       "\t War of the Worlds                                   & 2005 & Steven Spielberg  & 116 & Color & Adventure\\textbar{}Sci-Fi\\textbar{}Thriller       & USA & A partir de 13 anos & 132000000 & 234277056 & 6.5 &      0 & Tom Cruise        & Lisa Ann Walter & Rick Gonzalez  \\\\\n",
       "\t The Adventures of Tintin                            & 2011 & Steven Spielberg  & 107 & Color & Action\\textbar{}Adventure\\textbar{}Family\\textbar{}Mystery & USA & Livre               & 135000000 &  77564037 & 7.4 &  44000 & Toby Jones        & Mackenzie Crook & Tony Curran    \\\\\n",
       "\t Minority Report                                     & 2002 & Steven Spielberg  & 145 & Color & Action\\textbar{}Mystery\\textbar{}Sci-Fi\\textbar{}Thriller  & USA & A partir de 13 anos & 102000000 & 132014112 & 7.7 &      0 & Tom Cruise        & Frank Grillo    & Jessica Capshaw\\\\\n",
       "\t Django Unchained                                    & 2012 & Quentin Tarantino & 165 & Color & Drama\\textbar{}Western                   & USA & A partir de 18 anos & 100000000 & 162804648 & 8.5 & 199000 & Leonardo DiCaprio & Christoph Waltz & Ato Essandoh   \\\\\n",
       "\t A.I. Artificial Intelligence                        & 2001 & Steven Spielberg  & 146 & Color & Adventure\\textbar{}Drama\\textbar{}Sci-Fi          & USA & A partir de 13 anos & 100000000 &  78616689 & 7.1 &  11000 & Haley Joel Osment & William Hurt    & Kevin Sussman  \\\\\n",
       "\\end{tabular}\n"
      ],
      "text/markdown": [
       "\n",
       "A tibble: 6 × 15\n",
       "\n",
       "| titulo &lt;chr&gt; | ano &lt;int&gt; | diretor &lt;chr&gt; | duracao &lt;int&gt; | cor &lt;chr&gt; | generos &lt;chr&gt; | pais &lt;chr&gt; | classificacao &lt;chr&gt; | orcamento &lt;int&gt; | receita &lt;int&gt; | nota_imdb &lt;dbl&gt; | likes_facebook &lt;int&gt; | ator_1 &lt;chr&gt; | ator_2 &lt;chr&gt; | ator_3 &lt;chr&gt; |\n",
       "|---|---|---|---|---|---|---|---|---|---|---|---|---|---|---|\n",
       "| Indiana Jones and the Kingdom of the Crystal Skull  | 2008 | Steven Spielberg  | 122 | Color | Action|Adventure|Fantasy        | USA | A partir de 13 anos | 185000000 | 317011114 | 6.2 |   5000 | Harrison Ford     | Ray Winstone    | Jim Broadbent   |\n",
       "| War of the Worlds                                   | 2005 | Steven Spielberg  | 116 | Color | Adventure|Sci-Fi|Thriller       | USA | A partir de 13 anos | 132000000 | 234277056 | 6.5 |      0 | Tom Cruise        | Lisa Ann Walter | Rick Gonzalez   |\n",
       "| The Adventures of Tintin                            | 2011 | Steven Spielberg  | 107 | Color | Action|Adventure|Family|Mystery | USA | Livre               | 135000000 |  77564037 | 7.4 |  44000 | Toby Jones        | Mackenzie Crook | Tony Curran     |\n",
       "| Minority Report                                     | 2002 | Steven Spielberg  | 145 | Color | Action|Mystery|Sci-Fi|Thriller  | USA | A partir de 13 anos | 102000000 | 132014112 | 7.7 |      0 | Tom Cruise        | Frank Grillo    | Jessica Capshaw |\n",
       "| Django Unchained                                    | 2012 | Quentin Tarantino | 165 | Color | Drama|Western                   | USA | A partir de 18 anos | 100000000 | 162804648 | 8.5 | 199000 | Leonardo DiCaprio | Christoph Waltz | Ato Essandoh    |\n",
       "| A.I. Artificial Intelligence                        | 2001 | Steven Spielberg  | 146 | Color | Adventure|Drama|Sci-Fi          | USA | A partir de 13 anos | 100000000 |  78616689 | 7.1 |  11000 | Haley Joel Osment | William Hurt    | Kevin Sussman   |\n",
       "\n"
      ],
      "text/plain": [
       "  titulo                                              ano  diretor          \n",
       "1 Indiana Jones and the Kingdom of the Crystal Skull  2008 Steven Spielberg \n",
       "2 War of the Worlds                                   2005 Steven Spielberg \n",
       "3 The Adventures of Tintin                            2011 Steven Spielberg \n",
       "4 Minority Report                                     2002 Steven Spielberg \n",
       "5 Django Unchained                                    2012 Quentin Tarantino\n",
       "6 A.I. Artificial Intelligence                        2001 Steven Spielberg \n",
       "  duracao cor   generos                         pais classificacao      \n",
       "1 122     Color Action|Adventure|Fantasy        USA  A partir de 13 anos\n",
       "2 116     Color Adventure|Sci-Fi|Thriller       USA  A partir de 13 anos\n",
       "3 107     Color Action|Adventure|Family|Mystery USA  Livre              \n",
       "4 145     Color Action|Mystery|Sci-Fi|Thriller  USA  A partir de 13 anos\n",
       "5 165     Color Drama|Western                   USA  A partir de 18 anos\n",
       "6 146     Color Adventure|Drama|Sci-Fi          USA  A partir de 13 anos\n",
       "  orcamento receita   nota_imdb likes_facebook ator_1           \n",
       "1 185000000 317011114 6.2         5000         Harrison Ford    \n",
       "2 132000000 234277056 6.5            0         Tom Cruise       \n",
       "3 135000000  77564037 7.4        44000         Toby Jones       \n",
       "4 102000000 132014112 7.7            0         Tom Cruise       \n",
       "5 100000000 162804648 8.5       199000         Leonardo DiCaprio\n",
       "6 100000000  78616689 7.1        11000         Haley Joel Osment\n",
       "  ator_2          ator_3         \n",
       "1 Ray Winstone    Jim Broadbent  \n",
       "2 Lisa Ann Walter Rick Gonzalez  \n",
       "3 Mackenzie Crook Tony Curran    \n",
       "4 Frank Grillo    Jessica Capshaw\n",
       "5 Christoph Waltz Ato Essandoh   \n",
       "6 William Hurt    Kevin Sussman  "
      ]
     },
     "metadata": {},
     "output_type": "display_data"
    }
   ],
   "source": [
    "imdb %>% \n",
    "  filter(diretor %in% c(\"Steven Spielberg\", \"Quentin Tarantino\")) %>%\n",
    "  head()"
   ]
  },
  {
   "cell_type": "raw",
   "metadata": {
    "slideshow": {
     "slide_type": "slide"
    }
   },
   "source": [
    "Também podemos usar funções que retornam valores lógicos, como a str_detect(), do pacote stringr. Esse pacote possui funções para a manipulação de strings, e será abordado com mais detalhes nesta seção."
   ]
  },
  {
   "cell_type": "code",
   "execution_count": 89,
   "metadata": {
    "slideshow": {
     "slide_type": "slide"
    }
   },
   "outputs": [
    {
     "data": {
      "text/html": [
       "<table>\n",
       "<caption>A tibble: 861 × 15</caption>\n",
       "<thead>\n",
       "\t<tr><th scope=col>titulo</th><th scope=col>ano</th><th scope=col>diretor</th><th scope=col>duracao</th><th scope=col>cor</th><th scope=col>generos</th><th scope=col>pais</th><th scope=col>classificacao</th><th scope=col>orcamento</th><th scope=col>receita</th><th scope=col>nota_imdb</th><th scope=col>likes_facebook</th><th scope=col>ator_1</th><th scope=col>ator_2</th><th scope=col>ator_3</th></tr>\n",
       "\t<tr><th scope=col>&lt;chr&gt;</th><th scope=col>&lt;int&gt;</th><th scope=col>&lt;chr&gt;</th><th scope=col>&lt;int&gt;</th><th scope=col>&lt;chr&gt;</th><th scope=col>&lt;chr&gt;</th><th scope=col>&lt;chr&gt;</th><th scope=col>&lt;chr&gt;</th><th scope=col>&lt;int&gt;</th><th scope=col>&lt;int&gt;</th><th scope=col>&lt;dbl&gt;</th><th scope=col>&lt;int&gt;</th><th scope=col>&lt;chr&gt;</th><th scope=col>&lt;chr&gt;</th><th scope=col>&lt;chr&gt;</th></tr>\n",
       "</thead>\n",
       "<tbody>\n",
       "\t<tr><td>Avatar                                      </td><td>2009</td><td>James Cameron    </td><td>178</td><td>Color</td><td>Action|Adventure|Fantasy|Sci-Fi              </td><td>USA</td><td>A partir de 13 anos</td><td>237000000</td><td>760505847</td><td>7.9</td><td> 33000</td><td>CCH Pounder        </td><td>Joel David Moore    </td><td>Wes Studi           </td></tr>\n",
       "\t<tr><td>Pirates of the Caribbean: At World's End    </td><td>2007</td><td>Gore Verbinski   </td><td>169</td><td>Color</td><td>Action|Adventure|Fantasy                     </td><td>USA</td><td>A partir de 13 anos</td><td>300000000</td><td>309404152</td><td>7.1</td><td>     0</td><td>Johnny Depp        </td><td>Orlando Bloom       </td><td>Jack Davenport      </td></tr>\n",
       "\t<tr><td>The Dark Knight Rises                       </td><td>2012</td><td>Christopher Nolan</td><td>164</td><td>Color</td><td>Action|Thriller                              </td><td>USA</td><td>A partir de 13 anos</td><td>250000000</td><td>448130642</td><td>8.5</td><td>164000</td><td>Tom Hardy          </td><td>Christian Bale      </td><td>Joseph Gordon-Levitt</td></tr>\n",
       "\t<tr><td>John Carter                                 </td><td>2012</td><td>Andrew Stanton   </td><td>132</td><td>Color</td><td>Action|Adventure|Sci-Fi                      </td><td>USA</td><td>A partir de 13 anos</td><td>263700000</td><td> 73058679</td><td>6.6</td><td> 24000</td><td>Daryl Sabara       </td><td>Samantha Morton     </td><td>Polly Walker        </td></tr>\n",
       "\t<tr><td>Spider-Man 3                                </td><td>2007</td><td>Sam Raimi        </td><td>156</td><td>Color</td><td>Action|Adventure|Romance                     </td><td>USA</td><td>A partir de 13 anos</td><td>258000000</td><td>336530303</td><td>6.2</td><td>     0</td><td>J.K. Simmons       </td><td>James Franco        </td><td>Kirsten Dunst       </td></tr>\n",
       "\t<tr><td>Avengers: Age of Ultron                     </td><td>2015</td><td>Joss Whedon      </td><td>141</td><td>Color</td><td>Action|Adventure|Sci-Fi                      </td><td>USA</td><td>A partir de 13 anos</td><td>250000000</td><td>458991599</td><td>7.5</td><td>118000</td><td>Chris Hemsworth    </td><td>Robert Downey Jr.   </td><td>Scarlett Johansson  </td></tr>\n",
       "\t<tr><td>Batman v Superman: Dawn of Justice          </td><td>2016</td><td>Zack Snyder      </td><td>183</td><td>Color</td><td>Action|Adventure|Sci-Fi                      </td><td>USA</td><td>A partir de 13 anos</td><td>250000000</td><td>330249062</td><td>6.9</td><td>197000</td><td>Henry Cavill       </td><td>Lauren Cohan        </td><td>Alan D. Purwin      </td></tr>\n",
       "\t<tr><td>Superman Returns                            </td><td>2006</td><td>Bryan Singer     </td><td>169</td><td>Color</td><td>Action|Adventure|Sci-Fi                      </td><td>USA</td><td>A partir de 13 anos</td><td>209000000</td><td>200069408</td><td>6.1</td><td>     0</td><td>Kevin Spacey       </td><td>Marlon Brando       </td><td>Frank Langella      </td></tr>\n",
       "\t<tr><td>Pirates of the Caribbean: Dead Man's Chest  </td><td>2006</td><td>Gore Verbinski   </td><td>151</td><td>Color</td><td>Action|Adventure|Fantasy                     </td><td>USA</td><td>A partir de 13 anos</td><td>225000000</td><td>423032628</td><td>7.3</td><td>  5000</td><td>Johnny Depp        </td><td>Orlando Bloom       </td><td>Jack Davenport      </td></tr>\n",
       "\t<tr><td>The Lone Ranger                             </td><td>2013</td><td>Gore Verbinski   </td><td>150</td><td>Color</td><td>Action|Adventure|Western                     </td><td>USA</td><td>A partir de 13 anos</td><td>215000000</td><td> 89289910</td><td>6.5</td><td> 48000</td><td>Johnny Depp        </td><td>Ruth Wilson         </td><td>Tom Wilkinson       </td></tr>\n",
       "\t<tr><td>Man of Steel                                </td><td>2013</td><td>Zack Snyder      </td><td>143</td><td>Color</td><td>Action|Adventure|Fantasy|Sci-Fi              </td><td>USA</td><td>A partir de 13 anos</td><td>225000000</td><td>291021565</td><td>7.2</td><td>118000</td><td>Henry Cavill       </td><td>Christopher Meloni  </td><td>Harry Lennix        </td></tr>\n",
       "\t<tr><td>The Chronicles of Narnia: Prince Caspian    </td><td>2008</td><td>Andrew Adamson   </td><td>150</td><td>Color</td><td>Action|Adventure|Family|Fantasy              </td><td>USA</td><td>Livre              </td><td>225000000</td><td>141614023</td><td>6.6</td><td>     0</td><td>Peter Dinklage     </td><td>Pierfrancesco Favino</td><td>Damián Alcázar      </td></tr>\n",
       "\t<tr><td>The Avengers                                </td><td>2012</td><td>Joss Whedon      </td><td>173</td><td>Color</td><td>Action|Adventure|Sci-Fi                      </td><td>USA</td><td>A partir de 13 anos</td><td>220000000</td><td>623279547</td><td>8.1</td><td>123000</td><td>Chris Hemsworth    </td><td>Robert Downey Jr.   </td><td>Scarlett Johansson  </td></tr>\n",
       "\t<tr><td>Pirates of the Caribbean: On Stranger Tides </td><td>2011</td><td>Rob Marshall     </td><td>136</td><td>Color</td><td>Action|Adventure|Fantasy                     </td><td>USA</td><td>A partir de 13 anos</td><td>250000000</td><td>241063875</td><td>6.7</td><td> 58000</td><td>Johnny Depp        </td><td>Sam Claflin         </td><td>Stephen Graham      </td></tr>\n",
       "\t<tr><td>Men in Black 3                              </td><td>2012</td><td>Barry Sonnenfeld </td><td>106</td><td>Color</td><td>Action|Adventure|Comedy|Family|Fantasy|Sci-Fi</td><td>USA</td><td>A partir de 13 anos</td><td>225000000</td><td>179020854</td><td>6.8</td><td> 40000</td><td>Will Smith         </td><td>Michael Stuhlbarg   </td><td>Nicole Scherzinger  </td></tr>\n",
       "\t<tr><td>The Amazing Spider-Man                      </td><td>2012</td><td>Marc Webb        </td><td>153</td><td>Color</td><td>Action|Adventure|Fantasy                     </td><td>USA</td><td>A partir de 13 anos</td><td>230000000</td><td>262030663</td><td>7.0</td><td> 56000</td><td>Emma Stone         </td><td>Andrew Garfield     </td><td>Chris Zylka         </td></tr>\n",
       "\t<tr><td>Robin Hood                                  </td><td>2010</td><td>Ridley Scott     </td><td>156</td><td>Color</td><td>Action|Adventure|Drama|History               </td><td>USA</td><td>A partir de 13 anos</td><td>200000000</td><td>105219735</td><td>6.7</td><td> 17000</td><td>Mark Addy          </td><td>William Hurt        </td><td>Scott Grimes        </td></tr>\n",
       "\t<tr><td>Captain America: Civil War                  </td><td>2016</td><td>Anthony Russo    </td><td>147</td><td>Color</td><td>Action|Adventure|Sci-Fi                      </td><td>USA</td><td>A partir de 13 anos</td><td>250000000</td><td>407197282</td><td>8.2</td><td> 72000</td><td>Robert Downey Jr.  </td><td>Scarlett Johansson  </td><td>Chris Evans         </td></tr>\n",
       "\t<tr><td>Battleship                                  </td><td>2012</td><td>Peter Berg       </td><td>131</td><td>Color</td><td>Action|Adventure|Sci-Fi|Thriller             </td><td>USA</td><td>A partir de 13 anos</td><td>209000000</td><td> 65173160</td><td>5.9</td><td> 44000</td><td>Liam Neeson        </td><td>Alexander Skarsgård </td><td>Tadanobu Asano      </td></tr>\n",
       "\t<tr><td>Jurassic World                              </td><td>2015</td><td>Colin Trevorrow  </td><td>124</td><td>Color</td><td>Action|Adventure|Sci-Fi|Thriller             </td><td>USA</td><td>A partir de 13 anos</td><td>150000000</td><td>652177271</td><td>7.0</td><td>150000</td><td>Bryce Dallas Howard</td><td>Judy Greer          </td><td>Omar Sy             </td></tr>\n",
       "\t<tr><td>Spider-Man 2                                </td><td>2004</td><td>Sam Raimi        </td><td>135</td><td>Color</td><td>Action|Adventure|Fantasy|Romance             </td><td>USA</td><td>A partir de 13 anos</td><td>200000000</td><td>373377893</td><td>7.3</td><td>     0</td><td>J.K. Simmons       </td><td>James Franco        </td><td>Kirsten Dunst       </td></tr>\n",
       "\t<tr><td>Iron Man 3                                  </td><td>2013</td><td>Shane Black      </td><td>195</td><td>Color</td><td>Action|Adventure|Sci-Fi                      </td><td>USA</td><td>A partir de 13 anos</td><td>200000000</td><td>408992272</td><td>7.2</td><td> 95000</td><td>Robert Downey Jr.  </td><td>Jon Favreau         </td><td>Don Cheadle         </td></tr>\n",
       "\t<tr><td>Transformers: Revenge of the Fallen         </td><td>2009</td><td>Michael Bay      </td><td>150</td><td>Color</td><td>Action|Adventure|Sci-Fi                      </td><td>USA</td><td>A partir de 13 anos</td><td>200000000</td><td>402076689</td><td>6.0</td><td>     0</td><td>Glenn Morshower    </td><td>Kevin Dunn          </td><td>Ramon Rodriguez     </td></tr>\n",
       "\t<tr><td>Transformers: Age of Extinction             </td><td>2014</td><td>Michael Bay      </td><td>165</td><td>Color</td><td>Action|Adventure|Sci-Fi                      </td><td>USA</td><td>A partir de 13 anos</td><td>210000000</td><td>245428137</td><td>5.7</td><td> 56000</td><td>Bingbing Li        </td><td>Sophia Myles        </td><td>Kelsey Grammer      </td></tr>\n",
       "\t<tr><td>The Amazing Spider-Man 2                    </td><td>2014</td><td>Marc Webb        </td><td>142</td><td>Color</td><td>Action|Adventure|Fantasy|Sci-Fi              </td><td>USA</td><td>A partir de 13 anos</td><td>200000000</td><td>202853933</td><td>6.7</td><td> 41000</td><td>Emma Stone         </td><td>Andrew Garfield     </td><td>B.J. Novak          </td></tr>\n",
       "\t<tr><td>TRON: Legacy                                </td><td>2010</td><td>Joseph Kosinski  </td><td>125</td><td>Color</td><td>Action|Adventure|Sci-Fi                      </td><td>USA</td><td>Livre              </td><td>170000000</td><td>172051787</td><td>6.8</td><td> 30000</td><td>Jeff Bridges       </td><td>Olivia Wilde        </td><td>James Frain         </td></tr>\n",
       "\t<tr><td>Green Lantern                               </td><td>2011</td><td>Martin Campbell  </td><td>123</td><td>Color</td><td>Action|Adventure|Sci-Fi                      </td><td>USA</td><td>A partir de 13 anos</td><td>200000000</td><td>116593191</td><td>5.6</td><td> 24000</td><td>Ryan Reynolds      </td><td>Temuera Morrison    </td><td>Taika Waititi       </td></tr>\n",
       "\t<tr><td>Terminator Salvation                        </td><td>2009</td><td>McG              </td><td>118</td><td>Color</td><td>Action|Adventure|Sci-Fi                      </td><td>USA</td><td>A partir de 13 anos</td><td>200000000</td><td>125320003</td><td>6.6</td><td>     0</td><td>Christian Bale     </td><td>Bryce Dallas Howard </td><td>Common              </td></tr>\n",
       "\t<tr><td>Furious 7                                   </td><td>2015</td><td>James Wan        </td><td>140</td><td>Color</td><td>Action|Crime|Thriller                        </td><td>USA</td><td>A partir de 13 anos</td><td>190000000</td><td>350034110</td><td>7.2</td><td> 94000</td><td>Jason Statham      </td><td>Paul Walker         </td><td>Vin Diesel          </td></tr>\n",
       "\t<tr><td>World War Z                                 </td><td>2013</td><td>Marc Forster     </td><td>123</td><td>Color</td><td>Action|Adventure|Horror|Sci-Fi|Thriller      </td><td>USA</td><td>A partir de 13 anos</td><td>190000000</td><td>202351611</td><td>7.0</td><td>129000</td><td>Peter Capaldi      </td><td>Brad Pitt           </td><td>Mireille Enos       </td></tr>\n",
       "\t<tr><td>...</td><td>...</td><td>...</td><td>...</td><td>...</td><td>...</td><td>...</td><td>...</td><td>...</td><td>...</td><td>...</td><td>...</td><td>...</td><td>...</td><td>...</td></tr>\n",
       "\t<tr><td>Sands of Iwo Jima                                    </td><td>1949</td><td>Allan Dwan       </td><td>109</td><td>Black and White</td><td>Action|Drama|Romance|War                        </td><td>USA</td><td>Outros             </td><td> 1000000</td><td>      NA</td><td>7.2</td><td>  624</td><td>James Brown           </td><td>Richard Jaeckel       </td><td>Forrest Tucker       </td></tr>\n",
       "\t<tr><td>Hardflip                                             </td><td>2012</td><td>Johnny Remo      </td><td>112</td><td>Color          </td><td>Action|Drama                                    </td><td>USA</td><td>A partir de 13 anos</td><td> 1000000</td><td>   96734</td><td>5.6</td><td>  706</td><td>Matthew Ziff          </td><td>Randy Wayne           </td><td>Raquel Elizabeth Ames</td></tr>\n",
       "\t<tr><td>The Specials                                         </td><td>2000</td><td>Craig Mazin      </td><td> 82</td><td>Color          </td><td>Action|Comedy|Fantasy|Sci-Fi                    </td><td>USA</td><td>A partir de 18 anos</td><td> 1000000</td><td>   12996</td><td>6.0</td><td>  210</td><td>Judy Greer            </td><td>James Gunn            </td><td>Jamie Kennedy        </td></tr>\n",
       "\t<tr><td>The Helix... Loaded                                  </td><td>2005</td><td>A. Raven Cruz    </td><td> 97</td><td>Color          </td><td>Action|Adventure|Comedy|Fantasy|Sci-Fi          </td><td>USA</td><td>A partir de 18 anos</td><td> 1000000</td><td>      NA</td><td>1.9</td><td>  128</td><td>Scott Levy            </td><td>Vanilla Ice           </td><td>Jennifer Sky         </td></tr>\n",
       "\t<tr><td>Zombie Hunter                                        </td><td>2013</td><td>K. King          </td><td> 93</td><td>Color          </td><td>Action|Comedy|Horror                            </td><td>USA</td><td>Outros             </td><td> 1000000</td><td>      NA</td><td>3.5</td><td>    0</td><td>Jason K. Wixom        </td><td>Shona Kay             </td><td>Jarrod Phillips      </td></tr>\n",
       "\t<tr><td>Snitch                                               </td><td>2013</td><td>Ric Roman Waugh  </td><td>112</td><td>Color          </td><td>Action|Drama|Thriller                           </td><td>USA</td><td>A partir de 13 anos</td><td>15000000</td><td>42919096</td><td>6.5</td><td>12000</td><td>Dwayne Johnson        </td><td>Harold Perrineau      </td><td>Nadine Velazquez     </td></tr>\n",
       "\t<tr><td>American Hero                                        </td><td>2015</td><td>Nick Love        </td><td> 86</td><td>Color          </td><td>Action|Comedy|Drama|Sci-Fi                      </td><td>USA</td><td>Outros             </td><td>  990000</td><td>      NA</td><td>4.9</td><td>  549</td><td>Eddie Griffin         </td><td>Christopher Berry     </td><td>Michelle Tabora      </td></tr>\n",
       "\t<tr><td>Saints and Soldiers                                  </td><td>2003</td><td>Ryan Little      </td><td> 90</td><td>Color          </td><td>Action|Adventure|Drama|War                      </td><td>USA</td><td>A partir de 13 anos</td><td>  780000</td><td> 1310270</td><td>6.8</td><td> 1000</td><td>Corbin Allred         </td><td>Larry Bagby           </td><td>Kirby Heyborne       </td></tr>\n",
       "\t<tr><td>Aqua Teen Hunger Force Colon Movie Film for Theaters </td><td>2007</td><td>Matt Maiellaro   </td><td> 86</td><td>Color          </td><td>Action|Adventure|Animation|Comedy|Fantasy|Sci-Fi</td><td>USA</td><td>A partir de 18 anos</td><td>  750000</td><td> 5518918</td><td>6.9</td><td>  307</td><td>Tina Fey              </td><td>Fred Armisen          </td><td>Chris Kattan         </td></tr>\n",
       "\t<tr><td>Destiny                                              </td><td>2014</td><td>Joseph Kosinski  </td><td> NA</td><td>Color          </td><td>Action|Adventure|Fantasy|Sci-Fi                 </td><td>USA</td><td>Outros             </td><td>      NA</td><td>      NA</td><td>8.1</td><td> 1000</td><td>Peter Dinklage        </td><td>Lauren Cohan          </td><td>Erick Avari          </td></tr>\n",
       "\t<tr><td>Mercy Streets                                        </td><td>2000</td><td>Jon Gunn         </td><td>106</td><td>Color          </td><td>Action|Crime|Drama                              </td><td>USA</td><td>A partir de 13 anos</td><td>  600000</td><td>  171988</td><td>5.6</td><td>   12</td><td>Stacy Keach           </td><td>David A.R. White      </td><td>Cynthia Watros       </td></tr>\n",
       "\t<tr><td>Light from the Darkroom                              </td><td>2014</td><td>Lance McDaniel   </td><td> 90</td><td>Color          </td><td>Action|Drama|Thriller                           </td><td>USA</td><td>A partir de 13 anos</td><td>  600000</td><td>      NA</td><td>8.0</td><td>    9</td><td>Russell Wong          </td><td>Steven Michael Quezada</td><td>Lymari Nadal         </td></tr>\n",
       "\t<tr><td>Subconscious                                         </td><td>2015</td><td>Georgia Hilton   </td><td>122</td><td>Color          </td><td>Action|Mystery|Thriller                         </td><td>USA</td><td>A partir de 18 anos</td><td>      NA</td><td>      NA</td><td>2.2</td><td>  353</td><td>Mike Beckingham       </td><td>Tim Abell             </td><td>Tom Stedham          </td></tr>\n",
       "\t<tr><td>Fight to the Finish                                  </td><td>2016</td><td>Warren Sheppard  </td><td> 94</td><td>Color          </td><td>Action|Romance|Sport                            </td><td>USA</td><td>A partir de 13 anos</td><td>  150000</td><td>      NA</td><td>4.0</td><td>  381</td><td>Jennifer Hale         </td><td>Randy Jay Burrell     </td><td>Vincent De Paul      </td></tr>\n",
       "\t<tr><td>Born to Fly: Elizabeth Streb vs. Gravity             </td><td>2014</td><td>Catherine Gund   </td><td> 82</td><td>Color          </td><td>Action|Biography|Documentary|Sport              </td><td>USA</td><td>Outros             </td><td>  500000</td><td>   21199</td><td>6.8</td><td>   44</td><td>Elizabeth Streb       </td><td>Sarah Callan          </td><td>Laura Flanders       </td></tr>\n",
       "\t<tr><td>The Toxic Avenger                                    </td><td>1984</td><td>Michael Herz     </td><td> 91</td><td>Color          </td><td>Action|Comedy|Horror|Sci-Fi                     </td><td>USA</td><td>Outros             </td><td>  475000</td><td>      NA</td><td>6.2</td><td>    0</td><td>Patrick Kilpatrick    </td><td>Mark Torgl            </td><td>Pat Ryan             </td></tr>\n",
       "\t<tr><td>Diamond Ruff                                         </td><td>2015</td><td>Alec Asten       </td><td> 82</td><td>Color          </td><td>Action                                          </td><td>USA</td><td>A partir de 18 anos</td><td>  500000</td><td>      NA</td><td>4.3</td><td>   62</td><td>Luis Sanchez          </td><td>Dennis L.A. White     </td><td>Fredro Starr         </td></tr>\n",
       "\t<tr><td>American Ninja 2: The Confrontation                  </td><td>1987</td><td>Sam Firstenberg  </td><td> 90</td><td>Color          </td><td>Action|Drama                                    </td><td>USA</td><td>A partir de 18 anos</td><td>  350000</td><td> 4000000</td><td>4.7</td><td>  583</td><td>Michael Dudikoff      </td><td>Steve James           </td><td>Larry Poindexter     </td></tr>\n",
       "\t<tr><td>Revolution                                           </td><td>  NA</td><td>NA               </td><td> 43</td><td>Color          </td><td>Action|Adventure|Drama|Sci-Fi                   </td><td>USA</td><td>Outros             </td><td>      NA</td><td>      NA</td><td>6.7</td><td>17000</td><td>Billy Burke           </td><td>Tracy Spiridakos      </td><td>David Lyons          </td></tr>\n",
       "\t<tr><td>The Prophecy                                         </td><td>1995</td><td>Gregory Widen    </td><td> 98</td><td>Color          </td><td>Action|Fantasy|Horror|Mystery|Thriller          </td><td>USA</td><td>A partir de 18 anos</td><td> 8000000</td><td>16115878</td><td>6.6</td><td>    0</td><td>Viggo Mortensen       </td><td>Adam Goldberg         </td><td>Virginia Madsen      </td></tr>\n",
       "\t<tr><td>Royal Kill                                           </td><td>2009</td><td>Babar Ahmed      </td><td> 90</td><td>Color          </td><td>Action|Thriller                                 </td><td>USA</td><td>A partir de 13 anos</td><td>  350000</td><td>      NA</td><td>3.2</td><td>   53</td><td>Lalaine               </td><td>Alexander Wraith      </td><td>Darren Kendrick      </td></tr>\n",
       "\t<tr><td>Death Race 2000                                      </td><td>1975</td><td>Paul Bartel      </td><td> 80</td><td>Color          </td><td>Action|Comedy|Sci-Fi|Sport                      </td><td>USA</td><td>A partir de 18 anos</td><td>  300000</td><td>      NA</td><td>6.2</td><td>    0</td><td>Sylvester Stallone    </td><td>David Carradine       </td><td>Martin Kove          </td></tr>\n",
       "\t<tr><td>Death Calls                                          </td><td>2010</td><td>Ken Del Conte    </td><td> 90</td><td>Color          </td><td>Action|Adventure|Mystery|Romance|Thriller       </td><td>USA</td><td>A partir de 18 anos</td><td>  290000</td><td>      NA</td><td>4.3</td><td>   16</td><td>Hector Echavarria     </td><td>Robert Miano          </td><td>Ron Roggé            </td></tr>\n",
       "\t<tr><td>Amidst the Devil's Wings                             </td><td>2014</td><td>Daniel Columbie  </td><td> 90</td><td>Color          </td><td>Action|Crime|Drama                              </td><td>USA</td><td>Outros             </td><td>  300000</td><td>      NA</td><td>4.3</td><td>   17</td><td>Keri Maletto          </td><td>Nicholas Simmons      </td><td>Barbie Castro        </td></tr>\n",
       "\t<tr><td>Ink                                                  </td><td>2009</td><td>Jamin Winans     </td><td>107</td><td>Color          </td><td>Action|Drama|Fantasy|Sci-Fi                     </td><td>USA</td><td>Outros             </td><td>      NA</td><td>      NA</td><td>7.0</td><td>11000</td><td>Eme Ikwuakor          </td><td>Marty Lindsey         </td><td>Jessica Duffy        </td></tr>\n",
       "\t<tr><td>Heroes of Dirt                                       </td><td>2015</td><td>Eric Bugbee      </td><td> 98</td><td>Color          </td><td>Action|Drama|Sport                              </td><td>USA</td><td>A partir de 13 anos</td><td>      NA</td><td>      NA</td><td>7.1</td><td>  197</td><td>Joel Moody            </td><td>Bill Allen            </td><td>Lia Tucker           </td></tr>\n",
       "\t<tr><td>Echo Dr.                                             </td><td>2013</td><td>Patrick Ryan Sims</td><td> 81</td><td>Color          </td><td>Action|Drama|Sci-Fi|Thriller                    </td><td>USA</td><td>Outros             </td><td>  100000</td><td>      NA</td><td>3.6</td><td>   17</td><td>Claire Gordon-Harper  </td><td>Hugh Mun              </td><td>Johnathan Hurley     </td></tr>\n",
       "\t<tr><td>Queen Crab                                           </td><td>2015</td><td>Brett Piper      </td><td> 80</td><td>Color          </td><td>Action|Sci-Fi|Thriller                          </td><td>USA</td><td>Outros             </td><td>   75000</td><td>      NA</td><td>4.5</td><td>   34</td><td>Michelle Simone Miller</td><td>Steve Diasparra       </td><td>A.J. DeLucia         </td></tr>\n",
       "\t<tr><td>Sabotage                                             </td><td>2014</td><td>David Ayer       </td><td>109</td><td>Color          </td><td>Action|Crime|Drama|Thriller                     </td><td>USA</td><td>A partir de 18 anos</td><td>35000000</td><td>10499968</td><td>5.7</td><td>10000</td><td>Mireille Enos         </td><td>Martin Donovan        </td><td>Maurice Compte       </td></tr>\n",
       "\t<tr><td>El Mariachi                                          </td><td>1992</td><td>Robert Rodriguez </td><td> 81</td><td>Color          </td><td>Action|Crime|Drama|Romance|Thriller             </td><td>USA</td><td>A partir de 18 anos</td><td>    7000</td><td> 2040920</td><td>6.9</td><td>    0</td><td>Carlos Gallardo       </td><td>Peter Marquardt       </td><td>Consuelo Gómez       </td></tr>\n",
       "</tbody>\n",
       "</table>\n"
      ],
      "text/latex": [
       "A tibble: 861 × 15\n",
       "\\begin{tabular}{lllllllllllllll}\n",
       " titulo & ano & diretor & duracao & cor & generos & pais & classificacao & orcamento & receita & nota\\_imdb & likes\\_facebook & ator\\_1 & ator\\_2 & ator\\_3\\\\\n",
       " <chr> & <int> & <chr> & <int> & <chr> & <chr> & <chr> & <chr> & <int> & <int> & <dbl> & <int> & <chr> & <chr> & <chr>\\\\\n",
       "\\hline\n",
       "\t Avatar                                       & 2009 & James Cameron     & 178 & Color & Action\\textbar{}Adventure\\textbar{}Fantasy\\textbar{}Sci-Fi               & USA & A partir de 13 anos & 237000000 & 760505847 & 7.9 &  33000 & CCH Pounder         & Joel David Moore     & Wes Studi           \\\\\n",
       "\t Pirates of the Caribbean: At World's End     & 2007 & Gore Verbinski    & 169 & Color & Action\\textbar{}Adventure\\textbar{}Fantasy                      & USA & A partir de 13 anos & 300000000 & 309404152 & 7.1 &      0 & Johnny Depp         & Orlando Bloom        & Jack Davenport      \\\\\n",
       "\t The Dark Knight Rises                        & 2012 & Christopher Nolan & 164 & Color & Action\\textbar{}Thriller                               & USA & A partir de 13 anos & 250000000 & 448130642 & 8.5 & 164000 & Tom Hardy           & Christian Bale       & Joseph Gordon-Levitt\\\\\n",
       "\t John Carter                                  & 2012 & Andrew Stanton    & 132 & Color & Action\\textbar{}Adventure\\textbar{}Sci-Fi                       & USA & A partir de 13 anos & 263700000 &  73058679 & 6.6 &  24000 & Daryl Sabara        & Samantha Morton      & Polly Walker        \\\\\n",
       "\t Spider-Man 3                                 & 2007 & Sam Raimi         & 156 & Color & Action\\textbar{}Adventure\\textbar{}Romance                      & USA & A partir de 13 anos & 258000000 & 336530303 & 6.2 &      0 & J.K. Simmons        & James Franco         & Kirsten Dunst       \\\\\n",
       "\t Avengers: Age of Ultron                      & 2015 & Joss Whedon       & 141 & Color & Action\\textbar{}Adventure\\textbar{}Sci-Fi                       & USA & A partir de 13 anos & 250000000 & 458991599 & 7.5 & 118000 & Chris Hemsworth     & Robert Downey Jr.    & Scarlett Johansson  \\\\\n",
       "\t Batman v Superman: Dawn of Justice           & 2016 & Zack Snyder       & 183 & Color & Action\\textbar{}Adventure\\textbar{}Sci-Fi                       & USA & A partir de 13 anos & 250000000 & 330249062 & 6.9 & 197000 & Henry Cavill        & Lauren Cohan         & Alan D. Purwin      \\\\\n",
       "\t Superman Returns                             & 2006 & Bryan Singer      & 169 & Color & Action\\textbar{}Adventure\\textbar{}Sci-Fi                       & USA & A partir de 13 anos & 209000000 & 200069408 & 6.1 &      0 & Kevin Spacey        & Marlon Brando        & Frank Langella      \\\\\n",
       "\t Pirates of the Caribbean: Dead Man's Chest   & 2006 & Gore Verbinski    & 151 & Color & Action\\textbar{}Adventure\\textbar{}Fantasy                      & USA & A partir de 13 anos & 225000000 & 423032628 & 7.3 &   5000 & Johnny Depp         & Orlando Bloom        & Jack Davenport      \\\\\n",
       "\t The Lone Ranger                              & 2013 & Gore Verbinski    & 150 & Color & Action\\textbar{}Adventure\\textbar{}Western                      & USA & A partir de 13 anos & 215000000 &  89289910 & 6.5 &  48000 & Johnny Depp         & Ruth Wilson          & Tom Wilkinson       \\\\\n",
       "\t Man of Steel                                 & 2013 & Zack Snyder       & 143 & Color & Action\\textbar{}Adventure\\textbar{}Fantasy\\textbar{}Sci-Fi               & USA & A partir de 13 anos & 225000000 & 291021565 & 7.2 & 118000 & Henry Cavill        & Christopher Meloni   & Harry Lennix        \\\\\n",
       "\t The Chronicles of Narnia: Prince Caspian     & 2008 & Andrew Adamson    & 150 & Color & Action\\textbar{}Adventure\\textbar{}Family\\textbar{}Fantasy               & USA & Livre               & 225000000 & 141614023 & 6.6 &      0 & Peter Dinklage      & Pierfrancesco Favino & Damián Alcázar      \\\\\n",
       "\t The Avengers                                 & 2012 & Joss Whedon       & 173 & Color & Action\\textbar{}Adventure\\textbar{}Sci-Fi                       & USA & A partir de 13 anos & 220000000 & 623279547 & 8.1 & 123000 & Chris Hemsworth     & Robert Downey Jr.    & Scarlett Johansson  \\\\\n",
       "\t Pirates of the Caribbean: On Stranger Tides  & 2011 & Rob Marshall      & 136 & Color & Action\\textbar{}Adventure\\textbar{}Fantasy                      & USA & A partir de 13 anos & 250000000 & 241063875 & 6.7 &  58000 & Johnny Depp         & Sam Claflin          & Stephen Graham      \\\\\n",
       "\t Men in Black 3                               & 2012 & Barry Sonnenfeld  & 106 & Color & Action\\textbar{}Adventure\\textbar{}Comedy\\textbar{}Family\\textbar{}Fantasy\\textbar{}Sci-Fi & USA & A partir de 13 anos & 225000000 & 179020854 & 6.8 &  40000 & Will Smith          & Michael Stuhlbarg    & Nicole Scherzinger  \\\\\n",
       "\t The Amazing Spider-Man                       & 2012 & Marc Webb         & 153 & Color & Action\\textbar{}Adventure\\textbar{}Fantasy                      & USA & A partir de 13 anos & 230000000 & 262030663 & 7.0 &  56000 & Emma Stone          & Andrew Garfield      & Chris Zylka         \\\\\n",
       "\t Robin Hood                                   & 2010 & Ridley Scott      & 156 & Color & Action\\textbar{}Adventure\\textbar{}Drama\\textbar{}History                & USA & A partir de 13 anos & 200000000 & 105219735 & 6.7 &  17000 & Mark Addy           & William Hurt         & Scott Grimes        \\\\\n",
       "\t Captain America: Civil War                   & 2016 & Anthony Russo     & 147 & Color & Action\\textbar{}Adventure\\textbar{}Sci-Fi                       & USA & A partir de 13 anos & 250000000 & 407197282 & 8.2 &  72000 & Robert Downey Jr.   & Scarlett Johansson   & Chris Evans         \\\\\n",
       "\t Battleship                                   & 2012 & Peter Berg        & 131 & Color & Action\\textbar{}Adventure\\textbar{}Sci-Fi\\textbar{}Thriller              & USA & A partir de 13 anos & 209000000 &  65173160 & 5.9 &  44000 & Liam Neeson         & Alexander Skarsgård  & Tadanobu Asano      \\\\\n",
       "\t Jurassic World                               & 2015 & Colin Trevorrow   & 124 & Color & Action\\textbar{}Adventure\\textbar{}Sci-Fi\\textbar{}Thriller              & USA & A partir de 13 anos & 150000000 & 652177271 & 7.0 & 150000 & Bryce Dallas Howard & Judy Greer           & Omar Sy             \\\\\n",
       "\t Spider-Man 2                                 & 2004 & Sam Raimi         & 135 & Color & Action\\textbar{}Adventure\\textbar{}Fantasy\\textbar{}Romance              & USA & A partir de 13 anos & 200000000 & 373377893 & 7.3 &      0 & J.K. Simmons        & James Franco         & Kirsten Dunst       \\\\\n",
       "\t Iron Man 3                                   & 2013 & Shane Black       & 195 & Color & Action\\textbar{}Adventure\\textbar{}Sci-Fi                       & USA & A partir de 13 anos & 200000000 & 408992272 & 7.2 &  95000 & Robert Downey Jr.   & Jon Favreau          & Don Cheadle         \\\\\n",
       "\t Transformers: Revenge of the Fallen          & 2009 & Michael Bay       & 150 & Color & Action\\textbar{}Adventure\\textbar{}Sci-Fi                       & USA & A partir de 13 anos & 200000000 & 402076689 & 6.0 &      0 & Glenn Morshower     & Kevin Dunn           & Ramon Rodriguez     \\\\\n",
       "\t Transformers: Age of Extinction              & 2014 & Michael Bay       & 165 & Color & Action\\textbar{}Adventure\\textbar{}Sci-Fi                       & USA & A partir de 13 anos & 210000000 & 245428137 & 5.7 &  56000 & Bingbing Li         & Sophia Myles         & Kelsey Grammer      \\\\\n",
       "\t The Amazing Spider-Man 2                     & 2014 & Marc Webb         & 142 & Color & Action\\textbar{}Adventure\\textbar{}Fantasy\\textbar{}Sci-Fi               & USA & A partir de 13 anos & 200000000 & 202853933 & 6.7 &  41000 & Emma Stone          & Andrew Garfield      & B.J. Novak          \\\\\n",
       "\t TRON: Legacy                                 & 2010 & Joseph Kosinski   & 125 & Color & Action\\textbar{}Adventure\\textbar{}Sci-Fi                       & USA & Livre               & 170000000 & 172051787 & 6.8 &  30000 & Jeff Bridges        & Olivia Wilde         & James Frain         \\\\\n",
       "\t Green Lantern                                & 2011 & Martin Campbell   & 123 & Color & Action\\textbar{}Adventure\\textbar{}Sci-Fi                       & USA & A partir de 13 anos & 200000000 & 116593191 & 5.6 &  24000 & Ryan Reynolds       & Temuera Morrison     & Taika Waititi       \\\\\n",
       "\t Terminator Salvation                         & 2009 & McG               & 118 & Color & Action\\textbar{}Adventure\\textbar{}Sci-Fi                       & USA & A partir de 13 anos & 200000000 & 125320003 & 6.6 &      0 & Christian Bale      & Bryce Dallas Howard  & Common              \\\\\n",
       "\t Furious 7                                    & 2015 & James Wan         & 140 & Color & Action\\textbar{}Crime\\textbar{}Thriller                         & USA & A partir de 13 anos & 190000000 & 350034110 & 7.2 &  94000 & Jason Statham       & Paul Walker          & Vin Diesel          \\\\\n",
       "\t World War Z                                  & 2013 & Marc Forster      & 123 & Color & Action\\textbar{}Adventure\\textbar{}Horror\\textbar{}Sci-Fi\\textbar{}Thriller       & USA & A partir de 13 anos & 190000000 & 202351611 & 7.0 & 129000 & Peter Capaldi       & Brad Pitt            & Mireille Enos       \\\\\n",
       "\t ... & ... & ... & ... & ... & ... & ... & ... & ... & ... & ... & ... & ... & ... & ...\\\\\n",
       "\t Sands of Iwo Jima                                     & 1949 & Allan Dwan        & 109 & Black and White & Action\\textbar{}Drama\\textbar{}Romance\\textbar{}War                         & USA & Outros              &  1000000 &       NA & 7.2 &   624 & James Brown            & Richard Jaeckel        & Forrest Tucker       \\\\\n",
       "\t Hardflip                                              & 2012 & Johnny Remo       & 112 & Color           & Action\\textbar{}Drama                                     & USA & A partir de 13 anos &  1000000 &    96734 & 5.6 &   706 & Matthew Ziff           & Randy Wayne            & Raquel Elizabeth Ames\\\\\n",
       "\t The Specials                                          & 2000 & Craig Mazin       &  82 & Color           & Action\\textbar{}Comedy\\textbar{}Fantasy\\textbar{}Sci-Fi                     & USA & A partir de 18 anos &  1000000 &    12996 & 6.0 &   210 & Judy Greer             & James Gunn             & Jamie Kennedy        \\\\\n",
       "\t The Helix... Loaded                                   & 2005 & A. Raven Cruz     &  97 & Color           & Action\\textbar{}Adventure\\textbar{}Comedy\\textbar{}Fantasy\\textbar{}Sci-Fi           & USA & A partir de 18 anos &  1000000 &       NA & 1.9 &   128 & Scott Levy             & Vanilla Ice            & Jennifer Sky         \\\\\n",
       "\t Zombie Hunter                                         & 2013 & K. King           &  93 & Color           & Action\\textbar{}Comedy\\textbar{}Horror                             & USA & Outros              &  1000000 &       NA & 3.5 &     0 & Jason K. Wixom         & Shona Kay              & Jarrod Phillips      \\\\\n",
       "\t Snitch                                                & 2013 & Ric Roman Waugh   & 112 & Color           & Action\\textbar{}Drama\\textbar{}Thriller                            & USA & A partir de 13 anos & 15000000 & 42919096 & 6.5 & 12000 & Dwayne Johnson         & Harold Perrineau       & Nadine Velazquez     \\\\\n",
       "\t American Hero                                         & 2015 & Nick Love         &  86 & Color           & Action\\textbar{}Comedy\\textbar{}Drama\\textbar{}Sci-Fi                       & USA & Outros              &   990000 &       NA & 4.9 &   549 & Eddie Griffin          & Christopher Berry      & Michelle Tabora      \\\\\n",
       "\t Saints and Soldiers                                   & 2003 & Ryan Little       &  90 & Color           & Action\\textbar{}Adventure\\textbar{}Drama\\textbar{}War                       & USA & A partir de 13 anos &   780000 &  1310270 & 6.8 &  1000 & Corbin Allred          & Larry Bagby            & Kirby Heyborne       \\\\\n",
       "\t Aqua Teen Hunger Force Colon Movie Film for Theaters  & 2007 & Matt Maiellaro    &  86 & Color           & Action\\textbar{}Adventure\\textbar{}Animation\\textbar{}Comedy\\textbar{}Fantasy\\textbar{}Sci-Fi & USA & A partir de 18 anos &   750000 &  5518918 & 6.9 &   307 & Tina Fey               & Fred Armisen           & Chris Kattan         \\\\\n",
       "\t Destiny                                               & 2014 & Joseph Kosinski   &  NA & Color           & Action\\textbar{}Adventure\\textbar{}Fantasy\\textbar{}Sci-Fi                  & USA & Outros              &       NA &       NA & 8.1 &  1000 & Peter Dinklage         & Lauren Cohan           & Erick Avari          \\\\\n",
       "\t Mercy Streets                                         & 2000 & Jon Gunn          & 106 & Color           & Action\\textbar{}Crime\\textbar{}Drama                               & USA & A partir de 13 anos &   600000 &   171988 & 5.6 &    12 & Stacy Keach            & David A.R. White       & Cynthia Watros       \\\\\n",
       "\t Light from the Darkroom                               & 2014 & Lance McDaniel    &  90 & Color           & Action\\textbar{}Drama\\textbar{}Thriller                            & USA & A partir de 13 anos &   600000 &       NA & 8.0 &     9 & Russell Wong           & Steven Michael Quezada & Lymari Nadal         \\\\\n",
       "\t Subconscious                                          & 2015 & Georgia Hilton    & 122 & Color           & Action\\textbar{}Mystery\\textbar{}Thriller                          & USA & A partir de 18 anos &       NA &       NA & 2.2 &   353 & Mike Beckingham        & Tim Abell              & Tom Stedham          \\\\\n",
       "\t Fight to the Finish                                   & 2016 & Warren Sheppard   &  94 & Color           & Action\\textbar{}Romance\\textbar{}Sport                             & USA & A partir de 13 anos &   150000 &       NA & 4.0 &   381 & Jennifer Hale          & Randy Jay Burrell      & Vincent De Paul      \\\\\n",
       "\t Born to Fly: Elizabeth Streb vs. Gravity              & 2014 & Catherine Gund    &  82 & Color           & Action\\textbar{}Biography\\textbar{}Documentary\\textbar{}Sport               & USA & Outros              &   500000 &    21199 & 6.8 &    44 & Elizabeth Streb        & Sarah Callan           & Laura Flanders       \\\\\n",
       "\t The Toxic Avenger                                     & 1984 & Michael Herz      &  91 & Color           & Action\\textbar{}Comedy\\textbar{}Horror\\textbar{}Sci-Fi                      & USA & Outros              &   475000 &       NA & 6.2 &     0 & Patrick Kilpatrick     & Mark Torgl             & Pat Ryan             \\\\\n",
       "\t Diamond Ruff                                          & 2015 & Alec Asten        &  82 & Color           & Action                                           & USA & A partir de 18 anos &   500000 &       NA & 4.3 &    62 & Luis Sanchez           & Dennis L.A. White      & Fredro Starr         \\\\\n",
       "\t American Ninja 2: The Confrontation                   & 1987 & Sam Firstenberg   &  90 & Color           & Action\\textbar{}Drama                                     & USA & A partir de 18 anos &   350000 &  4000000 & 4.7 &   583 & Michael Dudikoff       & Steve James            & Larry Poindexter     \\\\\n",
       "\t Revolution                                            &   NA & NA                &  43 & Color           & Action\\textbar{}Adventure\\textbar{}Drama\\textbar{}Sci-Fi                    & USA & Outros              &       NA &       NA & 6.7 & 17000 & Billy Burke            & Tracy Spiridakos       & David Lyons          \\\\\n",
       "\t The Prophecy                                          & 1995 & Gregory Widen     &  98 & Color           & Action\\textbar{}Fantasy\\textbar{}Horror\\textbar{}Mystery\\textbar{}Thriller           & USA & A partir de 18 anos &  8000000 & 16115878 & 6.6 &     0 & Viggo Mortensen        & Adam Goldberg          & Virginia Madsen      \\\\\n",
       "\t Royal Kill                                            & 2009 & Babar Ahmed       &  90 & Color           & Action\\textbar{}Thriller                                  & USA & A partir de 13 anos &   350000 &       NA & 3.2 &    53 & Lalaine                & Alexander Wraith       & Darren Kendrick      \\\\\n",
       "\t Death Race 2000                                       & 1975 & Paul Bartel       &  80 & Color           & Action\\textbar{}Comedy\\textbar{}Sci-Fi\\textbar{}Sport                       & USA & A partir de 18 anos &   300000 &       NA & 6.2 &     0 & Sylvester Stallone     & David Carradine        & Martin Kove          \\\\\n",
       "\t Death Calls                                           & 2010 & Ken Del Conte     &  90 & Color           & Action\\textbar{}Adventure\\textbar{}Mystery\\textbar{}Romance\\textbar{}Thriller        & USA & A partir de 18 anos &   290000 &       NA & 4.3 &    16 & Hector Echavarria      & Robert Miano           & Ron Roggé            \\\\\n",
       "\t Amidst the Devil's Wings                              & 2014 & Daniel Columbie   &  90 & Color           & Action\\textbar{}Crime\\textbar{}Drama                               & USA & Outros              &   300000 &       NA & 4.3 &    17 & Keri Maletto           & Nicholas Simmons       & Barbie Castro        \\\\\n",
       "\t Ink                                                   & 2009 & Jamin Winans      & 107 & Color           & Action\\textbar{}Drama\\textbar{}Fantasy\\textbar{}Sci-Fi                      & USA & Outros              &       NA &       NA & 7.0 & 11000 & Eme Ikwuakor           & Marty Lindsey          & Jessica Duffy        \\\\\n",
       "\t Heroes of Dirt                                        & 2015 & Eric Bugbee       &  98 & Color           & Action\\textbar{}Drama\\textbar{}Sport                               & USA & A partir de 13 anos &       NA &       NA & 7.1 &   197 & Joel Moody             & Bill Allen             & Lia Tucker           \\\\\n",
       "\t Echo Dr.                                              & 2013 & Patrick Ryan Sims &  81 & Color           & Action\\textbar{}Drama\\textbar{}Sci-Fi\\textbar{}Thriller                     & USA & Outros              &   100000 &       NA & 3.6 &    17 & Claire Gordon-Harper   & Hugh Mun               & Johnathan Hurley     \\\\\n",
       "\t Queen Crab                                            & 2015 & Brett Piper       &  80 & Color           & Action\\textbar{}Sci-Fi\\textbar{}Thriller                           & USA & Outros              &    75000 &       NA & 4.5 &    34 & Michelle Simone Miller & Steve Diasparra        & A.J. DeLucia         \\\\\n",
       "\t Sabotage                                              & 2014 & David Ayer        & 109 & Color           & Action\\textbar{}Crime\\textbar{}Drama\\textbar{}Thriller                      & USA & A partir de 18 anos & 35000000 & 10499968 & 5.7 & 10000 & Mireille Enos          & Martin Donovan         & Maurice Compte       \\\\\n",
       "\t El Mariachi                                           & 1992 & Robert Rodriguez  &  81 & Color           & Action\\textbar{}Crime\\textbar{}Drama\\textbar{}Romance\\textbar{}Thriller              & USA & A partir de 18 anos &     7000 &  2040920 & 6.9 &     0 & Carlos Gallardo        & Peter Marquardt        & Consuelo Gómez       \\\\\n",
       "\\end{tabular}\n"
      ],
      "text/markdown": [
       "\n",
       "A tibble: 861 × 15\n",
       "\n",
       "| titulo &lt;chr&gt; | ano &lt;int&gt; | diretor &lt;chr&gt; | duracao &lt;int&gt; | cor &lt;chr&gt; | generos &lt;chr&gt; | pais &lt;chr&gt; | classificacao &lt;chr&gt; | orcamento &lt;int&gt; | receita &lt;int&gt; | nota_imdb &lt;dbl&gt; | likes_facebook &lt;int&gt; | ator_1 &lt;chr&gt; | ator_2 &lt;chr&gt; | ator_3 &lt;chr&gt; |\n",
       "|---|---|---|---|---|---|---|---|---|---|---|---|---|---|---|\n",
       "| Avatar                                       | 2009 | James Cameron     | 178 | Color | Action|Adventure|Fantasy|Sci-Fi               | USA | A partir de 13 anos | 237000000 | 760505847 | 7.9 |  33000 | CCH Pounder         | Joel David Moore     | Wes Studi            |\n",
       "| Pirates of the Caribbean: At World's End     | 2007 | Gore Verbinski    | 169 | Color | Action|Adventure|Fantasy                      | USA | A partir de 13 anos | 300000000 | 309404152 | 7.1 |      0 | Johnny Depp         | Orlando Bloom        | Jack Davenport       |\n",
       "| The Dark Knight Rises                        | 2012 | Christopher Nolan | 164 | Color | Action|Thriller                               | USA | A partir de 13 anos | 250000000 | 448130642 | 8.5 | 164000 | Tom Hardy           | Christian Bale       | Joseph Gordon-Levitt |\n",
       "| John Carter                                  | 2012 | Andrew Stanton    | 132 | Color | Action|Adventure|Sci-Fi                       | USA | A partir de 13 anos | 263700000 |  73058679 | 6.6 |  24000 | Daryl Sabara        | Samantha Morton      | Polly Walker         |\n",
       "| Spider-Man 3                                 | 2007 | Sam Raimi         | 156 | Color | Action|Adventure|Romance                      | USA | A partir de 13 anos | 258000000 | 336530303 | 6.2 |      0 | J.K. Simmons        | James Franco         | Kirsten Dunst        |\n",
       "| Avengers: Age of Ultron                      | 2015 | Joss Whedon       | 141 | Color | Action|Adventure|Sci-Fi                       | USA | A partir de 13 anos | 250000000 | 458991599 | 7.5 | 118000 | Chris Hemsworth     | Robert Downey Jr.    | Scarlett Johansson   |\n",
       "| Batman v Superman: Dawn of Justice           | 2016 | Zack Snyder       | 183 | Color | Action|Adventure|Sci-Fi                       | USA | A partir de 13 anos | 250000000 | 330249062 | 6.9 | 197000 | Henry Cavill        | Lauren Cohan         | Alan D. Purwin       |\n",
       "| Superman Returns                             | 2006 | Bryan Singer      | 169 | Color | Action|Adventure|Sci-Fi                       | USA | A partir de 13 anos | 209000000 | 200069408 | 6.1 |      0 | Kevin Spacey        | Marlon Brando        | Frank Langella       |\n",
       "| Pirates of the Caribbean: Dead Man's Chest   | 2006 | Gore Verbinski    | 151 | Color | Action|Adventure|Fantasy                      | USA | A partir de 13 anos | 225000000 | 423032628 | 7.3 |   5000 | Johnny Depp         | Orlando Bloom        | Jack Davenport       |\n",
       "| The Lone Ranger                              | 2013 | Gore Verbinski    | 150 | Color | Action|Adventure|Western                      | USA | A partir de 13 anos | 215000000 |  89289910 | 6.5 |  48000 | Johnny Depp         | Ruth Wilson          | Tom Wilkinson        |\n",
       "| Man of Steel                                 | 2013 | Zack Snyder       | 143 | Color | Action|Adventure|Fantasy|Sci-Fi               | USA | A partir de 13 anos | 225000000 | 291021565 | 7.2 | 118000 | Henry Cavill        | Christopher Meloni   | Harry Lennix         |\n",
       "| The Chronicles of Narnia: Prince Caspian     | 2008 | Andrew Adamson    | 150 | Color | Action|Adventure|Family|Fantasy               | USA | Livre               | 225000000 | 141614023 | 6.6 |      0 | Peter Dinklage      | Pierfrancesco Favino | Damián Alcázar       |\n",
       "| The Avengers                                 | 2012 | Joss Whedon       | 173 | Color | Action|Adventure|Sci-Fi                       | USA | A partir de 13 anos | 220000000 | 623279547 | 8.1 | 123000 | Chris Hemsworth     | Robert Downey Jr.    | Scarlett Johansson   |\n",
       "| Pirates of the Caribbean: On Stranger Tides  | 2011 | Rob Marshall      | 136 | Color | Action|Adventure|Fantasy                      | USA | A partir de 13 anos | 250000000 | 241063875 | 6.7 |  58000 | Johnny Depp         | Sam Claflin          | Stephen Graham       |\n",
       "| Men in Black 3                               | 2012 | Barry Sonnenfeld  | 106 | Color | Action|Adventure|Comedy|Family|Fantasy|Sci-Fi | USA | A partir de 13 anos | 225000000 | 179020854 | 6.8 |  40000 | Will Smith          | Michael Stuhlbarg    | Nicole Scherzinger   |\n",
       "| The Amazing Spider-Man                       | 2012 | Marc Webb         | 153 | Color | Action|Adventure|Fantasy                      | USA | A partir de 13 anos | 230000000 | 262030663 | 7.0 |  56000 | Emma Stone          | Andrew Garfield      | Chris Zylka          |\n",
       "| Robin Hood                                   | 2010 | Ridley Scott      | 156 | Color | Action|Adventure|Drama|History                | USA | A partir de 13 anos | 200000000 | 105219735 | 6.7 |  17000 | Mark Addy           | William Hurt         | Scott Grimes         |\n",
       "| Captain America: Civil War                   | 2016 | Anthony Russo     | 147 | Color | Action|Adventure|Sci-Fi                       | USA | A partir de 13 anos | 250000000 | 407197282 | 8.2 |  72000 | Robert Downey Jr.   | Scarlett Johansson   | Chris Evans          |\n",
       "| Battleship                                   | 2012 | Peter Berg        | 131 | Color | Action|Adventure|Sci-Fi|Thriller              | USA | A partir de 13 anos | 209000000 |  65173160 | 5.9 |  44000 | Liam Neeson         | Alexander Skarsgård  | Tadanobu Asano       |\n",
       "| Jurassic World                               | 2015 | Colin Trevorrow   | 124 | Color | Action|Adventure|Sci-Fi|Thriller              | USA | A partir de 13 anos | 150000000 | 652177271 | 7.0 | 150000 | Bryce Dallas Howard | Judy Greer           | Omar Sy              |\n",
       "| Spider-Man 2                                 | 2004 | Sam Raimi         | 135 | Color | Action|Adventure|Fantasy|Romance              | USA | A partir de 13 anos | 200000000 | 373377893 | 7.3 |      0 | J.K. Simmons        | James Franco         | Kirsten Dunst        |\n",
       "| Iron Man 3                                   | 2013 | Shane Black       | 195 | Color | Action|Adventure|Sci-Fi                       | USA | A partir de 13 anos | 200000000 | 408992272 | 7.2 |  95000 | Robert Downey Jr.   | Jon Favreau          | Don Cheadle          |\n",
       "| Transformers: Revenge of the Fallen          | 2009 | Michael Bay       | 150 | Color | Action|Adventure|Sci-Fi                       | USA | A partir de 13 anos | 200000000 | 402076689 | 6.0 |      0 | Glenn Morshower     | Kevin Dunn           | Ramon Rodriguez      |\n",
       "| Transformers: Age of Extinction              | 2014 | Michael Bay       | 165 | Color | Action|Adventure|Sci-Fi                       | USA | A partir de 13 anos | 210000000 | 245428137 | 5.7 |  56000 | Bingbing Li         | Sophia Myles         | Kelsey Grammer       |\n",
       "| The Amazing Spider-Man 2                     | 2014 | Marc Webb         | 142 | Color | Action|Adventure|Fantasy|Sci-Fi               | USA | A partir de 13 anos | 200000000 | 202853933 | 6.7 |  41000 | Emma Stone          | Andrew Garfield      | B.J. Novak           |\n",
       "| TRON: Legacy                                 | 2010 | Joseph Kosinski   | 125 | Color | Action|Adventure|Sci-Fi                       | USA | Livre               | 170000000 | 172051787 | 6.8 |  30000 | Jeff Bridges        | Olivia Wilde         | James Frain          |\n",
       "| Green Lantern                                | 2011 | Martin Campbell   | 123 | Color | Action|Adventure|Sci-Fi                       | USA | A partir de 13 anos | 200000000 | 116593191 | 5.6 |  24000 | Ryan Reynolds       | Temuera Morrison     | Taika Waititi        |\n",
       "| Terminator Salvation                         | 2009 | McG               | 118 | Color | Action|Adventure|Sci-Fi                       | USA | A partir de 13 anos | 200000000 | 125320003 | 6.6 |      0 | Christian Bale      | Bryce Dallas Howard  | Common               |\n",
       "| Furious 7                                    | 2015 | James Wan         | 140 | Color | Action|Crime|Thriller                         | USA | A partir de 13 anos | 190000000 | 350034110 | 7.2 |  94000 | Jason Statham       | Paul Walker          | Vin Diesel           |\n",
       "| World War Z                                  | 2013 | Marc Forster      | 123 | Color | Action|Adventure|Horror|Sci-Fi|Thriller       | USA | A partir de 13 anos | 190000000 | 202351611 | 7.0 | 129000 | Peter Capaldi       | Brad Pitt            | Mireille Enos        |\n",
       "| ... | ... | ... | ... | ... | ... | ... | ... | ... | ... | ... | ... | ... | ... | ... |\n",
       "| Sands of Iwo Jima                                     | 1949 | Allan Dwan        | 109 | Black and White | Action|Drama|Romance|War                         | USA | Outros              |  1000000 |       NA | 7.2 |   624 | James Brown            | Richard Jaeckel        | Forrest Tucker        |\n",
       "| Hardflip                                              | 2012 | Johnny Remo       | 112 | Color           | Action|Drama                                     | USA | A partir de 13 anos |  1000000 |    96734 | 5.6 |   706 | Matthew Ziff           | Randy Wayne            | Raquel Elizabeth Ames |\n",
       "| The Specials                                          | 2000 | Craig Mazin       |  82 | Color           | Action|Comedy|Fantasy|Sci-Fi                     | USA | A partir de 18 anos |  1000000 |    12996 | 6.0 |   210 | Judy Greer             | James Gunn             | Jamie Kennedy         |\n",
       "| The Helix... Loaded                                   | 2005 | A. Raven Cruz     |  97 | Color           | Action|Adventure|Comedy|Fantasy|Sci-Fi           | USA | A partir de 18 anos |  1000000 |       NA | 1.9 |   128 | Scott Levy             | Vanilla Ice            | Jennifer Sky          |\n",
       "| Zombie Hunter                                         | 2013 | K. King           |  93 | Color           | Action|Comedy|Horror                             | USA | Outros              |  1000000 |       NA | 3.5 |     0 | Jason K. Wixom         | Shona Kay              | Jarrod Phillips       |\n",
       "| Snitch                                                | 2013 | Ric Roman Waugh   | 112 | Color           | Action|Drama|Thriller                            | USA | A partir de 13 anos | 15000000 | 42919096 | 6.5 | 12000 | Dwayne Johnson         | Harold Perrineau       | Nadine Velazquez      |\n",
       "| American Hero                                         | 2015 | Nick Love         |  86 | Color           | Action|Comedy|Drama|Sci-Fi                       | USA | Outros              |   990000 |       NA | 4.9 |   549 | Eddie Griffin          | Christopher Berry      | Michelle Tabora       |\n",
       "| Saints and Soldiers                                   | 2003 | Ryan Little       |  90 | Color           | Action|Adventure|Drama|War                       | USA | A partir de 13 anos |   780000 |  1310270 | 6.8 |  1000 | Corbin Allred          | Larry Bagby            | Kirby Heyborne        |\n",
       "| Aqua Teen Hunger Force Colon Movie Film for Theaters  | 2007 | Matt Maiellaro    |  86 | Color           | Action|Adventure|Animation|Comedy|Fantasy|Sci-Fi | USA | A partir de 18 anos |   750000 |  5518918 | 6.9 |   307 | Tina Fey               | Fred Armisen           | Chris Kattan          |\n",
       "| Destiny                                               | 2014 | Joseph Kosinski   |  NA | Color           | Action|Adventure|Fantasy|Sci-Fi                  | USA | Outros              |       NA |       NA | 8.1 |  1000 | Peter Dinklage         | Lauren Cohan           | Erick Avari           |\n",
       "| Mercy Streets                                         | 2000 | Jon Gunn          | 106 | Color           | Action|Crime|Drama                               | USA | A partir de 13 anos |   600000 |   171988 | 5.6 |    12 | Stacy Keach            | David A.R. White       | Cynthia Watros        |\n",
       "| Light from the Darkroom                               | 2014 | Lance McDaniel    |  90 | Color           | Action|Drama|Thriller                            | USA | A partir de 13 anos |   600000 |       NA | 8.0 |     9 | Russell Wong           | Steven Michael Quezada | Lymari Nadal          |\n",
       "| Subconscious                                          | 2015 | Georgia Hilton    | 122 | Color           | Action|Mystery|Thriller                          | USA | A partir de 18 anos |       NA |       NA | 2.2 |   353 | Mike Beckingham        | Tim Abell              | Tom Stedham           |\n",
       "| Fight to the Finish                                   | 2016 | Warren Sheppard   |  94 | Color           | Action|Romance|Sport                             | USA | A partir de 13 anos |   150000 |       NA | 4.0 |   381 | Jennifer Hale          | Randy Jay Burrell      | Vincent De Paul       |\n",
       "| Born to Fly: Elizabeth Streb vs. Gravity              | 2014 | Catherine Gund    |  82 | Color           | Action|Biography|Documentary|Sport               | USA | Outros              |   500000 |    21199 | 6.8 |    44 | Elizabeth Streb        | Sarah Callan           | Laura Flanders        |\n",
       "| The Toxic Avenger                                     | 1984 | Michael Herz      |  91 | Color           | Action|Comedy|Horror|Sci-Fi                      | USA | Outros              |   475000 |       NA | 6.2 |     0 | Patrick Kilpatrick     | Mark Torgl             | Pat Ryan              |\n",
       "| Diamond Ruff                                          | 2015 | Alec Asten        |  82 | Color           | Action                                           | USA | A partir de 18 anos |   500000 |       NA | 4.3 |    62 | Luis Sanchez           | Dennis L.A. White      | Fredro Starr          |\n",
       "| American Ninja 2: The Confrontation                   | 1987 | Sam Firstenberg   |  90 | Color           | Action|Drama                                     | USA | A partir de 18 anos |   350000 |  4000000 | 4.7 |   583 | Michael Dudikoff       | Steve James            | Larry Poindexter      |\n",
       "| Revolution                                            |   NA | NA                |  43 | Color           | Action|Adventure|Drama|Sci-Fi                    | USA | Outros              |       NA |       NA | 6.7 | 17000 | Billy Burke            | Tracy Spiridakos       | David Lyons           |\n",
       "| The Prophecy                                          | 1995 | Gregory Widen     |  98 | Color           | Action|Fantasy|Horror|Mystery|Thriller           | USA | A partir de 18 anos |  8000000 | 16115878 | 6.6 |     0 | Viggo Mortensen        | Adam Goldberg          | Virginia Madsen       |\n",
       "| Royal Kill                                            | 2009 | Babar Ahmed       |  90 | Color           | Action|Thriller                                  | USA | A partir de 13 anos |   350000 |       NA | 3.2 |    53 | Lalaine                | Alexander Wraith       | Darren Kendrick       |\n",
       "| Death Race 2000                                       | 1975 | Paul Bartel       |  80 | Color           | Action|Comedy|Sci-Fi|Sport                       | USA | A partir de 18 anos |   300000 |       NA | 6.2 |     0 | Sylvester Stallone     | David Carradine        | Martin Kove           |\n",
       "| Death Calls                                           | 2010 | Ken Del Conte     |  90 | Color           | Action|Adventure|Mystery|Romance|Thriller        | USA | A partir de 18 anos |   290000 |       NA | 4.3 |    16 | Hector Echavarria      | Robert Miano           | Ron Roggé             |\n",
       "| Amidst the Devil's Wings                              | 2014 | Daniel Columbie   |  90 | Color           | Action|Crime|Drama                               | USA | Outros              |   300000 |       NA | 4.3 |    17 | Keri Maletto           | Nicholas Simmons       | Barbie Castro         |\n",
       "| Ink                                                   | 2009 | Jamin Winans      | 107 | Color           | Action|Drama|Fantasy|Sci-Fi                      | USA | Outros              |       NA |       NA | 7.0 | 11000 | Eme Ikwuakor           | Marty Lindsey          | Jessica Duffy         |\n",
       "| Heroes of Dirt                                        | 2015 | Eric Bugbee       |  98 | Color           | Action|Drama|Sport                               | USA | A partir de 13 anos |       NA |       NA | 7.1 |   197 | Joel Moody             | Bill Allen             | Lia Tucker            |\n",
       "| Echo Dr.                                              | 2013 | Patrick Ryan Sims |  81 | Color           | Action|Drama|Sci-Fi|Thriller                     | USA | Outros              |   100000 |       NA | 3.6 |    17 | Claire Gordon-Harper   | Hugh Mun               | Johnathan Hurley      |\n",
       "| Queen Crab                                            | 2015 | Brett Piper       |  80 | Color           | Action|Sci-Fi|Thriller                           | USA | Outros              |    75000 |       NA | 4.5 |    34 | Michelle Simone Miller | Steve Diasparra        | A.J. DeLucia          |\n",
       "| Sabotage                                              | 2014 | David Ayer        | 109 | Color           | Action|Crime|Drama|Thriller                      | USA | A partir de 18 anos | 35000000 | 10499968 | 5.7 | 10000 | Mireille Enos          | Martin Donovan         | Maurice Compte        |\n",
       "| El Mariachi                                           | 1992 | Robert Rodriguez  |  81 | Color           | Action|Crime|Drama|Romance|Thriller              | USA | A partir de 18 anos |     7000 |  2040920 | 6.9 |     0 | Carlos Gallardo        | Peter Marquardt        | Consuelo Gómez        |\n",
       "\n"
      ],
      "text/plain": [
       "    titulo                                                ano \n",
       "1   Avatar                                                2009\n",
       "2   Pirates of the Caribbean: At World's End              2007\n",
       "3   The Dark Knight Rises                                 2012\n",
       "4   John Carter                                           2012\n",
       "5   Spider-Man 3                                          2007\n",
       "6   Avengers: Age of Ultron                               2015\n",
       "7   Batman v Superman: Dawn of Justice                    2016\n",
       "8   Superman Returns                                      2006\n",
       "9   Pirates of the Caribbean: Dead Man's Chest            2006\n",
       "10  The Lone Ranger                                       2013\n",
       "11  Man of Steel                                          2013\n",
       "12  The Chronicles of Narnia: Prince Caspian              2008\n",
       "13  The Avengers                                          2012\n",
       "14  Pirates of the Caribbean: On Stranger Tides           2011\n",
       "15  Men in Black 3                                        2012\n",
       "16  The Amazing Spider-Man                                2012\n",
       "17  Robin Hood                                            2010\n",
       "18  Captain America: Civil War                            2016\n",
       "19  Battleship                                            2012\n",
       "20  Jurassic World                                        2015\n",
       "21  Spider-Man 2                                          2004\n",
       "22  Iron Man 3                                            2013\n",
       "23  Transformers: Revenge of the Fallen                   2009\n",
       "24  Transformers: Age of Extinction                       2014\n",
       "25  The Amazing Spider-Man 2                              2014\n",
       "26  TRON: Legacy                                          2010\n",
       "27  Green Lantern                                         2011\n",
       "28  Terminator Salvation                                  2009\n",
       "29  Furious 7                                             2015\n",
       "30  World War Z                                           2013\n",
       "... ...                                                   ... \n",
       "832 Sands of Iwo Jima                                     1949\n",
       "833 Hardflip                                              2012\n",
       "834 The Specials                                          2000\n",
       "835 The Helix... Loaded                                   2005\n",
       "836 Zombie Hunter                                         2013\n",
       "837 Snitch                                                2013\n",
       "838 American Hero                                         2015\n",
       "839 Saints and Soldiers                                   2003\n",
       "840 Aqua Teen Hunger Force Colon Movie Film for Theaters  2007\n",
       "841 Destiny                                               2014\n",
       "842 Mercy Streets                                         2000\n",
       "843 Light from the Darkroom                               2014\n",
       "844 Subconscious                                          2015\n",
       "845 Fight to the Finish                                   2016\n",
       "846 Born to Fly: Elizabeth Streb vs. Gravity              2014\n",
       "847 The Toxic Avenger                                     1984\n",
       "848 Diamond Ruff                                          2015\n",
       "849 American Ninja 2: The Confrontation                   1987\n",
       "850 Revolution                                              NA\n",
       "851 The Prophecy                                          1995\n",
       "852 Royal Kill                                            2009\n",
       "853 Death Race 2000                                       1975\n",
       "854 Death Calls                                           2010\n",
       "855 Amidst the Devil's Wings                              2014\n",
       "856 Ink                                                   2009\n",
       "857 Heroes of Dirt                                        2015\n",
       "858 Echo Dr.                                              2013\n",
       "859 Queen Crab                                            2015\n",
       "860 Sabotage                                              2014\n",
       "861 El Mariachi                                           1992\n",
       "    diretor           duracao cor            \n",
       "1   James Cameron     178     Color          \n",
       "2   Gore Verbinski    169     Color          \n",
       "3   Christopher Nolan 164     Color          \n",
       "4   Andrew Stanton    132     Color          \n",
       "5   Sam Raimi         156     Color          \n",
       "6   Joss Whedon       141     Color          \n",
       "7   Zack Snyder       183     Color          \n",
       "8   Bryan Singer      169     Color          \n",
       "9   Gore Verbinski    151     Color          \n",
       "10  Gore Verbinski    150     Color          \n",
       "11  Zack Snyder       143     Color          \n",
       "12  Andrew Adamson    150     Color          \n",
       "13  Joss Whedon       173     Color          \n",
       "14  Rob Marshall      136     Color          \n",
       "15  Barry Sonnenfeld  106     Color          \n",
       "16  Marc Webb         153     Color          \n",
       "17  Ridley Scott      156     Color          \n",
       "18  Anthony Russo     147     Color          \n",
       "19  Peter Berg        131     Color          \n",
       "20  Colin Trevorrow   124     Color          \n",
       "21  Sam Raimi         135     Color          \n",
       "22  Shane Black       195     Color          \n",
       "23  Michael Bay       150     Color          \n",
       "24  Michael Bay       165     Color          \n",
       "25  Marc Webb         142     Color          \n",
       "26  Joseph Kosinski   125     Color          \n",
       "27  Martin Campbell   123     Color          \n",
       "28  McG               118     Color          \n",
       "29  James Wan         140     Color          \n",
       "30  Marc Forster      123     Color          \n",
       "... ...               ...     ...            \n",
       "832 Allan Dwan        109     Black and White\n",
       "833 Johnny Remo       112     Color          \n",
       "834 Craig Mazin        82     Color          \n",
       "835 A. Raven Cruz      97     Color          \n",
       "836 K. King            93     Color          \n",
       "837 Ric Roman Waugh   112     Color          \n",
       "838 Nick Love          86     Color          \n",
       "839 Ryan Little        90     Color          \n",
       "840 Matt Maiellaro     86     Color          \n",
       "841 Joseph Kosinski    NA     Color          \n",
       "842 Jon Gunn          106     Color          \n",
       "843 Lance McDaniel     90     Color          \n",
       "844 Georgia Hilton    122     Color          \n",
       "845 Warren Sheppard    94     Color          \n",
       "846 Catherine Gund     82     Color          \n",
       "847 Michael Herz       91     Color          \n",
       "848 Alec Asten         82     Color          \n",
       "849 Sam Firstenberg    90     Color          \n",
       "850 NA                 43     Color          \n",
       "851 Gregory Widen      98     Color          \n",
       "852 Babar Ahmed        90     Color          \n",
       "853 Paul Bartel        80     Color          \n",
       "854 Ken Del Conte      90     Color          \n",
       "855 Daniel Columbie    90     Color          \n",
       "856 Jamin Winans      107     Color          \n",
       "857 Eric Bugbee        98     Color          \n",
       "858 Patrick Ryan Sims  81     Color          \n",
       "859 Brett Piper        80     Color          \n",
       "860 David Ayer        109     Color          \n",
       "861 Robert Rodriguez   81     Color          \n",
       "    generos                                          pais classificacao      \n",
       "1   Action|Adventure|Fantasy|Sci-Fi                  USA  A partir de 13 anos\n",
       "2   Action|Adventure|Fantasy                         USA  A partir de 13 anos\n",
       "3   Action|Thriller                                  USA  A partir de 13 anos\n",
       "4   Action|Adventure|Sci-Fi                          USA  A partir de 13 anos\n",
       "5   Action|Adventure|Romance                         USA  A partir de 13 anos\n",
       "6   Action|Adventure|Sci-Fi                          USA  A partir de 13 anos\n",
       "7   Action|Adventure|Sci-Fi                          USA  A partir de 13 anos\n",
       "8   Action|Adventure|Sci-Fi                          USA  A partir de 13 anos\n",
       "9   Action|Adventure|Fantasy                         USA  A partir de 13 anos\n",
       "10  Action|Adventure|Western                         USA  A partir de 13 anos\n",
       "11  Action|Adventure|Fantasy|Sci-Fi                  USA  A partir de 13 anos\n",
       "12  Action|Adventure|Family|Fantasy                  USA  Livre              \n",
       "13  Action|Adventure|Sci-Fi                          USA  A partir de 13 anos\n",
       "14  Action|Adventure|Fantasy                         USA  A partir de 13 anos\n",
       "15  Action|Adventure|Comedy|Family|Fantasy|Sci-Fi    USA  A partir de 13 anos\n",
       "16  Action|Adventure|Fantasy                         USA  A partir de 13 anos\n",
       "17  Action|Adventure|Drama|History                   USA  A partir de 13 anos\n",
       "18  Action|Adventure|Sci-Fi                          USA  A partir de 13 anos\n",
       "19  Action|Adventure|Sci-Fi|Thriller                 USA  A partir de 13 anos\n",
       "20  Action|Adventure|Sci-Fi|Thriller                 USA  A partir de 13 anos\n",
       "21  Action|Adventure|Fantasy|Romance                 USA  A partir de 13 anos\n",
       "22  Action|Adventure|Sci-Fi                          USA  A partir de 13 anos\n",
       "23  Action|Adventure|Sci-Fi                          USA  A partir de 13 anos\n",
       "24  Action|Adventure|Sci-Fi                          USA  A partir de 13 anos\n",
       "25  Action|Adventure|Fantasy|Sci-Fi                  USA  A partir de 13 anos\n",
       "26  Action|Adventure|Sci-Fi                          USA  Livre              \n",
       "27  Action|Adventure|Sci-Fi                          USA  A partir de 13 anos\n",
       "28  Action|Adventure|Sci-Fi                          USA  A partir de 13 anos\n",
       "29  Action|Crime|Thriller                            USA  A partir de 13 anos\n",
       "30  Action|Adventure|Horror|Sci-Fi|Thriller          USA  A partir de 13 anos\n",
       "... ...                                              ...  ...                \n",
       "832 Action|Drama|Romance|War                         USA  Outros             \n",
       "833 Action|Drama                                     USA  A partir de 13 anos\n",
       "834 Action|Comedy|Fantasy|Sci-Fi                     USA  A partir de 18 anos\n",
       "835 Action|Adventure|Comedy|Fantasy|Sci-Fi           USA  A partir de 18 anos\n",
       "836 Action|Comedy|Horror                             USA  Outros             \n",
       "837 Action|Drama|Thriller                            USA  A partir de 13 anos\n",
       "838 Action|Comedy|Drama|Sci-Fi                       USA  Outros             \n",
       "839 Action|Adventure|Drama|War                       USA  A partir de 13 anos\n",
       "840 Action|Adventure|Animation|Comedy|Fantasy|Sci-Fi USA  A partir de 18 anos\n",
       "841 Action|Adventure|Fantasy|Sci-Fi                  USA  Outros             \n",
       "842 Action|Crime|Drama                               USA  A partir de 13 anos\n",
       "843 Action|Drama|Thriller                            USA  A partir de 13 anos\n",
       "844 Action|Mystery|Thriller                          USA  A partir de 18 anos\n",
       "845 Action|Romance|Sport                             USA  A partir de 13 anos\n",
       "846 Action|Biography|Documentary|Sport               USA  Outros             \n",
       "847 Action|Comedy|Horror|Sci-Fi                      USA  Outros             \n",
       "848 Action                                           USA  A partir de 18 anos\n",
       "849 Action|Drama                                     USA  A partir de 18 anos\n",
       "850 Action|Adventure|Drama|Sci-Fi                    USA  Outros             \n",
       "851 Action|Fantasy|Horror|Mystery|Thriller           USA  A partir de 18 anos\n",
       "852 Action|Thriller                                  USA  A partir de 13 anos\n",
       "853 Action|Comedy|Sci-Fi|Sport                       USA  A partir de 18 anos\n",
       "854 Action|Adventure|Mystery|Romance|Thriller        USA  A partir de 18 anos\n",
       "855 Action|Crime|Drama                               USA  Outros             \n",
       "856 Action|Drama|Fantasy|Sci-Fi                      USA  Outros             \n",
       "857 Action|Drama|Sport                               USA  A partir de 13 anos\n",
       "858 Action|Drama|Sci-Fi|Thriller                     USA  Outros             \n",
       "859 Action|Sci-Fi|Thriller                           USA  Outros             \n",
       "860 Action|Crime|Drama|Thriller                      USA  A partir de 18 anos\n",
       "861 Action|Crime|Drama|Romance|Thriller              USA  A partir de 18 anos\n",
       "    orcamento receita   nota_imdb likes_facebook ator_1                \n",
       "1   237000000 760505847 7.9        33000         CCH Pounder           \n",
       "2   300000000 309404152 7.1            0         Johnny Depp           \n",
       "3   250000000 448130642 8.5       164000         Tom Hardy             \n",
       "4   263700000  73058679 6.6        24000         Daryl Sabara          \n",
       "5   258000000 336530303 6.2            0         J.K. Simmons          \n",
       "6   250000000 458991599 7.5       118000         Chris Hemsworth       \n",
       "7   250000000 330249062 6.9       197000         Henry Cavill          \n",
       "8   209000000 200069408 6.1            0         Kevin Spacey          \n",
       "9   225000000 423032628 7.3         5000         Johnny Depp           \n",
       "10  215000000  89289910 6.5        48000         Johnny Depp           \n",
       "11  225000000 291021565 7.2       118000         Henry Cavill          \n",
       "12  225000000 141614023 6.6            0         Peter Dinklage        \n",
       "13  220000000 623279547 8.1       123000         Chris Hemsworth       \n",
       "14  250000000 241063875 6.7        58000         Johnny Depp           \n",
       "15  225000000 179020854 6.8        40000         Will Smith            \n",
       "16  230000000 262030663 7.0        56000         Emma Stone            \n",
       "17  200000000 105219735 6.7        17000         Mark Addy             \n",
       "18  250000000 407197282 8.2        72000         Robert Downey Jr.     \n",
       "19  209000000  65173160 5.9        44000         Liam Neeson           \n",
       "20  150000000 652177271 7.0       150000         Bryce Dallas Howard   \n",
       "21  200000000 373377893 7.3            0         J.K. Simmons          \n",
       "22  200000000 408992272 7.2        95000         Robert Downey Jr.     \n",
       "23  200000000 402076689 6.0            0         Glenn Morshower       \n",
       "24  210000000 245428137 5.7        56000         Bingbing Li           \n",
       "25  200000000 202853933 6.7        41000         Emma Stone            \n",
       "26  170000000 172051787 6.8        30000         Jeff Bridges          \n",
       "27  200000000 116593191 5.6        24000         Ryan Reynolds         \n",
       "28  200000000 125320003 6.6            0         Christian Bale        \n",
       "29  190000000 350034110 7.2        94000         Jason Statham         \n",
       "30  190000000 202351611 7.0       129000         Peter Capaldi         \n",
       "... ...       ...       ...       ...            ...                   \n",
       "832  1000000        NA  7.2         624          James Brown           \n",
       "833  1000000     96734  5.6         706          Matthew Ziff          \n",
       "834  1000000     12996  6.0         210          Judy Greer            \n",
       "835  1000000        NA  1.9         128          Scott Levy            \n",
       "836  1000000        NA  3.5           0          Jason K. Wixom        \n",
       "837 15000000  42919096  6.5       12000          Dwayne Johnson        \n",
       "838   990000        NA  4.9         549          Eddie Griffin         \n",
       "839   780000   1310270  6.8        1000          Corbin Allred         \n",
       "840   750000   5518918  6.9         307          Tina Fey              \n",
       "841       NA        NA  8.1        1000          Peter Dinklage        \n",
       "842   600000    171988  5.6          12          Stacy Keach           \n",
       "843   600000        NA  8.0           9          Russell Wong          \n",
       "844       NA        NA  2.2         353          Mike Beckingham       \n",
       "845   150000        NA  4.0         381          Jennifer Hale         \n",
       "846   500000     21199  6.8          44          Elizabeth Streb       \n",
       "847   475000        NA  6.2           0          Patrick Kilpatrick    \n",
       "848   500000        NA  4.3          62          Luis Sanchez          \n",
       "849   350000   4000000  4.7         583          Michael Dudikoff      \n",
       "850       NA        NA  6.7       17000          Billy Burke           \n",
       "851  8000000  16115878  6.6           0          Viggo Mortensen       \n",
       "852   350000        NA  3.2          53          Lalaine               \n",
       "853   300000        NA  6.2           0          Sylvester Stallone    \n",
       "854   290000        NA  4.3          16          Hector Echavarria     \n",
       "855   300000        NA  4.3          17          Keri Maletto          \n",
       "856       NA        NA  7.0       11000          Eme Ikwuakor          \n",
       "857       NA        NA  7.1         197          Joel Moody            \n",
       "858   100000        NA  3.6          17          Claire Gordon-Harper  \n",
       "859    75000        NA  4.5          34          Michelle Simone Miller\n",
       "860 35000000  10499968  5.7       10000          Mireille Enos         \n",
       "861     7000   2040920  6.9           0          Carlos Gallardo       \n",
       "    ator_2                 ator_3               \n",
       "1   Joel David Moore       Wes Studi            \n",
       "2   Orlando Bloom          Jack Davenport       \n",
       "3   Christian Bale         Joseph Gordon-Levitt \n",
       "4   Samantha Morton        Polly Walker         \n",
       "5   James Franco           Kirsten Dunst        \n",
       "6   Robert Downey Jr.      Scarlett Johansson   \n",
       "7   Lauren Cohan           Alan D. Purwin       \n",
       "8   Marlon Brando          Frank Langella       \n",
       "9   Orlando Bloom          Jack Davenport       \n",
       "10  Ruth Wilson            Tom Wilkinson        \n",
       "11  Christopher Meloni     Harry Lennix         \n",
       "12  Pierfrancesco Favino   Damián Alcázar       \n",
       "13  Robert Downey Jr.      Scarlett Johansson   \n",
       "14  Sam Claflin            Stephen Graham       \n",
       "15  Michael Stuhlbarg      Nicole Scherzinger   \n",
       "16  Andrew Garfield        Chris Zylka          \n",
       "17  William Hurt           Scott Grimes         \n",
       "18  Scarlett Johansson     Chris Evans          \n",
       "19  Alexander Skarsgård    Tadanobu Asano       \n",
       "20  Judy Greer             Omar Sy              \n",
       "21  James Franco           Kirsten Dunst        \n",
       "22  Jon Favreau            Don Cheadle          \n",
       "23  Kevin Dunn             Ramon Rodriguez      \n",
       "24  Sophia Myles           Kelsey Grammer       \n",
       "25  Andrew Garfield        B.J. Novak           \n",
       "26  Olivia Wilde           James Frain          \n",
       "27  Temuera Morrison       Taika Waititi        \n",
       "28  Bryce Dallas Howard    Common               \n",
       "29  Paul Walker            Vin Diesel           \n",
       "30  Brad Pitt              Mireille Enos        \n",
       "... ...                    ...                  \n",
       "832 Richard Jaeckel        Forrest Tucker       \n",
       "833 Randy Wayne            Raquel Elizabeth Ames\n",
       "834 James Gunn             Jamie Kennedy        \n",
       "835 Vanilla Ice            Jennifer Sky         \n",
       "836 Shona Kay              Jarrod Phillips      \n",
       "837 Harold Perrineau       Nadine Velazquez     \n",
       "838 Christopher Berry      Michelle Tabora      \n",
       "839 Larry Bagby            Kirby Heyborne       \n",
       "840 Fred Armisen           Chris Kattan         \n",
       "841 Lauren Cohan           Erick Avari          \n",
       "842 David A.R. White       Cynthia Watros       \n",
       "843 Steven Michael Quezada Lymari Nadal         \n",
       "844 Tim Abell              Tom Stedham          \n",
       "845 Randy Jay Burrell      Vincent De Paul      \n",
       "846 Sarah Callan           Laura Flanders       \n",
       "847 Mark Torgl             Pat Ryan             \n",
       "848 Dennis L.A. White      Fredro Starr         \n",
       "849 Steve James            Larry Poindexter     \n",
       "850 Tracy Spiridakos       David Lyons          \n",
       "851 Adam Goldberg          Virginia Madsen      \n",
       "852 Alexander Wraith       Darren Kendrick      \n",
       "853 David Carradine        Martin Kove          \n",
       "854 Robert Miano           Ron Roggé            \n",
       "855 Nicholas Simmons       Barbie Castro        \n",
       "856 Marty Lindsey          Jessica Duffy        \n",
       "857 Bill Allen             Lia Tucker           \n",
       "858 Hugh Mun               Johnathan Hurley     \n",
       "859 Steve Diasparra        A.J. DeLucia         \n",
       "860 Martin Donovan         Maurice Compte       \n",
       "861 Peter Marquardt        Consuelo Gómez       "
      ]
     },
     "metadata": {},
     "output_type": "display_data"
    }
   ],
   "source": [
    "library(stringr)\n",
    "\n",
    "imdb %>% \n",
    "  filter(str_detect(generos, \"Action\"))"
   ]
  },
  {
   "cell_type": "markdown",
   "metadata": {
    "slideshow": {
     "slide_type": "slide"
    }
   },
   "source": [
    "### SELECIONANDO COLUNAS\n",
    "A função select() seleciona colunas (variáveis). É possível utilizar nomes, índices, intervalos de variáveis ou utilizar as funções starts_with(x), contains(x), matches(x), one_of(x) para selecionar as variáveis."
   ]
  },
  {
   "cell_type": "code",
   "execution_count": 90,
   "metadata": {
    "slideshow": {
     "slide_type": "slide"
    }
   },
   "outputs": [
    {
     "data": {
      "text/html": [
       "<style>\n",
       ".list-inline {list-style: none; margin:0; padding: 0}\n",
       ".list-inline>li {display: inline-block}\n",
       ".list-inline>li:not(:last-child)::after {content: \"\\00b7\"; padding: 0 .5ex}\n",
       "</style>\n",
       "<ol class=list-inline><li>'titulo'</li><li>'ano'</li><li>'diretor'</li><li>'duracao'</li><li>'cor'</li><li>'generos'</li><li>'pais'</li><li>'classificacao'</li><li>'orcamento'</li><li>'receita'</li><li>'nota_imdb'</li><li>'likes_facebook'</li><li>'ator_1'</li><li>'ator_2'</li><li>'ator_3'</li></ol>\n"
      ],
      "text/latex": [
       "\\begin{enumerate*}\n",
       "\\item 'titulo'\n",
       "\\item 'ano'\n",
       "\\item 'diretor'\n",
       "\\item 'duracao'\n",
       "\\item 'cor'\n",
       "\\item 'generos'\n",
       "\\item 'pais'\n",
       "\\item 'classificacao'\n",
       "\\item 'orcamento'\n",
       "\\item 'receita'\n",
       "\\item 'nota\\_imdb'\n",
       "\\item 'likes\\_facebook'\n",
       "\\item 'ator\\_1'\n",
       "\\item 'ator\\_2'\n",
       "\\item 'ator\\_3'\n",
       "\\end{enumerate*}\n"
      ],
      "text/markdown": [
       "1. 'titulo'\n",
       "2. 'ano'\n",
       "3. 'diretor'\n",
       "4. 'duracao'\n",
       "5. 'cor'\n",
       "6. 'generos'\n",
       "7. 'pais'\n",
       "8. 'classificacao'\n",
       "9. 'orcamento'\n",
       "10. 'receita'\n",
       "11. 'nota_imdb'\n",
       "12. 'likes_facebook'\n",
       "13. 'ator_1'\n",
       "14. 'ator_2'\n",
       "15. 'ator_3'\n",
       "\n",
       "\n"
      ],
      "text/plain": [
       " [1] \"titulo\"         \"ano\"            \"diretor\"        \"duracao\"       \n",
       " [5] \"cor\"            \"generos\"        \"pais\"           \"classificacao\" \n",
       " [9] \"orcamento\"      \"receita\"        \"nota_imdb\"      \"likes_facebook\"\n",
       "[13] \"ator_1\"         \"ator_2\"         \"ator_3\"        "
      ]
     },
     "metadata": {},
     "output_type": "display_data"
    }
   ],
   "source": [
    "names(imdb)"
   ]
  },
  {
   "cell_type": "code",
   "execution_count": 91,
   "metadata": {
    "slideshow": {
     "slide_type": "slide"
    }
   },
   "outputs": [
    {
     "data": {
      "text/html": [
       "<table>\n",
       "<caption>A tibble: 6 × 3</caption>\n",
       "<thead>\n",
       "\t<tr><th scope=col>titulo</th><th scope=col>ano</th><th scope=col>orcamento</th></tr>\n",
       "\t<tr><th scope=col>&lt;chr&gt;</th><th scope=col>&lt;int&gt;</th><th scope=col>&lt;int&gt;</th></tr>\n",
       "</thead>\n",
       "<tbody>\n",
       "\t<tr><td>Avatar                                   </td><td>2009</td><td>237000000</td></tr>\n",
       "\t<tr><td>Pirates of the Caribbean: At World's End </td><td>2007</td><td>300000000</td></tr>\n",
       "\t<tr><td>The Dark Knight Rises                    </td><td>2012</td><td>250000000</td></tr>\n",
       "\t<tr><td>John Carter                              </td><td>2012</td><td>263700000</td></tr>\n",
       "\t<tr><td>Spider-Man 3                             </td><td>2007</td><td>258000000</td></tr>\n",
       "\t<tr><td>Tangled                                  </td><td>2010</td><td>260000000</td></tr>\n",
       "</tbody>\n",
       "</table>\n"
      ],
      "text/latex": [
       "A tibble: 6 × 3\n",
       "\\begin{tabular}{lll}\n",
       " titulo & ano & orcamento\\\\\n",
       " <chr> & <int> & <int>\\\\\n",
       "\\hline\n",
       "\t Avatar                                    & 2009 & 237000000\\\\\n",
       "\t Pirates of the Caribbean: At World's End  & 2007 & 300000000\\\\\n",
       "\t The Dark Knight Rises                     & 2012 & 250000000\\\\\n",
       "\t John Carter                               & 2012 & 263700000\\\\\n",
       "\t Spider-Man 3                              & 2007 & 258000000\\\\\n",
       "\t Tangled                                   & 2010 & 260000000\\\\\n",
       "\\end{tabular}\n"
      ],
      "text/markdown": [
       "\n",
       "A tibble: 6 × 3\n",
       "\n",
       "| titulo &lt;chr&gt; | ano &lt;int&gt; | orcamento &lt;int&gt; |\n",
       "|---|---|---|\n",
       "| Avatar                                    | 2009 | 237000000 |\n",
       "| Pirates of the Caribbean: At World's End  | 2007 | 300000000 |\n",
       "| The Dark Knight Rises                     | 2012 | 250000000 |\n",
       "| John Carter                               | 2012 | 263700000 |\n",
       "| Spider-Man 3                              | 2007 | 258000000 |\n",
       "| Tangled                                   | 2010 | 260000000 |\n",
       "\n"
      ],
      "text/plain": [
       "  titulo                                    ano  orcamento\n",
       "1 Avatar                                    2009 237000000\n",
       "2 Pirates of the Caribbean: At World's End  2007 300000000\n",
       "3 The Dark Knight Rises                     2012 250000000\n",
       "4 John Carter                               2012 263700000\n",
       "5 Spider-Man 3                              2007 258000000\n",
       "6 Tangled                                   2010 260000000"
      ]
     },
     "metadata": {},
     "output_type": "display_data"
    }
   ],
   "source": [
    "imdb %>% \n",
    "  select(titulo, ano, orcamento) %>%\n",
    "  head()"
   ]
  },
  {
   "cell_type": "code",
   "execution_count": 92,
   "metadata": {
    "slideshow": {
     "slide_type": "slide"
    }
   },
   "outputs": [
    {
     "data": {
      "text/html": [
       "<table>\n",
       "<caption>A tibble: 6 × 3</caption>\n",
       "<thead>\n",
       "\t<tr><th scope=col>ator_1</th><th scope=col>ator_2</th><th scope=col>ator_3</th></tr>\n",
       "\t<tr><th scope=col>&lt;chr&gt;</th><th scope=col>&lt;chr&gt;</th><th scope=col>&lt;chr&gt;</th></tr>\n",
       "</thead>\n",
       "<tbody>\n",
       "\t<tr><td>CCH Pounder </td><td>Joel David Moore</td><td>Wes Studi           </td></tr>\n",
       "\t<tr><td>Johnny Depp </td><td>Orlando Bloom   </td><td>Jack Davenport      </td></tr>\n",
       "\t<tr><td>Tom Hardy   </td><td>Christian Bale  </td><td>Joseph Gordon-Levitt</td></tr>\n",
       "\t<tr><td>Daryl Sabara</td><td>Samantha Morton </td><td>Polly Walker        </td></tr>\n",
       "\t<tr><td>J.K. Simmons</td><td>James Franco    </td><td>Kirsten Dunst       </td></tr>\n",
       "\t<tr><td>Brad Garrett</td><td>Donna Murphy    </td><td>M.C. Gainey         </td></tr>\n",
       "</tbody>\n",
       "</table>\n"
      ],
      "text/latex": [
       "A tibble: 6 × 3\n",
       "\\begin{tabular}{lll}\n",
       " ator\\_1 & ator\\_2 & ator\\_3\\\\\n",
       " <chr> & <chr> & <chr>\\\\\n",
       "\\hline\n",
       "\t CCH Pounder  & Joel David Moore & Wes Studi           \\\\\n",
       "\t Johnny Depp  & Orlando Bloom    & Jack Davenport      \\\\\n",
       "\t Tom Hardy    & Christian Bale   & Joseph Gordon-Levitt\\\\\n",
       "\t Daryl Sabara & Samantha Morton  & Polly Walker        \\\\\n",
       "\t J.K. Simmons & James Franco     & Kirsten Dunst       \\\\\n",
       "\t Brad Garrett & Donna Murphy     & M.C. Gainey         \\\\\n",
       "\\end{tabular}\n"
      ],
      "text/markdown": [
       "\n",
       "A tibble: 6 × 3\n",
       "\n",
       "| ator_1 &lt;chr&gt; | ator_2 &lt;chr&gt; | ator_3 &lt;chr&gt; |\n",
       "|---|---|---|\n",
       "| CCH Pounder  | Joel David Moore | Wes Studi            |\n",
       "| Johnny Depp  | Orlando Bloom    | Jack Davenport       |\n",
       "| Tom Hardy    | Christian Bale   | Joseph Gordon-Levitt |\n",
       "| Daryl Sabara | Samantha Morton  | Polly Walker         |\n",
       "| J.K. Simmons | James Franco     | Kirsten Dunst        |\n",
       "| Brad Garrett | Donna Murphy     | M.C. Gainey          |\n",
       "\n"
      ],
      "text/plain": [
       "  ator_1       ator_2           ator_3              \n",
       "1 CCH Pounder  Joel David Moore Wes Studi           \n",
       "2 Johnny Depp  Orlando Bloom    Jack Davenport      \n",
       "3 Tom Hardy    Christian Bale   Joseph Gordon-Levitt\n",
       "4 Daryl Sabara Samantha Morton  Polly Walker        \n",
       "5 J.K. Simmons James Franco     Kirsten Dunst       \n",
       "6 Brad Garrett Donna Murphy     M.C. Gainey         "
      ]
     },
     "metadata": {},
     "output_type": "display_data"
    }
   ],
   "source": [
    "imdb %>% \n",
    "  select(starts_with(\"ator\")) %>%\n",
    "  head()"
   ]
  },
  {
   "cell_type": "markdown",
   "metadata": {
    "slideshow": {
     "slide_type": "slide"
    }
   },
   "source": [
    "O operador : pode ser usado para selecionar intervalos de colunas."
   ]
  },
  {
   "cell_type": "code",
   "execution_count": 93,
   "metadata": {
    "slideshow": {
     "slide_type": "slide"
    }
   },
   "outputs": [
    {
     "data": {
      "text/html": [
       "<table>\n",
       "<caption>A tibble: 6 × 4</caption>\n",
       "<thead>\n",
       "\t<tr><th scope=col>titulo</th><th scope=col>ator_1</th><th scope=col>ator_2</th><th scope=col>ator_3</th></tr>\n",
       "\t<tr><th scope=col>&lt;chr&gt;</th><th scope=col>&lt;chr&gt;</th><th scope=col>&lt;chr&gt;</th><th scope=col>&lt;chr&gt;</th></tr>\n",
       "</thead>\n",
       "<tbody>\n",
       "\t<tr><td>Avatar                                   </td><td>CCH Pounder </td><td>Joel David Moore</td><td>Wes Studi           </td></tr>\n",
       "\t<tr><td>Pirates of the Caribbean: At World's End </td><td>Johnny Depp </td><td>Orlando Bloom   </td><td>Jack Davenport      </td></tr>\n",
       "\t<tr><td>The Dark Knight Rises                    </td><td>Tom Hardy   </td><td>Christian Bale  </td><td>Joseph Gordon-Levitt</td></tr>\n",
       "\t<tr><td>John Carter                              </td><td>Daryl Sabara</td><td>Samantha Morton </td><td>Polly Walker        </td></tr>\n",
       "\t<tr><td>Spider-Man 3                             </td><td>J.K. Simmons</td><td>James Franco    </td><td>Kirsten Dunst       </td></tr>\n",
       "\t<tr><td>Tangled                                  </td><td>Brad Garrett</td><td>Donna Murphy    </td><td>M.C. Gainey         </td></tr>\n",
       "</tbody>\n",
       "</table>\n"
      ],
      "text/latex": [
       "A tibble: 6 × 4\n",
       "\\begin{tabular}{llll}\n",
       " titulo & ator\\_1 & ator\\_2 & ator\\_3\\\\\n",
       " <chr> & <chr> & <chr> & <chr>\\\\\n",
       "\\hline\n",
       "\t Avatar                                    & CCH Pounder  & Joel David Moore & Wes Studi           \\\\\n",
       "\t Pirates of the Caribbean: At World's End  & Johnny Depp  & Orlando Bloom    & Jack Davenport      \\\\\n",
       "\t The Dark Knight Rises                     & Tom Hardy    & Christian Bale   & Joseph Gordon-Levitt\\\\\n",
       "\t John Carter                               & Daryl Sabara & Samantha Morton  & Polly Walker        \\\\\n",
       "\t Spider-Man 3                              & J.K. Simmons & James Franco     & Kirsten Dunst       \\\\\n",
       "\t Tangled                                   & Brad Garrett & Donna Murphy     & M.C. Gainey         \\\\\n",
       "\\end{tabular}\n"
      ],
      "text/markdown": [
       "\n",
       "A tibble: 6 × 4\n",
       "\n",
       "| titulo &lt;chr&gt; | ator_1 &lt;chr&gt; | ator_2 &lt;chr&gt; | ator_3 &lt;chr&gt; |\n",
       "|---|---|---|---|\n",
       "| Avatar                                    | CCH Pounder  | Joel David Moore | Wes Studi            |\n",
       "| Pirates of the Caribbean: At World's End  | Johnny Depp  | Orlando Bloom    | Jack Davenport       |\n",
       "| The Dark Knight Rises                     | Tom Hardy    | Christian Bale   | Joseph Gordon-Levitt |\n",
       "| John Carter                               | Daryl Sabara | Samantha Morton  | Polly Walker         |\n",
       "| Spider-Man 3                              | J.K. Simmons | James Franco     | Kirsten Dunst        |\n",
       "| Tangled                                   | Brad Garrett | Donna Murphy     | M.C. Gainey          |\n",
       "\n"
      ],
      "text/plain": [
       "  titulo                                    ator_1       ator_2          \n",
       "1 Avatar                                    CCH Pounder  Joel David Moore\n",
       "2 Pirates of the Caribbean: At World's End  Johnny Depp  Orlando Bloom   \n",
       "3 The Dark Knight Rises                     Tom Hardy    Christian Bale  \n",
       "4 John Carter                               Daryl Sabara Samantha Morton \n",
       "5 Spider-Man 3                              J.K. Simmons James Franco    \n",
       "6 Tangled                                   Brad Garrett Donna Murphy    \n",
       "  ator_3              \n",
       "1 Wes Studi           \n",
       "2 Jack Davenport      \n",
       "3 Joseph Gordon-Levitt\n",
       "4 Polly Walker        \n",
       "5 Kirsten Dunst       \n",
       "6 M.C. Gainey         "
      ]
     },
     "metadata": {},
     "output_type": "display_data"
    }
   ],
   "source": [
    "imdb %>% \n",
    "  select(titulo, ator_1:ator_3) %>%\n",
    "  head()"
   ]
  },
  {
   "cell_type": "markdown",
   "metadata": {
    "slideshow": {
     "slide_type": "slide"
    }
   },
   "source": [
    "Para retirar colunas da base, base acrescentar um - antes da seleção."
   ]
  },
  {
   "cell_type": "code",
   "execution_count": 94,
   "metadata": {
    "slideshow": {
     "slide_type": "slide"
    }
   },
   "outputs": [
    {
     "data": {
      "text/html": [
       "<table>\n",
       "<caption>A tibble: 6 × 13</caption>\n",
       "<thead>\n",
       "\t<tr><th scope=col>titulo</th><th scope=col>duracao</th><th scope=col>cor</th><th scope=col>generos</th><th scope=col>pais</th><th scope=col>classificacao</th><th scope=col>orcamento</th><th scope=col>receita</th><th scope=col>nota_imdb</th><th scope=col>likes_facebook</th><th scope=col>ator_1</th><th scope=col>ator_2</th><th scope=col>ator_3</th></tr>\n",
       "\t<tr><th scope=col>&lt;chr&gt;</th><th scope=col>&lt;int&gt;</th><th scope=col>&lt;chr&gt;</th><th scope=col>&lt;chr&gt;</th><th scope=col>&lt;chr&gt;</th><th scope=col>&lt;chr&gt;</th><th scope=col>&lt;int&gt;</th><th scope=col>&lt;int&gt;</th><th scope=col>&lt;dbl&gt;</th><th scope=col>&lt;int&gt;</th><th scope=col>&lt;chr&gt;</th><th scope=col>&lt;chr&gt;</th><th scope=col>&lt;chr&gt;</th></tr>\n",
       "</thead>\n",
       "<tbody>\n",
       "\t<tr><td>Avatar                                   </td><td>178</td><td>Color</td><td>Action|Adventure|Fantasy|Sci-Fi                          </td><td>USA</td><td>A partir de 13 anos</td><td>237000000</td><td>760505847</td><td>7.9</td><td> 33000</td><td>CCH Pounder </td><td>Joel David Moore</td><td>Wes Studi           </td></tr>\n",
       "\t<tr><td>Pirates of the Caribbean: At World's End </td><td>169</td><td>Color</td><td>Action|Adventure|Fantasy                                 </td><td>USA</td><td>A partir de 13 anos</td><td>300000000</td><td>309404152</td><td>7.1</td><td>     0</td><td>Johnny Depp </td><td>Orlando Bloom   </td><td>Jack Davenport      </td></tr>\n",
       "\t<tr><td>The Dark Knight Rises                    </td><td>164</td><td>Color</td><td>Action|Thriller                                          </td><td>USA</td><td>A partir de 13 anos</td><td>250000000</td><td>448130642</td><td>8.5</td><td>164000</td><td>Tom Hardy   </td><td>Christian Bale  </td><td>Joseph Gordon-Levitt</td></tr>\n",
       "\t<tr><td>John Carter                              </td><td>132</td><td>Color</td><td>Action|Adventure|Sci-Fi                                  </td><td>USA</td><td>A partir de 13 anos</td><td>263700000</td><td> 73058679</td><td>6.6</td><td> 24000</td><td>Daryl Sabara</td><td>Samantha Morton </td><td>Polly Walker        </td></tr>\n",
       "\t<tr><td>Spider-Man 3                             </td><td>156</td><td>Color</td><td>Action|Adventure|Romance                                 </td><td>USA</td><td>A partir de 13 anos</td><td>258000000</td><td>336530303</td><td>6.2</td><td>     0</td><td>J.K. Simmons</td><td>James Franco    </td><td>Kirsten Dunst       </td></tr>\n",
       "\t<tr><td>Tangled                                  </td><td>100</td><td>Color</td><td>Adventure|Animation|Comedy|Family|Fantasy|Musical|Romance</td><td>USA</td><td>Livre              </td><td>260000000</td><td>200807262</td><td>7.8</td><td> 29000</td><td>Brad Garrett</td><td>Donna Murphy    </td><td>M.C. Gainey         </td></tr>\n",
       "</tbody>\n",
       "</table>\n"
      ],
      "text/latex": [
       "A tibble: 6 × 13\n",
       "\\begin{tabular}{lllllllllllll}\n",
       " titulo & duracao & cor & generos & pais & classificacao & orcamento & receita & nota\\_imdb & likes\\_facebook & ator\\_1 & ator\\_2 & ator\\_3\\\\\n",
       " <chr> & <int> & <chr> & <chr> & <chr> & <chr> & <int> & <int> & <dbl> & <int> & <chr> & <chr> & <chr>\\\\\n",
       "\\hline\n",
       "\t Avatar                                    & 178 & Color & Action\\textbar{}Adventure\\textbar{}Fantasy\\textbar{}Sci-Fi                           & USA & A partir de 13 anos & 237000000 & 760505847 & 7.9 &  33000 & CCH Pounder  & Joel David Moore & Wes Studi           \\\\\n",
       "\t Pirates of the Caribbean: At World's End  & 169 & Color & Action\\textbar{}Adventure\\textbar{}Fantasy                                  & USA & A partir de 13 anos & 300000000 & 309404152 & 7.1 &      0 & Johnny Depp  & Orlando Bloom    & Jack Davenport      \\\\\n",
       "\t The Dark Knight Rises                     & 164 & Color & Action\\textbar{}Thriller                                           & USA & A partir de 13 anos & 250000000 & 448130642 & 8.5 & 164000 & Tom Hardy    & Christian Bale   & Joseph Gordon-Levitt\\\\\n",
       "\t John Carter                               & 132 & Color & Action\\textbar{}Adventure\\textbar{}Sci-Fi                                   & USA & A partir de 13 anos & 263700000 &  73058679 & 6.6 &  24000 & Daryl Sabara & Samantha Morton  & Polly Walker        \\\\\n",
       "\t Spider-Man 3                              & 156 & Color & Action\\textbar{}Adventure\\textbar{}Romance                                  & USA & A partir de 13 anos & 258000000 & 336530303 & 6.2 &      0 & J.K. Simmons & James Franco     & Kirsten Dunst       \\\\\n",
       "\t Tangled                                   & 100 & Color & Adventure\\textbar{}Animation\\textbar{}Comedy\\textbar{}Family\\textbar{}Fantasy\\textbar{}Musical\\textbar{}Romance & USA & Livre               & 260000000 & 200807262 & 7.8 &  29000 & Brad Garrett & Donna Murphy     & M.C. Gainey         \\\\\n",
       "\\end{tabular}\n"
      ],
      "text/markdown": [
       "\n",
       "A tibble: 6 × 13\n",
       "\n",
       "| titulo &lt;chr&gt; | duracao &lt;int&gt; | cor &lt;chr&gt; | generos &lt;chr&gt; | pais &lt;chr&gt; | classificacao &lt;chr&gt; | orcamento &lt;int&gt; | receita &lt;int&gt; | nota_imdb &lt;dbl&gt; | likes_facebook &lt;int&gt; | ator_1 &lt;chr&gt; | ator_2 &lt;chr&gt; | ator_3 &lt;chr&gt; |\n",
       "|---|---|---|---|---|---|---|---|---|---|---|---|---|\n",
       "| Avatar                                    | 178 | Color | Action|Adventure|Fantasy|Sci-Fi                           | USA | A partir de 13 anos | 237000000 | 760505847 | 7.9 |  33000 | CCH Pounder  | Joel David Moore | Wes Studi            |\n",
       "| Pirates of the Caribbean: At World's End  | 169 | Color | Action|Adventure|Fantasy                                  | USA | A partir de 13 anos | 300000000 | 309404152 | 7.1 |      0 | Johnny Depp  | Orlando Bloom    | Jack Davenport       |\n",
       "| The Dark Knight Rises                     | 164 | Color | Action|Thriller                                           | USA | A partir de 13 anos | 250000000 | 448130642 | 8.5 | 164000 | Tom Hardy    | Christian Bale   | Joseph Gordon-Levitt |\n",
       "| John Carter                               | 132 | Color | Action|Adventure|Sci-Fi                                   | USA | A partir de 13 anos | 263700000 |  73058679 | 6.6 |  24000 | Daryl Sabara | Samantha Morton  | Polly Walker         |\n",
       "| Spider-Man 3                              | 156 | Color | Action|Adventure|Romance                                  | USA | A partir de 13 anos | 258000000 | 336530303 | 6.2 |      0 | J.K. Simmons | James Franco     | Kirsten Dunst        |\n",
       "| Tangled                                   | 100 | Color | Adventure|Animation|Comedy|Family|Fantasy|Musical|Romance | USA | Livre               | 260000000 | 200807262 | 7.8 |  29000 | Brad Garrett | Donna Murphy     | M.C. Gainey          |\n",
       "\n"
      ],
      "text/plain": [
       "  titulo                                    duracao cor  \n",
       "1 Avatar                                    178     Color\n",
       "2 Pirates of the Caribbean: At World's End  169     Color\n",
       "3 The Dark Knight Rises                     164     Color\n",
       "4 John Carter                               132     Color\n",
       "5 Spider-Man 3                              156     Color\n",
       "6 Tangled                                   100     Color\n",
       "  generos                                                   pais\n",
       "1 Action|Adventure|Fantasy|Sci-Fi                           USA \n",
       "2 Action|Adventure|Fantasy                                  USA \n",
       "3 Action|Thriller                                           USA \n",
       "4 Action|Adventure|Sci-Fi                                   USA \n",
       "5 Action|Adventure|Romance                                  USA \n",
       "6 Adventure|Animation|Comedy|Family|Fantasy|Musical|Romance USA \n",
       "  classificacao       orcamento receita   nota_imdb likes_facebook ator_1      \n",
       "1 A partir de 13 anos 237000000 760505847 7.9        33000         CCH Pounder \n",
       "2 A partir de 13 anos 300000000 309404152 7.1            0         Johnny Depp \n",
       "3 A partir de 13 anos 250000000 448130642 8.5       164000         Tom Hardy   \n",
       "4 A partir de 13 anos 263700000  73058679 6.6        24000         Daryl Sabara\n",
       "5 A partir de 13 anos 258000000 336530303 6.2            0         J.K. Simmons\n",
       "6 Livre               260000000 200807262 7.8        29000         Brad Garrett\n",
       "  ator_2           ator_3              \n",
       "1 Joel David Moore Wes Studi           \n",
       "2 Orlando Bloom    Jack Davenport      \n",
       "3 Christian Bale   Joseph Gordon-Levitt\n",
       "4 Samantha Morton  Polly Walker        \n",
       "5 James Franco     Kirsten Dunst       \n",
       "6 Donna Murphy     M.C. Gainey         "
      ]
     },
     "metadata": {},
     "output_type": "display_data"
    }
   ],
   "source": [
    "imdb %>% \n",
    "  select(-ano, - diretor) %>%\n",
    "  head()"
   ]
  },
  {
   "cell_type": "code",
   "execution_count": 95,
   "metadata": {
    "slideshow": {
     "slide_type": "slide"
    }
   },
   "outputs": [
    {
     "data": {
      "text/html": [
       "<table>\n",
       "<caption>A tibble: 6 × 12</caption>\n",
       "<thead>\n",
       "\t<tr><th scope=col>titulo</th><th scope=col>ano</th><th scope=col>diretor</th><th scope=col>duracao</th><th scope=col>cor</th><th scope=col>generos</th><th scope=col>pais</th><th scope=col>classificacao</th><th scope=col>orcamento</th><th scope=col>receita</th><th scope=col>nota_imdb</th><th scope=col>likes_facebook</th></tr>\n",
       "\t<tr><th scope=col>&lt;chr&gt;</th><th scope=col>&lt;int&gt;</th><th scope=col>&lt;chr&gt;</th><th scope=col>&lt;int&gt;</th><th scope=col>&lt;chr&gt;</th><th scope=col>&lt;chr&gt;</th><th scope=col>&lt;chr&gt;</th><th scope=col>&lt;chr&gt;</th><th scope=col>&lt;int&gt;</th><th scope=col>&lt;int&gt;</th><th scope=col>&lt;dbl&gt;</th><th scope=col>&lt;int&gt;</th></tr>\n",
       "</thead>\n",
       "<tbody>\n",
       "\t<tr><td>Avatar                                   </td><td>2009</td><td>James Cameron    </td><td>178</td><td>Color</td><td>Action|Adventure|Fantasy|Sci-Fi                          </td><td>USA</td><td>A partir de 13 anos</td><td>237000000</td><td>760505847</td><td>7.9</td><td> 33000</td></tr>\n",
       "\t<tr><td>Pirates of the Caribbean: At World's End </td><td>2007</td><td>Gore Verbinski   </td><td>169</td><td>Color</td><td>Action|Adventure|Fantasy                                 </td><td>USA</td><td>A partir de 13 anos</td><td>300000000</td><td>309404152</td><td>7.1</td><td>     0</td></tr>\n",
       "\t<tr><td>The Dark Knight Rises                    </td><td>2012</td><td>Christopher Nolan</td><td>164</td><td>Color</td><td>Action|Thriller                                          </td><td>USA</td><td>A partir de 13 anos</td><td>250000000</td><td>448130642</td><td>8.5</td><td>164000</td></tr>\n",
       "\t<tr><td>John Carter                              </td><td>2012</td><td>Andrew Stanton   </td><td>132</td><td>Color</td><td>Action|Adventure|Sci-Fi                                  </td><td>USA</td><td>A partir de 13 anos</td><td>263700000</td><td> 73058679</td><td>6.6</td><td> 24000</td></tr>\n",
       "\t<tr><td>Spider-Man 3                             </td><td>2007</td><td>Sam Raimi        </td><td>156</td><td>Color</td><td>Action|Adventure|Romance                                 </td><td>USA</td><td>A partir de 13 anos</td><td>258000000</td><td>336530303</td><td>6.2</td><td>     0</td></tr>\n",
       "\t<tr><td>Tangled                                  </td><td>2010</td><td>Nathan Greno     </td><td>100</td><td>Color</td><td>Adventure|Animation|Comedy|Family|Fantasy|Musical|Romance</td><td>USA</td><td>Livre              </td><td>260000000</td><td>200807262</td><td>7.8</td><td> 29000</td></tr>\n",
       "</tbody>\n",
       "</table>\n"
      ],
      "text/latex": [
       "A tibble: 6 × 12\n",
       "\\begin{tabular}{llllllllllll}\n",
       " titulo & ano & diretor & duracao & cor & generos & pais & classificacao & orcamento & receita & nota\\_imdb & likes\\_facebook\\\\\n",
       " <chr> & <int> & <chr> & <int> & <chr> & <chr> & <chr> & <chr> & <int> & <int> & <dbl> & <int>\\\\\n",
       "\\hline\n",
       "\t Avatar                                    & 2009 & James Cameron     & 178 & Color & Action\\textbar{}Adventure\\textbar{}Fantasy\\textbar{}Sci-Fi                           & USA & A partir de 13 anos & 237000000 & 760505847 & 7.9 &  33000\\\\\n",
       "\t Pirates of the Caribbean: At World's End  & 2007 & Gore Verbinski    & 169 & Color & Action\\textbar{}Adventure\\textbar{}Fantasy                                  & USA & A partir de 13 anos & 300000000 & 309404152 & 7.1 &      0\\\\\n",
       "\t The Dark Knight Rises                     & 2012 & Christopher Nolan & 164 & Color & Action\\textbar{}Thriller                                           & USA & A partir de 13 anos & 250000000 & 448130642 & 8.5 & 164000\\\\\n",
       "\t John Carter                               & 2012 & Andrew Stanton    & 132 & Color & Action\\textbar{}Adventure\\textbar{}Sci-Fi                                   & USA & A partir de 13 anos & 263700000 &  73058679 & 6.6 &  24000\\\\\n",
       "\t Spider-Man 3                              & 2007 & Sam Raimi         & 156 & Color & Action\\textbar{}Adventure\\textbar{}Romance                                  & USA & A partir de 13 anos & 258000000 & 336530303 & 6.2 &      0\\\\\n",
       "\t Tangled                                   & 2010 & Nathan Greno      & 100 & Color & Adventure\\textbar{}Animation\\textbar{}Comedy\\textbar{}Family\\textbar{}Fantasy\\textbar{}Musical\\textbar{}Romance & USA & Livre               & 260000000 & 200807262 & 7.8 &  29000\\\\\n",
       "\\end{tabular}\n"
      ],
      "text/markdown": [
       "\n",
       "A tibble: 6 × 12\n",
       "\n",
       "| titulo &lt;chr&gt; | ano &lt;int&gt; | diretor &lt;chr&gt; | duracao &lt;int&gt; | cor &lt;chr&gt; | generos &lt;chr&gt; | pais &lt;chr&gt; | classificacao &lt;chr&gt; | orcamento &lt;int&gt; | receita &lt;int&gt; | nota_imdb &lt;dbl&gt; | likes_facebook &lt;int&gt; |\n",
       "|---|---|---|---|---|---|---|---|---|---|---|---|\n",
       "| Avatar                                    | 2009 | James Cameron     | 178 | Color | Action|Adventure|Fantasy|Sci-Fi                           | USA | A partir de 13 anos | 237000000 | 760505847 | 7.9 |  33000 |\n",
       "| Pirates of the Caribbean: At World's End  | 2007 | Gore Verbinski    | 169 | Color | Action|Adventure|Fantasy                                  | USA | A partir de 13 anos | 300000000 | 309404152 | 7.1 |      0 |\n",
       "| The Dark Knight Rises                     | 2012 | Christopher Nolan | 164 | Color | Action|Thriller                                           | USA | A partir de 13 anos | 250000000 | 448130642 | 8.5 | 164000 |\n",
       "| John Carter                               | 2012 | Andrew Stanton    | 132 | Color | Action|Adventure|Sci-Fi                                   | USA | A partir de 13 anos | 263700000 |  73058679 | 6.6 |  24000 |\n",
       "| Spider-Man 3                              | 2007 | Sam Raimi         | 156 | Color | Action|Adventure|Romance                                  | USA | A partir de 13 anos | 258000000 | 336530303 | 6.2 |      0 |\n",
       "| Tangled                                   | 2010 | Nathan Greno      | 100 | Color | Adventure|Animation|Comedy|Family|Fantasy|Musical|Romance | USA | Livre               | 260000000 | 200807262 | 7.8 |  29000 |\n",
       "\n"
      ],
      "text/plain": [
       "  titulo                                    ano  diretor           duracao\n",
       "1 Avatar                                    2009 James Cameron     178    \n",
       "2 Pirates of the Caribbean: At World's End  2007 Gore Verbinski    169    \n",
       "3 The Dark Knight Rises                     2012 Christopher Nolan 164    \n",
       "4 John Carter                               2012 Andrew Stanton    132    \n",
       "5 Spider-Man 3                              2007 Sam Raimi         156    \n",
       "6 Tangled                                   2010 Nathan Greno      100    \n",
       "  cor   generos                                                   pais\n",
       "1 Color Action|Adventure|Fantasy|Sci-Fi                           USA \n",
       "2 Color Action|Adventure|Fantasy                                  USA \n",
       "3 Color Action|Thriller                                           USA \n",
       "4 Color Action|Adventure|Sci-Fi                                   USA \n",
       "5 Color Action|Adventure|Romance                                  USA \n",
       "6 Color Adventure|Animation|Comedy|Family|Fantasy|Musical|Romance USA \n",
       "  classificacao       orcamento receita   nota_imdb likes_facebook\n",
       "1 A partir de 13 anos 237000000 760505847 7.9        33000        \n",
       "2 A partir de 13 anos 300000000 309404152 7.1            0        \n",
       "3 A partir de 13 anos 250000000 448130642 8.5       164000        \n",
       "4 A partir de 13 anos 263700000  73058679 6.6        24000        \n",
       "5 A partir de 13 anos 258000000 336530303 6.2            0        \n",
       "6 Livre               260000000 200807262 7.8        29000        "
      ]
     },
     "metadata": {},
     "output_type": "display_data"
    }
   ],
   "source": [
    "imdb %>% \n",
    "  select(-starts_with(\"ator\")) %>%\n",
    "  head()"
   ]
  },
  {
   "cell_type": "markdown",
   "metadata": {
    "slideshow": {
     "slide_type": "slide"
    }
   },
   "source": [
    "### ORDENANDO A BASE\n",
    "A função arrange() ordena a base segundo uma ou mais colunas. O argumento desc= pode ser utilizado para gerar uma ordem decrescente."
   ]
  },
  {
   "cell_type": "code",
   "execution_count": 96,
   "metadata": {
    "slideshow": {
     "slide_type": "slide"
    }
   },
   "outputs": [
    {
     "data": {
      "text/html": [
       "<table>\n",
       "<caption>A tibble: 6 × 15</caption>\n",
       "<thead>\n",
       "\t<tr><th scope=col>orcamento</th><th scope=col>titulo</th><th scope=col>ano</th><th scope=col>diretor</th><th scope=col>duracao</th><th scope=col>cor</th><th scope=col>generos</th><th scope=col>pais</th><th scope=col>classificacao</th><th scope=col>receita</th><th scope=col>nota_imdb</th><th scope=col>likes_facebook</th><th scope=col>ator_1</th><th scope=col>ator_2</th><th scope=col>ator_3</th></tr>\n",
       "\t<tr><th scope=col>&lt;int&gt;</th><th scope=col>&lt;chr&gt;</th><th scope=col>&lt;int&gt;</th><th scope=col>&lt;chr&gt;</th><th scope=col>&lt;int&gt;</th><th scope=col>&lt;chr&gt;</th><th scope=col>&lt;chr&gt;</th><th scope=col>&lt;chr&gt;</th><th scope=col>&lt;chr&gt;</th><th scope=col>&lt;int&gt;</th><th scope=col>&lt;dbl&gt;</th><th scope=col>&lt;int&gt;</th><th scope=col>&lt;chr&gt;</th><th scope=col>&lt;chr&gt;</th><th scope=col>&lt;chr&gt;</th></tr>\n",
       "</thead>\n",
       "<tbody>\n",
       "\t<tr><td> 218</td><td>Tarnation            </td><td>2003</td><td>Jonathan Caouette</td><td>88</td><td>Color</td><td>Biography|Documentary              </td><td>USA</td><td>Outros             </td><td> 592014</td><td>7.2</td><td>  754</td><td>Greg Ayres     </td><td>Jonathan Caouette</td><td>Renee Leblanc </td></tr>\n",
       "\t<tr><td>1100</td><td>My Date with Drew    </td><td>2004</td><td>Jon Gunn         </td><td>90</td><td>Color</td><td>Documentary                        </td><td>USA</td><td>Livre              </td><td>  85222</td><td>6.6</td><td>  456</td><td>John August    </td><td>Brian Herzlinger </td><td>Jon Gunn      </td></tr>\n",
       "\t<tr><td>1400</td><td>A Plague So Pleasant </td><td>2013</td><td>Benjamin Roberds </td><td>76</td><td>Color</td><td>Drama|Horror|Thriller              </td><td>USA</td><td>Outros             </td><td>     NA</td><td>6.3</td><td>   16</td><td>Eva Boehnke    </td><td>Maxwell Moody    </td><td>David Chandler</td></tr>\n",
       "\t<tr><td>3250</td><td>The Mongol King      </td><td>2005</td><td>Anthony Vallone  </td><td>84</td><td>Color</td><td>Crime|Drama                        </td><td>USA</td><td>A partir de 13 anos</td><td>     NA</td><td>7.8</td><td>    4</td><td>Richard Jewell </td><td>John Considine   </td><td>Sara Stepnicka</td></tr>\n",
       "\t<tr><td>7000</td><td>Primer               </td><td>2004</td><td>Shane Carruth    </td><td>77</td><td>Color</td><td>Drama|Sci-Fi|Thriller              </td><td>USA</td><td>A partir de 13 anos</td><td> 424760</td><td>7.0</td><td>19000</td><td>Shane Carruth  </td><td>David Sullivan   </td><td>Casey Gooden  </td></tr>\n",
       "\t<tr><td>7000</td><td>El Mariachi          </td><td>1992</td><td>Robert Rodriguez </td><td>81</td><td>Color</td><td>Action|Crime|Drama|Romance|Thriller</td><td>USA</td><td>A partir de 18 anos</td><td>2040920</td><td>6.9</td><td>    0</td><td>Carlos Gallardo</td><td>Peter Marquardt  </td><td>Consuelo Gómez</td></tr>\n",
       "</tbody>\n",
       "</table>\n"
      ],
      "text/latex": [
       "A tibble: 6 × 15\n",
       "\\begin{tabular}{lllllllllllllll}\n",
       " orcamento & titulo & ano & diretor & duracao & cor & generos & pais & classificacao & receita & nota\\_imdb & likes\\_facebook & ator\\_1 & ator\\_2 & ator\\_3\\\\\n",
       " <int> & <chr> & <int> & <chr> & <int> & <chr> & <chr> & <chr> & <chr> & <int> & <dbl> & <int> & <chr> & <chr> & <chr>\\\\\n",
       "\\hline\n",
       "\t  218 & Tarnation             & 2003 & Jonathan Caouette & 88 & Color & Biography\\textbar{}Documentary               & USA & Outros              &  592014 & 7.2 &   754 & Greg Ayres      & Jonathan Caouette & Renee Leblanc \\\\\n",
       "\t 1100 & My Date with Drew     & 2004 & Jon Gunn          & 90 & Color & Documentary                         & USA & Livre               &   85222 & 6.6 &   456 & John August     & Brian Herzlinger  & Jon Gunn      \\\\\n",
       "\t 1400 & A Plague So Pleasant  & 2013 & Benjamin Roberds  & 76 & Color & Drama\\textbar{}Horror\\textbar{}Thriller               & USA & Outros              &      NA & 6.3 &    16 & Eva Boehnke     & Maxwell Moody     & David Chandler\\\\\n",
       "\t 3250 & The Mongol King       & 2005 & Anthony Vallone   & 84 & Color & Crime\\textbar{}Drama                         & USA & A partir de 13 anos &      NA & 7.8 &     4 & Richard Jewell  & John Considine    & Sara Stepnicka\\\\\n",
       "\t 7000 & Primer                & 2004 & Shane Carruth     & 77 & Color & Drama\\textbar{}Sci-Fi\\textbar{}Thriller               & USA & A partir de 13 anos &  424760 & 7.0 & 19000 & Shane Carruth   & David Sullivan    & Casey Gooden  \\\\\n",
       "\t 7000 & El Mariachi           & 1992 & Robert Rodriguez  & 81 & Color & Action\\textbar{}Crime\\textbar{}Drama\\textbar{}Romance\\textbar{}Thriller & USA & A partir de 18 anos & 2040920 & 6.9 &     0 & Carlos Gallardo & Peter Marquardt   & Consuelo Gómez\\\\\n",
       "\\end{tabular}\n"
      ],
      "text/markdown": [
       "\n",
       "A tibble: 6 × 15\n",
       "\n",
       "| orcamento &lt;int&gt; | titulo &lt;chr&gt; | ano &lt;int&gt; | diretor &lt;chr&gt; | duracao &lt;int&gt; | cor &lt;chr&gt; | generos &lt;chr&gt; | pais &lt;chr&gt; | classificacao &lt;chr&gt; | receita &lt;int&gt; | nota_imdb &lt;dbl&gt; | likes_facebook &lt;int&gt; | ator_1 &lt;chr&gt; | ator_2 &lt;chr&gt; | ator_3 &lt;chr&gt; |\n",
       "|---|---|---|---|---|---|---|---|---|---|---|---|---|---|---|\n",
       "|  218 | Tarnation             | 2003 | Jonathan Caouette | 88 | Color | Biography|Documentary               | USA | Outros              |  592014 | 7.2 |   754 | Greg Ayres      | Jonathan Caouette | Renee Leblanc  |\n",
       "| 1100 | My Date with Drew     | 2004 | Jon Gunn          | 90 | Color | Documentary                         | USA | Livre               |   85222 | 6.6 |   456 | John August     | Brian Herzlinger  | Jon Gunn       |\n",
       "| 1400 | A Plague So Pleasant  | 2013 | Benjamin Roberds  | 76 | Color | Drama|Horror|Thriller               | USA | Outros              |      NA | 6.3 |    16 | Eva Boehnke     | Maxwell Moody     | David Chandler |\n",
       "| 3250 | The Mongol King       | 2005 | Anthony Vallone   | 84 | Color | Crime|Drama                         | USA | A partir de 13 anos |      NA | 7.8 |     4 | Richard Jewell  | John Considine    | Sara Stepnicka |\n",
       "| 7000 | Primer                | 2004 | Shane Carruth     | 77 | Color | Drama|Sci-Fi|Thriller               | USA | A partir de 13 anos |  424760 | 7.0 | 19000 | Shane Carruth   | David Sullivan    | Casey Gooden   |\n",
       "| 7000 | El Mariachi           | 1992 | Robert Rodriguez  | 81 | Color | Action|Crime|Drama|Romance|Thriller | USA | A partir de 18 anos | 2040920 | 6.9 |     0 | Carlos Gallardo | Peter Marquardt   | Consuelo Gómez |\n",
       "\n"
      ],
      "text/plain": [
       "  orcamento titulo                ano  diretor           duracao cor  \n",
       "1  218      Tarnation             2003 Jonathan Caouette 88      Color\n",
       "2 1100      My Date with Drew     2004 Jon Gunn          90      Color\n",
       "3 1400      A Plague So Pleasant  2013 Benjamin Roberds  76      Color\n",
       "4 3250      The Mongol King       2005 Anthony Vallone   84      Color\n",
       "5 7000      Primer                2004 Shane Carruth     77      Color\n",
       "6 7000      El Mariachi           1992 Robert Rodriguez  81      Color\n",
       "  generos                             pais classificacao       receita\n",
       "1 Biography|Documentary               USA  Outros               592014\n",
       "2 Documentary                         USA  Livre                 85222\n",
       "3 Drama|Horror|Thriller               USA  Outros                   NA\n",
       "4 Crime|Drama                         USA  A partir de 13 anos      NA\n",
       "5 Drama|Sci-Fi|Thriller               USA  A partir de 13 anos  424760\n",
       "6 Action|Crime|Drama|Romance|Thriller USA  A partir de 18 anos 2040920\n",
       "  nota_imdb likes_facebook ator_1          ator_2            ator_3        \n",
       "1 7.2         754          Greg Ayres      Jonathan Caouette Renee Leblanc \n",
       "2 6.6         456          John August     Brian Herzlinger  Jon Gunn      \n",
       "3 6.3          16          Eva Boehnke     Maxwell Moody     David Chandler\n",
       "4 7.8           4          Richard Jewell  John Considine    Sara Stepnicka\n",
       "5 7.0       19000          Shane Carruth   David Sullivan    Casey Gooden  \n",
       "6 6.9           0          Carlos Gallardo Peter Marquardt   Consuelo Gómez"
      ]
     },
     "metadata": {},
     "output_type": "display_data"
    }
   ],
   "source": [
    "imdb %>% \n",
    "  arrange(orcamento) %>% \n",
    "  select(orcamento, everything()) %>%\n",
    "  head()"
   ]
  },
  {
   "cell_type": "code",
   "execution_count": 97,
   "metadata": {
    "slideshow": {
     "slide_type": "slide"
    }
   },
   "outputs": [
    {
     "data": {
      "text/html": [
       "<table>\n",
       "<caption>A tibble: 6 × 15</caption>\n",
       "<thead>\n",
       "\t<tr><th scope=col>orcamento</th><th scope=col>titulo</th><th scope=col>ano</th><th scope=col>diretor</th><th scope=col>duracao</th><th scope=col>cor</th><th scope=col>generos</th><th scope=col>pais</th><th scope=col>classificacao</th><th scope=col>receita</th><th scope=col>nota_imdb</th><th scope=col>likes_facebook</th><th scope=col>ator_1</th><th scope=col>ator_2</th><th scope=col>ator_3</th></tr>\n",
       "\t<tr><th scope=col>&lt;int&gt;</th><th scope=col>&lt;chr&gt;</th><th scope=col>&lt;int&gt;</th><th scope=col>&lt;chr&gt;</th><th scope=col>&lt;int&gt;</th><th scope=col>&lt;chr&gt;</th><th scope=col>&lt;chr&gt;</th><th scope=col>&lt;chr&gt;</th><th scope=col>&lt;chr&gt;</th><th scope=col>&lt;int&gt;</th><th scope=col>&lt;dbl&gt;</th><th scope=col>&lt;int&gt;</th><th scope=col>&lt;chr&gt;</th><th scope=col>&lt;chr&gt;</th><th scope=col>&lt;chr&gt;</th></tr>\n",
       "</thead>\n",
       "<tbody>\n",
       "\t<tr><td>300000000</td><td>Pirates of the Caribbean: At World's End </td><td>2007</td><td>Gore Verbinski   </td><td>169</td><td>Color</td><td>Action|Adventure|Fantasy                                 </td><td>USA</td><td>A partir de 13 anos</td><td>309404152</td><td>7.1</td><td>     0</td><td>Johnny Depp </td><td>Orlando Bloom  </td><td>Jack Davenport      </td></tr>\n",
       "\t<tr><td>263700000</td><td>John Carter                              </td><td>2012</td><td>Andrew Stanton   </td><td>132</td><td>Color</td><td>Action|Adventure|Sci-Fi                                  </td><td>USA</td><td>A partir de 13 anos</td><td> 73058679</td><td>6.6</td><td> 24000</td><td>Daryl Sabara</td><td>Samantha Morton</td><td>Polly Walker        </td></tr>\n",
       "\t<tr><td>260000000</td><td>Tangled                                  </td><td>2010</td><td>Nathan Greno     </td><td>100</td><td>Color</td><td>Adventure|Animation|Comedy|Family|Fantasy|Musical|Romance</td><td>USA</td><td>Livre              </td><td>200807262</td><td>7.8</td><td> 29000</td><td>Brad Garrett</td><td>Donna Murphy   </td><td>M.C. Gainey         </td></tr>\n",
       "\t<tr><td>258000000</td><td>Spider-Man 3                             </td><td>2007</td><td>Sam Raimi        </td><td>156</td><td>Color</td><td>Action|Adventure|Romance                                 </td><td>USA</td><td>A partir de 13 anos</td><td>336530303</td><td>6.2</td><td>     0</td><td>J.K. Simmons</td><td>James Franco   </td><td>Kirsten Dunst       </td></tr>\n",
       "\t<tr><td>258000000</td><td>Spider-Man 3                             </td><td>2007</td><td>Sam Raimi        </td><td>156</td><td>Color</td><td>Action|Adventure|Romance                                 </td><td>USA</td><td>A partir de 13 anos</td><td>336530303</td><td>6.2</td><td>     0</td><td>J.K. Simmons</td><td>James Franco   </td><td>Kirsten Dunst       </td></tr>\n",
       "\t<tr><td>250000000</td><td>The Dark Knight Rises                    </td><td>2012</td><td>Christopher Nolan</td><td>164</td><td>Color</td><td>Action|Thriller                                          </td><td>USA</td><td>A partir de 13 anos</td><td>448130642</td><td>8.5</td><td>164000</td><td>Tom Hardy   </td><td>Christian Bale </td><td>Joseph Gordon-Levitt</td></tr>\n",
       "</tbody>\n",
       "</table>\n"
      ],
      "text/latex": [
       "A tibble: 6 × 15\n",
       "\\begin{tabular}{lllllllllllllll}\n",
       " orcamento & titulo & ano & diretor & duracao & cor & generos & pais & classificacao & receita & nota\\_imdb & likes\\_facebook & ator\\_1 & ator\\_2 & ator\\_3\\\\\n",
       " <int> & <chr> & <int> & <chr> & <int> & <chr> & <chr> & <chr> & <chr> & <int> & <dbl> & <int> & <chr> & <chr> & <chr>\\\\\n",
       "\\hline\n",
       "\t 300000000 & Pirates of the Caribbean: At World's End  & 2007 & Gore Verbinski    & 169 & Color & Action\\textbar{}Adventure\\textbar{}Fantasy                                  & USA & A partir de 13 anos & 309404152 & 7.1 &      0 & Johnny Depp  & Orlando Bloom   & Jack Davenport      \\\\\n",
       "\t 263700000 & John Carter                               & 2012 & Andrew Stanton    & 132 & Color & Action\\textbar{}Adventure\\textbar{}Sci-Fi                                   & USA & A partir de 13 anos &  73058679 & 6.6 &  24000 & Daryl Sabara & Samantha Morton & Polly Walker        \\\\\n",
       "\t 260000000 & Tangled                                   & 2010 & Nathan Greno      & 100 & Color & Adventure\\textbar{}Animation\\textbar{}Comedy\\textbar{}Family\\textbar{}Fantasy\\textbar{}Musical\\textbar{}Romance & USA & Livre               & 200807262 & 7.8 &  29000 & Brad Garrett & Donna Murphy    & M.C. Gainey         \\\\\n",
       "\t 258000000 & Spider-Man 3                              & 2007 & Sam Raimi         & 156 & Color & Action\\textbar{}Adventure\\textbar{}Romance                                  & USA & A partir de 13 anos & 336530303 & 6.2 &      0 & J.K. Simmons & James Franco    & Kirsten Dunst       \\\\\n",
       "\t 258000000 & Spider-Man 3                              & 2007 & Sam Raimi         & 156 & Color & Action\\textbar{}Adventure\\textbar{}Romance                                  & USA & A partir de 13 anos & 336530303 & 6.2 &      0 & J.K. Simmons & James Franco    & Kirsten Dunst       \\\\\n",
       "\t 250000000 & The Dark Knight Rises                     & 2012 & Christopher Nolan & 164 & Color & Action\\textbar{}Thriller                                           & USA & A partir de 13 anos & 448130642 & 8.5 & 164000 & Tom Hardy    & Christian Bale  & Joseph Gordon-Levitt\\\\\n",
       "\\end{tabular}\n"
      ],
      "text/markdown": [
       "\n",
       "A tibble: 6 × 15\n",
       "\n",
       "| orcamento &lt;int&gt; | titulo &lt;chr&gt; | ano &lt;int&gt; | diretor &lt;chr&gt; | duracao &lt;int&gt; | cor &lt;chr&gt; | generos &lt;chr&gt; | pais &lt;chr&gt; | classificacao &lt;chr&gt; | receita &lt;int&gt; | nota_imdb &lt;dbl&gt; | likes_facebook &lt;int&gt; | ator_1 &lt;chr&gt; | ator_2 &lt;chr&gt; | ator_3 &lt;chr&gt; |\n",
       "|---|---|---|---|---|---|---|---|---|---|---|---|---|---|---|\n",
       "| 300000000 | Pirates of the Caribbean: At World's End  | 2007 | Gore Verbinski    | 169 | Color | Action|Adventure|Fantasy                                  | USA | A partir de 13 anos | 309404152 | 7.1 |      0 | Johnny Depp  | Orlando Bloom   | Jack Davenport       |\n",
       "| 263700000 | John Carter                               | 2012 | Andrew Stanton    | 132 | Color | Action|Adventure|Sci-Fi                                   | USA | A partir de 13 anos |  73058679 | 6.6 |  24000 | Daryl Sabara | Samantha Morton | Polly Walker         |\n",
       "| 260000000 | Tangled                                   | 2010 | Nathan Greno      | 100 | Color | Adventure|Animation|Comedy|Family|Fantasy|Musical|Romance | USA | Livre               | 200807262 | 7.8 |  29000 | Brad Garrett | Donna Murphy    | M.C. Gainey          |\n",
       "| 258000000 | Spider-Man 3                              | 2007 | Sam Raimi         | 156 | Color | Action|Adventure|Romance                                  | USA | A partir de 13 anos | 336530303 | 6.2 |      0 | J.K. Simmons | James Franco    | Kirsten Dunst        |\n",
       "| 258000000 | Spider-Man 3                              | 2007 | Sam Raimi         | 156 | Color | Action|Adventure|Romance                                  | USA | A partir de 13 anos | 336530303 | 6.2 |      0 | J.K. Simmons | James Franco    | Kirsten Dunst        |\n",
       "| 250000000 | The Dark Knight Rises                     | 2012 | Christopher Nolan | 164 | Color | Action|Thriller                                           | USA | A partir de 13 anos | 448130642 | 8.5 | 164000 | Tom Hardy    | Christian Bale  | Joseph Gordon-Levitt |\n",
       "\n"
      ],
      "text/plain": [
       "  orcamento titulo                                    ano  diretor          \n",
       "1 300000000 Pirates of the Caribbean: At World's End  2007 Gore Verbinski   \n",
       "2 263700000 John Carter                               2012 Andrew Stanton   \n",
       "3 260000000 Tangled                                   2010 Nathan Greno     \n",
       "4 258000000 Spider-Man 3                              2007 Sam Raimi        \n",
       "5 258000000 Spider-Man 3                              2007 Sam Raimi        \n",
       "6 250000000 The Dark Knight Rises                     2012 Christopher Nolan\n",
       "  duracao cor   generos                                                   pais\n",
       "1 169     Color Action|Adventure|Fantasy                                  USA \n",
       "2 132     Color Action|Adventure|Sci-Fi                                   USA \n",
       "3 100     Color Adventure|Animation|Comedy|Family|Fantasy|Musical|Romance USA \n",
       "4 156     Color Action|Adventure|Romance                                  USA \n",
       "5 156     Color Action|Adventure|Romance                                  USA \n",
       "6 164     Color Action|Thriller                                           USA \n",
       "  classificacao       receita   nota_imdb likes_facebook ator_1      \n",
       "1 A partir de 13 anos 309404152 7.1            0         Johnny Depp \n",
       "2 A partir de 13 anos  73058679 6.6        24000         Daryl Sabara\n",
       "3 Livre               200807262 7.8        29000         Brad Garrett\n",
       "4 A partir de 13 anos 336530303 6.2            0         J.K. Simmons\n",
       "5 A partir de 13 anos 336530303 6.2            0         J.K. Simmons\n",
       "6 A partir de 13 anos 448130642 8.5       164000         Tom Hardy   \n",
       "  ator_2          ator_3              \n",
       "1 Orlando Bloom   Jack Davenport      \n",
       "2 Samantha Morton Polly Walker        \n",
       "3 Donna Murphy    M.C. Gainey         \n",
       "4 James Franco    Kirsten Dunst       \n",
       "5 James Franco    Kirsten Dunst       \n",
       "6 Christian Bale  Joseph Gordon-Levitt"
      ]
     },
     "metadata": {},
     "output_type": "display_data"
    }
   ],
   "source": [
    "imdb %>% \n",
    "  arrange(desc(orcamento)) %>% \n",
    "  select(orcamento, everything()) %>%\n",
    "  head()"
   ]
  },
  {
   "cell_type": "code",
   "execution_count": 98,
   "metadata": {
    "slideshow": {
     "slide_type": "slide"
    }
   },
   "outputs": [
    {
     "data": {
      "text/html": [
       "<table>\n",
       "<caption>A tibble: 6 × 15</caption>\n",
       "<thead>\n",
       "\t<tr><th scope=col>titulo</th><th scope=col>ano</th><th scope=col>diretor</th><th scope=col>duracao</th><th scope=col>cor</th><th scope=col>generos</th><th scope=col>pais</th><th scope=col>classificacao</th><th scope=col>orcamento</th><th scope=col>receita</th><th scope=col>nota_imdb</th><th scope=col>likes_facebook</th><th scope=col>ator_1</th><th scope=col>ator_2</th><th scope=col>ator_3</th></tr>\n",
       "\t<tr><th scope=col>&lt;chr&gt;</th><th scope=col>&lt;int&gt;</th><th scope=col>&lt;chr&gt;</th><th scope=col>&lt;int&gt;</th><th scope=col>&lt;chr&gt;</th><th scope=col>&lt;chr&gt;</th><th scope=col>&lt;chr&gt;</th><th scope=col>&lt;chr&gt;</th><th scope=col>&lt;int&gt;</th><th scope=col>&lt;int&gt;</th><th scope=col>&lt;dbl&gt;</th><th scope=col>&lt;int&gt;</th><th scope=col>&lt;chr&gt;</th><th scope=col>&lt;chr&gt;</th><th scope=col>&lt;chr&gt;</th></tr>\n",
       "</thead>\n",
       "<tbody>\n",
       "\t<tr><td>10 Cloverfield Lane             </td><td>2016</td><td>Dan Trachtenberg   </td><td>104</td><td>Color</td><td>Drama|Horror|Mystery|Sci-Fi|Thriller    </td><td>USA</td><td>A partir de 13 anos</td><td> 15000000</td><td>71897215</td><td>7.3</td><td>33000</td><td>Bradley Cooper    </td><td>John Gallagher Jr.</td><td>Sumalee Montano </td></tr>\n",
       "\t<tr><td>13 Hours                        </td><td>2016</td><td>Michael Bay        </td><td>144</td><td>Color</td><td>Action|Drama|Thriller|War               </td><td>USA</td><td>A partir de 18 anos</td><td> 50000000</td><td>52822418</td><td>7.4</td><td>44000</td><td>Toby Stephens     </td><td>James Badge Dale  </td><td>David Costabile </td></tr>\n",
       "\t<tr><td>A Beginner's Guide to Snuff     </td><td>2016</td><td>Mitchell Altieri   </td><td> 87</td><td>Color</td><td>Comedy|Horror|Thriller                  </td><td>USA</td><td>Outros             </td><td>       NA</td><td>      NA</td><td>8.7</td><td>    8</td><td>Kimberley Crossman</td><td>Luke Edwards      </td><td>Bree Williamson </td></tr>\n",
       "\t<tr><td>Alice Through the Looking Glass </td><td>2016</td><td>James Bobin        </td><td>113</td><td>Color</td><td>Adventure|Family|Fantasy                </td><td>USA</td><td>Livre              </td><td>170000000</td><td>76846624</td><td>6.4</td><td>30000</td><td>Johnny Depp       </td><td>Alan Rickman      </td><td>Anne Hathaway   </td></tr>\n",
       "\t<tr><td>Allegiant                       </td><td>2016</td><td>Robert Schwentke   </td><td>120</td><td>Color</td><td>Action|Adventure|Mystery|Sci-Fi|Thriller</td><td>USA</td><td>A partir de 13 anos</td><td>110000000</td><td>66002193</td><td>5.8</td><td>12000</td><td>Naomi Watts       </td><td>Theo James        </td><td>Zoë Kravitz     </td></tr>\n",
       "\t<tr><td>Alleluia! The Devil's Carnival  </td><td>2016</td><td>Darren Lynn Bousman</td><td> 97</td><td>Color</td><td>Horror|Musical                          </td><td>USA</td><td>Outros             </td><td>   500000</td><td>      NA</td><td>7.4</td><td>  707</td><td>Paul Sorvino      </td><td>Barry Bostwick    </td><td>Terrance Zdunich</td></tr>\n",
       "</tbody>\n",
       "</table>\n"
      ],
      "text/latex": [
       "A tibble: 6 × 15\n",
       "\\begin{tabular}{lllllllllllllll}\n",
       " titulo & ano & diretor & duracao & cor & generos & pais & classificacao & orcamento & receita & nota\\_imdb & likes\\_facebook & ator\\_1 & ator\\_2 & ator\\_3\\\\\n",
       " <chr> & <int> & <chr> & <int> & <chr> & <chr> & <chr> & <chr> & <int> & <int> & <dbl> & <int> & <chr> & <chr> & <chr>\\\\\n",
       "\\hline\n",
       "\t 10 Cloverfield Lane              & 2016 & Dan Trachtenberg    & 104 & Color & Drama\\textbar{}Horror\\textbar{}Mystery\\textbar{}Sci-Fi\\textbar{}Thriller     & USA & A partir de 13 anos &  15000000 & 71897215 & 7.3 & 33000 & Bradley Cooper     & John Gallagher Jr. & Sumalee Montano \\\\\n",
       "\t 13 Hours                         & 2016 & Michael Bay         & 144 & Color & Action\\textbar{}Drama\\textbar{}Thriller\\textbar{}War                & USA & A partir de 18 anos &  50000000 & 52822418 & 7.4 & 44000 & Toby Stephens      & James Badge Dale   & David Costabile \\\\\n",
       "\t A Beginner's Guide to Snuff      & 2016 & Mitchell Altieri    &  87 & Color & Comedy\\textbar{}Horror\\textbar{}Thriller                   & USA & Outros              &        NA &       NA & 8.7 &     8 & Kimberley Crossman & Luke Edwards       & Bree Williamson \\\\\n",
       "\t Alice Through the Looking Glass  & 2016 & James Bobin         & 113 & Color & Adventure\\textbar{}Family\\textbar{}Fantasy                 & USA & Livre               & 170000000 & 76846624 & 6.4 & 30000 & Johnny Depp        & Alan Rickman       & Anne Hathaway   \\\\\n",
       "\t Allegiant                        & 2016 & Robert Schwentke    & 120 & Color & Action\\textbar{}Adventure\\textbar{}Mystery\\textbar{}Sci-Fi\\textbar{}Thriller & USA & A partir de 13 anos & 110000000 & 66002193 & 5.8 & 12000 & Naomi Watts        & Theo James         & Zoë Kravitz     \\\\\n",
       "\t Alleluia! The Devil's Carnival   & 2016 & Darren Lynn Bousman &  97 & Color & Horror\\textbar{}Musical                           & USA & Outros              &    500000 &       NA & 7.4 &   707 & Paul Sorvino       & Barry Bostwick     & Terrance Zdunich\\\\\n",
       "\\end{tabular}\n"
      ],
      "text/markdown": [
       "\n",
       "A tibble: 6 × 15\n",
       "\n",
       "| titulo &lt;chr&gt; | ano &lt;int&gt; | diretor &lt;chr&gt; | duracao &lt;int&gt; | cor &lt;chr&gt; | generos &lt;chr&gt; | pais &lt;chr&gt; | classificacao &lt;chr&gt; | orcamento &lt;int&gt; | receita &lt;int&gt; | nota_imdb &lt;dbl&gt; | likes_facebook &lt;int&gt; | ator_1 &lt;chr&gt; | ator_2 &lt;chr&gt; | ator_3 &lt;chr&gt; |\n",
       "|---|---|---|---|---|---|---|---|---|---|---|---|---|---|---|\n",
       "| 10 Cloverfield Lane              | 2016 | Dan Trachtenberg    | 104 | Color | Drama|Horror|Mystery|Sci-Fi|Thriller     | USA | A partir de 13 anos |  15000000 | 71897215 | 7.3 | 33000 | Bradley Cooper     | John Gallagher Jr. | Sumalee Montano  |\n",
       "| 13 Hours                         | 2016 | Michael Bay         | 144 | Color | Action|Drama|Thriller|War                | USA | A partir de 18 anos |  50000000 | 52822418 | 7.4 | 44000 | Toby Stephens      | James Badge Dale   | David Costabile  |\n",
       "| A Beginner's Guide to Snuff      | 2016 | Mitchell Altieri    |  87 | Color | Comedy|Horror|Thriller                   | USA | Outros              |        NA |       NA | 8.7 |     8 | Kimberley Crossman | Luke Edwards       | Bree Williamson  |\n",
       "| Alice Through the Looking Glass  | 2016 | James Bobin         | 113 | Color | Adventure|Family|Fantasy                 | USA | Livre               | 170000000 | 76846624 | 6.4 | 30000 | Johnny Depp        | Alan Rickman       | Anne Hathaway    |\n",
       "| Allegiant                        | 2016 | Robert Schwentke    | 120 | Color | Action|Adventure|Mystery|Sci-Fi|Thriller | USA | A partir de 13 anos | 110000000 | 66002193 | 5.8 | 12000 | Naomi Watts        | Theo James         | Zoë Kravitz      |\n",
       "| Alleluia! The Devil's Carnival   | 2016 | Darren Lynn Bousman |  97 | Color | Horror|Musical                           | USA | Outros              |    500000 |       NA | 7.4 |   707 | Paul Sorvino       | Barry Bostwick     | Terrance Zdunich |\n",
       "\n"
      ],
      "text/plain": [
       "  titulo                           ano  diretor             duracao cor  \n",
       "1 10 Cloverfield Lane              2016 Dan Trachtenberg    104     Color\n",
       "2 13 Hours                         2016 Michael Bay         144     Color\n",
       "3 A Beginner's Guide to Snuff      2016 Mitchell Altieri     87     Color\n",
       "4 Alice Through the Looking Glass  2016 James Bobin         113     Color\n",
       "5 Allegiant                        2016 Robert Schwentke    120     Color\n",
       "6 Alleluia! The Devil's Carnival   2016 Darren Lynn Bousman  97     Color\n",
       "  generos                                  pais classificacao       orcamento\n",
       "1 Drama|Horror|Mystery|Sci-Fi|Thriller     USA  A partir de 13 anos  15000000\n",
       "2 Action|Drama|Thriller|War                USA  A partir de 18 anos  50000000\n",
       "3 Comedy|Horror|Thriller                   USA  Outros                     NA\n",
       "4 Adventure|Family|Fantasy                 USA  Livre               170000000\n",
       "5 Action|Adventure|Mystery|Sci-Fi|Thriller USA  A partir de 13 anos 110000000\n",
       "6 Horror|Musical                           USA  Outros                 500000\n",
       "  receita  nota_imdb likes_facebook ator_1             ator_2            \n",
       "1 71897215 7.3       33000          Bradley Cooper     John Gallagher Jr.\n",
       "2 52822418 7.4       44000          Toby Stephens      James Badge Dale  \n",
       "3       NA 8.7           8          Kimberley Crossman Luke Edwards      \n",
       "4 76846624 6.4       30000          Johnny Depp        Alan Rickman      \n",
       "5 66002193 5.8       12000          Naomi Watts        Theo James        \n",
       "6       NA 7.4         707          Paul Sorvino       Barry Bostwick    \n",
       "  ator_3          \n",
       "1 Sumalee Montano \n",
       "2 David Costabile \n",
       "3 Bree Williamson \n",
       "4 Anne Hathaway   \n",
       "5 Zoë Kravitz     \n",
       "6 Terrance Zdunich"
      ]
     },
     "metadata": {},
     "output_type": "display_data"
    }
   ],
   "source": [
    "imdb %>% \n",
    "  arrange(desc(ano), titulo) %>% \n",
    "  select(titulo, ano, everything()) %>%\n",
    "  head()"
   ]
  },
  {
   "cell_type": "markdown",
   "metadata": {
    "slideshow": {
     "slide_type": "slide"
    }
   },
   "source": [
    "### MUTATE()\n",
    "A função mutate() cria ou modifica colunas. Ela é equivalente à função transform(), mas aceita várias novas colunas iterativamente. Novas variáveis devem ter o mesmo número de linhas da base original (ou comprimento 1)."
   ]
  },
  {
   "cell_type": "markdown",
   "metadata": {
    "slideshow": {
     "slide_type": "slide"
    }
   },
   "source": [
    "#### A coluna \"duracao\" é sobrescrita"
   ]
  },
  {
   "cell_type": "code",
   "execution_count": 99,
   "metadata": {
    "slideshow": {
     "slide_type": "subslide"
    }
   },
   "outputs": [
    {
     "data": {
      "text/html": [
       "<table>\n",
       "<caption>A tibble: 6 × 1</caption>\n",
       "<thead>\n",
       "\t<tr><th scope=col>duracao</th></tr>\n",
       "\t<tr><th scope=col>&lt;dbl&gt;</th></tr>\n",
       "</thead>\n",
       "<tbody>\n",
       "\t<tr><td>2.966667</td></tr>\n",
       "\t<tr><td>2.816667</td></tr>\n",
       "\t<tr><td>2.733333</td></tr>\n",
       "\t<tr><td>2.200000</td></tr>\n",
       "\t<tr><td>2.600000</td></tr>\n",
       "\t<tr><td>1.666667</td></tr>\n",
       "</tbody>\n",
       "</table>\n"
      ],
      "text/latex": [
       "A tibble: 6 × 1\n",
       "\\begin{tabular}{l}\n",
       " duracao\\\\\n",
       " <dbl>\\\\\n",
       "\\hline\n",
       "\t 2.966667\\\\\n",
       "\t 2.816667\\\\\n",
       "\t 2.733333\\\\\n",
       "\t 2.200000\\\\\n",
       "\t 2.600000\\\\\n",
       "\t 1.666667\\\\\n",
       "\\end{tabular}\n"
      ],
      "text/markdown": [
       "\n",
       "A tibble: 6 × 1\n",
       "\n",
       "| duracao &lt;dbl&gt; |\n",
       "|---|\n",
       "| 2.966667 |\n",
       "| 2.816667 |\n",
       "| 2.733333 |\n",
       "| 2.200000 |\n",
       "| 2.600000 |\n",
       "| 1.666667 |\n",
       "\n"
      ],
      "text/plain": [
       "  duracao \n",
       "1 2.966667\n",
       "2 2.816667\n",
       "3 2.733333\n",
       "4 2.200000\n",
       "5 2.600000\n",
       "6 1.666667"
      ]
     },
     "metadata": {},
     "output_type": "display_data"
    }
   ],
   "source": [
    "imdb %>% \n",
    "  mutate(duracao = duracao/60) %>% \n",
    "  select(duracao) %>%\n",
    "  head()"
   ]
  },
  {
   "cell_type": "markdown",
   "metadata": {
    "slideshow": {
     "slide_type": "subslide"
    }
   },
   "source": [
    "#### Criamos uma nova coluna na base"
   ]
  },
  {
   "cell_type": "code",
   "execution_count": 100,
   "metadata": {
    "slideshow": {
     "slide_type": "subslide"
    }
   },
   "outputs": [
    {
     "data": {
      "text/html": [
       "<table>\n",
       "<caption>A tibble: 6 × 2</caption>\n",
       "<thead>\n",
       "\t<tr><th scope=col>duracao</th><th scope=col>duracao_horas</th></tr>\n",
       "\t<tr><th scope=col>&lt;int&gt;</th><th scope=col>&lt;dbl&gt;</th></tr>\n",
       "</thead>\n",
       "<tbody>\n",
       "\t<tr><td>178</td><td>2.966667</td></tr>\n",
       "\t<tr><td>169</td><td>2.816667</td></tr>\n",
       "\t<tr><td>164</td><td>2.733333</td></tr>\n",
       "\t<tr><td>132</td><td>2.200000</td></tr>\n",
       "\t<tr><td>156</td><td>2.600000</td></tr>\n",
       "\t<tr><td>100</td><td>1.666667</td></tr>\n",
       "</tbody>\n",
       "</table>\n"
      ],
      "text/latex": [
       "A tibble: 6 × 2\n",
       "\\begin{tabular}{ll}\n",
       " duracao & duracao\\_horas\\\\\n",
       " <int> & <dbl>\\\\\n",
       "\\hline\n",
       "\t 178 & 2.966667\\\\\n",
       "\t 169 & 2.816667\\\\\n",
       "\t 164 & 2.733333\\\\\n",
       "\t 132 & 2.200000\\\\\n",
       "\t 156 & 2.600000\\\\\n",
       "\t 100 & 1.666667\\\\\n",
       "\\end{tabular}\n"
      ],
      "text/markdown": [
       "\n",
       "A tibble: 6 × 2\n",
       "\n",
       "| duracao &lt;int&gt; | duracao_horas &lt;dbl&gt; |\n",
       "|---|---|\n",
       "| 178 | 2.966667 |\n",
       "| 169 | 2.816667 |\n",
       "| 164 | 2.733333 |\n",
       "| 132 | 2.200000 |\n",
       "| 156 | 2.600000 |\n",
       "| 100 | 1.666667 |\n",
       "\n"
      ],
      "text/plain": [
       "  duracao duracao_horas\n",
       "1 178     2.966667     \n",
       "2 169     2.816667     \n",
       "3 164     2.733333     \n",
       "4 132     2.200000     \n",
       "5 156     2.600000     \n",
       "6 100     1.666667     "
      ]
     },
     "metadata": {},
     "output_type": "display_data"
    }
   ],
   "source": [
    "imdb %>% \n",
    "  mutate(duracao_horas = duracao/60) %>% \n",
    "  select(duracao, duracao_horas) %>%\n",
    "  head()"
   ]
  },
  {
   "cell_type": "markdown",
   "metadata": {
    "slideshow": {
     "slide_type": "subslide"
    }
   },
   "source": [
    "#### Podemos fazer diversas operações em um mesmo mutate."
   ]
  },
  {
   "cell_type": "code",
   "execution_count": 101,
   "metadata": {
    "slideshow": {
     "slide_type": "subslide"
    }
   },
   "outputs": [
    {
     "data": {
      "text/html": [
       "<table>\n",
       "<caption>A tibble: 6 × 2</caption>\n",
       "<thead>\n",
       "\t<tr><th scope=col>lucro</th><th scope=col>resultado</th></tr>\n",
       "\t<tr><th scope=col>&lt;int&gt;</th><th scope=col>&lt;chr&gt;</th></tr>\n",
       "</thead>\n",
       "<tbody>\n",
       "\t<tr><td> 523505847</td><td>lucro   </td></tr>\n",
       "\t<tr><td>   9404152</td><td>lucro   </td></tr>\n",
       "\t<tr><td> 198130642</td><td>lucro   </td></tr>\n",
       "\t<tr><td>-190641321</td><td>prejuizo</td></tr>\n",
       "\t<tr><td>  78530303</td><td>lucro   </td></tr>\n",
       "\t<tr><td> -59192738</td><td>prejuizo</td></tr>\n",
       "</tbody>\n",
       "</table>\n"
      ],
      "text/latex": [
       "A tibble: 6 × 2\n",
       "\\begin{tabular}{ll}\n",
       " lucro & resultado\\\\\n",
       " <int> & <chr>\\\\\n",
       "\\hline\n",
       "\t  523505847 & lucro   \\\\\n",
       "\t    9404152 & lucro   \\\\\n",
       "\t  198130642 & lucro   \\\\\n",
       "\t -190641321 & prejuizo\\\\\n",
       "\t   78530303 & lucro   \\\\\n",
       "\t  -59192738 & prejuizo\\\\\n",
       "\\end{tabular}\n"
      ],
      "text/markdown": [
       "\n",
       "A tibble: 6 × 2\n",
       "\n",
       "| lucro &lt;int&gt; | resultado &lt;chr&gt; |\n",
       "|---|---|\n",
       "|  523505847 | lucro    |\n",
       "|    9404152 | lucro    |\n",
       "|  198130642 | lucro    |\n",
       "| -190641321 | prejuizo |\n",
       "|   78530303 | lucro    |\n",
       "|  -59192738 | prejuizo |\n",
       "\n"
      ],
      "text/plain": [
       "  lucro      resultado\n",
       "1  523505847 lucro    \n",
       "2    9404152 lucro    \n",
       "3  198130642 lucro    \n",
       "4 -190641321 prejuizo \n",
       "5   78530303 lucro    \n",
       "6  -59192738 prejuizo "
      ]
     },
     "metadata": {},
     "output_type": "display_data"
    }
   ],
   "source": [
    "imdb %>% \n",
    "  mutate(\n",
    "    lucro = receita - orcamento,\n",
    "    resultado = ifelse(lucro < 0, \"prejuizo\", \"lucro\")\n",
    "  ) %>% \n",
    "  select(lucro, resultado) %>%\n",
    "  head()"
   ]
  },
  {
   "cell_type": "markdown",
   "metadata": {
    "slideshow": {
     "slide_type": "slide"
    }
   },
   "source": [
    "## AGRUPANDO E SUMARIZANDO A BASE\n",
    "A função summarise() sumariza a base. Ela aplica uma função às variáveis, retornando um vetor de tamanho 1. Ela é utilizada em conjunto da função group_by(). A função n() costuma ser bastante utilizada com a função summarise()."
   ]
  },
  {
   "cell_type": "code",
   "execution_count": 102,
   "metadata": {
    "slideshow": {
     "slide_type": "subslide"
    }
   },
   "outputs": [
    {
     "data": {
      "text/html": [
       "<table>\n",
       "<caption>A tibble: 1 × 1</caption>\n",
       "<thead>\n",
       "\t<tr><th scope=col>media_orcamento</th></tr>\n",
       "\t<tr><th scope=col>&lt;dbl&gt;</th></tr>\n",
       "</thead>\n",
       "<tbody>\n",
       "\t<tr><td>35755986</td></tr>\n",
       "</tbody>\n",
       "</table>\n"
      ],
      "text/latex": [
       "A tibble: 1 × 1\n",
       "\\begin{tabular}{l}\n",
       " media\\_orcamento\\\\\n",
       " <dbl>\\\\\n",
       "\\hline\n",
       "\t 35755986\\\\\n",
       "\\end{tabular}\n"
      ],
      "text/markdown": [
       "\n",
       "A tibble: 1 × 1\n",
       "\n",
       "| media_orcamento &lt;dbl&gt; |\n",
       "|---|\n",
       "| 35755986 |\n",
       "\n"
      ],
      "text/plain": [
       "  media_orcamento\n",
       "1 35755986       "
      ]
     },
     "metadata": {},
     "output_type": "display_data"
    }
   ],
   "source": [
    "imdb %>% \n",
    "  summarise(media_orcamento = mean(orcamento, na.rm = TRUE))"
   ]
  },
  {
   "cell_type": "code",
   "execution_count": 103,
   "metadata": {
    "slideshow": {
     "slide_type": "subslide"
    }
   },
   "outputs": [
    {
     "data": {
      "text/html": [
       "<table>\n",
       "<caption>A tibble: 1 × 4</caption>\n",
       "<thead>\n",
       "\t<tr><th scope=col>media_orcamento</th><th scope=col>mediana_orcamento</th><th scope=col>qtd</th><th scope=col>qtd_diretores</th></tr>\n",
       "\t<tr><th scope=col>&lt;dbl&gt;</th><th scope=col>&lt;int&gt;</th><th scope=col>&lt;int&gt;</th><th scope=col>&lt;int&gt;</th></tr>\n",
       "</thead>\n",
       "<tbody>\n",
       "\t<tr><td>35755986</td><td>20000000</td><td>3807</td><td>1813</td></tr>\n",
       "</tbody>\n",
       "</table>\n"
      ],
      "text/latex": [
       "A tibble: 1 × 4\n",
       "\\begin{tabular}{llll}\n",
       " media\\_orcamento & mediana\\_orcamento & qtd & qtd\\_diretores\\\\\n",
       " <dbl> & <int> & <int> & <int>\\\\\n",
       "\\hline\n",
       "\t 35755986 & 20000000 & 3807 & 1813\\\\\n",
       "\\end{tabular}\n"
      ],
      "text/markdown": [
       "\n",
       "A tibble: 1 × 4\n",
       "\n",
       "| media_orcamento &lt;dbl&gt; | mediana_orcamento &lt;int&gt; | qtd &lt;int&gt; | qtd_diretores &lt;int&gt; |\n",
       "|---|---|---|---|\n",
       "| 35755986 | 20000000 | 3807 | 1813 |\n",
       "\n"
      ],
      "text/plain": [
       "  media_orcamento mediana_orcamento qtd  qtd_diretores\n",
       "1 35755986        20000000          3807 1813         "
      ]
     },
     "metadata": {},
     "output_type": "display_data"
    }
   ],
   "source": [
    "imdb %>% \n",
    "  summarise(\n",
    "    media_orcamento = mean(orcamento, na.rm = TRUE),\n",
    "    mediana_orcamento = median(orcamento, na.rm = TRUE),\n",
    "    qtd = n(),\n",
    "    qtd_diretores = n_distinct(diretor)\n",
    "  )"
   ]
  },
  {
   "cell_type": "code",
   "execution_count": 104,
   "metadata": {
    "slideshow": {
     "slide_type": "subslide"
    }
   },
   "outputs": [
    {
     "name": "stderr",
     "output_type": "stream",
     "text": [
      "`summarise()` ungrouping output (override with `.groups` argument)\n",
      "\n"
     ]
    },
    {
     "data": {
      "text/html": [
       "<table>\n",
       "<caption>A tibble: 6 × 2</caption>\n",
       "<thead>\n",
       "\t<tr><th scope=col>ano</th><th scope=col>qtd_filmes</th></tr>\n",
       "\t<tr><th scope=col>&lt;int&gt;</th><th scope=col>&lt;int&gt;</th></tr>\n",
       "</thead>\n",
       "<tbody>\n",
       "\t<tr><td>1916</td><td>1</td></tr>\n",
       "\t<tr><td>1920</td><td>1</td></tr>\n",
       "\t<tr><td>1925</td><td>1</td></tr>\n",
       "\t<tr><td>1929</td><td>1</td></tr>\n",
       "\t<tr><td>1930</td><td>1</td></tr>\n",
       "\t<tr><td>1932</td><td>1</td></tr>\n",
       "</tbody>\n",
       "</table>\n"
      ],
      "text/latex": [
       "A tibble: 6 × 2\n",
       "\\begin{tabular}{ll}\n",
       " ano & qtd\\_filmes\\\\\n",
       " <int> & <int>\\\\\n",
       "\\hline\n",
       "\t 1916 & 1\\\\\n",
       "\t 1920 & 1\\\\\n",
       "\t 1925 & 1\\\\\n",
       "\t 1929 & 1\\\\\n",
       "\t 1930 & 1\\\\\n",
       "\t 1932 & 1\\\\\n",
       "\\end{tabular}\n"
      ],
      "text/markdown": [
       "\n",
       "A tibble: 6 × 2\n",
       "\n",
       "| ano &lt;int&gt; | qtd_filmes &lt;int&gt; |\n",
       "|---|---|\n",
       "| 1916 | 1 |\n",
       "| 1920 | 1 |\n",
       "| 1925 | 1 |\n",
       "| 1929 | 1 |\n",
       "| 1930 | 1 |\n",
       "| 1932 | 1 |\n",
       "\n"
      ],
      "text/plain": [
       "  ano  qtd_filmes\n",
       "1 1916 1         \n",
       "2 1920 1         \n",
       "3 1925 1         \n",
       "4 1929 1         \n",
       "5 1930 1         \n",
       "6 1932 1         "
      ]
     },
     "metadata": {},
     "output_type": "display_data"
    }
   ],
   "source": [
    "imdb %>% \n",
    "  group_by(ano) %>% \n",
    "  summarise(qtd_filmes = n()) %>%\n",
    "  head()"
   ]
  },
  {
   "cell_type": "markdown",
   "metadata": {
    "slideshow": {
     "slide_type": "subslide"
    }
   },
   "source": [
    "### O PACOTE TIDYR\n",
    "\n",
    "O pacote tidyr dispõe de funções úteis para deixar os seus dados no formato que você precisa para a análise. Na maioria das vezes, utilizamos para deixá-los tidy. \n",
    "\n",
    "Outras, precisamos “bagunçá-los” um pouco para poder aplicar alguma função específica.\n",
    "\n",
    "As principais funções deste pacote são a gather() e a spread()"
   ]
  },
  {
   "cell_type": "markdown",
   "metadata": {
    "slideshow": {
     "slide_type": "subslide"
    }
   },
   "source": [
    "### GATHER()\n",
    "A função gather() “empilha” o banco de dados. Ela é utilizada principalmente quando as colunas da base não representam nomes de variáveis, mas sim seus valores."
   ]
  },
  {
   "cell_type": "code",
   "execution_count": 105,
   "metadata": {
    "slideshow": {
     "slide_type": "subslide"
    }
   },
   "outputs": [],
   "source": [
    "imdb_gather <- imdb %>% \n",
    "  mutate(id = 1:n()) %>% \n",
    "  gather(\n",
    "    key = \"importancia_ator\", \n",
    "    value = \"nome_ator\", \n",
    "    ator_1, ator_2, ator_3\n",
    "  ) %>% \n",
    "  select(nome_ator, importancia_ator, everything())"
   ]
  },
  {
   "cell_type": "code",
   "execution_count": 106,
   "metadata": {
    "slideshow": {
     "slide_type": "subslide"
    }
   },
   "outputs": [
    {
     "data": {
      "text/html": [
       "<table>\n",
       "<caption>A tibble: 6 × 15</caption>\n",
       "<thead>\n",
       "\t<tr><th scope=col>nome_ator</th><th scope=col>importancia_ator</th><th scope=col>titulo</th><th scope=col>ano</th><th scope=col>diretor</th><th scope=col>duracao</th><th scope=col>cor</th><th scope=col>generos</th><th scope=col>pais</th><th scope=col>classificacao</th><th scope=col>orcamento</th><th scope=col>receita</th><th scope=col>nota_imdb</th><th scope=col>likes_facebook</th><th scope=col>id</th></tr>\n",
       "\t<tr><th scope=col>&lt;chr&gt;</th><th scope=col>&lt;chr&gt;</th><th scope=col>&lt;chr&gt;</th><th scope=col>&lt;int&gt;</th><th scope=col>&lt;chr&gt;</th><th scope=col>&lt;int&gt;</th><th scope=col>&lt;chr&gt;</th><th scope=col>&lt;chr&gt;</th><th scope=col>&lt;chr&gt;</th><th scope=col>&lt;chr&gt;</th><th scope=col>&lt;int&gt;</th><th scope=col>&lt;int&gt;</th><th scope=col>&lt;dbl&gt;</th><th scope=col>&lt;int&gt;</th><th scope=col>&lt;int&gt;</th></tr>\n",
       "</thead>\n",
       "<tbody>\n",
       "\t<tr><td>CCH Pounder </td><td>ator_1</td><td>Avatar                                   </td><td>2009</td><td>James Cameron    </td><td>178</td><td>Color</td><td>Action|Adventure|Fantasy|Sci-Fi                          </td><td>USA</td><td>A partir de 13 anos</td><td>237000000</td><td>760505847</td><td>7.9</td><td> 33000</td><td>1</td></tr>\n",
       "\t<tr><td>Johnny Depp </td><td>ator_1</td><td>Pirates of the Caribbean: At World's End </td><td>2007</td><td>Gore Verbinski   </td><td>169</td><td>Color</td><td>Action|Adventure|Fantasy                                 </td><td>USA</td><td>A partir de 13 anos</td><td>300000000</td><td>309404152</td><td>7.1</td><td>     0</td><td>2</td></tr>\n",
       "\t<tr><td>Tom Hardy   </td><td>ator_1</td><td>The Dark Knight Rises                    </td><td>2012</td><td>Christopher Nolan</td><td>164</td><td>Color</td><td>Action|Thriller                                          </td><td>USA</td><td>A partir de 13 anos</td><td>250000000</td><td>448130642</td><td>8.5</td><td>164000</td><td>3</td></tr>\n",
       "\t<tr><td>Daryl Sabara</td><td>ator_1</td><td>John Carter                              </td><td>2012</td><td>Andrew Stanton   </td><td>132</td><td>Color</td><td>Action|Adventure|Sci-Fi                                  </td><td>USA</td><td>A partir de 13 anos</td><td>263700000</td><td> 73058679</td><td>6.6</td><td> 24000</td><td>4</td></tr>\n",
       "\t<tr><td>J.K. Simmons</td><td>ator_1</td><td>Spider-Man 3                             </td><td>2007</td><td>Sam Raimi        </td><td>156</td><td>Color</td><td>Action|Adventure|Romance                                 </td><td>USA</td><td>A partir de 13 anos</td><td>258000000</td><td>336530303</td><td>6.2</td><td>     0</td><td>5</td></tr>\n",
       "\t<tr><td>Brad Garrett</td><td>ator_1</td><td>Tangled                                  </td><td>2010</td><td>Nathan Greno     </td><td>100</td><td>Color</td><td>Adventure|Animation|Comedy|Family|Fantasy|Musical|Romance</td><td>USA</td><td>Livre              </td><td>260000000</td><td>200807262</td><td>7.8</td><td> 29000</td><td>6</td></tr>\n",
       "</tbody>\n",
       "</table>\n"
      ],
      "text/latex": [
       "A tibble: 6 × 15\n",
       "\\begin{tabular}{lllllllllllllll}\n",
       " nome\\_ator & importancia\\_ator & titulo & ano & diretor & duracao & cor & generos & pais & classificacao & orcamento & receita & nota\\_imdb & likes\\_facebook & id\\\\\n",
       " <chr> & <chr> & <chr> & <int> & <chr> & <int> & <chr> & <chr> & <chr> & <chr> & <int> & <int> & <dbl> & <int> & <int>\\\\\n",
       "\\hline\n",
       "\t CCH Pounder  & ator\\_1 & Avatar                                    & 2009 & James Cameron     & 178 & Color & Action\\textbar{}Adventure\\textbar{}Fantasy\\textbar{}Sci-Fi                           & USA & A partir de 13 anos & 237000000 & 760505847 & 7.9 &  33000 & 1\\\\\n",
       "\t Johnny Depp  & ator\\_1 & Pirates of the Caribbean: At World's End  & 2007 & Gore Verbinski    & 169 & Color & Action\\textbar{}Adventure\\textbar{}Fantasy                                  & USA & A partir de 13 anos & 300000000 & 309404152 & 7.1 &      0 & 2\\\\\n",
       "\t Tom Hardy    & ator\\_1 & The Dark Knight Rises                     & 2012 & Christopher Nolan & 164 & Color & Action\\textbar{}Thriller                                           & USA & A partir de 13 anos & 250000000 & 448130642 & 8.5 & 164000 & 3\\\\\n",
       "\t Daryl Sabara & ator\\_1 & John Carter                               & 2012 & Andrew Stanton    & 132 & Color & Action\\textbar{}Adventure\\textbar{}Sci-Fi                                   & USA & A partir de 13 anos & 263700000 &  73058679 & 6.6 &  24000 & 4\\\\\n",
       "\t J.K. Simmons & ator\\_1 & Spider-Man 3                              & 2007 & Sam Raimi         & 156 & Color & Action\\textbar{}Adventure\\textbar{}Romance                                  & USA & A partir de 13 anos & 258000000 & 336530303 & 6.2 &      0 & 5\\\\\n",
       "\t Brad Garrett & ator\\_1 & Tangled                                   & 2010 & Nathan Greno      & 100 & Color & Adventure\\textbar{}Animation\\textbar{}Comedy\\textbar{}Family\\textbar{}Fantasy\\textbar{}Musical\\textbar{}Romance & USA & Livre               & 260000000 & 200807262 & 7.8 &  29000 & 6\\\\\n",
       "\\end{tabular}\n"
      ],
      "text/markdown": [
       "\n",
       "A tibble: 6 × 15\n",
       "\n",
       "| nome_ator &lt;chr&gt; | importancia_ator &lt;chr&gt; | titulo &lt;chr&gt; | ano &lt;int&gt; | diretor &lt;chr&gt; | duracao &lt;int&gt; | cor &lt;chr&gt; | generos &lt;chr&gt; | pais &lt;chr&gt; | classificacao &lt;chr&gt; | orcamento &lt;int&gt; | receita &lt;int&gt; | nota_imdb &lt;dbl&gt; | likes_facebook &lt;int&gt; | id &lt;int&gt; |\n",
       "|---|---|---|---|---|---|---|---|---|---|---|---|---|---|---|\n",
       "| CCH Pounder  | ator_1 | Avatar                                    | 2009 | James Cameron     | 178 | Color | Action|Adventure|Fantasy|Sci-Fi                           | USA | A partir de 13 anos | 237000000 | 760505847 | 7.9 |  33000 | 1 |\n",
       "| Johnny Depp  | ator_1 | Pirates of the Caribbean: At World's End  | 2007 | Gore Verbinski    | 169 | Color | Action|Adventure|Fantasy                                  | USA | A partir de 13 anos | 300000000 | 309404152 | 7.1 |      0 | 2 |\n",
       "| Tom Hardy    | ator_1 | The Dark Knight Rises                     | 2012 | Christopher Nolan | 164 | Color | Action|Thriller                                           | USA | A partir de 13 anos | 250000000 | 448130642 | 8.5 | 164000 | 3 |\n",
       "| Daryl Sabara | ator_1 | John Carter                               | 2012 | Andrew Stanton    | 132 | Color | Action|Adventure|Sci-Fi                                   | USA | A partir de 13 anos | 263700000 |  73058679 | 6.6 |  24000 | 4 |\n",
       "| J.K. Simmons | ator_1 | Spider-Man 3                              | 2007 | Sam Raimi         | 156 | Color | Action|Adventure|Romance                                  | USA | A partir de 13 anos | 258000000 | 336530303 | 6.2 |      0 | 5 |\n",
       "| Brad Garrett | ator_1 | Tangled                                   | 2010 | Nathan Greno      | 100 | Color | Adventure|Animation|Comedy|Family|Fantasy|Musical|Romance | USA | Livre               | 260000000 | 200807262 | 7.8 |  29000 | 6 |\n",
       "\n"
      ],
      "text/plain": [
       "  nome_ator    importancia_ator titulo                                    ano \n",
       "1 CCH Pounder  ator_1           Avatar                                    2009\n",
       "2 Johnny Depp  ator_1           Pirates of the Caribbean: At World's End  2007\n",
       "3 Tom Hardy    ator_1           The Dark Knight Rises                     2012\n",
       "4 Daryl Sabara ator_1           John Carter                               2012\n",
       "5 J.K. Simmons ator_1           Spider-Man 3                              2007\n",
       "6 Brad Garrett ator_1           Tangled                                   2010\n",
       "  diretor           duracao cor  \n",
       "1 James Cameron     178     Color\n",
       "2 Gore Verbinski    169     Color\n",
       "3 Christopher Nolan 164     Color\n",
       "4 Andrew Stanton    132     Color\n",
       "5 Sam Raimi         156     Color\n",
       "6 Nathan Greno      100     Color\n",
       "  generos                                                   pais\n",
       "1 Action|Adventure|Fantasy|Sci-Fi                           USA \n",
       "2 Action|Adventure|Fantasy                                  USA \n",
       "3 Action|Thriller                                           USA \n",
       "4 Action|Adventure|Sci-Fi                                   USA \n",
       "5 Action|Adventure|Romance                                  USA \n",
       "6 Adventure|Animation|Comedy|Family|Fantasy|Musical|Romance USA \n",
       "  classificacao       orcamento receita   nota_imdb likes_facebook id\n",
       "1 A partir de 13 anos 237000000 760505847 7.9        33000         1 \n",
       "2 A partir de 13 anos 300000000 309404152 7.1            0         2 \n",
       "3 A partir de 13 anos 250000000 448130642 8.5       164000         3 \n",
       "4 A partir de 13 anos 263700000  73058679 6.6        24000         4 \n",
       "5 A partir de 13 anos 258000000 336530303 6.2            0         5 \n",
       "6 Livre               260000000 200807262 7.8        29000         6 "
      ]
     },
     "metadata": {},
     "output_type": "display_data"
    }
   ],
   "source": [
    "head(imdb_gather)"
   ]
  },
  {
   "cell_type": "markdown",
   "metadata": {
    "slideshow": {
     "slide_type": "subslide"
    }
   },
   "source": [
    "### SPREAD()\n",
    "A função spread() é essencialmente o inverso da gather(). Ela espalha uma variável nas colunas."
   ]
  },
  {
   "cell_type": "code",
   "execution_count": 107,
   "metadata": {
    "slideshow": {
     "slide_type": "subslide"
    }
   },
   "outputs": [],
   "source": [
    "imdb_spread <- imdb_gather %>% \n",
    "  spread(\n",
    "    key = importancia_ator,\n",
    "    value = nome_ator\n",
    "  )"
   ]
  },
  {
   "cell_type": "code",
   "execution_count": 108,
   "metadata": {
    "slideshow": {
     "slide_type": "subslide"
    }
   },
   "outputs": [
    {
     "data": {
      "text/html": [
       "<table>\n",
       "<caption>A tibble: 6 × 16</caption>\n",
       "<thead>\n",
       "\t<tr><th scope=col>titulo</th><th scope=col>ano</th><th scope=col>diretor</th><th scope=col>duracao</th><th scope=col>cor</th><th scope=col>generos</th><th scope=col>pais</th><th scope=col>classificacao</th><th scope=col>orcamento</th><th scope=col>receita</th><th scope=col>nota_imdb</th><th scope=col>likes_facebook</th><th scope=col>id</th><th scope=col>ator_1</th><th scope=col>ator_2</th><th scope=col>ator_3</th></tr>\n",
       "\t<tr><th scope=col>&lt;chr&gt;</th><th scope=col>&lt;int&gt;</th><th scope=col>&lt;chr&gt;</th><th scope=col>&lt;int&gt;</th><th scope=col>&lt;chr&gt;</th><th scope=col>&lt;chr&gt;</th><th scope=col>&lt;chr&gt;</th><th scope=col>&lt;chr&gt;</th><th scope=col>&lt;int&gt;</th><th scope=col>&lt;int&gt;</th><th scope=col>&lt;dbl&gt;</th><th scope=col>&lt;int&gt;</th><th scope=col>&lt;int&gt;</th><th scope=col>&lt;chr&gt;</th><th scope=col>&lt;chr&gt;</th><th scope=col>&lt;chr&gt;</th></tr>\n",
       "</thead>\n",
       "<tbody>\n",
       "\t<tr><td>Avatar                                   </td><td>2009</td><td>James Cameron    </td><td>178</td><td>Color</td><td>Action|Adventure|Fantasy|Sci-Fi                          </td><td>USA</td><td>A partir de 13 anos</td><td>237000000</td><td>760505847</td><td>7.9</td><td> 33000</td><td>1</td><td>CCH Pounder </td><td>Joel David Moore</td><td>Wes Studi           </td></tr>\n",
       "\t<tr><td>Pirates of the Caribbean: At World's End </td><td>2007</td><td>Gore Verbinski   </td><td>169</td><td>Color</td><td>Action|Adventure|Fantasy                                 </td><td>USA</td><td>A partir de 13 anos</td><td>300000000</td><td>309404152</td><td>7.1</td><td>     0</td><td>2</td><td>Johnny Depp </td><td>Orlando Bloom   </td><td>Jack Davenport      </td></tr>\n",
       "\t<tr><td>The Dark Knight Rises                    </td><td>2012</td><td>Christopher Nolan</td><td>164</td><td>Color</td><td>Action|Thriller                                          </td><td>USA</td><td>A partir de 13 anos</td><td>250000000</td><td>448130642</td><td>8.5</td><td>164000</td><td>3</td><td>Tom Hardy   </td><td>Christian Bale  </td><td>Joseph Gordon-Levitt</td></tr>\n",
       "\t<tr><td>John Carter                              </td><td>2012</td><td>Andrew Stanton   </td><td>132</td><td>Color</td><td>Action|Adventure|Sci-Fi                                  </td><td>USA</td><td>A partir de 13 anos</td><td>263700000</td><td> 73058679</td><td>6.6</td><td> 24000</td><td>4</td><td>Daryl Sabara</td><td>Samantha Morton </td><td>Polly Walker        </td></tr>\n",
       "\t<tr><td>Spider-Man 3                             </td><td>2007</td><td>Sam Raimi        </td><td>156</td><td>Color</td><td>Action|Adventure|Romance                                 </td><td>USA</td><td>A partir de 13 anos</td><td>258000000</td><td>336530303</td><td>6.2</td><td>     0</td><td>5</td><td>J.K. Simmons</td><td>James Franco    </td><td>Kirsten Dunst       </td></tr>\n",
       "\t<tr><td>Tangled                                  </td><td>2010</td><td>Nathan Greno     </td><td>100</td><td>Color</td><td>Adventure|Animation|Comedy|Family|Fantasy|Musical|Romance</td><td>USA</td><td>Livre              </td><td>260000000</td><td>200807262</td><td>7.8</td><td> 29000</td><td>6</td><td>Brad Garrett</td><td>Donna Murphy    </td><td>M.C. Gainey         </td></tr>\n",
       "</tbody>\n",
       "</table>\n"
      ],
      "text/latex": [
       "A tibble: 6 × 16\n",
       "\\begin{tabular}{llllllllllllllll}\n",
       " titulo & ano & diretor & duracao & cor & generos & pais & classificacao & orcamento & receita & nota\\_imdb & likes\\_facebook & id & ator\\_1 & ator\\_2 & ator\\_3\\\\\n",
       " <chr> & <int> & <chr> & <int> & <chr> & <chr> & <chr> & <chr> & <int> & <int> & <dbl> & <int> & <int> & <chr> & <chr> & <chr>\\\\\n",
       "\\hline\n",
       "\t Avatar                                    & 2009 & James Cameron     & 178 & Color & Action\\textbar{}Adventure\\textbar{}Fantasy\\textbar{}Sci-Fi                           & USA & A partir de 13 anos & 237000000 & 760505847 & 7.9 &  33000 & 1 & CCH Pounder  & Joel David Moore & Wes Studi           \\\\\n",
       "\t Pirates of the Caribbean: At World's End  & 2007 & Gore Verbinski    & 169 & Color & Action\\textbar{}Adventure\\textbar{}Fantasy                                  & USA & A partir de 13 anos & 300000000 & 309404152 & 7.1 &      0 & 2 & Johnny Depp  & Orlando Bloom    & Jack Davenport      \\\\\n",
       "\t The Dark Knight Rises                     & 2012 & Christopher Nolan & 164 & Color & Action\\textbar{}Thriller                                           & USA & A partir de 13 anos & 250000000 & 448130642 & 8.5 & 164000 & 3 & Tom Hardy    & Christian Bale   & Joseph Gordon-Levitt\\\\\n",
       "\t John Carter                               & 2012 & Andrew Stanton    & 132 & Color & Action\\textbar{}Adventure\\textbar{}Sci-Fi                                   & USA & A partir de 13 anos & 263700000 &  73058679 & 6.6 &  24000 & 4 & Daryl Sabara & Samantha Morton  & Polly Walker        \\\\\n",
       "\t Spider-Man 3                              & 2007 & Sam Raimi         & 156 & Color & Action\\textbar{}Adventure\\textbar{}Romance                                  & USA & A partir de 13 anos & 258000000 & 336530303 & 6.2 &      0 & 5 & J.K. Simmons & James Franco     & Kirsten Dunst       \\\\\n",
       "\t Tangled                                   & 2010 & Nathan Greno      & 100 & Color & Adventure\\textbar{}Animation\\textbar{}Comedy\\textbar{}Family\\textbar{}Fantasy\\textbar{}Musical\\textbar{}Romance & USA & Livre               & 260000000 & 200807262 & 7.8 &  29000 & 6 & Brad Garrett & Donna Murphy     & M.C. Gainey         \\\\\n",
       "\\end{tabular}\n"
      ],
      "text/markdown": [
       "\n",
       "A tibble: 6 × 16\n",
       "\n",
       "| titulo &lt;chr&gt; | ano &lt;int&gt; | diretor &lt;chr&gt; | duracao &lt;int&gt; | cor &lt;chr&gt; | generos &lt;chr&gt; | pais &lt;chr&gt; | classificacao &lt;chr&gt; | orcamento &lt;int&gt; | receita &lt;int&gt; | nota_imdb &lt;dbl&gt; | likes_facebook &lt;int&gt; | id &lt;int&gt; | ator_1 &lt;chr&gt; | ator_2 &lt;chr&gt; | ator_3 &lt;chr&gt; |\n",
       "|---|---|---|---|---|---|---|---|---|---|---|---|---|---|---|---|\n",
       "| Avatar                                    | 2009 | James Cameron     | 178 | Color | Action|Adventure|Fantasy|Sci-Fi                           | USA | A partir de 13 anos | 237000000 | 760505847 | 7.9 |  33000 | 1 | CCH Pounder  | Joel David Moore | Wes Studi            |\n",
       "| Pirates of the Caribbean: At World's End  | 2007 | Gore Verbinski    | 169 | Color | Action|Adventure|Fantasy                                  | USA | A partir de 13 anos | 300000000 | 309404152 | 7.1 |      0 | 2 | Johnny Depp  | Orlando Bloom    | Jack Davenport       |\n",
       "| The Dark Knight Rises                     | 2012 | Christopher Nolan | 164 | Color | Action|Thriller                                           | USA | A partir de 13 anos | 250000000 | 448130642 | 8.5 | 164000 | 3 | Tom Hardy    | Christian Bale   | Joseph Gordon-Levitt |\n",
       "| John Carter                               | 2012 | Andrew Stanton    | 132 | Color | Action|Adventure|Sci-Fi                                   | USA | A partir de 13 anos | 263700000 |  73058679 | 6.6 |  24000 | 4 | Daryl Sabara | Samantha Morton  | Polly Walker         |\n",
       "| Spider-Man 3                              | 2007 | Sam Raimi         | 156 | Color | Action|Adventure|Romance                                  | USA | A partir de 13 anos | 258000000 | 336530303 | 6.2 |      0 | 5 | J.K. Simmons | James Franco     | Kirsten Dunst        |\n",
       "| Tangled                                   | 2010 | Nathan Greno      | 100 | Color | Adventure|Animation|Comedy|Family|Fantasy|Musical|Romance | USA | Livre               | 260000000 | 200807262 | 7.8 |  29000 | 6 | Brad Garrett | Donna Murphy     | M.C. Gainey          |\n",
       "\n"
      ],
      "text/plain": [
       "  titulo                                    ano  diretor           duracao\n",
       "1 Avatar                                    2009 James Cameron     178    \n",
       "2 Pirates of the Caribbean: At World's End  2007 Gore Verbinski    169    \n",
       "3 The Dark Knight Rises                     2012 Christopher Nolan 164    \n",
       "4 John Carter                               2012 Andrew Stanton    132    \n",
       "5 Spider-Man 3                              2007 Sam Raimi         156    \n",
       "6 Tangled                                   2010 Nathan Greno      100    \n",
       "  cor   generos                                                   pais\n",
       "1 Color Action|Adventure|Fantasy|Sci-Fi                           USA \n",
       "2 Color Action|Adventure|Fantasy                                  USA \n",
       "3 Color Action|Thriller                                           USA \n",
       "4 Color Action|Adventure|Sci-Fi                                   USA \n",
       "5 Color Action|Adventure|Romance                                  USA \n",
       "6 Color Adventure|Animation|Comedy|Family|Fantasy|Musical|Romance USA \n",
       "  classificacao       orcamento receita   nota_imdb likes_facebook id\n",
       "1 A partir de 13 anos 237000000 760505847 7.9        33000         1 \n",
       "2 A partir de 13 anos 300000000 309404152 7.1            0         2 \n",
       "3 A partir de 13 anos 250000000 448130642 8.5       164000         3 \n",
       "4 A partir de 13 anos 263700000  73058679 6.6        24000         4 \n",
       "5 A partir de 13 anos 258000000 336530303 6.2            0         5 \n",
       "6 Livre               260000000 200807262 7.8        29000         6 \n",
       "  ator_1       ator_2           ator_3              \n",
       "1 CCH Pounder  Joel David Moore Wes Studi           \n",
       "2 Johnny Depp  Orlando Bloom    Jack Davenport      \n",
       "3 Tom Hardy    Christian Bale   Joseph Gordon-Levitt\n",
       "4 Daryl Sabara Samantha Morton  Polly Walker        \n",
       "5 J.K. Simmons James Franco     Kirsten Dunst       \n",
       "6 Brad Garrett Donna Murphy     M.C. Gainey         "
      ]
     },
     "metadata": {},
     "output_type": "display_data"
    }
   ],
   "source": [
    "head(imdb_spread)"
   ]
  },
  {
   "cell_type": "markdown",
   "metadata": {
    "slideshow": {
     "slide_type": "subslide"
    }
   },
   "source": [
    "### OUTRAS FUNÇÕES DO TIDYR\n",
    "\n",
    "A função unite() junta duas ou mais colunas usando algum separador (_, por exemplo).\n",
    "\n",
    "A função separate() faz o inverso de unite(): transforma uma coluna em várias usando um separador."
   ]
  },
  {
   "cell_type": "code",
   "execution_count": 109,
   "metadata": {
    "slideshow": {
     "slide_type": "subslide"
    }
   },
   "outputs": [
    {
     "data": {
      "text/html": [
       "<table>\n",
       "<caption>A tibble: 6 × 14</caption>\n",
       "<thead>\n",
       "\t<tr><th scope=col>titulo_diretor</th><th scope=col>ano</th><th scope=col>duracao</th><th scope=col>cor</th><th scope=col>generos</th><th scope=col>pais</th><th scope=col>classificacao</th><th scope=col>orcamento</th><th scope=col>receita</th><th scope=col>nota_imdb</th><th scope=col>likes_facebook</th><th scope=col>ator_1</th><th scope=col>ator_2</th><th scope=col>ator_3</th></tr>\n",
       "\t<tr><th scope=col>&lt;chr&gt;</th><th scope=col>&lt;int&gt;</th><th scope=col>&lt;int&gt;</th><th scope=col>&lt;chr&gt;</th><th scope=col>&lt;chr&gt;</th><th scope=col>&lt;chr&gt;</th><th scope=col>&lt;chr&gt;</th><th scope=col>&lt;int&gt;</th><th scope=col>&lt;int&gt;</th><th scope=col>&lt;dbl&gt;</th><th scope=col>&lt;int&gt;</th><th scope=col>&lt;chr&gt;</th><th scope=col>&lt;chr&gt;</th><th scope=col>&lt;chr&gt;</th></tr>\n",
       "</thead>\n",
       "<tbody>\n",
       "\t<tr><td>Avatar  - James Cameron                                   </td><td>2009</td><td>178</td><td>Color</td><td>Action|Adventure|Fantasy|Sci-Fi                          </td><td>USA</td><td>A partir de 13 anos</td><td>237000000</td><td>760505847</td><td>7.9</td><td> 33000</td><td>CCH Pounder </td><td>Joel David Moore</td><td>Wes Studi           </td></tr>\n",
       "\t<tr><td>Pirates of the Caribbean: At World's End  - Gore Verbinski</td><td>2007</td><td>169</td><td>Color</td><td>Action|Adventure|Fantasy                                 </td><td>USA</td><td>A partir de 13 anos</td><td>300000000</td><td>309404152</td><td>7.1</td><td>     0</td><td>Johnny Depp </td><td>Orlando Bloom   </td><td>Jack Davenport      </td></tr>\n",
       "\t<tr><td>The Dark Knight Rises  - Christopher Nolan                </td><td>2012</td><td>164</td><td>Color</td><td>Action|Thriller                                          </td><td>USA</td><td>A partir de 13 anos</td><td>250000000</td><td>448130642</td><td>8.5</td><td>164000</td><td>Tom Hardy   </td><td>Christian Bale  </td><td>Joseph Gordon-Levitt</td></tr>\n",
       "\t<tr><td>John Carter  - Andrew Stanton                             </td><td>2012</td><td>132</td><td>Color</td><td>Action|Adventure|Sci-Fi                                  </td><td>USA</td><td>A partir de 13 anos</td><td>263700000</td><td> 73058679</td><td>6.6</td><td> 24000</td><td>Daryl Sabara</td><td>Samantha Morton </td><td>Polly Walker        </td></tr>\n",
       "\t<tr><td>Spider-Man 3  - Sam Raimi                                 </td><td>2007</td><td>156</td><td>Color</td><td>Action|Adventure|Romance                                 </td><td>USA</td><td>A partir de 13 anos</td><td>258000000</td><td>336530303</td><td>6.2</td><td>     0</td><td>J.K. Simmons</td><td>James Franco    </td><td>Kirsten Dunst       </td></tr>\n",
       "\t<tr><td>Tangled  - Nathan Greno                                   </td><td>2010</td><td>100</td><td>Color</td><td>Adventure|Animation|Comedy|Family|Fantasy|Musical|Romance</td><td>USA</td><td>Livre              </td><td>260000000</td><td>200807262</td><td>7.8</td><td> 29000</td><td>Brad Garrett</td><td>Donna Murphy    </td><td>M.C. Gainey         </td></tr>\n",
       "</tbody>\n",
       "</table>\n"
      ],
      "text/latex": [
       "A tibble: 6 × 14\n",
       "\\begin{tabular}{llllllllllllll}\n",
       " titulo\\_diretor & ano & duracao & cor & generos & pais & classificacao & orcamento & receita & nota\\_imdb & likes\\_facebook & ator\\_1 & ator\\_2 & ator\\_3\\\\\n",
       " <chr> & <int> & <int> & <chr> & <chr> & <chr> & <chr> & <int> & <int> & <dbl> & <int> & <chr> & <chr> & <chr>\\\\\n",
       "\\hline\n",
       "\t Avatar  - James Cameron                                    & 2009 & 178 & Color & Action\\textbar{}Adventure\\textbar{}Fantasy\\textbar{}Sci-Fi                           & USA & A partir de 13 anos & 237000000 & 760505847 & 7.9 &  33000 & CCH Pounder  & Joel David Moore & Wes Studi           \\\\\n",
       "\t Pirates of the Caribbean: At World's End  - Gore Verbinski & 2007 & 169 & Color & Action\\textbar{}Adventure\\textbar{}Fantasy                                  & USA & A partir de 13 anos & 300000000 & 309404152 & 7.1 &      0 & Johnny Depp  & Orlando Bloom    & Jack Davenport      \\\\\n",
       "\t The Dark Knight Rises  - Christopher Nolan                 & 2012 & 164 & Color & Action\\textbar{}Thriller                                           & USA & A partir de 13 anos & 250000000 & 448130642 & 8.5 & 164000 & Tom Hardy    & Christian Bale   & Joseph Gordon-Levitt\\\\\n",
       "\t John Carter  - Andrew Stanton                              & 2012 & 132 & Color & Action\\textbar{}Adventure\\textbar{}Sci-Fi                                   & USA & A partir de 13 anos & 263700000 &  73058679 & 6.6 &  24000 & Daryl Sabara & Samantha Morton  & Polly Walker        \\\\\n",
       "\t Spider-Man 3  - Sam Raimi                                  & 2007 & 156 & Color & Action\\textbar{}Adventure\\textbar{}Romance                                  & USA & A partir de 13 anos & 258000000 & 336530303 & 6.2 &      0 & J.K. Simmons & James Franco     & Kirsten Dunst       \\\\\n",
       "\t Tangled  - Nathan Greno                                    & 2010 & 100 & Color & Adventure\\textbar{}Animation\\textbar{}Comedy\\textbar{}Family\\textbar{}Fantasy\\textbar{}Musical\\textbar{}Romance & USA & Livre               & 260000000 & 200807262 & 7.8 &  29000 & Brad Garrett & Donna Murphy     & M.C. Gainey         \\\\\n",
       "\\end{tabular}\n"
      ],
      "text/markdown": [
       "\n",
       "A tibble: 6 × 14\n",
       "\n",
       "| titulo_diretor &lt;chr&gt; | ano &lt;int&gt; | duracao &lt;int&gt; | cor &lt;chr&gt; | generos &lt;chr&gt; | pais &lt;chr&gt; | classificacao &lt;chr&gt; | orcamento &lt;int&gt; | receita &lt;int&gt; | nota_imdb &lt;dbl&gt; | likes_facebook &lt;int&gt; | ator_1 &lt;chr&gt; | ator_2 &lt;chr&gt; | ator_3 &lt;chr&gt; |\n",
       "|---|---|---|---|---|---|---|---|---|---|---|---|---|---|\n",
       "| Avatar  - James Cameron                                    | 2009 | 178 | Color | Action|Adventure|Fantasy|Sci-Fi                           | USA | A partir de 13 anos | 237000000 | 760505847 | 7.9 |  33000 | CCH Pounder  | Joel David Moore | Wes Studi            |\n",
       "| Pirates of the Caribbean: At World's End  - Gore Verbinski | 2007 | 169 | Color | Action|Adventure|Fantasy                                  | USA | A partir de 13 anos | 300000000 | 309404152 | 7.1 |      0 | Johnny Depp  | Orlando Bloom    | Jack Davenport       |\n",
       "| The Dark Knight Rises  - Christopher Nolan                 | 2012 | 164 | Color | Action|Thriller                                           | USA | A partir de 13 anos | 250000000 | 448130642 | 8.5 | 164000 | Tom Hardy    | Christian Bale   | Joseph Gordon-Levitt |\n",
       "| John Carter  - Andrew Stanton                              | 2012 | 132 | Color | Action|Adventure|Sci-Fi                                   | USA | A partir de 13 anos | 263700000 |  73058679 | 6.6 |  24000 | Daryl Sabara | Samantha Morton  | Polly Walker         |\n",
       "| Spider-Man 3  - Sam Raimi                                  | 2007 | 156 | Color | Action|Adventure|Romance                                  | USA | A partir de 13 anos | 258000000 | 336530303 | 6.2 |      0 | J.K. Simmons | James Franco     | Kirsten Dunst        |\n",
       "| Tangled  - Nathan Greno                                    | 2010 | 100 | Color | Adventure|Animation|Comedy|Family|Fantasy|Musical|Romance | USA | Livre               | 260000000 | 200807262 | 7.8 |  29000 | Brad Garrett | Donna Murphy     | M.C. Gainey          |\n",
       "\n"
      ],
      "text/plain": [
       "  titulo_diretor                                             ano  duracao cor  \n",
       "1 Avatar  - James Cameron                                    2009 178     Color\n",
       "2 Pirates of the Caribbean: At World's End  - Gore Verbinski 2007 169     Color\n",
       "3 The Dark Knight Rises  - Christopher Nolan                 2012 164     Color\n",
       "4 John Carter  - Andrew Stanton                              2012 132     Color\n",
       "5 Spider-Man 3  - Sam Raimi                                  2007 156     Color\n",
       "6 Tangled  - Nathan Greno                                    2010 100     Color\n",
       "  generos                                                   pais\n",
       "1 Action|Adventure|Fantasy|Sci-Fi                           USA \n",
       "2 Action|Adventure|Fantasy                                  USA \n",
       "3 Action|Thriller                                           USA \n",
       "4 Action|Adventure|Sci-Fi                                   USA \n",
       "5 Action|Adventure|Romance                                  USA \n",
       "6 Adventure|Animation|Comedy|Family|Fantasy|Musical|Romance USA \n",
       "  classificacao       orcamento receita   nota_imdb likes_facebook ator_1      \n",
       "1 A partir de 13 anos 237000000 760505847 7.9        33000         CCH Pounder \n",
       "2 A partir de 13 anos 300000000 309404152 7.1            0         Johnny Depp \n",
       "3 A partir de 13 anos 250000000 448130642 8.5       164000         Tom Hardy   \n",
       "4 A partir de 13 anos 263700000  73058679 6.6        24000         Daryl Sabara\n",
       "5 A partir de 13 anos 258000000 336530303 6.2            0         J.K. Simmons\n",
       "6 Livre               260000000 200807262 7.8        29000         Brad Garrett\n",
       "  ator_2           ator_3              \n",
       "1 Joel David Moore Wes Studi           \n",
       "2 Orlando Bloom    Jack Davenport      \n",
       "3 Christian Bale   Joseph Gordon-Levitt\n",
       "4 Samantha Morton  Polly Walker        \n",
       "5 James Franco     Kirsten Dunst       \n",
       "6 Donna Murphy     M.C. Gainey         "
      ]
     },
     "metadata": {},
     "output_type": "display_data"
    }
   ],
   "source": [
    "imdb %>% \n",
    "  unite(\n",
    "    col = \"titulo_diretor\",\n",
    "    titulo, diretor,\n",
    "    sep = \" - \"\n",
    "  ) %>%\n",
    "  head()"
   ]
  },
  {
   "cell_type": "code",
   "execution_count": 110,
   "metadata": {
    "slideshow": {
     "slide_type": "subslide"
    }
   },
   "outputs": [
    {
     "name": "stderr",
     "output_type": "stream",
     "text": [
      "Warning message:\n",
      "\"Expected 3 pieces. Missing pieces filled with `NA` in 1537 rows [3, 19, 21, 42, 84, 88, 92, 102, 106, 111, 113, 129, 138, 147, 178, 183, 186, 219, 222, 233, ...].\"\n"
     ]
    },
    {
     "data": {
      "text/html": [
       "<table>\n",
       "<caption>A tibble: 6 × 17</caption>\n",
       "<thead>\n",
       "\t<tr><th scope=col>titulo</th><th scope=col>ano</th><th scope=col>diretor</th><th scope=col>duracao</th><th scope=col>cor</th><th scope=col>genero_1</th><th scope=col>genero_2</th><th scope=col>genero_3</th><th scope=col>pais</th><th scope=col>classificacao</th><th scope=col>orcamento</th><th scope=col>receita</th><th scope=col>nota_imdb</th><th scope=col>likes_facebook</th><th scope=col>ator_1</th><th scope=col>ator_2</th><th scope=col>ator_3</th></tr>\n",
       "\t<tr><th scope=col>&lt;chr&gt;</th><th scope=col>&lt;int&gt;</th><th scope=col>&lt;chr&gt;</th><th scope=col>&lt;int&gt;</th><th scope=col>&lt;chr&gt;</th><th scope=col>&lt;chr&gt;</th><th scope=col>&lt;chr&gt;</th><th scope=col>&lt;chr&gt;</th><th scope=col>&lt;chr&gt;</th><th scope=col>&lt;chr&gt;</th><th scope=col>&lt;int&gt;</th><th scope=col>&lt;int&gt;</th><th scope=col>&lt;dbl&gt;</th><th scope=col>&lt;int&gt;</th><th scope=col>&lt;chr&gt;</th><th scope=col>&lt;chr&gt;</th><th scope=col>&lt;chr&gt;</th></tr>\n",
       "</thead>\n",
       "<tbody>\n",
       "\t<tr><td>Avatar                                   </td><td>2009</td><td>James Cameron    </td><td>178</td><td>Color</td><td>Action   </td><td>Adventure</td><td>Fantasy</td><td>USA</td><td>A partir de 13 anos</td><td>237000000</td><td>760505847</td><td>7.9</td><td> 33000</td><td>CCH Pounder </td><td>Joel David Moore</td><td>Wes Studi           </td></tr>\n",
       "\t<tr><td>Pirates of the Caribbean: At World's End </td><td>2007</td><td>Gore Verbinski   </td><td>169</td><td>Color</td><td>Action   </td><td>Adventure</td><td>Fantasy</td><td>USA</td><td>A partir de 13 anos</td><td>300000000</td><td>309404152</td><td>7.1</td><td>     0</td><td>Johnny Depp </td><td>Orlando Bloom   </td><td>Jack Davenport      </td></tr>\n",
       "\t<tr><td>The Dark Knight Rises                    </td><td>2012</td><td>Christopher Nolan</td><td>164</td><td>Color</td><td>Action   </td><td>Thriller </td><td>NA     </td><td>USA</td><td>A partir de 13 anos</td><td>250000000</td><td>448130642</td><td>8.5</td><td>164000</td><td>Tom Hardy   </td><td>Christian Bale  </td><td>Joseph Gordon-Levitt</td></tr>\n",
       "\t<tr><td>John Carter                              </td><td>2012</td><td>Andrew Stanton   </td><td>132</td><td>Color</td><td>Action   </td><td>Adventure</td><td>Sci-Fi </td><td>USA</td><td>A partir de 13 anos</td><td>263700000</td><td> 73058679</td><td>6.6</td><td> 24000</td><td>Daryl Sabara</td><td>Samantha Morton </td><td>Polly Walker        </td></tr>\n",
       "\t<tr><td>Spider-Man 3                             </td><td>2007</td><td>Sam Raimi        </td><td>156</td><td>Color</td><td>Action   </td><td>Adventure</td><td>Romance</td><td>USA</td><td>A partir de 13 anos</td><td>258000000</td><td>336530303</td><td>6.2</td><td>     0</td><td>J.K. Simmons</td><td>James Franco    </td><td>Kirsten Dunst       </td></tr>\n",
       "\t<tr><td>Tangled                                  </td><td>2010</td><td>Nathan Greno     </td><td>100</td><td>Color</td><td>Adventure</td><td>Animation</td><td>Comedy </td><td>USA</td><td>Livre              </td><td>260000000</td><td>200807262</td><td>7.8</td><td> 29000</td><td>Brad Garrett</td><td>Donna Murphy    </td><td>M.C. Gainey         </td></tr>\n",
       "</tbody>\n",
       "</table>\n"
      ],
      "text/latex": [
       "A tibble: 6 × 17\n",
       "\\begin{tabular}{lllllllllllllllll}\n",
       " titulo & ano & diretor & duracao & cor & genero\\_1 & genero\\_2 & genero\\_3 & pais & classificacao & orcamento & receita & nota\\_imdb & likes\\_facebook & ator\\_1 & ator\\_2 & ator\\_3\\\\\n",
       " <chr> & <int> & <chr> & <int> & <chr> & <chr> & <chr> & <chr> & <chr> & <chr> & <int> & <int> & <dbl> & <int> & <chr> & <chr> & <chr>\\\\\n",
       "\\hline\n",
       "\t Avatar                                    & 2009 & James Cameron     & 178 & Color & Action    & Adventure & Fantasy & USA & A partir de 13 anos & 237000000 & 760505847 & 7.9 &  33000 & CCH Pounder  & Joel David Moore & Wes Studi           \\\\\n",
       "\t Pirates of the Caribbean: At World's End  & 2007 & Gore Verbinski    & 169 & Color & Action    & Adventure & Fantasy & USA & A partir de 13 anos & 300000000 & 309404152 & 7.1 &      0 & Johnny Depp  & Orlando Bloom    & Jack Davenport      \\\\\n",
       "\t The Dark Knight Rises                     & 2012 & Christopher Nolan & 164 & Color & Action    & Thriller  & NA      & USA & A partir de 13 anos & 250000000 & 448130642 & 8.5 & 164000 & Tom Hardy    & Christian Bale   & Joseph Gordon-Levitt\\\\\n",
       "\t John Carter                               & 2012 & Andrew Stanton    & 132 & Color & Action    & Adventure & Sci-Fi  & USA & A partir de 13 anos & 263700000 &  73058679 & 6.6 &  24000 & Daryl Sabara & Samantha Morton  & Polly Walker        \\\\\n",
       "\t Spider-Man 3                              & 2007 & Sam Raimi         & 156 & Color & Action    & Adventure & Romance & USA & A partir de 13 anos & 258000000 & 336530303 & 6.2 &      0 & J.K. Simmons & James Franco     & Kirsten Dunst       \\\\\n",
       "\t Tangled                                   & 2010 & Nathan Greno      & 100 & Color & Adventure & Animation & Comedy  & USA & Livre               & 260000000 & 200807262 & 7.8 &  29000 & Brad Garrett & Donna Murphy     & M.C. Gainey         \\\\\n",
       "\\end{tabular}\n"
      ],
      "text/markdown": [
       "\n",
       "A tibble: 6 × 17\n",
       "\n",
       "| titulo &lt;chr&gt; | ano &lt;int&gt; | diretor &lt;chr&gt; | duracao &lt;int&gt; | cor &lt;chr&gt; | genero_1 &lt;chr&gt; | genero_2 &lt;chr&gt; | genero_3 &lt;chr&gt; | pais &lt;chr&gt; | classificacao &lt;chr&gt; | orcamento &lt;int&gt; | receita &lt;int&gt; | nota_imdb &lt;dbl&gt; | likes_facebook &lt;int&gt; | ator_1 &lt;chr&gt; | ator_2 &lt;chr&gt; | ator_3 &lt;chr&gt; |\n",
       "|---|---|---|---|---|---|---|---|---|---|---|---|---|---|---|---|---|\n",
       "| Avatar                                    | 2009 | James Cameron     | 178 | Color | Action    | Adventure | Fantasy | USA | A partir de 13 anos | 237000000 | 760505847 | 7.9 |  33000 | CCH Pounder  | Joel David Moore | Wes Studi            |\n",
       "| Pirates of the Caribbean: At World's End  | 2007 | Gore Verbinski    | 169 | Color | Action    | Adventure | Fantasy | USA | A partir de 13 anos | 300000000 | 309404152 | 7.1 |      0 | Johnny Depp  | Orlando Bloom    | Jack Davenport       |\n",
       "| The Dark Knight Rises                     | 2012 | Christopher Nolan | 164 | Color | Action    | Thriller  | NA      | USA | A partir de 13 anos | 250000000 | 448130642 | 8.5 | 164000 | Tom Hardy    | Christian Bale   | Joseph Gordon-Levitt |\n",
       "| John Carter                               | 2012 | Andrew Stanton    | 132 | Color | Action    | Adventure | Sci-Fi  | USA | A partir de 13 anos | 263700000 |  73058679 | 6.6 |  24000 | Daryl Sabara | Samantha Morton  | Polly Walker         |\n",
       "| Spider-Man 3                              | 2007 | Sam Raimi         | 156 | Color | Action    | Adventure | Romance | USA | A partir de 13 anos | 258000000 | 336530303 | 6.2 |      0 | J.K. Simmons | James Franco     | Kirsten Dunst        |\n",
       "| Tangled                                   | 2010 | Nathan Greno      | 100 | Color | Adventure | Animation | Comedy  | USA | Livre               | 260000000 | 200807262 | 7.8 |  29000 | Brad Garrett | Donna Murphy     | M.C. Gainey          |\n",
       "\n"
      ],
      "text/plain": [
       "  titulo                                    ano  diretor           duracao\n",
       "1 Avatar                                    2009 James Cameron     178    \n",
       "2 Pirates of the Caribbean: At World's End  2007 Gore Verbinski    169    \n",
       "3 The Dark Knight Rises                     2012 Christopher Nolan 164    \n",
       "4 John Carter                               2012 Andrew Stanton    132    \n",
       "5 Spider-Man 3                              2007 Sam Raimi         156    \n",
       "6 Tangled                                   2010 Nathan Greno      100    \n",
       "  cor   genero_1  genero_2  genero_3 pais classificacao       orcamento\n",
       "1 Color Action    Adventure Fantasy  USA  A partir de 13 anos 237000000\n",
       "2 Color Action    Adventure Fantasy  USA  A partir de 13 anos 300000000\n",
       "3 Color Action    Thriller  NA       USA  A partir de 13 anos 250000000\n",
       "4 Color Action    Adventure Sci-Fi   USA  A partir de 13 anos 263700000\n",
       "5 Color Action    Adventure Romance  USA  A partir de 13 anos 258000000\n",
       "6 Color Adventure Animation Comedy   USA  Livre               260000000\n",
       "  receita   nota_imdb likes_facebook ator_1       ator_2          \n",
       "1 760505847 7.9        33000         CCH Pounder  Joel David Moore\n",
       "2 309404152 7.1            0         Johnny Depp  Orlando Bloom   \n",
       "3 448130642 8.5       164000         Tom Hardy    Christian Bale  \n",
       "4  73058679 6.6        24000         Daryl Sabara Samantha Morton \n",
       "5 336530303 6.2            0         J.K. Simmons James Franco    \n",
       "6 200807262 7.8        29000         Brad Garrett Donna Murphy    \n",
       "  ator_3              \n",
       "1 Wes Studi           \n",
       "2 Jack Davenport      \n",
       "3 Joseph Gordon-Levitt\n",
       "4 Polly Walker        \n",
       "5 Kirsten Dunst       \n",
       "6 M.C. Gainey         "
      ]
     },
     "metadata": {},
     "output_type": "display_data"
    }
   ],
   "source": [
    "imdb %>% \n",
    "  separate(\n",
    "    col = generos, \n",
    "    into = c(\"genero_1\", \"genero_2\", \"genero_3\"), \n",
    "    sep = \"\\\\|\", \n",
    "    extra = \"drop\"\n",
    "  ) %>%\n",
    "  head()"
   ]
  },
  {
   "cell_type": "markdown",
   "metadata": {
    "slideshow": {
     "slide_type": "slide"
    }
   },
   "source": [
    "Faça a atividade desta aula neste [link](https://forms.gle/6tvkDosSgoPayCjL6)\n",
    "\n",
    "https://forms.gle/6tvkDosSgoPayCjL6"
   ]
  }
 ],
 "metadata": {
  "celltoolbar": "Slideshow",
  "kernelspec": {
   "display_name": "R",
   "language": "R",
   "name": "ir"
  },
  "language_info": {
   "codemirror_mode": "r",
   "file_extension": ".r",
   "mimetype": "text/x-r-source",
   "name": "R",
   "pygments_lexer": "r",
   "version": "4.0.2"
  }
 },
 "nbformat": 4,
 "nbformat_minor": 4
}
