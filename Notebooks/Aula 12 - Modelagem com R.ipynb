{
 "cells": [
  {
   "cell_type": "markdown",
   "metadata": {
    "slideshow": {
     "slide_type": "slide"
    }
   },
   "source": [
    "# MODELAGEM"
   ]
  },
  {
   "cell_type": "markdown",
   "metadata": {
    "slideshow": {
     "slide_type": "slide"
    }
   },
   "source": [
    "# APRENDIZADO ESTATÍSTICO\n",
    "\n",
    "O termos Aprendizado Estatístico refere-se a uma vasta quantidade de ferramentas que são utilizadas para entender dados. \n",
    "\n",
    "Essas ferramentas são classificadas em **supervisionadas** e **não-supervisionadas**. \n",
    "\n",
    "De forma geral, **aprendizado supervisionado** envolve a construção de um modelo estatístico para prever ou estimar uma resposta de acordo com uma ou mais informações de entrada. \n",
    "\n",
    "No **aprendizado não-supervisionado** existem variáveis de entrada mas não existe uma variável resposta. Neste caso, o objetivo é entender a estrutura e a relação entre as variáveis. \n",
    "\n",
    "Existe uma terceira classificação para as ferramentas de aprendizado estatístico chamada Reinforcement Learning, mas não abordaremos este tema neste curso."
   ]
  },
  {
   "cell_type": "markdown",
   "metadata": {
    "slideshow": {
     "slide_type": "slide"
    }
   },
   "source": [
    "# EXEMPLO 1\n",
    "\n",
    "Um estudo estatístico cujo objetivo é estimar a probabilidade de uma transação ser uma fraude e são fornecidos dados relativos a transações passadas bem como se estas foram uma fraude ou não. \n",
    "É considerado um estudo de **aprendizado supervisionado**."
   ]
  },
  {
   "cell_type": "markdown",
   "metadata": {
    "slideshow": {
     "slide_type": "slide"
    }
   },
   "source": [
    "# EXEMPLO 2\n",
    "\n",
    "Um estudo em que são fornecidas diversas informações sobre os hábitos de compras dos clientes e deseja-se identificar diferentes segmentos, é um estudo de **aprendizado não-supervisionado**."
   ]
  },
  {
   "cell_type": "markdown",
   "metadata": {
    "slideshow": {
     "slide_type": "subslide"
    }
   },
   "source": [
    "Vamos abordar inicialmente algumas técnicas de aprendizado supervisionado. \n",
    "\n",
    "Em seguida abordaremos superficialmente alguns conceitos de aprendizado não-supervisionado. Todos esses conceitos serão apresentados com exemplos práticos usando o R.\n",
    "\n",
    "Um material introdutório interessante pode ser verificado [neste link](http://www.r2d3.us/visual-intro-to-machine-learning-part-1/)"
   ]
  },
  {
   "cell_type": "markdown",
   "metadata": {
    "slideshow": {
     "slide_type": "slide"
    }
   },
   "source": [
    "# APRENDIZADO SUPERVISIONADO\n",
    "\n",
    "Em aprendizado supervisionado é necessário em primeiro lugar definir qual é a sua variável resposta ou variável dependente (Frequentemente chamada de $Y$ ou $y$). \n",
    "\n",
    "Deve-se tomar muito cuidado ao definí-la para que o modelo responda exatamente o que você está querendo saber."
   ]
  },
  {
   "cell_type": "markdown",
   "metadata": {
    "slideshow": {
     "slide_type": "slide"
    }
   },
   "source": [
    "# APRENDIZADO SUPERVISIONADO\n",
    "\n",
    "A variável resposta pode ser a quantidade de compras que um cliente fará no próximo mês, o preço do aluguel de uma casa, uma variável binária indicando se um cliente não pagará a fatura no próximo mês. \n",
    "\n",
    "Existem variáveis resposta que não são preditivas também, por exemplo: dada uma imagem de um número escrito a mão, qual número está escrito nela. Veja um exemplo onlie [aqui](http://myselph.de/neuralNet.html)"
   ]
  },
  {
   "cell_type": "markdown",
   "metadata": {
    "slideshow": {
     "slide_type": "slide"
    }
   },
   "source": [
    "# APRENDIZADO SUPERVISIONADO\n",
    "\n",
    "Em seguida, definimos quais serão as informações que auxiliarão a prever essa variável resposta. Essas variáveis são chamadas de variáveis explicativas, variáveis independentes ou simplesmente $X$.\n",
    "\n",
    "Para a quantidade de compras que um cliente fará no próximo mês essas variáveis podem ser quantidade de compras que o cliente fez neste mês, o gasto que ele teve neste mês, quantas vezes ele frequentou a minha loja no último ano, etc."
   ]
  },
  {
   "cell_type": "markdown",
   "metadata": {
    "slideshow": {
     "slide_type": "slide"
    }
   },
   "source": [
    "# APRENDIZADO SUPERVISIONADO\n",
    "\n",
    "Um vetor da forma $( Y, X_1, X_2, X_3, ..., X_p)$ representa uma observação. \n",
    "\n",
    "Para usar qualquer algoritmo de aprendizado de máquina, você precisará de um número suficiente de observações. \n",
    "\n",
    "O número de observações vai depender da complexidade do algoritmo que você quiser utilizar, da disponibilidade de observações entre outros motivos."
   ]
  },
  {
   "cell_type": "markdown",
   "metadata": {
    "slideshow": {
     "slide_type": "slide"
    }
   },
   "source": [
    "# APRENDIZADO SUPERVISIONADO\n",
    "\n",
    "De uma forma um pouco mais formal, podemos explciar o Aprendizado Supervisionado da seguinte forma. Suponha que você observou uma variável resposta $Y$ e $p$ diferentes variáveis explicativas $( X_1, X_2, X_3, ..., X_p)$. \n",
    "\n",
    "Assumimos que existe alguma relação entre $Y$ e $X = ( X_1, X_2, X_3, ..., X_p)$. \n",
    "\n",
    "Podemos denotar matematicamente esta relação como na seguinte equação:\n",
    "$$\n",
    "Y = f(X) + \\xi\n",
    "\n",
    "O objetivo geral do aprendizado supervisionado é estimar a função $f$. Nessa formulação, $\\xi$ é um termo de erro aleatório com média 0. Já $f$ representa a informação sistemática que $X$ fornece sobre $Y$."
   ]
  },
  {
   "cell_type": "markdown",
   "metadata": {
    "slideshow": {
     "slide_type": "slide"
    }
   },
   "source": [
    "# APRENDIZADO SUPERVISIONADO\n",
    "Existem diversas maneiras de estimar essa função. Em alguns casos assumimos uma forma paramétrica para ela, em outros não. Alguns exemplos de algoritmos são:\n",
    "- Regressão Linear\n",
    "- Regressão Logística\n",
    "- Árvore de Decisão\n",
    "- Florestas Aleatórias (Random Forest)\n",
    "- Gradient Boosting\n",
    "- Redes Neurais\n",
    "- Etc.\n",
    "Cada um dos algoritmos possui as suas vantagens e desvantagens, e problemas em que trazem melhores resultados ou não."
   ]
  },
  {
   "cell_type": "markdown",
   "metadata": {
    "slideshow": {
     "slide_type": "slide"
    }
   },
   "source": [
    "# REGRESSÃO LINEAR\n",
    "Na introdução ao aprendizado supervisionado, vimos que o objetivo é sempre estimar uma função $f$  tal que\n",
    "\n",
    "$$\n",
    "y = f(x)+\\xi.\n",
    "$$\n",
    "\n",
    "O modelo linear assume que a função $f$  é uma função linear de modo que a formulação do apredizado supervisionado pode ser reescrita da seguinte forma:\n",
    "\n",
    "$$\n",
    "Y = \\alpha + X\\beta + \\xi\n",
    "Em que $\\alpha$ e $\\beta$ são coeficientes que serão estimados. \n",
    "\n",
    "Esses valores são calculados de forma a minimizar uma função de perda na sua amostra. \n",
    "\n",
    "A função mais utilizada é a perda quadrática na sua amostra. Considere $(y_1,x_1),(y_2,x_2),...,(y_n,x_n)$ para uma amostra de tamanho $n$.\n",
    "$\\alpha$ e $\\beta$ são escolhidos de tal forma que:\n",
    "\n",
    "$$\n",
    "\\sum_{i=1}^{n}= \\left | y_{i}-(\\alpha + \\beta x_{i}) \\right |^{2}\n",
    "$$\n",
    "\n",
    "seja o menor possível. Isto é, estamos minimizando o erro quadrático."
   ]
  },
  {
   "cell_type": "markdown",
   "metadata": {
    "slideshow": {
     "slide_type": "slide"
    }
   },
   "source": [
    "# REGRESSÃO LINEAR\n",
    "\n",
    "Na ótica da estatística, assumimos também que $Y\\sim Normal(\\alpha + \\beta, \\sigma^2)$  escolhemos $\\alpha$ e $\\beta$ de forma que maximize uma função que chamamos de verossimilhança. \n",
    "\n",
    "Essa suposição é útil quando queremos fazer testes de hipóteses e intervalos de confiança. \n",
    "\n",
    "Por enquanto, não estamos interessados nisso e portanto vamos apresentar uma visão menos complexa."
   ]
  },
  {
   "cell_type": "markdown",
   "metadata": {
    "slideshow": {
     "slide_type": "slide"
    }
   },
   "source": [
    "# EXEMPLO\n",
    "Considere o banco de dados BodyFat obtido [neste link](http://lib.stat.cmu.edu/datasets/bodyfat) Esses são dados do percentual de gordura corporal em uma amostra de 252 homens junto com diversas outras medidas corporais. O percentual de gordura corporal é medido pesando a pessoa sob a água, um procedimento trabalhoso. O objetivo é fazer um modelo linear que permita obter o percentual de gordura usando medidas do corpo fáceis de serem obtidas. Os dados são do site do Journal of Statistics Education."
   ]
  },
  {
   "cell_type": "code",
   "execution_count": 80,
   "metadata": {
    "slideshow": {
     "slide_type": "subslide"
    }
   },
   "outputs": [],
   "source": [
    "library(readxl)\n",
    "library(dplyr)\n",
    "library(ggplot2)\n",
    "bodyfat <- read_excel('data/body_fat.xlsx')"
   ]
  },
  {
   "cell_type": "code",
   "execution_count": 81,
   "metadata": {
    "slideshow": {
     "slide_type": "fragment"
    }
   },
   "outputs": [
    {
     "data": {
      "text/html": [
       "<table>\n",
       "<caption>A tibble: 6 × 16</caption>\n",
       "<thead>\n",
       "\t<tr><th scope=col>Individuo</th><th scope=col>Densidade</th><th scope=col>Body_Fat</th><th scope=col>Idade</th><th scope=col>Peso</th><th scope=col>Altura</th><th scope=col>Pescoço</th><th scope=col>Torax</th><th scope=col>Abdomen</th><th scope=col>Quadril</th><th scope=col>Coxa</th><th scope=col>Joelho</th><th scope=col>Tornozelo</th><th scope=col>Biceps</th><th scope=col>Antebraço</th><th scope=col>Pulso</th></tr>\n",
       "\t<tr><th scope=col>&lt;dbl&gt;</th><th scope=col>&lt;dbl&gt;</th><th scope=col>&lt;dbl&gt;</th><th scope=col>&lt;dbl&gt;</th><th scope=col>&lt;dbl&gt;</th><th scope=col>&lt;dbl&gt;</th><th scope=col>&lt;dbl&gt;</th><th scope=col>&lt;dbl&gt;</th><th scope=col>&lt;dbl&gt;</th><th scope=col>&lt;dbl&gt;</th><th scope=col>&lt;dbl&gt;</th><th scope=col>&lt;dbl&gt;</th><th scope=col>&lt;dbl&gt;</th><th scope=col>&lt;dbl&gt;</th><th scope=col>&lt;dbl&gt;</th><th scope=col>&lt;dbl&gt;</th></tr>\n",
       "</thead>\n",
       "<tbody>\n",
       "\t<tr><td>1</td><td>1.0708</td><td>12.3</td><td>23</td><td>154.25</td><td>67.75</td><td>36.2</td><td> 93.1</td><td> 85.2</td><td> 94.5</td><td>59.0</td><td>37.3</td><td>21.9</td><td>32.0</td><td>27.4</td><td>17.1</td></tr>\n",
       "\t<tr><td>2</td><td>1.0853</td><td> 6.1</td><td>22</td><td>173.25</td><td>72.25</td><td>38.5</td><td> 93.6</td><td> 83.0</td><td> 98.7</td><td>58.7</td><td>37.3</td><td>23.4</td><td>30.5</td><td>28.9</td><td>18.2</td></tr>\n",
       "\t<tr><td>3</td><td>1.0414</td><td>25.3</td><td>22</td><td>154.00</td><td>66.25</td><td>34.0</td><td> 95.8</td><td> 87.9</td><td> 99.2</td><td>59.6</td><td>38.9</td><td>24.0</td><td>28.8</td><td>25.2</td><td>16.6</td></tr>\n",
       "\t<tr><td>4</td><td>1.0751</td><td>10.4</td><td>26</td><td>184.75</td><td>72.25</td><td>37.4</td><td>101.8</td><td> 86.4</td><td>101.2</td><td>60.1</td><td>37.3</td><td>22.8</td><td>32.4</td><td>29.4</td><td>18.2</td></tr>\n",
       "\t<tr><td>5</td><td>1.0340</td><td>28.7</td><td>24</td><td>184.25</td><td>71.25</td><td>34.4</td><td> 97.3</td><td>100.0</td><td>101.9</td><td>63.2</td><td>42.2</td><td>24.0</td><td>32.2</td><td>27.7</td><td>17.7</td></tr>\n",
       "\t<tr><td>6</td><td>1.0512</td><td>20.9</td><td>24</td><td>210.25</td><td>74.75</td><td>39.0</td><td>104.5</td><td> 94.4</td><td>107.8</td><td>66.0</td><td>42.0</td><td>25.6</td><td>35.7</td><td>30.6</td><td>18.8</td></tr>\n",
       "</tbody>\n",
       "</table>\n"
      ],
      "text/latex": [
       "A tibble: 6 × 16\n",
       "\\begin{tabular}{llllllllllllllll}\n",
       " Individuo & Densidade & Body\\_Fat & Idade & Peso & Altura & Pescoço & Torax & Abdomen & Quadril & Coxa & Joelho & Tornozelo & Biceps & Antebraço & Pulso\\\\\n",
       " <dbl> & <dbl> & <dbl> & <dbl> & <dbl> & <dbl> & <dbl> & <dbl> & <dbl> & <dbl> & <dbl> & <dbl> & <dbl> & <dbl> & <dbl> & <dbl>\\\\\n",
       "\\hline\n",
       "\t 1 & 1.0708 & 12.3 & 23 & 154.25 & 67.75 & 36.2 &  93.1 &  85.2 &  94.5 & 59.0 & 37.3 & 21.9 & 32.0 & 27.4 & 17.1\\\\\n",
       "\t 2 & 1.0853 &  6.1 & 22 & 173.25 & 72.25 & 38.5 &  93.6 &  83.0 &  98.7 & 58.7 & 37.3 & 23.4 & 30.5 & 28.9 & 18.2\\\\\n",
       "\t 3 & 1.0414 & 25.3 & 22 & 154.00 & 66.25 & 34.0 &  95.8 &  87.9 &  99.2 & 59.6 & 38.9 & 24.0 & 28.8 & 25.2 & 16.6\\\\\n",
       "\t 4 & 1.0751 & 10.4 & 26 & 184.75 & 72.25 & 37.4 & 101.8 &  86.4 & 101.2 & 60.1 & 37.3 & 22.8 & 32.4 & 29.4 & 18.2\\\\\n",
       "\t 5 & 1.0340 & 28.7 & 24 & 184.25 & 71.25 & 34.4 &  97.3 & 100.0 & 101.9 & 63.2 & 42.2 & 24.0 & 32.2 & 27.7 & 17.7\\\\\n",
       "\t 6 & 1.0512 & 20.9 & 24 & 210.25 & 74.75 & 39.0 & 104.5 &  94.4 & 107.8 & 66.0 & 42.0 & 25.6 & 35.7 & 30.6 & 18.8\\\\\n",
       "\\end{tabular}\n"
      ],
      "text/markdown": [
       "\n",
       "A tibble: 6 × 16\n",
       "\n",
       "| Individuo &lt;dbl&gt; | Densidade &lt;dbl&gt; | Body_Fat &lt;dbl&gt; | Idade &lt;dbl&gt; | Peso &lt;dbl&gt; | Altura &lt;dbl&gt; | Pescoço &lt;dbl&gt; | Torax &lt;dbl&gt; | Abdomen &lt;dbl&gt; | Quadril &lt;dbl&gt; | Coxa &lt;dbl&gt; | Joelho &lt;dbl&gt; | Tornozelo &lt;dbl&gt; | Biceps &lt;dbl&gt; | Antebraço &lt;dbl&gt; | Pulso &lt;dbl&gt; |\n",
       "|---|---|---|---|---|---|---|---|---|---|---|---|---|---|---|---|\n",
       "| 1 | 1.0708 | 12.3 | 23 | 154.25 | 67.75 | 36.2 |  93.1 |  85.2 |  94.5 | 59.0 | 37.3 | 21.9 | 32.0 | 27.4 | 17.1 |\n",
       "| 2 | 1.0853 |  6.1 | 22 | 173.25 | 72.25 | 38.5 |  93.6 |  83.0 |  98.7 | 58.7 | 37.3 | 23.4 | 30.5 | 28.9 | 18.2 |\n",
       "| 3 | 1.0414 | 25.3 | 22 | 154.00 | 66.25 | 34.0 |  95.8 |  87.9 |  99.2 | 59.6 | 38.9 | 24.0 | 28.8 | 25.2 | 16.6 |\n",
       "| 4 | 1.0751 | 10.4 | 26 | 184.75 | 72.25 | 37.4 | 101.8 |  86.4 | 101.2 | 60.1 | 37.3 | 22.8 | 32.4 | 29.4 | 18.2 |\n",
       "| 5 | 1.0340 | 28.7 | 24 | 184.25 | 71.25 | 34.4 |  97.3 | 100.0 | 101.9 | 63.2 | 42.2 | 24.0 | 32.2 | 27.7 | 17.7 |\n",
       "| 6 | 1.0512 | 20.9 | 24 | 210.25 | 74.75 | 39.0 | 104.5 |  94.4 | 107.8 | 66.0 | 42.0 | 25.6 | 35.7 | 30.6 | 18.8 |\n",
       "\n"
      ],
      "text/plain": [
       "  Individuo Densidade Body_Fat Idade Peso   Altura Pescoço Torax Abdomen\n",
       "1 1         1.0708    12.3     23    154.25 67.75  36.2     93.1  85.2  \n",
       "2 2         1.0853     6.1     22    173.25 72.25  38.5     93.6  83.0  \n",
       "3 3         1.0414    25.3     22    154.00 66.25  34.0     95.8  87.9  \n",
       "4 4         1.0751    10.4     26    184.75 72.25  37.4    101.8  86.4  \n",
       "5 5         1.0340    28.7     24    184.25 71.25  34.4     97.3 100.0  \n",
       "6 6         1.0512    20.9     24    210.25 74.75  39.0    104.5  94.4  \n",
       "  Quadril Coxa Joelho Tornozelo Biceps Antebraço Pulso\n",
       "1  94.5   59.0 37.3   21.9      32.0   27.4      17.1 \n",
       "2  98.7   58.7 37.3   23.4      30.5   28.9      18.2 \n",
       "3  99.2   59.6 38.9   24.0      28.8   25.2      16.6 \n",
       "4 101.2   60.1 37.3   22.8      32.4   29.4      18.2 \n",
       "5 101.9   63.2 42.2   24.0      32.2   27.7      17.7 \n",
       "6 107.8   66.0 42.0   25.6      35.7   30.6      18.8 "
      ]
     },
     "metadata": {},
     "output_type": "display_data"
    }
   ],
   "source": [
    "head(bodyfat)"
   ]
  },
  {
   "cell_type": "markdown",
   "metadata": {
    "slideshow": {
     "slide_type": "slide"
    }
   },
   "source": [
    "# Detalhes das variáveis:\n",
    "- Densidade: determinada pela pesagem subaquática\n",
    "- %Body Fat: Porcentagem de gordura corporal da equação de Siri (1956)\n",
    "- Idade (Anos)\n",
    "- Peso (libras)\n",
    "- Polegadas de altura)\n",
    "- Circunferência do pescoço (cm)\n",
    "- Circunferência torácica (cm)\n",
    "- Circunferência do abdômen 2 (cm)\n",
    "- Circunferência do quadril (cm)\n",
    "- Circunferência da coxa (cm)\n",
    "- Circunferência do joelho (cm)\n",
    "- Circunferência do tornozelo (cm)\n",
    "- Circunferência do bíceps (estendido) (cm)\n",
    "- Circunferência do antebraço (cm)\n",
    "- Circunferência do pulso (cm)"
   ]
  },
  {
   "cell_type": "code",
   "execution_count": 9,
   "metadata": {
    "slideshow": {
     "slide_type": "slide"
    }
   },
   "outputs": [
    {
     "data": {
      "image/png": "[encoded data removed]",
      "text/plain": [
       "plot without title"
      ]
     },
     "metadata": {
      "image/png": {
       "height": 420,
       "width": 420
      }
     },
     "output_type": "display_data"
    }
   ],
   "source": [
    "ggplot(bodyfat, aes(x = Peso, y = Body_Fat)) + geom_point()"
   ]
  },
  {
   "cell_type": "markdown",
   "metadata": {
    "slideshow": {
     "slide_type": "slide"
    }
   },
   "source": [
    "# EXEMPLO REGRESSÃO\n",
    "\n",
    "A partir do gráfico de dispersão, vemos que o peso do indivíduo parece ser linearmente relacionado ao percentual de gordura corporal. \n",
    "\n",
    "Vamos então ajustar um modelo linear usando o R. \n",
    "\n",
    "Para ajustar o modelo, usamos a função lm (de *__l__inear __m__odel*). \n",
    "\n",
    "A função lm, assim como muitas outras que ajustam modelo no R, recebe como argumentos uma formula e um banco de dados."
   ]
  },
  {
   "cell_type": "markdown",
   "metadata": {
    "slideshow": {
     "slide_type": "slide"
    }
   },
   "source": [
    "# EXEMPLO REGRESSÃO\n",
    "\n",
    "`**formula**` é um tipo especial de objeto no R que ajuda muito na especificação dos modelos. Ela tem a forma `y ~ x1 + x2 + ... + xn` em que y é o nome da variável resposta e x1, x2, …, xn são os nomes das variáveis que serão utilizadas como explicativas."
   ]
  },
  {
   "cell_type": "markdown",
   "metadata": {
    "slideshow": {
     "slide_type": "slide"
    }
   },
   "source": [
    "# EXEMPLO REGRESSÃO"
   ]
  },
  {
   "cell_type": "code",
   "execution_count": 82,
   "metadata": {
    "slideshow": {
     "slide_type": "fragment"
    }
   },
   "outputs": [],
   "source": [
    "ajuste <- lm(Body_Fat ~ Peso, data = bodyfat)"
   ]
  },
  {
   "cell_type": "markdown",
   "metadata": {
    "slideshow": {
     "slide_type": "slide"
    }
   },
   "source": [
    "# Visualizando o que acontece no ajuste do modelo\n",
    "\n",
    "<img src=https://miro.medium.com/max/875/1*NoA9oBREXdwkwa-3a-KTTA.gif width=\"500\">"
   ]
  },
  {
   "cell_type": "markdown",
   "metadata": {
    "slideshow": {
     "slide_type": "slide"
    }
   },
   "source": [
    "# EXEMPLO REGRESSÃO\n",
    "\n",
    "Com essa chamada da função criamos o objeto ajuste. Esse objeto abriga informações relacionadas ao ajuste do modelo.\n",
    "$$\n",
    "bodyfat = \\alpha + \\beta \\times Peso + \\xi\n",
    "$$\n",
    "As estimativas de $\\alpha$ e $\\beta$ podem ser encontradas usando a função `summary`. \n",
    "\n",
    "A estimativa de $\\alpha$ é o valor da coluna Estimate na linha (Intercept): -12.12634 e a estimativa de $\\beta$ é o valor logo abaixo: 0.17485."
   ]
  },
  {
   "cell_type": "markdown",
   "metadata": {
    "slideshow": {
     "slide_type": "slide"
    }
   },
   "source": [
    "# Aplicando `_summary_`"
   ]
  },
  {
   "cell_type": "code",
   "execution_count": 83,
   "metadata": {
    "slideshow": {
     "slide_type": "slide"
    }
   },
   "outputs": [
    {
     "data": {
      "text/plain": [
       "\n",
       "Call:\n",
       "lm(formula = Body_Fat ~ Peso, data = bodyfat)\n",
       "\n",
       "Residuals:\n",
       "     Min       1Q   Median       3Q      Max \n",
       "-17.8409  -4.7440   0.0656   4.9099  21.3345 \n",
       "\n",
       "Coefficients:\n",
       "             Estimate Std. Error t value Pr(>|t|)    \n",
       "(Intercept) -12.12634    2.58481  -4.691 4.47e-06 ***\n",
       "Peso          0.17485    0.01426  12.265  < 2e-16 ***\n",
       "---\n",
       "Signif. codes:  0 '***' 0.001 '**' 0.01 '*' 0.05 '.' 0.1 ' ' 1\n",
       "\n",
       "Residual standard error: 6.638 on 250 degrees of freedom\n",
       "Multiple R-squared:  0.3757,\tAdjusted R-squared:  0.3732 \n",
       "F-statistic: 150.4 on 1 and 250 DF,  p-value: < 2.2e-16\n"
      ]
     },
     "metadata": {},
     "output_type": "display_data"
    }
   ],
   "source": [
    "summary(ajuste)"
   ]
  },
  {
   "cell_type": "markdown",
   "metadata": {
    "slideshow": {
     "slide_type": "slide"
    }
   },
   "source": [
    "Em R, o ajuste de um modelo estatístico é salvo em um objeto. Esse objeto é uma list que armazena diversas informações sobre o ajuste. Você pode ver algumas informações disponíveis quando vê a estrutura do objeto ajuste usando a função str."
   ]
  },
  {
   "cell_type": "code",
   "execution_count": 84,
   "metadata": {
    "slideshow": {
     "slide_type": "slide"
    }
   },
   "outputs": [
    {
     "name": "stdout",
     "output_type": "stream",
     "text": [
      "List of 12\n",
      " $ coefficients : Named num [1:2] -12.126 0.175\n",
      "  ..- attr(*, \"names\")= chr [1:2] \"(Intercept)\" \"Peso\"\n",
      " $ residuals    : Named num [1:252] -2.54 -12.07 10.5 -9.78 8.61 ...\n",
      "  ..- attr(*, \"names\")= chr [1:252] \"1\" \"2\" \"3\" \"4\" ...\n",
      " $ effects      : Named num [1:252] -304.13 81.41 11.25 -9.81 8.59 ...\n",
      "  ..- attr(*, \"names\")= chr [1:252] \"(Intercept)\" \"Peso\" \"\" \"\" ...\n",
      " $ rank         : int 2\n",
      " $ fitted.values: Named num [1:252] 14.8 18.2 14.8 20.2 20.1 ...\n",
      "  ..- attr(*, \"names\")= chr [1:252] \"1\" \"2\" \"3\" \"4\" ...\n",
      " $ assign       : int [1:2] 0 1\n",
      " $ qr           :List of 5\n",
      "  ..- attr(*, \"class\")= chr \"qr\"\n",
      " $ df.residual  : int 250\n",
      " $ xlevels      : Named list()\n",
      " $ call         : language lm(formula = Body_Fat ~ Peso, data = bodyfat)\n",
      " $ terms        :Classes 'terms', 'formula'  language Body_Fat ~ Peso\n",
      "  .. ..- attr(*, \"variables\")= language list(Body_Fat, Peso)\n",
      "  .. ..- attr(*, \"factors\")= int [1:2, 1] 0 1\n",
      "  .. .. ..- attr(*, \"dimnames\")=List of 2\n",
      "  .. ..- attr(*, \"term.labels\")= chr \"Peso\"\n",
      "  .. ..- attr(*, \"order\")= int 1\n",
      "  .. ..- attr(*, \"intercept\")= int 1\n",
      "  .. ..- attr(*, \"response\")= int 1\n",
      "  .. ..- attr(*, \".Environment\")=<environment: R_GlobalEnv> \n",
      "  .. ..- attr(*, \"predvars\")= language list(Body_Fat, Peso)\n",
      "  .. ..- attr(*, \"dataClasses\")= Named chr [1:2] \"numeric\" \"numeric\"\n",
      "  .. .. ..- attr(*, \"names\")= chr [1:2] \"Body_Fat\" \"Peso\"\n",
      " $ model        :'data.frame':\t252 obs. of  2 variables:\n",
      "  ..- attr(*, \"terms\")=Classes 'terms', 'formula'  language Body_Fat ~ Peso\n",
      "  .. .. ..- attr(*, \"variables\")= language list(Body_Fat, Peso)\n",
      "  .. .. ..- attr(*, \"factors\")= int [1:2, 1] 0 1\n",
      "  .. .. .. ..- attr(*, \"dimnames\")=List of 2\n",
      "  .. .. ..- attr(*, \"term.labels\")= chr \"Peso\"\n",
      "  .. .. ..- attr(*, \"order\")= int 1\n",
      "  .. .. ..- attr(*, \"intercept\")= int 1\n",
      "  .. .. ..- attr(*, \"response\")= int 1\n",
      "  .. .. ..- attr(*, \".Environment\")=<environment: R_GlobalEnv> \n",
      "  .. .. ..- attr(*, \"predvars\")= language list(Body_Fat, Peso)\n",
      "  .. .. ..- attr(*, \"dataClasses\")= Named chr [1:2] \"numeric\" \"numeric\"\n",
      "  .. .. .. ..- attr(*, \"names\")= chr [1:2] \"Body_Fat\" \"Peso\"\n",
      " - attr(*, \"class\")= chr \"lm\"\n"
     ]
    }
   ],
   "source": [
    "str(ajuste, max.level = 1)"
   ]
  },
  {
   "cell_type": "markdown",
   "metadata": {
    "slideshow": {
     "slide_type": "slide"
    }
   },
   "source": [
    "Por exemplo você pode acessar os coeficientes do modelo usando `ajuste$coefficients`."
   ]
  },
  {
   "cell_type": "markdown",
   "metadata": {
    "slideshow": {
     "slide_type": "slide"
    }
   },
   "source": [
    "Outra função que existe para a maior parte dos modelos que podem ser ajustados usando o R a predict. Usamos a função predict para obter as estimativas do modelo ajustado para uma base de dados (nova ou não)."
   ]
  },
  {
   "cell_type": "code",
   "execution_count": 85,
   "metadata": {
    "slideshow": {
     "slide_type": "slide"
    }
   },
   "outputs": [
    {
     "data": {
      "text/html": [
       "<table>\n",
       "<caption>A tibble: 6 × 3</caption>\n",
       "<thead>\n",
       "\t<tr><th scope=col>Peso</th><th scope=col>Body_Fat</th><th scope=col>predito_modelo1</th></tr>\n",
       "\t<tr><th scope=col>&lt;dbl&gt;</th><th scope=col>&lt;dbl&gt;</th><th scope=col>&lt;dbl&gt;</th></tr>\n",
       "</thead>\n",
       "<tbody>\n",
       "\t<tr><td>154.25</td><td>12.3</td><td>14.84405</td></tr>\n",
       "\t<tr><td>173.25</td><td> 6.1</td><td>18.16617</td></tr>\n",
       "\t<tr><td>154.00</td><td>25.3</td><td>14.80034</td></tr>\n",
       "\t<tr><td>184.75</td><td>10.4</td><td>20.17693</td></tr>\n",
       "\t<tr><td>184.25</td><td>28.7</td><td>20.08951</td></tr>\n",
       "\t<tr><td>210.25</td><td>20.9</td><td>24.63557</td></tr>\n",
       "</tbody>\n",
       "</table>\n"
      ],
      "text/latex": [
       "A tibble: 6 × 3\n",
       "\\begin{tabular}{lll}\n",
       " Peso & Body\\_Fat & predito\\_modelo1\\\\\n",
       " <dbl> & <dbl> & <dbl>\\\\\n",
       "\\hline\n",
       "\t 154.25 & 12.3 & 14.84405\\\\\n",
       "\t 173.25 &  6.1 & 18.16617\\\\\n",
       "\t 154.00 & 25.3 & 14.80034\\\\\n",
       "\t 184.75 & 10.4 & 20.17693\\\\\n",
       "\t 184.25 & 28.7 & 20.08951\\\\\n",
       "\t 210.25 & 20.9 & 24.63557\\\\\n",
       "\\end{tabular}\n"
      ],
      "text/markdown": [
       "\n",
       "A tibble: 6 × 3\n",
       "\n",
       "| Peso &lt;dbl&gt; | Body_Fat &lt;dbl&gt; | predito_modelo1 &lt;dbl&gt; |\n",
       "|---|---|---|\n",
       "| 154.25 | 12.3 | 14.84405 |\n",
       "| 173.25 |  6.1 | 18.16617 |\n",
       "| 154.00 | 25.3 | 14.80034 |\n",
       "| 184.75 | 10.4 | 20.17693 |\n",
       "| 184.25 | 28.7 | 20.08951 |\n",
       "| 210.25 | 20.9 | 24.63557 |\n",
       "\n"
      ],
      "text/plain": [
       "  Peso   Body_Fat predito_modelo1\n",
       "1 154.25 12.3     14.84405       \n",
       "2 173.25  6.1     18.16617       \n",
       "3 154.00 25.3     14.80034       \n",
       "4 184.75 10.4     20.17693       \n",
       "5 184.25 28.7     20.08951       \n",
       "6 210.25 20.9     24.63557       "
      ]
     },
     "metadata": {},
     "output_type": "display_data"
    }
   ],
   "source": [
    "bodyfat$predito_modelo1 <- predict(ajuste, newdata = bodyfat)\n",
    "bodyfat %>% select(Peso, Body_Fat, predito_modelo1) %>% head()"
   ]
  },
  {
   "cell_type": "markdown",
   "metadata": {
    "slideshow": {
     "slide_type": "slide"
    }
   },
   "source": [
    "Nessa tabela, vemos o valor predito pelo modelo para cada observação bem como o valor verdadeiro de gordura corporal daquele indivíduo. Nosso modelo não parece estar muito bom. \n",
    "Uma possível medida de erro é o MSE (Erro quadrático médio). \n",
    "Podemos calculá-lo fazendo contas simples no R."
   ]
  },
  {
   "cell_type": "code",
   "execution_count": 86,
   "metadata": {
    "slideshow": {
     "slide_type": "slide"
    }
   },
   "outputs": [
    {
     "data": {
      "text/html": [
       "43.7106782281464"
      ],
      "text/latex": [
       "43.7106782281464"
      ],
      "text/markdown": [
       "43.7106782281464"
      ],
      "text/plain": [
       "[1] 43.71068"
      ]
     },
     "metadata": {},
     "output_type": "display_data"
    }
   ],
   "source": [
    "mse <- mean((bodyfat$Body_Fat - bodyfat$predito_modelo1)^2)\n",
    "mse"
   ]
  },
  {
   "cell_type": "markdown",
   "metadata": {
    "slideshow": {
     "slide_type": "slide"
    }
   },
   "source": [
    "É mais fácil identificar se esse erro é baixo ou não comparando-o com o erro se usássemos a média da variável como valor predito para todas as observações e tirando a raíz quadrada dos dois."
   ]
  },
  {
   "cell_type": "code",
   "execution_count": 87,
   "metadata": {
    "slideshow": {
     "slide_type": "slide"
    }
   },
   "outputs": [
    {
     "data": {
      "text/html": [
       "70.0116369047619"
      ],
      "text/latex": [
       "70.0116369047619"
      ],
      "text/markdown": [
       "70.0116369047619"
      ],
      "text/plain": [
       "[1] 70.01164"
      ]
     },
     "metadata": {},
     "output_type": "display_data"
    }
   ],
   "source": [
    "erro_usando_media <- mean((bodyfat$Body_Fat - mean(bodyfat$Body_Fat))^2)\n",
    "erro_usando_media"
   ]
  },
  {
   "cell_type": "code",
   "execution_count": 88,
   "metadata": {
    "slideshow": {
     "slide_type": "slide"
    }
   },
   "outputs": [
    {
     "data": {
      "text/html": [
       "6.6114051629095"
      ],
      "text/latex": [
       "6.6114051629095"
      ],
      "text/markdown": [
       "6.6114051629095"
      ],
      "text/plain": [
       "[1] 6.611405"
      ]
     },
     "metadata": {},
     "output_type": "display_data"
    }
   ],
   "source": [
    "sqrt(mse)"
   ]
  },
  {
   "cell_type": "code",
   "execution_count": 89,
   "metadata": {
    "slideshow": {
     "slide_type": "slide"
    }
   },
   "outputs": [
    {
     "data": {
      "text/html": [
       "8.36729567451527"
      ],
      "text/latex": [
       "8.36729567451527"
      ],
      "text/markdown": [
       "8.36729567451527"
      ],
      "text/plain": [
       "[1] 8.367296"
      ]
     },
     "metadata": {},
     "output_type": "display_data"
    }
   ],
   "source": [
    "sqrt(erro_usando_media)"
   ]
  },
  {
   "cell_type": "code",
   "execution_count": 90,
   "metadata": {},
   "outputs": [],
   "source": [
    "bodyfat$media <- mean(bodyfat$Body_Fat)"
   ]
  },
  {
   "cell_type": "markdown",
   "metadata": {
    "slideshow": {
     "slide_type": "slide"
    }
   },
   "source": [
    "Agora podemos ter uma ideia de que o nosso erro está alto. Se usássemos apenas a média erraríamos em média 8,4 usando o nosso modelo, ficamos com 6,6."
   ]
  },
  {
   "cell_type": "code",
   "execution_count": 91,
   "metadata": {
    "slideshow": {
     "slide_type": "slide"
    }
   },
   "outputs": [],
   "source": [
    "ajuste2 <- lm(Body_Fat ~ Peso + Altura + Torax + Abdomen + Pescoço + Joelho, \n",
    "              data = bodyfat)"
   ]
  },
  {
   "cell_type": "code",
   "execution_count": 92,
   "metadata": {
    "slideshow": {
     "slide_type": "slide"
    }
   },
   "outputs": [
    {
     "data": {
      "text/html": [
       "4.37730599920365"
      ],
      "text/latex": [
       "4.37730599920365"
      ],
      "text/markdown": [
       "4.37730599920365"
      ],
      "text/plain": [
       "[1] 4.377306"
      ]
     },
     "metadata": {},
     "output_type": "display_data"
    }
   ],
   "source": [
    "bodyfat$predito_modelo2 <- predict(ajuste2, newdata = bodyfat)\n",
    "mse <- mean((bodyfat$Body_Fat - bodyfat$predito_modelo2)^2)\n",
    "sqrt(mse)"
   ]
  },
  {
   "cell_type": "code",
   "execution_count": 93,
   "metadata": {
    "slideshow": {
     "slide_type": "slide"
    }
   },
   "outputs": [
    {
     "data": {
      "text/plain": [
       "\n",
       "Call:\n",
       "lm(formula = Body_Fat ~ Peso + Altura + Torax + Abdomen + Pescoço + \n",
       "    Joelho, data = bodyfat)\n",
       "\n",
       "Residuals:\n",
       "     Min       1Q   Median       3Q      Max \n",
       "-12.1679  -3.3449   0.0125   3.1757  10.9206 \n",
       "\n",
       "Coefficients:\n",
       "             Estimate Std. Error t value Pr(>|t|)    \n",
       "(Intercept) -26.69797   15.83103  -1.686  0.09299 .  \n",
       "Peso         -0.10880    0.04058  -2.681  0.00784 ** \n",
       "Altura       -0.16416    0.16291  -1.008  0.31458    \n",
       "Torax         0.01247    0.09717   0.128  0.89800    \n",
       "Abdomen       0.95176    0.07793  12.212  < 2e-16 ***\n",
       "Pescoço      -0.46622    0.21273  -2.192  0.02935 *  \n",
       "Joelho        0.13552    0.22950   0.590  0.55541    \n",
       "---\n",
       "Signif. codes:  0 '***' 0.001 '**' 0.01 '*' 0.05 '.' 0.1 ' ' 1\n",
       "\n",
       "Residual standard error: 4.439 on 245 degrees of freedom\n",
       "Multiple R-squared:  0.7263,\tAdjusted R-squared:  0.7196 \n",
       "F-statistic: 108.4 on 6 and 245 DF,  p-value: < 2.2e-16\n"
      ]
     },
     "metadata": {},
     "output_type": "display_data"
    }
   ],
   "source": [
    "summary(ajuste2)"
   ]
  },
  {
   "cell_type": "code",
   "execution_count": 94,
   "metadata": {
    "slideshow": {
     "slide_type": "slide"
    }
   },
   "outputs": [
    {
     "data": {
      "image/png": "[encoded data removed]",
      "text/plain": [
       "plot without title"
      ]
     },
     "metadata": {
      "image/png": {
       "height": 420,
       "width": 420
      }
     },
     "output_type": "display_data"
    }
   ],
   "source": [
    "ggplot(bodyfat) + \n",
    "geom_point( aes(x = Peso, y = Body_Fat))+\n",
    "geom_line( aes(x = Peso, y = media))"
   ]
  },
  {
   "cell_type": "code",
   "execution_count": 95,
   "metadata": {
    "slideshow": {
     "slide_type": "slide"
    }
   },
   "outputs": [
    {
     "data": {
      "image/png": "[encoded data removed]",
      "text/plain": [
       "plot without title"
      ]
     },
     "metadata": {
      "image/png": {
       "height": 420,
       "width": 420
      }
     },
     "output_type": "display_data"
    }
   ],
   "source": [
    "ggplot(bodyfat) + \n",
    "geom_point( aes(x = Peso, y = Body_Fat))+\n",
    "geom_point( aes(x = Peso, y = predito_modelo1, color = 'red'))"
   ]
  },
  {
   "cell_type": "code",
   "execution_count": 96,
   "metadata": {
    "slideshow": {
     "slide_type": "slide"
    }
   },
   "outputs": [
    {
     "data": {
      "image/png": "[encoded data removed]",
      "text/plain": [
       "plot without title"
      ]
     },
     "metadata": {
      "image/png": {
       "height": 420,
       "width": 420
      }
     },
     "output_type": "display_data"
    }
   ],
   "source": [
    "ggplot(bodyfat) + \n",
    "geom_point( aes(x = Peso, y = Body_Fat))+\n",
    "geom_point( aes(x = Peso, y = predito_modelo2), color = 'blue')"
   ]
  },
  {
   "cell_type": "code",
   "execution_count": 97,
   "metadata": {
    "slideshow": {
     "slide_type": "slide"
    }
   },
   "outputs": [
    {
     "data": {
      "image/png": "[encoded data removed]",
      "text/plain": [
       "plot without title"
      ]
     },
     "metadata": {
      "image/png": {
       "height": 420,
       "width": 420
      }
     },
     "output_type": "display_data"
    }
   ],
   "source": [
    "ggplot(bodyfat) + \n",
    "geom_point( aes(x = Peso, y = Body_Fat))+\n",
    "geom_point( aes(x = Peso, y = predito_modelo1), color = 'red')+\n",
    "geom_point( aes(x = Peso, y = predito_modelo2), color = 'blue')"
   ]
  },
  {
   "cell_type": "code",
   "execution_count": 98,
   "metadata": {
    "slideshow": {
     "slide_type": "slide"
    }
   },
   "outputs": [
    {
     "name": "stderr",
     "output_type": "stream",
     "text": [
      "`geom_smooth()` using method = 'loess' and formula 'y ~ x'\n",
      "\n"
     ]
    },
    {
     "data": {
      "image/png": "[encoded data removed]",
      "text/plain": [
       "plot without title"
      ]
     },
     "metadata": {
      "image/png": {
       "height": 420,
       "width": 420
      }
     },
     "output_type": "display_data"
    }
   ],
   "source": [
    "ggplot(bodyfat) + \n",
    "geom_point( aes(x = Peso, y = Body_Fat))+\n",
    "geom_point( aes(x = Peso, y = predito_modelo1), color = 'red')+\n",
    "geom_smooth( aes(x = Peso, y = predito_modelo2), color = 'blue')"
   ]
  },
  {
   "cell_type": "code",
   "execution_count": 99,
   "metadata": {
    "slideshow": {
     "slide_type": "slide"
    }
   },
   "outputs": [],
   "source": [
    "bodyfat$dif1 = bodyfat$Body_Fat-bodyfat$predito_modelo1\n",
    "bodyfat$dif2 = bodyfat$Body_Fat-bodyfat$predito_modelo2"
   ]
  },
  {
   "cell_type": "code",
   "execution_count": 100,
   "metadata": {
    "slideshow": {
     "slide_type": "slide"
    }
   },
   "outputs": [
    {
     "name": "stderr",
     "output_type": "stream",
     "text": [
      "`geom_smooth()` using method = 'loess' and formula 'y ~ x'\n",
      "\n",
      "`geom_smooth()` using method = 'loess' and formula 'y ~ x'\n",
      "\n"
     ]
    },
    {
     "data": {
      "image/png": "[encoded data removed]",
      "text/plain": [
       "plot without title"
      ]
     },
     "metadata": {
      "image/png": {
       "height": 420,
       "width": 420
      }
     },
     "output_type": "display_data"
    }
   ],
   "source": [
    "ggplot(bodyfat) + \n",
    "geom_smooth( aes(x = Body_Fat, y = dif1 ),color = 'blue')+\n",
    "geom_smooth( aes(x = Body_Fat, y = dif2 ),color = 'red')"
   ]
  },
  {
   "cell_type": "markdown",
   "metadata": {
    "slideshow": {
     "slide_type": "slide"
    }
   },
   "source": [
    "# ÁRVORE DE DECISÃO\n",
    "\n",
    "Os modelos de árvore de decisão como vamos utilizar são implementados de acordo com o modelo Classification and Regression Trees de Breiman, Friedman, Olshen e Stone.\n",
    "\n",
    "De certa forma, a árvore de decisão é o modelo mais intuitivo que existe, principalmente quando o objetivo é classificar uma observação em uma de duas classes. \n",
    "\n",
    "Considere que o seu objetivo é separar as observações azuis das observações laranjas no gráfico abaixo.\n",
    "\n",
    "<img src=https://d33wubrfki0l68.cloudfront.net/5f90c583b81203dc61e91b8dcbe815e87cd54980/89203/material/modelagem/_index_files/figure-html/unnamed-chunk-11-1.png width=\"500\">"
   ]
  },
  {
   "cell_type": "markdown",
   "metadata": {
    "slideshow": {
     "slide_type": "slide"
    }
   },
   "source": [
    "# ÁRVORE DE DECISÃO\n",
    "\n",
    "Pelo gráfico acima, podemos ver que a variável $x$ fornece informação que ajuda a discriminar se a observação será azul ou laranja. \n",
    "\n",
    "Basta ver que as observações de cor laranja estão mais concentradas do lado direito e as azuis, mais para o lado esquerdo. \n",
    "\n",
    "O objetivo da árvore de decisão é encontrar o valor de $x$ que melhor separa as informações azuis e laranja."
   ]
  },
  {
   "cell_type": "markdown",
   "metadata": {
    "slideshow": {
     "slide_type": "slide"
    }
   },
   "source": [
    "# EXEMPLO\n",
    "\n",
    "Para esse exemplo vamos usar o banco de dados do Titanic. Um banco de dados que ficou famoso por causa de uma competição no Kaggle (https://www.kaggle.com/c/titanic). \n",
    "\n",
    "Esse banco de dados contém diversas informações sobre os passageiros do Titanic bem como uma variável que indica se o passageiro sobreviveu (1) e se não sobreviveu (0)."
   ]
  },
  {
   "cell_type": "code",
   "execution_count": 101,
   "metadata": {
    "slideshow": {
     "slide_type": "slide"
    }
   },
   "outputs": [
    {
     "name": "stderr",
     "output_type": "stream",
     "text": [
      "\n",
      "\u001b[36m--\u001b[39m \u001b[1m\u001b[1mColumn specification\u001b[1m\u001b[22m \u001b[36m--------------------------------------------------------\u001b[39m\n",
      "cols(\n",
      "  PassengerId = \u001b[32mcol_double()\u001b[39m,\n",
      "  Survived = \u001b[32mcol_double()\u001b[39m,\n",
      "  Pclass = \u001b[32mcol_double()\u001b[39m,\n",
      "  Name = \u001b[31mcol_character()\u001b[39m,\n",
      "  Sex = \u001b[31mcol_character()\u001b[39m,\n",
      "  Age = \u001b[32mcol_double()\u001b[39m,\n",
      "  SibSp = \u001b[32mcol_double()\u001b[39m,\n",
      "  Parch = \u001b[32mcol_double()\u001b[39m,\n",
      "  Ticket = \u001b[31mcol_character()\u001b[39m,\n",
      "  Fare = \u001b[32mcol_double()\u001b[39m,\n",
      "  Cabin = \u001b[31mcol_character()\u001b[39m,\n",
      "  Embarked = \u001b[31mcol_character()\u001b[39m\n",
      ")\n",
      "\n",
      "\n"
     ]
    }
   ],
   "source": [
    "library(readr)\n",
    "titanic <- read_csv('data/titanic_train.csv')"
   ]
  },
  {
   "cell_type": "code",
   "execution_count": 102,
   "metadata": {
    "slideshow": {
     "slide_type": "slide"
    }
   },
   "outputs": [],
   "source": [
    "titanic$Survived <- as.factor(titanic$Survived)"
   ]
  },
  {
   "cell_type": "code",
   "execution_count": 103,
   "metadata": {},
   "outputs": [
    {
     "data": {
      "text/html": [
       "<table>\n",
       "<caption>A tibble: 6 × 12</caption>\n",
       "<thead>\n",
       "\t<tr><th scope=col>PassengerId</th><th scope=col>Survived</th><th scope=col>Pclass</th><th scope=col>Name</th><th scope=col>Sex</th><th scope=col>Age</th><th scope=col>SibSp</th><th scope=col>Parch</th><th scope=col>Ticket</th><th scope=col>Fare</th><th scope=col>Cabin</th><th scope=col>Embarked</th></tr>\n",
       "\t<tr><th scope=col>&lt;dbl&gt;</th><th scope=col>&lt;fct&gt;</th><th scope=col>&lt;dbl&gt;</th><th scope=col>&lt;chr&gt;</th><th scope=col>&lt;chr&gt;</th><th scope=col>&lt;dbl&gt;</th><th scope=col>&lt;dbl&gt;</th><th scope=col>&lt;dbl&gt;</th><th scope=col>&lt;chr&gt;</th><th scope=col>&lt;dbl&gt;</th><th scope=col>&lt;chr&gt;</th><th scope=col>&lt;chr&gt;</th></tr>\n",
       "</thead>\n",
       "<tbody>\n",
       "\t<tr><td>1</td><td>0</td><td>3</td><td>Braund, Mr. Owen Harris                            </td><td>male  </td><td>22</td><td>1</td><td>0</td><td>A/5 21171       </td><td> 7.2500</td><td>NA  </td><td>S</td></tr>\n",
       "\t<tr><td>2</td><td>1</td><td>1</td><td>Cumings, Mrs. John Bradley (Florence Briggs Thayer)</td><td>female</td><td>38</td><td>1</td><td>0</td><td>PC 17599        </td><td>71.2833</td><td>C85 </td><td>C</td></tr>\n",
       "\t<tr><td>3</td><td>1</td><td>3</td><td>Heikkinen, Miss. Laina                             </td><td>female</td><td>26</td><td>0</td><td>0</td><td>STON/O2. 3101282</td><td> 7.9250</td><td>NA  </td><td>S</td></tr>\n",
       "\t<tr><td>4</td><td>1</td><td>1</td><td>Futrelle, Mrs. Jacques Heath (Lily May Peel)       </td><td>female</td><td>35</td><td>1</td><td>0</td><td>113803          </td><td>53.1000</td><td>C123</td><td>S</td></tr>\n",
       "\t<tr><td>5</td><td>0</td><td>3</td><td>Allen, Mr. William Henry                           </td><td>male  </td><td>35</td><td>0</td><td>0</td><td>373450          </td><td> 8.0500</td><td>NA  </td><td>S</td></tr>\n",
       "\t<tr><td>6</td><td>0</td><td>3</td><td>Moran, Mr. James                                   </td><td>male  </td><td>NA</td><td>0</td><td>0</td><td>330877          </td><td> 8.4583</td><td>NA  </td><td>Q</td></tr>\n",
       "</tbody>\n",
       "</table>\n"
      ],
      "text/latex": [
       "A tibble: 6 × 12\n",
       "\\begin{tabular}{llllllllllll}\n",
       " PassengerId & Survived & Pclass & Name & Sex & Age & SibSp & Parch & Ticket & Fare & Cabin & Embarked\\\\\n",
       " <dbl> & <fct> & <dbl> & <chr> & <chr> & <dbl> & <dbl> & <dbl> & <chr> & <dbl> & <chr> & <chr>\\\\\n",
       "\\hline\n",
       "\t 1 & 0 & 3 & Braund, Mr. Owen Harris                             & male   & 22 & 1 & 0 & A/5 21171        &  7.2500 & NA   & S\\\\\n",
       "\t 2 & 1 & 1 & Cumings, Mrs. John Bradley (Florence Briggs Thayer) & female & 38 & 1 & 0 & PC 17599         & 71.2833 & C85  & C\\\\\n",
       "\t 3 & 1 & 3 & Heikkinen, Miss. Laina                              & female & 26 & 0 & 0 & STON/O2. 3101282 &  7.9250 & NA   & S\\\\\n",
       "\t 4 & 1 & 1 & Futrelle, Mrs. Jacques Heath (Lily May Peel)        & female & 35 & 1 & 0 & 113803           & 53.1000 & C123 & S\\\\\n",
       "\t 5 & 0 & 3 & Allen, Mr. William Henry                            & male   & 35 & 0 & 0 & 373450           &  8.0500 & NA   & S\\\\\n",
       "\t 6 & 0 & 3 & Moran, Mr. James                                    & male   & NA & 0 & 0 & 330877           &  8.4583 & NA   & Q\\\\\n",
       "\\end{tabular}\n"
      ],
      "text/markdown": [
       "\n",
       "A tibble: 6 × 12\n",
       "\n",
       "| PassengerId &lt;dbl&gt; | Survived &lt;fct&gt; | Pclass &lt;dbl&gt; | Name &lt;chr&gt; | Sex &lt;chr&gt; | Age &lt;dbl&gt; | SibSp &lt;dbl&gt; | Parch &lt;dbl&gt; | Ticket &lt;chr&gt; | Fare &lt;dbl&gt; | Cabin &lt;chr&gt; | Embarked &lt;chr&gt; |\n",
       "|---|---|---|---|---|---|---|---|---|---|---|---|\n",
       "| 1 | 0 | 3 | Braund, Mr. Owen Harris                             | male   | 22 | 1 | 0 | A/5 21171        |  7.2500 | NA   | S |\n",
       "| 2 | 1 | 1 | Cumings, Mrs. John Bradley (Florence Briggs Thayer) | female | 38 | 1 | 0 | PC 17599         | 71.2833 | C85  | C |\n",
       "| 3 | 1 | 3 | Heikkinen, Miss. Laina                              | female | 26 | 0 | 0 | STON/O2. 3101282 |  7.9250 | NA   | S |\n",
       "| 4 | 1 | 1 | Futrelle, Mrs. Jacques Heath (Lily May Peel)        | female | 35 | 1 | 0 | 113803           | 53.1000 | C123 | S |\n",
       "| 5 | 0 | 3 | Allen, Mr. William Henry                            | male   | 35 | 0 | 0 | 373450           |  8.0500 | NA   | S |\n",
       "| 6 | 0 | 3 | Moran, Mr. James                                    | male   | NA | 0 | 0 | 330877           |  8.4583 | NA   | Q |\n",
       "\n"
      ],
      "text/plain": [
       "  PassengerId Survived Pclass\n",
       "1 1           0        3     \n",
       "2 2           1        1     \n",
       "3 3           1        3     \n",
       "4 4           1        1     \n",
       "5 5           0        3     \n",
       "6 6           0        3     \n",
       "  Name                                                Sex    Age SibSp Parch\n",
       "1 Braund, Mr. Owen Harris                             male   22  1     0    \n",
       "2 Cumings, Mrs. John Bradley (Florence Briggs Thayer) female 38  1     0    \n",
       "3 Heikkinen, Miss. Laina                              female 26  0     0    \n",
       "4 Futrelle, Mrs. Jacques Heath (Lily May Peel)        female 35  1     0    \n",
       "5 Allen, Mr. William Henry                            male   35  0     0    \n",
       "6 Moran, Mr. James                                    male   NA  0     0    \n",
       "  Ticket           Fare    Cabin Embarked\n",
       "1 A/5 21171         7.2500 NA    S       \n",
       "2 PC 17599         71.2833 C85   C       \n",
       "3 STON/O2. 3101282  7.9250 NA    S       \n",
       "4 113803           53.1000 C123  S       \n",
       "5 373450            8.0500 NA    S       \n",
       "6 330877            8.4583 NA    Q       "
      ]
     },
     "metadata": {},
     "output_type": "display_data"
    }
   ],
   "source": [
    "head(titanic)"
   ]
  },
  {
   "cell_type": "markdown",
   "metadata": {
    "slideshow": {
     "slide_type": "subslide"
    }
   },
   "source": [
    "Usaremos o pacote rpart que por sua vez possui uma função chamada rpart. A função rpart recebe uma fórmula indicando a variável resposta e as variáveis que serão utilizadas no modelo, além de receber um argumento data que indica o banco de dados utilizado."
   ]
  },
  {
   "cell_type": "code",
   "execution_count": 104,
   "metadata": {
    "slideshow": {
     "slide_type": "fragment"
    }
   },
   "outputs": [
    {
     "name": "stderr",
     "output_type": "stream",
     "text": [
      "Warning message:\n",
      "\"package 'rpart' is in use and will not be installed\"\n",
      "Warning message:\n",
      "\"package 'rpart.plot' is in use and will not be installed\"\n"
     ]
    }
   ],
   "source": [
    "install.packages('rpart')\n",
    "install.packages('rpart.plot')"
   ]
  },
  {
   "cell_type": "code",
   "execution_count": 105,
   "metadata": {
    "slideshow": {
     "slide_type": "fragment"
    }
   },
   "outputs": [],
   "source": [
    "library(rpart)\n",
    "arvore <- rpart(Survived ~ Sex + Age + Pclass, data = titanic)"
   ]
  },
  {
   "cell_type": "markdown",
   "metadata": {
    "slideshow": {
     "slide_type": "slide"
    }
   },
   "source": [
    "Assim como na regressão linear, podemos ver informações sobre o ajuste usando a função summary."
   ]
  },
  {
   "cell_type": "code",
   "execution_count": 106,
   "metadata": {},
   "outputs": [
    {
     "name": "stdout",
     "output_type": "stream",
     "text": [
      "Call:\n",
      "rpart(formula = Survived ~ Sex + Age + Pclass, data = titanic)\n",
      "  n= 891 \n",
      "\n",
      "          CP nsplit rel error    xerror       xstd\n",
      "1 0.44444444      0 1.0000000 1.0000000 0.04244576\n",
      "2 0.02339181      1 0.5555556 0.5555556 0.03574957\n",
      "3 0.01461988      2 0.5321637 0.5614035 0.03588593\n",
      "4 0.01169591      4 0.5029240 0.5614035 0.03588593\n",
      "5 0.01000000      6 0.4795322 0.5380117 0.03533082\n",
      "\n",
      "Variable importance\n",
      "   Sex Pclass    Age \n",
      "    70     18     12 \n",
      "\n",
      "Node number 1: 891 observations,    complexity param=0.4444444\n",
      "  predicted class=0  expected loss=0.3838384  P(node) =1\n",
      "    class counts:   549   342\n",
      "   probabilities: 0.616 0.384 \n",
      "  left son=2 (577 obs) right son=3 (314 obs)\n",
      "  Primary splits:\n",
      "      Sex    splits as  RL,       improve=124.426300, (0 missing)\n",
      "      Pclass < 2.5  to the right, improve= 43.781830, (0 missing)\n",
      "      Age    < 6.5  to the right, improve=  8.814172, (177 missing)\n",
      "\n",
      "Node number 2: 577 observations,    complexity param=0.02339181\n",
      "  predicted class=0  expected loss=0.1889081  P(node) =0.647587\n",
      "    class counts:   468   109\n",
      "   probabilities: 0.811 0.189 \n",
      "  left son=4 (553 obs) right son=5 (24 obs)\n",
      "  Primary splits:\n",
      "      Age    < 6.5  to the right, improve=10.78893, (124 missing)\n",
      "      Pclass < 1.5  to the right, improve=10.01914, (0 missing)\n",
      "\n",
      "Node number 3: 314 observations,    complexity param=0.01461988\n",
      "  predicted class=1  expected loss=0.2579618  P(node) =0.352413\n",
      "    class counts:    81   233\n",
      "   probabilities: 0.258 0.742 \n",
      "  left son=6 (144 obs) right son=7 (170 obs)\n",
      "  Primary splits:\n",
      "      Pclass < 2.5  to the right, improve=31.163130, (0 missing)\n",
      "      Age    < 12   to the left,  improve= 1.891684, (53 missing)\n",
      "  Surrogate splits:\n",
      "      Age < 18.5 to the left,  agree=0.564, adj=0.049, (0 split)\n",
      "\n",
      "Node number 4: 553 observations\n",
      "  predicted class=0  expected loss=0.1681736  P(node) =0.620651\n",
      "    class counts:   460    93\n",
      "   probabilities: 0.832 0.168 \n",
      "\n",
      "Node number 5: 24 observations\n",
      "  predicted class=1  expected loss=0.3333333  P(node) =0.02693603\n",
      "    class counts:     8    16\n",
      "   probabilities: 0.333 0.667 \n",
      "\n",
      "Node number 6: 144 observations,    complexity param=0.01461988\n",
      "  predicted class=0  expected loss=0.5  P(node) =0.1616162\n",
      "    class counts:    72    72\n",
      "   probabilities: 0.500 0.500 \n",
      "  left son=12 (12 obs) right son=13 (132 obs)\n",
      "  Primary splits:\n",
      "      Age < 38.5 to the right, improve=3.875163, (42 missing)\n",
      "\n",
      "Node number 7: 170 observations\n",
      "  predicted class=1  expected loss=0.05294118  P(node) =0.1907969\n",
      "    class counts:     9   161\n",
      "   probabilities: 0.053 0.947 \n",
      "\n",
      "Node number 12: 12 observations\n",
      "  predicted class=0  expected loss=0.08333333  P(node) =0.01346801\n",
      "    class counts:    11     1\n",
      "   probabilities: 0.917 0.083 \n",
      "\n",
      "Node number 13: 132 observations,    complexity param=0.01169591\n",
      "  predicted class=1  expected loss=0.4621212  P(node) =0.1481481\n",
      "    class counts:    61    71\n",
      "   probabilities: 0.462 0.538 \n",
      "  left son=26 (117 obs) right son=27 (15 obs)\n",
      "  Primary splits:\n",
      "      Age < 5.5  to the right, improve=1.777778, (42 missing)\n",
      "\n",
      "Node number 26: 117 observations,    complexity param=0.01169591\n",
      "  predicted class=1  expected loss=0.4871795  P(node) =0.1313131\n",
      "    class counts:    57    60\n",
      "   probabilities: 0.487 0.513 \n",
      "  left son=52 (8 obs) right son=53 (109 obs)\n",
      "  Primary splits:\n",
      "      Age < 12   to the left,  improve=3.900498, (42 missing)\n",
      "\n",
      "Node number 27: 15 observations\n",
      "  predicted class=1  expected loss=0.2666667  P(node) =0.01683502\n",
      "    class counts:     4    11\n",
      "   probabilities: 0.267 0.733 \n",
      "\n",
      "Node number 52: 8 observations\n",
      "  predicted class=0  expected loss=0  P(node) =0.008978676\n",
      "    class counts:     8     0\n",
      "   probabilities: 1.000 0.000 \n",
      "\n",
      "Node number 53: 109 observations\n",
      "  predicted class=1  expected loss=0.4495413  P(node) =0.1223345\n",
      "    class counts:    49    60\n",
      "   probabilities: 0.450 0.550 \n",
      "\n"
     ]
    }
   ],
   "source": [
    "summary(arvore)"
   ]
  },
  {
   "cell_type": "code",
   "execution_count": 74,
   "metadata": {},
   "outputs": [
    {
     "data": {
      "image/png": "[encoded data removed]",
      "text/plain": [
       "plot without title"
      ]
     },
     "metadata": {
      "image/png": {
       "height": 420,
       "width": 420
      }
     },
     "output_type": "display_data"
    }
   ],
   "source": [
    "library(rpart.plot)\n",
    "rpart.plot(arvore)"
   ]
  },
  {
   "cell_type": "markdown",
   "metadata": {
    "slideshow": {
     "slide_type": "slide"
    }
   },
   "source": [
    "A visualização é bem intuitiva. \n",
    "\n",
    "No topo, vemos o primeiro nó em que 38% dos indivíduos sobreviveram e que representa o total da base (100%). \n",
    "\n",
    "Em seguida, vemos que a primeira variável que discrimina quem sobreviveu ou não é a variável Sexo: \n",
    "- Dos homens, que eram 65% dos passageiros, apenas 19% sobreviveu enquanto das mulheres, que eram 35%, 74% sobreviveu. \n",
    "- Dos homens, aqueles que eram menores de 6 anos e meio, sobreviveram em maior proporção também. \n",
    "\n",
    "A interpretação pode continuar dessa forma recursivamente."
   ]
  },
  {
   "cell_type": "markdown",
   "metadata": {
    "slideshow": {
     "slide_type": "slide"
    }
   },
   "source": [
    "\n",
    "Mais uma vez, assim como na regressão linear, podemos utilizar a função predict para obter a probabilidade predita de sobrevivência e a classificação predita para cada observação. \n",
    "\n",
    "A diferença é que agora temos o parâmetros type, que vai indicar se queremos a probabilidade ou a classe predita."
   ]
  },
  {
   "cell_type": "code",
   "execution_count": 107,
   "metadata": {
    "slideshow": {
     "slide_type": "fragment"
    }
   },
   "outputs": [],
   "source": [
    "probabilidades <- predict(arvore, newdata = titanic, type = 'prob')"
   ]
  },
  {
   "cell_type": "markdown",
   "metadata": {
    "slideshow": {
     "slide_type": "slide"
    }
   },
   "source": [
    "Com type = 'prob' obtemos uma matrix em que cada coluna representa a probabilidade predita para cada classe. \n",
    "\n",
    "Quando temos apenas um classe isso pode parecer desnecessário já que o valor de uma coluna é a diferença de 1 pelo valor da outra, mas árvores podem ser utilizadas em modelos com mais de classificação para mais de duas categorias."
   ]
  },
  {
   "cell_type": "code",
   "execution_count": 108,
   "metadata": {
    "slideshow": {
     "slide_type": "fragment"
    }
   },
   "outputs": [
    {
     "data": {
      "text/html": [
       "<table>\n",
       "<caption>A matrix: 6 × 2 of type dbl</caption>\n",
       "<thead>\n",
       "\t<tr><th></th><th scope=col>0</th><th scope=col>1</th></tr>\n",
       "</thead>\n",
       "<tbody>\n",
       "\t<tr><th scope=row>1</th><td>0.83182640</td><td>0.1681736</td></tr>\n",
       "\t<tr><th scope=row>2</th><td>0.05294118</td><td>0.9470588</td></tr>\n",
       "\t<tr><th scope=row>3</th><td>0.44954128</td><td>0.5504587</td></tr>\n",
       "\t<tr><th scope=row>4</th><td>0.05294118</td><td>0.9470588</td></tr>\n",
       "\t<tr><th scope=row>5</th><td>0.83182640</td><td>0.1681736</td></tr>\n",
       "\t<tr><th scope=row>6</th><td>0.83182640</td><td>0.1681736</td></tr>\n",
       "</tbody>\n",
       "</table>\n"
      ],
      "text/latex": [
       "A matrix: 6 × 2 of type dbl\n",
       "\\begin{tabular}{r|ll}\n",
       "  & 0 & 1\\\\\n",
       "\\hline\n",
       "\t1 & 0.83182640 & 0.1681736\\\\\n",
       "\t2 & 0.05294118 & 0.9470588\\\\\n",
       "\t3 & 0.44954128 & 0.5504587\\\\\n",
       "\t4 & 0.05294118 & 0.9470588\\\\\n",
       "\t5 & 0.83182640 & 0.1681736\\\\\n",
       "\t6 & 0.83182640 & 0.1681736\\\\\n",
       "\\end{tabular}\n"
      ],
      "text/markdown": [
       "\n",
       "A matrix: 6 × 2 of type dbl\n",
       "\n",
       "| <!--/--> | 0 | 1 |\n",
       "|---|---|---|\n",
       "| 1 | 0.83182640 | 0.1681736 |\n",
       "| 2 | 0.05294118 | 0.9470588 |\n",
       "| 3 | 0.44954128 | 0.5504587 |\n",
       "| 4 | 0.05294118 | 0.9470588 |\n",
       "| 5 | 0.83182640 | 0.1681736 |\n",
       "| 6 | 0.83182640 | 0.1681736 |\n",
       "\n"
      ],
      "text/plain": [
       "  0          1        \n",
       "1 0.83182640 0.1681736\n",
       "2 0.05294118 0.9470588\n",
       "3 0.44954128 0.5504587\n",
       "4 0.05294118 0.9470588\n",
       "5 0.83182640 0.1681736\n",
       "6 0.83182640 0.1681736"
      ]
     },
     "metadata": {},
     "output_type": "display_data"
    }
   ],
   "source": [
    "head(probabilidades)"
   ]
  },
  {
   "cell_type": "markdown",
   "metadata": {
    "slideshow": {
     "slide_type": "slide"
    }
   },
   "source": [
    "Quando temos apenas um classe isso pode parecer desnecessário já que o valor de uma coluna é a diferença de 1 pelo valor da outra, mas árvores podem ser utilizadas em modelos com mais de classificação para mais de duas categorias."
   ]
  },
  {
   "cell_type": "code",
   "execution_count": 109,
   "metadata": {
    "slideshow": {
     "slide_type": "fragment"
    }
   },
   "outputs": [],
   "source": [
    "classes <- predict(arvore, newdata = titanic, type = 'class')"
   ]
  },
  {
   "cell_type": "code",
   "execution_count": 79,
   "metadata": {
    "slideshow": {
     "slide_type": "fragment"
    }
   },
   "outputs": [
    {
     "data": {
      "text/html": [
       "<style>\n",
       ".dl-inline {width: auto; margin:0; padding: 0}\n",
       ".dl-inline>dt, .dl-inline>dd {float: none; width: auto; display: inline-block}\n",
       ".dl-inline>dt::after {content: \":\\0020\"; padding-right: .5ex}\n",
       ".dl-inline>dt:not(:first-of-type) {padding-left: .5ex}\n",
       "</style><dl class=dl-inline><dt>1</dt><dd>0</dd><dt>2</dt><dd>1</dd><dt>3</dt><dd>1</dd><dt>4</dt><dd>1</dd><dt>5</dt><dd>0</dd><dt>6</dt><dd>0</dd></dl>\n",
       "\n",
       "<details>\n",
       "\t<summary style=display:list-item;cursor:pointer>\n",
       "\t\t<strong>Levels</strong>:\n",
       "\t</summary>\n",
       "\t<style>\n",
       "\t.list-inline {list-style: none; margin:0; padding: 0}\n",
       "\t.list-inline>li {display: inline-block}\n",
       "\t.list-inline>li:not(:last-child)::after {content: \"\\00b7\"; padding: 0 .5ex}\n",
       "\t</style>\n",
       "\t<ol class=list-inline><li>'0'</li><li>'1'</li></ol>\n",
       "</details>"
      ],
      "text/latex": [
       "\\begin{description*}\n",
       "\\item[1] 0\n",
       "\\item[2] 1\n",
       "\\item[3] 1\n",
       "\\item[4] 1\n",
       "\\item[5] 0\n",
       "\\item[6] 0\n",
       "\\end{description*}\n",
       "\n",
       "\\emph{Levels}: \\begin{enumerate*}\n",
       "\\item '0'\n",
       "\\item '1'\n",
       "\\end{enumerate*}\n"
      ],
      "text/markdown": [
       "1\n",
       ":   02\n",
       ":   13\n",
       ":   14\n",
       ":   15\n",
       ":   06\n",
       ":   0\n",
       "\n",
       "\n",
       "**Levels**: 1. '0'\n",
       "2. '1'\n",
       "\n",
       "\n"
      ],
      "text/plain": [
       "1 2 3 4 5 6 \n",
       "0 1 1 1 0 0 \n",
       "Levels: 0 1"
      ]
     },
     "metadata": {},
     "output_type": "display_data"
    }
   ],
   "source": [
    "head(classes)"
   ]
  },
  {
   "cell_type": "code",
   "execution_count": null,
   "metadata": {},
   "outputs": [],
   "source": []
  }
 ],
 "metadata": {
  "celltoolbar": "Slideshow",
  "kernelspec": {
   "display_name": "R",
   "language": "R",
   "name": "ir"
  },
  "language_info": {
   "codemirror_mode": "r",
   "file_extension": ".r",
   "mimetype": "text/x-r-source",
   "name": "R",
   "pygments_lexer": "r",
   "version": "4.0.2"
  }
 },
 "nbformat": 4,
 "nbformat_minor": 4
}
